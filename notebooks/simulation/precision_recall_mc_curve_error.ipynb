{
 "cells": [
  {
   "cell_type": "code",
   "execution_count": null,
   "id": "7422d1f9",
   "metadata": {},
   "outputs": [],
   "source": [
    "import numpy as np\n",
    "import pandas as pd\n",
    "import matplotlib.pyplot as plt\n",
    "import seaborn as sns"
   ]
  },
  {
   "cell_type": "code",
   "execution_count": null,
   "id": "1eba6d38",
   "metadata": {},
   "outputs": [],
   "source": [
    "from sklearn.datasets import make_classification\n",
    "from sklearn.linear_model import LogisticRegression\n",
    "from sklearn.model_selection import train_test_split"
   ]
  },
  {
   "cell_type": "code",
   "execution_count": null,
   "id": "044c3daa",
   "metadata": {},
   "outputs": [],
   "source": [
    "import mmu\n",
    "from mmu.viz.utils import _set_plot_style\n",
    "from mmu.lib._mmu_core import pr_multn_sim_curve_error_mt"
   ]
  },
  {
   "cell_type": "code",
   "execution_count": null,
   "id": "88bab561",
   "metadata": {},
   "outputs": [],
   "source": [
    "%matplotlib inline"
   ]
  },
  {
   "cell_type": "markdown",
   "id": "c1d84bfc",
   "metadata": {},
   "source": [
    "### Generate data\n",
    "\n",
    "Here we use scikit's make_classifaction to generate a toy data set that we fit with Logistic regression.\n",
    "We use 500 points for the train set and 500 for the test set."
   ]
  },
  {
   "cell_type": "code",
   "execution_count": null,
   "id": "64a584f5",
   "metadata": {},
   "outputs": [],
   "source": [
    "# generate seeds to be used by sklearn\n",
    "# do not use this in real scenarios,\n",
    "# it's a convenience only used in the tutorial notebooks\n",
    "seeds = mmu.commons.utils.SeedGenerator(234)\n",
    "\n",
    "# generate 2 class dataset\n",
    "X, y = make_classification(\n",
    "    n_samples=1000, n_classes=2, random_state=seeds()\n",
    ")\n",
    "\n",
    "# split into train/test sets\n",
    "X_train, X_test, y_train, y_test = train_test_split(\n",
    "    X, y, test_size=0.5, random_state=seeds()\n",
    ")\n",
    "# fit a model\n",
    "model = LogisticRegression(solver='lbfgs')\n",
    "model.fit(X_train, y_train)\n",
    "\n",
    "# predict probabilities, for the positive outcome only\n",
    "y_score = model.predict_proba(X_test)[:, 1]\n"
   ]
  },
  {
   "cell_type": "code",
   "execution_count": null,
   "id": "48614af7",
   "metadata": {},
   "outputs": [],
   "source": [
    "pr_curve_err = mmu.PrecisionRecallCurveUncertainty.from_scores(y_test, y_score)"
   ]
  },
  {
   "cell_type": "code",
   "execution_count": null,
   "id": "8ac78a9b",
   "metadata": {},
   "outputs": [],
   "source": [
    "%%time\n",
    "\n",
    "sim_scores = pr_multn_sim_curve_error_mt(\n",
    "    n_sims=10000,\n",
    "    n_conf_mats=pr_curve_err.n_conf_mats,\n",
    "    precs_grid=pr_curve_err.prec_grid,\n",
    "    recs_grid=pr_curve_err.rec_grid,\n",
    "    conf_mats=pr_curve_err.conf_mats,\n",
    "    n_sigmas=pr_curve_err.n_sigmas,\n",
    "    epsilon=pr_curve_err.epsilon,\n",
    "    seed=897345926,\n",
    "    n_threads=15\n",
    ")"
   ]
  },
  {
   "cell_type": "code",
   "execution_count": null,
   "id": "7881c47f",
   "metadata": {},
   "outputs": [],
   "source": [
    "np.save('sim_scores', sim_scores)"
   ]
  }
 ],
 "metadata": {
  "kernelspec": {
   "display_name": "Python 3 (ipykernel)",
   "language": "python",
   "name": "python3"
  },
  "language_info": {
   "codemirror_mode": {
    "name": "ipython",
    "version": 3
   },
   "file_extension": ".py",
   "mimetype": "text/x-python",
   "name": "python",
   "nbconvert_exporter": "python",
   "pygments_lexer": "ipython3",
   "version": "3.10.4"
  }
 },
 "nbformat": 4,
 "nbformat_minor": 5
}
