{
 "cells": [
  {
   "cell_type": "code",
   "execution_count": 1,
   "id": "4b679c9a",
   "metadata": {},
   "outputs": [],
   "source": [
    "import numpy as np\n",
    "import pandas as pd\n",
    "import histogrammar as hg\n",
    "import matplotlib.pyplot as plt"
   ]
  },
  {
   "cell_type": "code",
   "execution_count": 2,
   "id": "76feac28",
   "metadata": {},
   "outputs": [],
   "source": [
    "import matplotlib"
   ]
  },
  {
   "cell_type": "code",
   "execution_count": 3,
   "id": "1eba6d38",
   "metadata": {},
   "outputs": [],
   "source": [
    "# precision-recall curve and f1\n",
    "from sklearn.datasets import make_classification\n",
    "from sklearn.linear_model import LogisticRegression\n",
    "from sklearn.model_selection import train_test_split\n",
    "from sklearn.metrics import precision_recall_curve\n",
    "from sklearn.metrics import f1_score\n",
    "from sklearn.metrics import auc\n",
    "from matplotlib import pyplot\n",
    "from scipy.stats import chi2, norm\n"
   ]
  },
  {
   "cell_type": "code",
   "execution_count": 4,
   "id": "88bab561",
   "metadata": {},
   "outputs": [],
   "source": [
    "%matplotlib inline"
   ]
  },
  {
   "cell_type": "code",
   "execution_count": 5,
   "id": "526e1fc8",
   "metadata": {},
   "outputs": [],
   "source": [
    "plt.rc('font', size=12)"
   ]
  },
  {
   "cell_type": "code",
   "execution_count": null,
   "id": "67f33440",
   "metadata": {},
   "outputs": [],
   "source": []
  },
  {
   "cell_type": "code",
   "execution_count": 6,
   "id": "990099ab",
   "metadata": {},
   "outputs": [],
   "source": [
    "# generate fake y and y_prob"
   ]
  },
  {
   "cell_type": "code",
   "execution_count": 21,
   "id": "41f677c8",
   "metadata": {},
   "outputs": [],
   "source": [
    "np.random.seed(42)"
   ]
  },
  {
   "cell_type": "code",
   "execution_count": null,
   "id": "a64d6185",
   "metadata": {},
   "outputs": [],
   "source": []
  },
  {
   "cell_type": "code",
   "execution_count": 22,
   "id": "ae24caa8",
   "metadata": {},
   "outputs": [],
   "source": [
    "# real y and y_prob"
   ]
  },
  {
   "cell_type": "code",
   "execution_count": 29,
   "id": "6a89cfdc",
   "metadata": {},
   "outputs": [],
   "source": [
    "# generate 2 class dataset\n",
    "X_gen, y_gen = make_classification(n_samples=211000, n_classes=2, random_state=1, n_features=30)\n",
    "\n",
    "X_score, X_truth, X = X_gen[:10_000], X_gen[10_000: 210_000], X_gen[210_000:]\n",
    "y_score, y_truth, y = y_gen[:10_000], y_gen[10_000: 210_000], y_gen[210_000:]"
   ]
  },
  {
   "cell_type": "code",
   "execution_count": 30,
   "id": "64a584f5",
   "metadata": {},
   "outputs": [
    {
     "data": {
      "text/html": [
       "<style>#sk-container-id-4 {color: black;background-color: white;}#sk-container-id-4 pre{padding: 0;}#sk-container-id-4 div.sk-toggleable {background-color: white;}#sk-container-id-4 label.sk-toggleable__label {cursor: pointer;display: block;width: 100%;margin-bottom: 0;padding: 0.3em;box-sizing: border-box;text-align: center;}#sk-container-id-4 label.sk-toggleable__label-arrow:before {content: \"▸\";float: left;margin-right: 0.25em;color: #696969;}#sk-container-id-4 label.sk-toggleable__label-arrow:hover:before {color: black;}#sk-container-id-4 div.sk-estimator:hover label.sk-toggleable__label-arrow:before {color: black;}#sk-container-id-4 div.sk-toggleable__content {max-height: 0;max-width: 0;overflow: hidden;text-align: left;background-color: #f0f8ff;}#sk-container-id-4 div.sk-toggleable__content pre {margin: 0.2em;color: black;border-radius: 0.25em;background-color: #f0f8ff;}#sk-container-id-4 input.sk-toggleable__control:checked~div.sk-toggleable__content {max-height: 200px;max-width: 100%;overflow: auto;}#sk-container-id-4 input.sk-toggleable__control:checked~label.sk-toggleable__label-arrow:before {content: \"▾\";}#sk-container-id-4 div.sk-estimator input.sk-toggleable__control:checked~label.sk-toggleable__label {background-color: #d4ebff;}#sk-container-id-4 div.sk-label input.sk-toggleable__control:checked~label.sk-toggleable__label {background-color: #d4ebff;}#sk-container-id-4 input.sk-hidden--visually {border: 0;clip: rect(1px 1px 1px 1px);clip: rect(1px, 1px, 1px, 1px);height: 1px;margin: -1px;overflow: hidden;padding: 0;position: absolute;width: 1px;}#sk-container-id-4 div.sk-estimator {font-family: monospace;background-color: #f0f8ff;border: 1px dotted black;border-radius: 0.25em;box-sizing: border-box;margin-bottom: 0.5em;}#sk-container-id-4 div.sk-estimator:hover {background-color: #d4ebff;}#sk-container-id-4 div.sk-parallel-item::after {content: \"\";width: 100%;border-bottom: 1px solid gray;flex-grow: 1;}#sk-container-id-4 div.sk-label:hover label.sk-toggleable__label {background-color: #d4ebff;}#sk-container-id-4 div.sk-serial::before {content: \"\";position: absolute;border-left: 1px solid gray;box-sizing: border-box;top: 0;bottom: 0;left: 50%;z-index: 0;}#sk-container-id-4 div.sk-serial {display: flex;flex-direction: column;align-items: center;background-color: white;padding-right: 0.2em;padding-left: 0.2em;position: relative;}#sk-container-id-4 div.sk-item {position: relative;z-index: 1;}#sk-container-id-4 div.sk-parallel {display: flex;align-items: stretch;justify-content: center;background-color: white;position: relative;}#sk-container-id-4 div.sk-item::before, #sk-container-id-4 div.sk-parallel-item::before {content: \"\";position: absolute;border-left: 1px solid gray;box-sizing: border-box;top: 0;bottom: 0;left: 50%;z-index: -1;}#sk-container-id-4 div.sk-parallel-item {display: flex;flex-direction: column;z-index: 1;position: relative;background-color: white;}#sk-container-id-4 div.sk-parallel-item:first-child::after {align-self: flex-end;width: 50%;}#sk-container-id-4 div.sk-parallel-item:last-child::after {align-self: flex-start;width: 50%;}#sk-container-id-4 div.sk-parallel-item:only-child::after {width: 0;}#sk-container-id-4 div.sk-dashed-wrapped {border: 1px dashed gray;margin: 0 0.4em 0.5em 0.4em;box-sizing: border-box;padding-bottom: 0.4em;background-color: white;}#sk-container-id-4 div.sk-label label {font-family: monospace;font-weight: bold;display: inline-block;line-height: 1.2em;}#sk-container-id-4 div.sk-label-container {text-align: center;}#sk-container-id-4 div.sk-container {/* jupyter's `normalize.less` sets `[hidden] { display: none; }` but bootstrap.min.css set `[hidden] { display: none !important; }` so we also need the `!important` here to be able to override the default hidden behavior on the sphinx rendered scikit-learn.org. See: https://github.com/scikit-learn/scikit-learn/issues/21755 */display: inline-block !important;position: relative;}#sk-container-id-4 div.sk-text-repr-fallback {display: none;}</style><div id=\"sk-container-id-4\" class=\"sk-top-container\"><div class=\"sk-text-repr-fallback\"><pre>LogisticRegression()</pre><b>In a Jupyter environment, please rerun this cell to show the HTML representation or trust the notebook. <br />On GitHub, the HTML representation is unable to render, please try loading this page with nbviewer.org.</b></div><div class=\"sk-container\" hidden><div class=\"sk-item\"><div class=\"sk-estimator sk-toggleable\"><input class=\"sk-toggleable__control sk-hidden--visually\" id=\"sk-estimator-id-4\" type=\"checkbox\" checked><label for=\"sk-estimator-id-4\" class=\"sk-toggleable__label sk-toggleable__label-arrow\">LogisticRegression</label><div class=\"sk-toggleable__content\"><pre>LogisticRegression()</pre></div></div></div></div></div>"
      ],
      "text/plain": [
       "LogisticRegression()"
      ]
     },
     "execution_count": 30,
     "metadata": {},
     "output_type": "execute_result"
    }
   ],
   "source": [
    "# split into train/test sets\n",
    "trainX, testX, trainy, testy = train_test_split(X, y, test_size=0.5, random_state=2)\n",
    "# fit a model\n",
    "model = LogisticRegression(solver='lbfgs')\n",
    "model.fit(trainX, trainy)\n"
   ]
  },
  {
   "cell_type": "code",
   "execution_count": 31,
   "id": "a9e295c3",
   "metadata": {},
   "outputs": [
    {
     "name": "stdout",
     "output_type": "stream",
     "text": [
      "Logistic: f1=0.923 auc=0.968\n"
     ]
    }
   ],
   "source": [
    "# predict probabilities\n",
    "lr_probs = model.predict_proba(testX)\n",
    "# keep probabilities for the positive outcome only\n",
    "lr_probs = lr_probs[:, 1]\n",
    "# predict class values\n",
    "yhat = model.predict(testX)\n",
    "\n",
    "precision, recall, thresholds = precision_recall_curve(testy, lr_probs)\n",
    "lr_f1, lr_auc = f1_score(testy, yhat), auc(recall, precision)\n",
    "# summarize scores\n",
    "print('Logistic: f1=%.3f auc=%.3f' % (lr_f1, lr_auc))\n"
   ]
  },
  {
   "cell_type": "code",
   "execution_count": 32,
   "id": "014fce20",
   "metadata": {},
   "outputs": [],
   "source": [
    "# predict probabilities\n",
    "lr_probsB = model.predict_proba(X_truth)\n",
    "# keep probabilities for the positive outcome only\n",
    "lr_probsB = lr_probsB[:, 1]\n",
    "\n",
    "precisionB, recallB, thresholdsB = precision_recall_curve(y_truth, lr_probsB)\n"
   ]
  },
  {
   "cell_type": "code",
   "execution_count": 33,
   "id": "588580b7",
   "metadata": {},
   "outputs": [
    {
     "data": {
      "image/png": "[encoded data removed]",
      "text/plain": [
       "<Figure size 1008x576 with 1 Axes>"
      ]
     },
     "metadata": {
      "needs_background": "light"
     },
     "output_type": "display_data"
    }
   ],
   "source": [
    "# plot the precision-recall curves\n",
    "plt.figure(figsize=(14,8))\n",
    "no_skill = 0.5\n",
    "\n",
    "plt.plot([0, 1], [no_skill, no_skill], linestyle='--', label='class balance')\n",
    "plt.plot(recallB, precisionB, marker='.', label='test set 200k', )\n",
    "plt.plot(recall, precision, marker='.', label='test set 500')\n",
    "\n",
    "# axis labels\n",
    "plt.xlabel('Recall')\n",
    "plt.ylabel('Precision')\n",
    "# show the legend\n",
    "plt.legend()\n",
    "plt.grid()\n",
    "# show the plot\n",
    "plt.show()"
   ]
  },
  {
   "cell_type": "code",
   "execution_count": 34,
   "id": "1a32001e",
   "metadata": {},
   "outputs": [],
   "source": [
    "from tqdm import tqdm"
   ]
  },
  {
   "cell_type": "code",
   "execution_count": 35,
   "id": "56d0e48d",
   "metadata": {},
   "outputs": [],
   "source": [
    "lr_probs_s = model.predict_proba(X_score)[:, 1]\n",
    "lr_probs_s = np.sort(lr_probs_s)\n",
    "\n",
    "lr_probs_t = model.predict_proba(testX)[:, 1]\n",
    "thresholds = lr_probs_t.copy()\n",
    "thresholds = np.sort(lr_probs_t.copy())\n"
   ]
  },
  {
   "cell_type": "code",
   "execution_count": 37,
   "id": "8c9138b0",
   "metadata": {},
   "outputs": [
    {
     "name": "stderr",
     "output_type": "stream",
     "text": [
      "  0%|                                                                                                                                            | 0/500 [00:00<?, ?it/s]/var/folders/pr/95qqk09n3l1dzzv4603_h7lc0000gn/T/ipykernel_31981/3294437503.py:16: RuntimeWarning: invalid value encountered in double_scalars\n",
      "  prec_lt = np.sum(ss_lt) / len(ss_lt) - np.sum(ts_lt - ty_lt) / len(ty_lt)\n",
      "100%|███████████████████████████████████████████████████████████████████████████████████████████████████████████████████████████████| 500/500 [00:00<00:00, 12342.58it/s]\n"
     ]
    }
   ],
   "source": [
    "P = []\n",
    "R = []\n",
    "\n",
    "for threshold in tqdm(thresholds):\n",
    "    ss_gt = lr_probs_s[lr_probs_s >= threshold]\n",
    "    ss_lt = lr_probs_s[lr_probs_s < threshold]\n",
    "\n",
    "    keep_gt = lr_probs_t >= threshold\n",
    "    keep_lt = lr_probs_t < threshold\n",
    "    ts_gt = lr_probs_t[keep_gt]\n",
    "    ty_gt = testy[keep_gt]\n",
    "    ts_lt = lr_probs_t[keep_lt]\n",
    "    ty_lt = testy[keep_lt]\n",
    "    \n",
    "    prec_gt = np.sum(ss_gt) / len(ss_gt) - np.sum(ts_gt - ty_gt) / len(ty_gt)\n",
    "    prec_lt = np.sum(ss_lt) / len(ss_lt) - np.sum(ts_lt - ty_lt) / len(ty_lt)\n",
    "    ratio = len(ss_lt) / len(ss_gt)\n",
    "\n",
    "    rec = prec_gt / (prec_lt * ratio + prec_gt)\n",
    "    \n",
    "    P.append( prec_gt )\n",
    "    R.append( rec )\n",
    "\n",
    "P = P[::-1]\n",
    "R = R[::-1]"
   ]
  },
  {
   "cell_type": "code",
   "execution_count": null,
   "id": "25ed6736",
   "metadata": {},
   "outputs": [],
   "source": []
  },
  {
   "cell_type": "code",
   "execution_count": 38,
   "id": "9d2f6c07",
   "metadata": {},
   "outputs": [
    {
     "data": {
      "image/png": "[encoded data removed]",
      "text/plain": [
       "<Figure size 1008x576 with 1 Axes>"
      ]
     },
     "metadata": {
      "needs_background": "light"
     },
     "output_type": "display_data"
    }
   ],
   "source": [
    "# plot the precision-recall curves\n",
    "plt.figure(figsize=(14,8))\n",
    "no_skill = 0.5\n",
    "\n",
    "plt.plot([0, 1], [no_skill, no_skill], linestyle='--', label='class balance')\n",
    "plt.plot(recallB, precisionB, marker='.', label='test set 10k', )\n",
    "plt.plot(recall, precision, marker='.', label='test set 500')\n",
    "plt.plot(R, P, marker='.', label='precision adjusted')\n",
    "\n",
    "# axis labels\n",
    "plt.xlabel('Recall')\n",
    "plt.ylabel('Precision')\n",
    "# show the legend\n",
    "plt.legend()\n",
    "plt.grid()\n",
    "# show the plot\n",
    "plt.show()"
   ]
  },
  {
   "cell_type": "code",
   "execution_count": null,
   "id": "728af3a7",
   "metadata": {},
   "outputs": [],
   "source": []
  },
  {
   "cell_type": "code",
   "execution_count": null,
   "id": "1a07366b",
   "metadata": {},
   "outputs": [],
   "source": []
  },
  {
   "cell_type": "code",
   "execution_count": 133,
   "id": "c932f591",
   "metadata": {},
   "outputs": [
    {
     "data": {
      "text/plain": [
       "0.010564373222377889"
      ]
     },
     "execution_count": 133,
     "metadata": {},
     "output_type": "execute_result"
    }
   ],
   "source": [
    "np.sum(lr_probs - testy) / len(testy)"
   ]
  },
  {
   "cell_type": "code",
   "execution_count": 134,
   "id": "f5e8eab3",
   "metadata": {},
   "outputs": [],
   "source": [
    "lr_probsC = model.predict_proba(X_score)[:, 1]"
   ]
  },
  {
   "cell_type": "code",
   "execution_count": 135,
   "id": "e9a1a3ab",
   "metadata": {},
   "outputs": [
    {
     "data": {
      "text/plain": [
       "0.5034985107792539"
      ]
     },
     "execution_count": 135,
     "metadata": {},
     "output_type": "execute_result"
    }
   ],
   "source": [
    "np.sum(lr_probsC) / len(lr_probsC) - np.sum(lr_probs - testy) / len(testy)"
   ]
  },
  {
   "cell_type": "code",
   "execution_count": 136,
   "id": "cfcd1024",
   "metadata": {},
   "outputs": [
    {
     "data": {
      "text/plain": [
       "0.3974760414440774"
      ]
     },
     "execution_count": 136,
     "metadata": {},
     "output_type": "execute_result"
    }
   ],
   "source": [
    "np.std(lr_probsC, ddof=1)"
   ]
  },
  {
   "cell_type": "code",
   "execution_count": 138,
   "id": "06458364",
   "metadata": {},
   "outputs": [
    {
     "data": {
      "text/plain": [
       "0.516"
      ]
     },
     "execution_count": 138,
     "metadata": {},
     "output_type": "execute_result"
    }
   ],
   "source": [
    "np.sum(testy) / len(testy)"
   ]
  },
  {
   "cell_type": "code",
   "execution_count": 139,
   "id": "3343f649",
   "metadata": {},
   "outputs": [
    {
     "data": {
      "text/plain": [
       "0.516"
      ]
     },
     "execution_count": 139,
     "metadata": {},
     "output_type": "execute_result"
    }
   ],
   "source": [
    "frac = np.sum(testy) / len(testy)\n",
    "frac"
   ]
  },
  {
   "cell_type": "code",
   "execution_count": 140,
   "id": "2fd2aa33",
   "metadata": {},
   "outputs": [
    {
     "data": {
      "text/plain": [
       "0.022349228174592516"
      ]
     },
     "execution_count": 140,
     "metadata": {},
     "output_type": "execute_result"
    }
   ],
   "source": [
    "np.sqrt(frac*(1-frac)/ len(testy))"
   ]
  },
  {
   "cell_type": "code",
   "execution_count": 151,
   "id": "07b0e863",
   "metadata": {},
   "outputs": [
    {
     "data": {
      "text/plain": [
       "0.02237161098258039"
      ]
     },
     "execution_count": 151,
     "metadata": {},
     "output_type": "execute_result"
    }
   ],
   "source": [
    "ce = np.std(testy, ddof=1) / np.sqrt(len(testy))\n",
    "ce"
   ]
  },
  {
   "cell_type": "code",
   "execution_count": 142,
   "id": "8067dbf2",
   "metadata": {},
   "outputs": [],
   "source": [
    "ae = np.std(lr_probs - testy, ddof=1) / np.sqrt(len(testy))"
   ]
  },
  {
   "cell_type": "code",
   "execution_count": 143,
   "id": "d454bd62",
   "metadata": {},
   "outputs": [],
   "source": [
    "be = np.std(lr_probsC, ddof=1) / np.sqrt(len(lr_probsC))"
   ]
  },
  {
   "cell_type": "code",
   "execution_count": 144,
   "id": "57c640cb",
   "metadata": {},
   "outputs": [
    {
     "data": {
      "text/plain": [
       "(0.01392852215836916, 0.003974760414440774)"
      ]
     },
     "execution_count": 144,
     "metadata": {},
     "output_type": "execute_result"
    }
   ],
   "source": [
    "ae, be"
   ]
  },
  {
   "cell_type": "code",
   "execution_count": 149,
   "id": "92cfbc16",
   "metadata": {},
   "outputs": [
    {
     "data": {
      "text/plain": [
       "(0.01392852215836916, 0.01448455901532339)"
      ]
     },
     "execution_count": 149,
     "metadata": {},
     "output_type": "execute_result"
    }
   ],
   "source": [
    "ae, np.sqrt(ae**2 + be**2)"
   ]
  },
  {
   "cell_type": "code",
   "execution_count": 152,
   "id": "bd4bf6a5",
   "metadata": {},
   "outputs": [
    {
     "data": {
      "text/plain": [
       "2.5797904978634376"
      ]
     },
     "execution_count": 152,
     "metadata": {},
     "output_type": "execute_result"
    }
   ],
   "source": [
    "ae**-2 / ce**-2"
   ]
  },
  {
   "cell_type": "code",
   "execution_count": null,
   "id": "78904da5",
   "metadata": {},
   "outputs": [],
   "source": []
  },
  {
   "cell_type": "code",
   "execution_count": null,
   "id": "cbfe2430",
   "metadata": {},
   "outputs": [],
   "source": []
  },
  {
   "cell_type": "code",
   "execution_count": 146,
   "id": "57904725",
   "metadata": {},
   "outputs": [],
   "source": [
    "# pick a set"
   ]
  },
  {
   "cell_type": "code",
   "execution_count": 147,
   "id": "2f029bfb",
   "metadata": {},
   "outputs": [],
   "source": [
    "if False:\n",
    "    y_true = y\n",
    "    y_prob = X"
   ]
  },
  {
   "cell_type": "code",
   "execution_count": 148,
   "id": "446f7e8f",
   "metadata": {},
   "outputs": [],
   "source": [
    "y_true = testy # [testy==1]\n",
    "y_prob = lr_probs # [testy==1]\n"
   ]
  },
  {
   "cell_type": "code",
   "execution_count": 98,
   "id": "4b658010",
   "metadata": {},
   "outputs": [],
   "source": [
    "y_true = y_true.astype(int)"
   ]
  },
  {
   "cell_type": "code",
   "execution_count": 99,
   "id": "638e72e1",
   "metadata": {},
   "outputs": [],
   "source": [
    "precision, recall, thresholds = precision_recall_curve(y_true, y_prob)"
   ]
  },
  {
   "cell_type": "code",
   "execution_count": 16,
   "id": "b8213c38",
   "metadata": {},
   "outputs": [],
   "source": [
    "# add zero threshold (missing by default?)\n",
    "thresholds = np.concatenate([[0.], thresholds])"
   ]
  },
  {
   "cell_type": "code",
   "execution_count": 17,
   "id": "9572f561",
   "metadata": {},
   "outputs": [],
   "source": [
    "#############################\n",
    "# Calculate Uncertainty bands\n",
    "\n",
    "N = len(y_true)\n",
    "\n",
    "# Getting TP, FN, FP\n",
    "# remark: computing them with metrics.confusion_matrix() takes too much time\n",
    "P = np.array([sum(y_true)] * len(thresholds))\n",
    "# we use \">= thr\" like in precision_recall_curve():\n",
    "TP = np.array([((y_prob >= thr) & y_true).sum() for thr in thresholds])\n",
    "PP = np.array([(y_prob >= thr).sum() for thr in thresholds])\n",
    "FN = P - TP\n",
    "FP = PP - TP"
   ]
  },
  {
   "cell_type": "code",
   "execution_count": 18,
   "id": "7c8e415c",
   "metadata": {},
   "outputs": [],
   "source": [
    "recall = TP / (TP + FN)\n",
    "precision = TP / (TP + FP)"
   ]
  },
  {
   "cell_type": "code",
   "execution_count": 19,
   "id": "ef266be4",
   "metadata": {},
   "outputs": [],
   "source": [
    "# Partial derivatives\n",
    "# tpr == recall = TP/P = TP/(TP + FN)\n",
    "# precision == positive predictive value = TP/PP = TP/(TP + FP)\n",
    "d_recall_d_TP = FN / (FN + TP)**2\n",
    "d_recall_d_FN = - TP / (FN + TP)**2\n",
    "d_precision_d_TP = FP / (FP + TP)**2\n",
    "d_precision_d_FP = - TP / (FP + TP)**2"
   ]
  },
  {
   "cell_type": "code",
   "execution_count": 20,
   "id": "2c138a03",
   "metadata": {},
   "outputs": [],
   "source": [
    "def zero_to_one(x, value=0):\n",
    "    xp = x.copy().astype(float)\n",
    "    xp[xp == 0] = value\n",
    "    return xp\n",
    "\n",
    "var_TP = N * (zero_to_one(TP)/N) * (1 - (zero_to_one(TP)/N))\n",
    "var_FN = N * (zero_to_one(FN)/N) * (1 - (zero_to_one(FN)/N))\n",
    "var_FP = N * (zero_to_one(FP)/N) * (1 - (zero_to_one(FP)/N))\n",
    "\n",
    "covar_TPFP = -N * (zero_to_one(TP)/N) * (zero_to_one(FP)/N)\n",
    "covar_TPFN = -N * (zero_to_one(TP)/N) * (zero_to_one(FN)/N)\n",
    "covar_FPFN = -N * (zero_to_one(FP)/N) * (zero_to_one(FN)/N)\n",
    "\n",
    "var_precision = (d_precision_d_TP ** 2) * var_TP + (d_precision_d_FP ** 2) * var_FP + 2 * d_precision_d_TP * d_precision_d_FP * covar_TPFP\n",
    "var_recall = (d_recall_d_TP ** 2) * var_TP + (d_recall_d_FN ** 2) * var_FN + 2 * d_recall_d_TP * d_recall_d_FN * covar_TPFN\n",
    "covar_recall_precision = d_recall_d_TP * d_precision_d_TP * var_TP + d_recall_d_TP * d_precision_d_FP * covar_TPFP + d_recall_d_FN * d_precision_d_TP * covar_TPFN + d_recall_d_FN * d_precision_d_FP * covar_FPFN\n",
    "\n",
    "#corrl_recall_precision = covar_recall_precision / np.sqrt(var_recall * var_precision)\n",
    "\n",
    "# Angle and lambdas\n",
    "# based on https://cookierobotics.com/007/ :\n",
    "a = var_recall  # cov[0][0]\n",
    "c = var_precision  # cov[1][1]\n",
    "b = covar_recall_precision  # cov[1][0]\n",
    "\n",
    "lambda1 = (a+c)/2 + np.sqrt(((a-c)/2)**2 + b**2)\n",
    "lambda2 = (a+c)/2 - np.sqrt(((a-c)/2)**2 + b**2)\n",
    "\n",
    "def calculate_theta(lambda1, a, b, c):\n",
    "    if b == 0 and a >= c:\n",
    "        return 0.\n",
    "    elif b == 0 and a < c:\n",
    "        return np.pi / 2.\n",
    "    else:\n",
    "        return np.arctan2(lambda1 - a, b)\n",
    "\n",
    "theta = np.vectorize(calculate_theta)(lambda1, a, b, c)\n",
    "angle = theta / np.pi * 180\n",
    "\n",
    "# Radii of the ellipse\n",
    "recall_r = np.sqrt(lambda1)\n",
    "precision_r = np.sqrt(lambda2)\n",
    "\n",
    "\n",
    "# Get the scale for 2 degrees of freedom confidence interval\n",
    "# We use chi2 because the equation of an ellipse is a sum of squared variable,\n",
    "# more details here https://www.visiondummy.com/2014/04/draw-error-ellipse-representing-covariance-matrix/\n",
    "norm_nstd = 1  # number of standard deviation\n",
    "norm_pct = 2. * (norm.cdf(norm_nstd) - 0.5)\n",
    "chi2_quantile = chi2.ppf(norm_pct, 2)\n",
    "\n",
    "# 90% CL \n",
    "chi2_quantile = chi2.ppf(0.9, 2)\n",
    "scale = np.sqrt(chi2_quantile)\n"
   ]
  },
  {
   "cell_type": "code",
   "execution_count": 22,
   "id": "701f9c6b",
   "metadata": {},
   "outputs": [
    {
     "data": {
      "image/png": "[encoded data removed]",
      "text/plain": [
       "<Figure size 864x504 with 1 Axes>"
      ]
     },
     "metadata": {
      "needs_background": "light"
     },
     "output_type": "display_data"
    }
   ],
   "source": [
    "fig, ax = plt.subplots(figsize=(12, 7))\n",
    "\n",
    "# For each point in the precision-recall curve plot an ellipse\n",
    "for i, (r, p, r_r, p_r, a) in enumerate(zip(recall, precision, recall_r, precision_r, angle)):\n",
    "    # we multiply the radius by 2 because width and height are diameters\n",
    "    ellipse = matplotlib.patches.Ellipse(\n",
    "        (r, p), width=2*scale*r_r, height=2*scale*p_r, angle=a, alpha=0.5) # adjust_lightness(cmap(0), 1.5))\n",
    "    ax.add_patch(ellipse)\n",
    "\n",
    "if False:\n",
    "    idx = -36\n",
    "    r, p, r_r, p_r, a = recall[idx], precision[idx], recall_r[idx], precision_r[idx], angle[idx]\n",
    "    ellipse = matplotlib.patches.Ellipse((r, p), width=2*scale*r_r, height=2*scale*p_r, angle=a, alpha=0.5, color='orange')\n",
    "    ax.add_patch(ellipse)\n",
    "\n",
    "    r, p, r_r, p_r, a = recall[40], precision[40], recall_r[40], precision_r[40], angle[40]\n",
    "    ellipse = matplotlib.patches.Ellipse((r, p), width=2*scale*r_r, height=2*scale*p_r, angle=a, alpha=0.5, color='orange')\n",
    "    ax.add_patch(ellipse)\n",
    "\n",
    "    r, p, r_r, p_r, a = recall[int(N/2)], precision[int(N/2)], recall_r[int(N/2)], precision_r[int(N/2)], angle[int(N/2)]\n",
    "    ellipse = matplotlib.patches.Ellipse((r, p), width=2*scale*r_r, height=2*scale*p_r, angle=a, alpha=0.5, color='orange')\n",
    "    ax.add_patch(ellipse)\n",
    "\n",
    "# Plot precision-recall curve\n",
    "cmap = plt.get_cmap(\"tab10\")\n",
    "ax.plot(recall, precision, label='classifier', color='black')\n",
    "\n",
    "rec1 = matplotlib.patches.Rectangle([0, 1.], 1.01, 0.1, ec=\"none\", color = 'white')\n",
    "rec2 = matplotlib.patches.Rectangle([1, 0.], 0.1, 1.01, ec=\"none\", color = 'white')\n",
    "ax.add_patch(rec1)\n",
    "ax.add_patch(rec2)\n",
    "\n",
    "ax.set_xlim((0, 1.01))\n",
    "ax.set_ylim((0, 1.01))\n",
    "ax.set_xlabel('Recall (True Positive Rate)')\n",
    "ax.set_ylabel('Precision (1-FDR)')\n",
    "#ax.set_title(f'Precision-Recall Curve ±1σ')\n",
    "ax.set_title(f'Precision-Recall Curve 90% CL')\n",
    "ax.legend(loc=\"lower left\")\n",
    "ax.grid()\n",
    "\n",
    "plt.tight_layout()\n",
    "plt.savefig('PR_uncertainties.pdf')\n"
   ]
  },
  {
   "cell_type": "code",
   "execution_count": null,
   "id": "a04ff8e4",
   "metadata": {},
   "outputs": [],
   "source": []
  },
  {
   "cell_type": "code",
   "execution_count": null,
   "id": "1690f8bb",
   "metadata": {},
   "outputs": [],
   "source": []
  }
 ],
 "metadata": {
  "kernelspec": {
   "display_name": "Python 3 (ipykernel)",
   "language": "python",
   "name": "python3"
  },
  "language_info": {
   "codemirror_mode": {
    "name": "ipython",
    "version": 3
   },
   "file_extension": ".py",
   "mimetype": "text/x-python",
   "name": "python",
   "nbconvert_exporter": "python",
   "pygments_lexer": "ipython3",
   "version": "3.9.12"
  }
 },
 "nbformat": 4,
 "nbformat_minor": 5
}
