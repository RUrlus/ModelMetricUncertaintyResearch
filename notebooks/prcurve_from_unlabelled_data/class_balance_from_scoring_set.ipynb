{
 "cells": [
  {
   "cell_type": "code",
   "execution_count": 1,
   "id": "4b679c9a",
   "metadata": {},
   "outputs": [],
   "source": [
    "import numpy as np\n",
    "import pandas as pd\n",
    "import histogrammar as hg\n",
    "import matplotlib.pyplot as plt"
   ]
  },
  {
   "cell_type": "code",
   "execution_count": 2,
   "id": "76feac28",
   "metadata": {},
   "outputs": [],
   "source": [
    "import matplotlib"
   ]
  },
  {
   "cell_type": "code",
   "execution_count": 3,
   "id": "1eba6d38",
   "metadata": {},
   "outputs": [],
   "source": [
    "# precision-recall curve and f1\n",
    "from sklearn.datasets import make_classification\n",
    "from sklearn.linear_model import LogisticRegression\n",
    "from sklearn.model_selection import train_test_split\n",
    "from sklearn.metrics import precision_recall_curve\n",
    "from sklearn.metrics import f1_score\n",
    "from sklearn.metrics import auc\n",
    "from matplotlib import pyplot\n",
    "from scipy.stats import chi2, norm\n"
   ]
  },
  {
   "cell_type": "code",
   "execution_count": 4,
   "id": "88bab561",
   "metadata": {},
   "outputs": [],
   "source": [
    "%matplotlib inline"
   ]
  },
  {
   "cell_type": "code",
   "execution_count": 5,
   "id": "526e1fc8",
   "metadata": {},
   "outputs": [],
   "source": [
    "plt.rc('font', size=12)"
   ]
  },
  {
   "cell_type": "code",
   "execution_count": null,
   "id": "67f33440",
   "metadata": {},
   "outputs": [],
   "source": []
  },
  {
   "cell_type": "code",
   "execution_count": 6,
   "id": "990099ab",
   "metadata": {},
   "outputs": [],
   "source": [
    "# generate fake y and y_prob"
   ]
  },
  {
   "cell_type": "code",
   "execution_count": 7,
   "id": "41f677c8",
   "metadata": {},
   "outputs": [],
   "source": [
    "np.random.seed(43)"
   ]
  },
  {
   "cell_type": "code",
   "execution_count": 151,
   "id": "0e5c7ea7",
   "metadata": {},
   "outputs": [],
   "source": [
    "nexp = 800\n",
    "ngen = 10500\n",
    "\n",
    "# generate 2 class dataset\n",
    "X_gen, y_gen = make_classification(n_samples=nexp * ngen + 1000, n_classes=2, random_state=1, n_features=5)\n"
   ]
  },
  {
   "cell_type": "code",
   "execution_count": 152,
   "id": "1d3480ba",
   "metadata": {},
   "outputs": [],
   "source": [
    "X, X_truth = X_gen[:1_000], X_gen[1_000:]\n",
    "y, y_truth = y_gen[:1_000], y_gen[1_000:]"
   ]
  },
  {
   "cell_type": "code",
   "execution_count": 153,
   "id": "64a584f5",
   "metadata": {},
   "outputs": [
    {
     "data": {
      "text/html": [
       "<style>#sk-container-id-12 {color: black;background-color: white;}#sk-container-id-12 pre{padding: 0;}#sk-container-id-12 div.sk-toggleable {background-color: white;}#sk-container-id-12 label.sk-toggleable__label {cursor: pointer;display: block;width: 100%;margin-bottom: 0;padding: 0.3em;box-sizing: border-box;text-align: center;}#sk-container-id-12 label.sk-toggleable__label-arrow:before {content: \"▸\";float: left;margin-right: 0.25em;color: #696969;}#sk-container-id-12 label.sk-toggleable__label-arrow:hover:before {color: black;}#sk-container-id-12 div.sk-estimator:hover label.sk-toggleable__label-arrow:before {color: black;}#sk-container-id-12 div.sk-toggleable__content {max-height: 0;max-width: 0;overflow: hidden;text-align: left;background-color: #f0f8ff;}#sk-container-id-12 div.sk-toggleable__content pre {margin: 0.2em;color: black;border-radius: 0.25em;background-color: #f0f8ff;}#sk-container-id-12 input.sk-toggleable__control:checked~div.sk-toggleable__content {max-height: 200px;max-width: 100%;overflow: auto;}#sk-container-id-12 input.sk-toggleable__control:checked~label.sk-toggleable__label-arrow:before {content: \"▾\";}#sk-container-id-12 div.sk-estimator input.sk-toggleable__control:checked~label.sk-toggleable__label {background-color: #d4ebff;}#sk-container-id-12 div.sk-label input.sk-toggleable__control:checked~label.sk-toggleable__label {background-color: #d4ebff;}#sk-container-id-12 input.sk-hidden--visually {border: 0;clip: rect(1px 1px 1px 1px);clip: rect(1px, 1px, 1px, 1px);height: 1px;margin: -1px;overflow: hidden;padding: 0;position: absolute;width: 1px;}#sk-container-id-12 div.sk-estimator {font-family: monospace;background-color: #f0f8ff;border: 1px dotted black;border-radius: 0.25em;box-sizing: border-box;margin-bottom: 0.5em;}#sk-container-id-12 div.sk-estimator:hover {background-color: #d4ebff;}#sk-container-id-12 div.sk-parallel-item::after {content: \"\";width: 100%;border-bottom: 1px solid gray;flex-grow: 1;}#sk-container-id-12 div.sk-label:hover label.sk-toggleable__label {background-color: #d4ebff;}#sk-container-id-12 div.sk-serial::before {content: \"\";position: absolute;border-left: 1px solid gray;box-sizing: border-box;top: 0;bottom: 0;left: 50%;z-index: 0;}#sk-container-id-12 div.sk-serial {display: flex;flex-direction: column;align-items: center;background-color: white;padding-right: 0.2em;padding-left: 0.2em;position: relative;}#sk-container-id-12 div.sk-item {position: relative;z-index: 1;}#sk-container-id-12 div.sk-parallel {display: flex;align-items: stretch;justify-content: center;background-color: white;position: relative;}#sk-container-id-12 div.sk-item::before, #sk-container-id-12 div.sk-parallel-item::before {content: \"\";position: absolute;border-left: 1px solid gray;box-sizing: border-box;top: 0;bottom: 0;left: 50%;z-index: -1;}#sk-container-id-12 div.sk-parallel-item {display: flex;flex-direction: column;z-index: 1;position: relative;background-color: white;}#sk-container-id-12 div.sk-parallel-item:first-child::after {align-self: flex-end;width: 50%;}#sk-container-id-12 div.sk-parallel-item:last-child::after {align-self: flex-start;width: 50%;}#sk-container-id-12 div.sk-parallel-item:only-child::after {width: 0;}#sk-container-id-12 div.sk-dashed-wrapped {border: 1px dashed gray;margin: 0 0.4em 0.5em 0.4em;box-sizing: border-box;padding-bottom: 0.4em;background-color: white;}#sk-container-id-12 div.sk-label label {font-family: monospace;font-weight: bold;display: inline-block;line-height: 1.2em;}#sk-container-id-12 div.sk-label-container {text-align: center;}#sk-container-id-12 div.sk-container {/* jupyter's `normalize.less` sets `[hidden] { display: none; }` but bootstrap.min.css set `[hidden] { display: none !important; }` so we also need the `!important` here to be able to override the default hidden behavior on the sphinx rendered scikit-learn.org. See: https://github.com/scikit-learn/scikit-learn/issues/21755 */display: inline-block !important;position: relative;}#sk-container-id-12 div.sk-text-repr-fallback {display: none;}</style><div id=\"sk-container-id-12\" class=\"sk-top-container\"><div class=\"sk-text-repr-fallback\"><pre>LogisticRegression()</pre><b>In a Jupyter environment, please rerun this cell to show the HTML representation or trust the notebook. <br />On GitHub, the HTML representation is unable to render, please try loading this page with nbviewer.org.</b></div><div class=\"sk-container\" hidden><div class=\"sk-item\"><div class=\"sk-estimator sk-toggleable\"><input class=\"sk-toggleable__control sk-hidden--visually\" id=\"sk-estimator-id-12\" type=\"checkbox\" checked><label for=\"sk-estimator-id-12\" class=\"sk-toggleable__label sk-toggleable__label-arrow\">LogisticRegression</label><div class=\"sk-toggleable__content\"><pre>LogisticRegression()</pre></div></div></div></div></div>"
      ],
      "text/plain": [
       "LogisticRegression()"
      ]
     },
     "execution_count": 153,
     "metadata": {},
     "output_type": "execute_result"
    }
   ],
   "source": [
    "# split into train/test sets\n",
    "trainX, testX, trainy, testy = train_test_split(X, y, test_size=0.5, random_state=2)\n",
    "# fit a model\n",
    "model = LogisticRegression(solver='lbfgs')\n",
    "model.fit(trainX, trainy)\n"
   ]
  },
  {
   "cell_type": "code",
   "execution_count": 154,
   "id": "57cf3f17",
   "metadata": {},
   "outputs": [
    {
     "name": "stdout",
     "output_type": "stream",
     "text": [
      "Logistic: f1=0.950 auc=0.984\n"
     ]
    }
   ],
   "source": [
    "# predict probabilities\n",
    "lr_probs = model.predict_proba(testX)\n",
    "# keep probabilities for the positive outcome only\n",
    "lr_probs = lr_probs[:, 1]\n",
    "# predict class values\n",
    "yhat = model.predict(testX)\n",
    "\n",
    "precision, recall, thresholds = precision_recall_curve(testy, lr_probs)\n",
    "lr_f1, lr_auc = f1_score(testy, yhat), auc(recall, precision)\n",
    "# summarize scores\n",
    "print('Logistic: f1=%.3f auc=%.3f' % (lr_f1, lr_auc))\n"
   ]
  },
  {
   "cell_type": "code",
   "execution_count": 155,
   "id": "cf04db02",
   "metadata": {},
   "outputs": [
    {
     "data": {
      "image/png": "[encoded data removed]",
      "text/plain": [
       "<Figure size 1296x576 with 1 Axes>"
      ]
     },
     "metadata": {
      "needs_background": "light"
     },
     "output_type": "display_data"
    }
   ],
   "source": [
    "# plot the precision-recall curves\n",
    "plt.figure(figsize=(18,8))\n",
    "plt.hist(lr_probs[testy==1], bins=50, alpha=0.5, density=True);\n",
    "plt.hist(lr_probs[testy==0], bins=50, alpha=0.5, density=True);\n"
   ]
  },
  {
   "cell_type": "code",
   "execution_count": 156,
   "id": "7395fd45",
   "metadata": {},
   "outputs": [],
   "source": [
    "from tqdm import tqdm"
   ]
  },
  {
   "cell_type": "code",
   "execution_count": 157,
   "id": "ad4a599b",
   "metadata": {},
   "outputs": [
    {
     "name": "stderr",
     "output_type": "stream",
     "text": [
      "100%|████████████████████████████████████████████████████████████████████████████████████████████████████████████████████████████████| 800/800 [00:00<00:00, 3057.76it/s]\n"
     ]
    }
   ],
   "source": [
    "y_avg1 = []\n",
    "y_avg2 = []\n",
    "\n",
    "for i in tqdm(range(nexp)):\n",
    "    X_i = X_truth[ngen * i: ngen * (i+1)]\n",
    "    y_i = y_truth[ngen * i: ngen * (i+1)]\n",
    "    X_t, X_s = X_i[:500], X_i[500:]\n",
    "    y_t = y_i[:500]\n",
    "    lr_probs_s = model.predict_proba(X_s)[:, 1]\n",
    "    lr_probs_t = model.predict_proba(X_t)[:, 1]\n",
    "    #\n",
    "    y_avg1.append( np.sum(y_t) / len(y_t) )\n",
    "    y_avg2.append( np.sum(lr_probs_s) / len(lr_probs_s) - np.sum(lr_probs_t - y_t) / len(y_t) )\n",
    "    "
   ]
  },
  {
   "cell_type": "code",
   "execution_count": 158,
   "id": "259b12b5",
   "metadata": {},
   "outputs": [
    {
     "data": {
      "image/png": "[encoded data removed]",
      "text/plain": [
       "<Figure size 1296x576 with 1 Axes>"
      ]
     },
     "metadata": {
      "needs_background": "light"
     },
     "output_type": "display_data"
    }
   ],
   "source": [
    "# plot the precision-recall curves\n",
    "plt.figure(figsize=(18,8))\n",
    "plt.hist(y_avg1, bins=50, alpha=0.5, density=True);\n",
    "plt.hist(y_avg2, bins=50, alpha=0.5, density=True);"
   ]
  },
  {
   "cell_type": "code",
   "execution_count": 159,
   "id": "9f4c1f10",
   "metadata": {},
   "outputs": [
    {
     "data": {
      "text/plain": [
       "(0.022180833770023552, 0.009041221110951122)"
      ]
     },
     "execution_count": 159,
     "metadata": {},
     "output_type": "execute_result"
    }
   ],
   "source": [
    "# standard deviations from distributions\n",
    "np.std(y_avg1, ddof=1), np.std(y_avg2, ddof=1)"
   ]
  },
  {
   "cell_type": "code",
   "execution_count": null,
   "id": "06361e1e",
   "metadata": {},
   "outputs": [],
   "source": []
  },
  {
   "cell_type": "code",
   "execution_count": 160,
   "id": "ae0547da",
   "metadata": {},
   "outputs": [
    {
     "data": {
      "text/plain": [
       "0.02237161098258039"
      ]
     },
     "execution_count": 160,
     "metadata": {},
     "output_type": "execute_result"
    }
   ],
   "source": [
    "# estimated standard deviation 1\n",
    "e_orig = np.std(y_t, ddof=1) / np.sqrt(len(y_t))\n",
    "e_orig"
   ]
  },
  {
   "cell_type": "code",
   "execution_count": 161,
   "id": "61809002",
   "metadata": {},
   "outputs": [
    {
     "data": {
      "text/plain": [
       "(0.0045470207987539715, 0.008611111593794319)"
      ]
     },
     "execution_count": 161,
     "metadata": {},
     "output_type": "execute_result"
    }
   ],
   "source": [
    "# estimated standard deviation 1\n",
    "e_l = np.std(lr_probs_s, ddof=1) / np.sqrt(len(lr_probs_s))\n",
    "e_r = np.std(lr_probs_t - y_t, ddof=1) / np.sqrt(len(y_t))\n",
    "e_l, e_r"
   ]
  },
  {
   "cell_type": "code",
   "execution_count": 162,
   "id": "853eb1d1",
   "metadata": {},
   "outputs": [
    {
     "data": {
      "text/plain": [
       "0.009737897156218079"
      ]
     },
     "execution_count": 162,
     "metadata": {},
     "output_type": "execute_result"
    }
   ],
   "source": [
    "e_total = np.sqrt(e_l**2 + e_r**2)\n",
    "e_total"
   ]
  },
  {
   "cell_type": "code",
   "execution_count": 163,
   "id": "e8f8f6e5",
   "metadata": {},
   "outputs": [],
   "source": [
    "# boost in test sample:"
   ]
  },
  {
   "cell_type": "code",
   "execution_count": 164,
   "id": "b929b072",
   "metadata": {},
   "outputs": [
    {
     "data": {
      "text/plain": [
       "5.283008387350354"
      ]
     },
     "execution_count": 164,
     "metadata": {},
     "output_type": "execute_result"
    }
   ],
   "source": [
    "sample_factor = eorig**2 / e_total**2\n",
    "sample_factor"
   ]
  },
  {
   "cell_type": "code",
   "execution_count": null,
   "id": "d08266c0",
   "metadata": {},
   "outputs": [],
   "source": []
  },
  {
   "cell_type": "code",
   "execution_count": null,
   "id": "08ebbf85",
   "metadata": {},
   "outputs": [],
   "source": []
  },
  {
   "cell_type": "code",
   "execution_count": 167,
   "id": "fe2315b2",
   "metadata": {},
   "outputs": [
    {
     "name": "stderr",
     "output_type": "stream",
     "text": [
      "100%|█████████████████████████████████████████████████████████████████████████████████████████████████████████████████████████████████| 800/800 [00:01<00:00, 503.77it/s]\n"
     ]
    }
   ],
   "source": [
    "y_avg1 = []\n",
    "y_avg2 = []\n",
    "\n",
    "threshold = 0.1\n",
    "\n",
    "for i in tqdm(range(nexp)):\n",
    "    X_i = X_truth[ngen * i: ngen * (i+1)]\n",
    "    y_i = y_truth[ngen * i: ngen * (i+1)]\n",
    "    X_t, X_s = X_i[:500], X_i[500:]\n",
    "    y_t = y_i[:500]\n",
    "    lr_probs_s = model.predict_proba(X_s)[:, 1]\n",
    "    lr_probs_t = model.predict_proba(X_t)[:, 1]\n",
    "    #\n",
    "    \n",
    "    ss_gt = lr_probs_s[lr_probs_s >= threshold]\n",
    "    ts_gt = lr_probs_t[lr_probs_t >= threshold]\n",
    "    ty_gt = y_t[lr_probs_t >= threshold]\n",
    "    \n",
    "    y_avg1.append( np.sum(ty_gt) / len(ty_gt) )\n",
    "    y_avg2.append( np.sum(ss_gt) / len(ss_gt) - np.sum(ts_gt - ty_gt) / len(ty_gt) )\n",
    "    "
   ]
  },
  {
   "cell_type": "code",
   "execution_count": 168,
   "id": "ce2d6cef",
   "metadata": {},
   "outputs": [
    {
     "data": {
      "image/png": "[encoded data removed]",
      "text/plain": [
       "<Figure size 1296x576 with 1 Axes>"
      ]
     },
     "metadata": {
      "needs_background": "light"
     },
     "output_type": "display_data"
    }
   ],
   "source": [
    "# plot the precision-recall curves\n",
    "plt.figure(figsize=(18,8))\n",
    "plt.hist(y_avg1, bins=50, alpha=0.5, density=True);\n",
    "plt.hist(y_avg2, bins=50, alpha=0.5, density=True);"
   ]
  },
  {
   "cell_type": "code",
   "execution_count": null,
   "id": "c9d2ef9f",
   "metadata": {},
   "outputs": [],
   "source": []
  }
 ],
 "metadata": {
  "kernelspec": {
   "display_name": "Python 3 (ipykernel)",
   "language": "python",
   "name": "python3"
  },
  "language_info": {
   "codemirror_mode": {
    "name": "ipython",
    "version": 3
   },
   "file_extension": ".py",
   "mimetype": "text/x-python",
   "name": "python",
   "nbconvert_exporter": "python",
   "pygments_lexer": "ipython3",
   "version": "3.9.12"
  }
 },
 "nbformat": 4,
 "nbformat_minor": 5
}
