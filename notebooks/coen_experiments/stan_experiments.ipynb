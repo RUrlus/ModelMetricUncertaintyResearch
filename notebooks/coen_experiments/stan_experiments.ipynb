{
 "cells": [
  {
   "cell_type": "code",
   "execution_count": null,
   "id": "21965634",
   "metadata": {},
   "outputs": [],
   "source": [
    "%load_ext autoreload\n",
    "%autoreload 2"
   ]
  },
  {
   "cell_type": "code",
   "execution_count": null,
   "id": "8b20da90",
   "metadata": {},
   "outputs": [],
   "source": [
    "import os\n",
    "os.environ[\"CC\"] = \"/opt/rh/devtoolset-10/root/usr/bin/gcc\"\n",
    "os.environ[\"CXX\"] = \"/opt/rh/devtoolset-10/root/usr/bin/g++\""
   ]
  },
  {
   "cell_type": "code",
   "execution_count": null,
   "id": "f4fc9240",
   "metadata": {},
   "outputs": [],
   "source": [
    "import nest_asyncio\n",
    "nest_asyncio.apply()\n",
    "\n",
    "import stan\n",
    "import numpy as np\n",
    "\n",
    "from mmur import IndependentHMConfusionMatrix\n",
    "from mmur import DirichletMultinomialMultiConfusionMatrix\n",
    "from mmur import Diric"
   ]
  },
  {
   "cell_type": "code",
   "execution_count": null,
   "id": "a759ef16",
   "metadata": {},
   "outputs": [],
   "source": [
    "K = 1000 # n_obs\n",
    "probs = [0.1,0.2,0.5,0.2]\n",
    "N = 100 # n_cms\n",
    "gam_a = 0.001\n",
    "gam_b = 0.001\n",
    "\n",
    "y= np.random.multinomial(K,probs,N)"
   ]
  },
  {
   "cell_type": "code",
   "execution_count": null,
   "id": "25c71fe7",
   "metadata": {},
   "outputs": [],
   "source": [
    "ind_hm = IndependentHMConfusionMatrix(1)\n",
    "out_hm = ind_hm.fit_predict(y)"
   ]
  },
  {
   "cell_type": "code",
   "execution_count": null,
   "id": "504af6fd",
   "metadata": {},
   "outputs": [],
   "source": [
    "dir_multi_mn = DirichletMultinomialMultiConfusionMatrix(1)\n",
    "out_dir_multi = dir_multi_mn.fit_predict(y)"
   ]
  },
  {
   "cell_type": "code",
   "execution_count": null,
   "id": "ca0fc9e6",
   "metadata": {},
   "outputs": [],
   "source": [
    "probs_dm = out_dir_multi/1000\n",
    "probs_ind_hm = out_hm/1000"
   ]
  },
  {
   "cell_type": "code",
   "execution_count": null,
   "id": "27c6351f",
   "metadata": {},
   "outputs": [],
   "source": [
    "fit['pi_hat'].mean(axis=1) # \n",
    "probs = [0.1,0.2,0.5,0.2]"
   ]
  },
  {
   "cell_type": "code",
   "execution_count": null,
   "id": "3fafbebf",
   "metadata": {},
   "outputs": [],
   "source": [
    "import seaborn as sns\n",
    "import matplotlib.pyplot as plt\n",
    "plt.style.use('ggplot')"
   ]
  },
  {
   "cell_type": "code",
   "execution_count": null,
   "id": "4e67b028",
   "metadata": {},
   "outputs": [],
   "source": [
    "fit['y_hat'].sum(axis=0)"
   ]
  },
  {
   "cell_type": "code",
   "execution_count": null,
   "id": "68b9a0ce",
   "metadata": {},
   "outputs": [],
   "source": [
    "d=0\n",
    "fig,ax = plt.subplots(figsize = (14, 7))\n",
    "sns.kdeplot(probs_dm[:,d],ax=ax, label = 'Dirichlet-Multinomial')\n",
    "sns.kdeplot(probs_ind_hm[:,d],ax=ax, label = 'Independent Hierarchical')\n",
    "plt.title(f'd={d}')\n",
    "plt.legend()"
   ]
  },
  {
   "cell_type": "code",
   "execution_count": null,
   "id": "0bf8e856",
   "metadata": {},
   "outputs": [],
   "source": [
    "d=1\n",
    "fig,ax = plt.subplots(figsize = (14, 7))\n",
    "sns.kdeplot(probs_dm[:,d],ax=ax, label = 'Dirichlet-Multinomial')\n",
    "sns.kdeplot(probs_ind_hm[:,d],ax=ax, label = 'Independent Hierarchical')\n",
    "plt.title(f'd={d}')\n",
    "plt.legend()"
   ]
  },
  {
   "cell_type": "code",
   "execution_count": null,
   "id": "c0a5b6c6",
   "metadata": {},
   "outputs": [],
   "source": [
    "d=2\n",
    "fig,ax = plt.subplots(figsize = (14, 7))\n",
    "sns.kdeplot(probs_dm[:,d],ax=ax, label = 'Dirichlet-Multinomial')\n",
    "sns.kdeplot(probs_ind_hm[:,d],ax=ax, label = 'Independent Hierarchical')\n",
    "plt.title(f'd={d}')\n",
    "plt.legend()"
   ]
  },
  {
   "cell_type": "code",
   "execution_count": null,
   "id": "60df88dd",
   "metadata": {},
   "outputs": [],
   "source": [
    "d=3\n",
    "fig,ax = plt.subplots(figsize = (14, 7))\n",
    "sns.kdeplot(probs_dm[:,d],ax=ax, label = 'Dirichlet-Multinomial')\n",
    "sns.kdeplot(probs_ind_hm[:,d],ax=ax, label = 'Independent Hierarchical')\n",
    "plt.title(f'd={d}')\n",
    "plt.legend()"
   ]
  },
  {
   "cell_type": "code",
   "execution_count": null,
   "id": "69d9bb46",
   "metadata": {},
   "outputs": [],
   "source": [
    "d = 0\n",
    "fig, ax = plt.subplots(figsize=(14, 7))\n",
    "sns.kdeplot(fit['pi_hat'][d, :], ax=ax)\n",
    "ax.axvline(x=probs[d], label='probability')\n",
    "ax.axvline(x=(y/K).mean(axis=0)[d], label='y_proba',ls='--')\n",
    "ax.legend()"
   ]
  },
  {
   "cell_type": "code",
   "execution_count": null,
   "id": "d3804e5d",
   "metadata": {},
   "outputs": [],
   "source": [
    "(y/K).mean(axis=0)"
   ]
  },
  {
   "cell_type": "code",
   "execution_count": null,
   "id": "50071ff9",
   "metadata": {},
   "outputs": [],
   "source": [
    "d = 1\n",
    "fig, ax = plt.subplots(figsize=(14, 7))\n",
    "sns.kdeplot(fit['pi_hat'][d, :], ax=ax)\n",
    "ax.axvline(x=probs[d], label='probability')\n",
    "ax.axvline(x=(y/K).mean(axis=0)[d], label='y_proba',ls='--')\n",
    "ax.legend()"
   ]
  },
  {
   "cell_type": "code",
   "execution_count": null,
   "id": "35aafb16",
   "metadata": {},
   "outputs": [],
   "source": [
    "d = 2\n",
    "fig, ax = plt.subplots(figsize=(14, 7))\n",
    "sns.kdeplot(fit['pi_hat'][d, :], ax=ax)\n",
    "ax.axvline(x=probs[d], label='probability')\n",
    "ax.axvline(x=(y/K).mean(axis=0)[d], label='y_proba',ls='--')\n",
    "ax.legend()"
   ]
  },
  {
   "cell_type": "code",
   "execution_count": null,
   "id": "9de769bb",
   "metadata": {},
   "outputs": [],
   "source": [
    "d = 3\n",
    "fig, ax = plt.subplots(figsize=(14, 7))\n",
    "sns.kdeplot(fit['pi_hat'][d, :], ax=ax)\n",
    "ax.axvline(x=probs[d], label='probability')\n",
    "ax.axvline(x=(y/K).mean(axis=0)[d], label='y_proba',ls='--')\n",
    "ax.legend()"
   ]
  },
  {
   "cell_type": "code",
   "execution_count": null,
   "id": "331230bb",
   "metadata": {},
   "outputs": [],
   "source": [
    "fig, ax = plt.subplots(figsize=(14, 7))\n",
    "sns.kdeplot(fit['gam'].flatten(), ax=ax, label='post')\n",
    "sns.kdeplot(np.random.gamma(gam_a, gam_b, size=fit['gam'].size), label='prior')\n",
    "ax.legend()"
   ]
  },
  {
   "cell_type": "code",
   "execution_count": null,
   "id": "d51956d8",
   "metadata": {},
   "outputs": [],
   "source": []
  },
  {
   "cell_type": "code",
   "execution_count": null,
   "id": "a12791e6",
   "metadata": {},
   "outputs": [],
   "source": []
  }
 ],
 "metadata": {
  "kernelspec": {
   "display_name": "Python 3 (ipykernel)",
   "language": "python",
   "name": "python3"
  },
  "language_info": {
   "codemirror_mode": {
    "name": "ipython",
    "version": 3
   },
   "file_extension": ".py",
   "mimetype": "text/x-python",
   "name": "python",
   "nbconvert_exporter": "python",
   "pygments_lexer": "ipython3",
   "version": "3.8.11"
  }
 },
 "nbformat": 4,
 "nbformat_minor": 5
}
