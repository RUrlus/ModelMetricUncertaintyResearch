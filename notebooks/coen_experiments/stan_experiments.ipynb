{
 "cells": [
  {
   "cell_type": "code",
   "execution_count": null,
   "id": "e4f7decf",
   "metadata": {},
   "outputs": [],
   "source": [
    "import os\n",
    "os.environ[\"CC\"] = \"/opt/rh/devtoolset-10/root/usr/bin/gcc\"\n",
    "os.environ[\"CXX\"] = \"/opt/rh/devtoolset-10/root/usr/bin/g++\""
   ]
  },
  {
   "cell_type": "code",
   "execution_count": null,
   "id": "bac42166",
   "metadata": {},
   "outputs": [],
   "source": [
    "import nest_asyncio\n",
    "nest_asyncio.apply()\n",
    "\n",
    "import stan\n",
    "import numpy as np"
   ]
  },
  {
   "cell_type": "code",
   "execution_count": null,
   "id": "4a42c8ec",
   "metadata": {},
   "outputs": [],
   "source": [
    "!gcc --version"
   ]
  },
  {
   "cell_type": "code",
   "execution_count": null,
   "id": "6d167fc5",
   "metadata": {},
   "outputs": [],
   "source": [
    "cm_code = \"\"\"\n",
    "data {\n",
    "  int<lower=1> N; // number of confusion matrices\n",
    "  int<lower=1> K; // total count\n",
    "  int y[N, 4]; // multinomial observations\n",
    "  real<lower=0> alpha; // hyperprior for population distribution\n",
    "\n",
    "  real<lower=0> gam_a;\n",
    "  real<lower=0> gam_b;\n",
    "}\n",
    "\n",
    "parameters {\n",
    "  simplex[4] pi_pop; // overarching distribution of CM probabilities\n",
    "  simplex[4] pi[N]; // probabilities for all N confusion matrices\n",
    "  real<lower=0.000001> gam;\n",
    "}\n",
    "\n",
    "model {\n",
    "  pi_pop ~ dirichlet(rep_vector(alpha, 4));\n",
    "  gam ~ gamma(gam_a,gam_b);\n",
    "  {\n",
    "  for (n in 1:N) {\n",
    "      pi[n] ~ dirichlet(gam * pi_pop);\n",
    "      y[n] ~ multinomial(pi[n]);\n",
    "    }\n",
    "  }\n",
    "}\n",
    "\n",
    "generated quantities {\n",
    "    vector[4] pi_hat = dirichlet_rng(pi_pop * gam);\n",
    "    int y_hat[4] = multinomial_rng(pi_hat, K);\n",
    "}\n",
    "\"\"\""
   ]
  },
  {
   "cell_type": "code",
   "execution_count": null,
   "id": "1a5af98a",
   "metadata": {},
   "outputs": [],
   "source": [
    "K = 1000 # n_obs\n",
    "probs = [0.1,0.2,0.5,0.2]\n",
    "N = 10 # n_cms\n",
    "gam_a = 0.001\n",
    "gam_b = 0.001\n",
    "\n",
    "y= np.random.multinomial(K,probs,N)\n",
    "pooled_data_dict = {\n",
    "    'N': N,\n",
    "    'K':K,\n",
    "    'y': y, \n",
    "    'alpha':1,\n",
    "    'gam_a':gam_a,\n",
    "    'gam_b':gam_b\n",
    "  }"
   ]
  },
  {
   "cell_type": "code",
   "execution_count": null,
   "id": "94bc9460",
   "metadata": {},
   "outputs": [],
   "source": [
    "posterior = stan.build(cm_code,data=pooled_data_dict,random_seed=1)\n",
    "fit = posterior.sample(num_chains=4,num_samples=10000)"
   ]
  },
  {
   "cell_type": "code",
   "execution_count": null,
   "id": "8a29a790",
   "metadata": {},
   "outputs": [],
   "source": [
    "print(np.mean(fit['pi_pop'],axis=1))"
   ]
  },
  {
   "cell_type": "code",
   "execution_count": null,
   "id": "6e8cdc0d",
   "metadata": {},
   "outputs": [],
   "source": [
    "fit['pi_hat'].mean(axis=1) # \n",
    "probs = [0.1,0.2,0.5,0.2]"
   ]
  },
  {
   "cell_type": "code",
   "execution_count": null,
   "id": "3ae4dea0",
   "metadata": {},
   "outputs": [],
   "source": [
    "import seaborn as sns\n",
    "import matplotlib.pyplot as plt\n",
    "plt.style.use('ggplot')"
   ]
  },
  {
   "cell_type": "code",
   "execution_count": null,
   "id": "9a6b0230",
   "metadata": {},
   "outputs": [],
   "source": [
    "fit['y_hat'].sum(axis=0)"
   ]
  },
  {
   "cell_type": "code",
   "execution_count": null,
   "id": "15f96616",
   "metadata": {},
   "outputs": [],
   "source": [
    "d = 0\n",
    "fig, ax = plt.subplots(figsize=(14, 7))\n",
    "sns.kdeplot(fit['pi_hat'][d, :], ax=ax)\n",
    "ax.axvline(x=probs[d], label='probability')\n",
    "ax.axvline(x=(y/K).mean(axis=0)[d], label='y_proba',ls='--')\n",
    "ax.legend()"
   ]
  },
  {
   "cell_type": "code",
   "execution_count": null,
   "id": "08e8d27b",
   "metadata": {},
   "outputs": [],
   "source": [
    "(y/K).mean(axis=0)"
   ]
  },
  {
   "cell_type": "code",
   "execution_count": null,
   "id": "010ad04e",
   "metadata": {},
   "outputs": [],
   "source": [
    "d = 1\n",
    "fig, ax = plt.subplots(figsize=(14, 7))\n",
    "sns.kdeplot(fit['pi_hat'][d, :], ax=ax)\n",
    "ax.axvline(x=probs[d], label='probability')\n",
    "ax.axvline(x=(y/K).mean(axis=0)[d], label='y_proba',ls='--')\n",
    "ax.legend()"
   ]
  },
  {
   "cell_type": "code",
   "execution_count": null,
   "id": "014ac678",
   "metadata": {},
   "outputs": [],
   "source": [
    "d = 2\n",
    "fig, ax = plt.subplots(figsize=(14, 7))\n",
    "sns.kdeplot(fit['pi_hat'][d, :], ax=ax)\n",
    "ax.axvline(x=probs[d], label='probability')\n",
    "ax.axvline(x=(y/K).mean(axis=0)[d], label='y_proba',ls='--')\n",
    "ax.legend()"
   ]
  },
  {
   "cell_type": "code",
   "execution_count": null,
   "id": "374626f4",
   "metadata": {},
   "outputs": [],
   "source": [
    "d = 3\n",
    "fig, ax = plt.subplots(figsize=(14, 7))\n",
    "sns.kdeplot(fit['pi_hat'][d, :], ax=ax)\n",
    "ax.axvline(x=probs[d], label='probability')\n",
    "ax.axvline(x=(y/K).mean(axis=0)[d], label='y_proba',ls='--')\n",
    "ax.legend()"
   ]
  },
  {
   "cell_type": "code",
   "execution_count": null,
   "id": "16ab6307",
   "metadata": {},
   "outputs": [],
   "source": [
    "fig, ax = plt.subplots(figsize=(14, 7))\n",
    "sns.kdeplot(fit['gam'].flatten(), ax=ax, label='post')\n",
    "sns.kdeplot(np.random.gamma(gam_a, gam_b, size=fit['gam'].size), label='prior')\n",
    "ax.legend()"
   ]
  },
  {
   "cell_type": "code",
   "execution_count": null,
   "id": "bca1f29c",
   "metadata": {},
   "outputs": [],
   "source": []
  }
 ],
 "metadata": {
  "kernelspec": {
   "display_name": "Python 3 (ipykernel)",
   "language": "python",
   "name": "python3"
  },
  "language_info": {
   "codemirror_mode": {
    "name": "ipython",
    "version": 3
   },
   "file_extension": ".py",
   "mimetype": "text/x-python",
   "name": "python",
   "nbconvert_exporter": "python",
   "pygments_lexer": "ipython3",
   "version": "3.8.11"
  }
 },
 "nbformat": 4,
 "nbformat_minor": 5
}
