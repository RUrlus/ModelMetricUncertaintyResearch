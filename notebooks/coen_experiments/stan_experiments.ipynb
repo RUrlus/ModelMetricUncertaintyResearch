{
 "cells": [
  {
   "cell_type": "code",
   "execution_count": null,
   "id": "232ba525",
   "metadata": {},
   "outputs": [],
   "source": [
    "%load_ext autoreload\n",
    "%autoreload 2"
   ]
  },
  {
   "cell_type": "code",
   "execution_count": null,
   "id": "52db49ca",
   "metadata": {},
   "outputs": [],
   "source": [
    "import os\n",
    "os.environ[\"CC\"] = \"/opt/rh/devtoolset-10/root/usr/bin/gcc\"\n",
    "os.environ[\"CXX\"] = \"/opt/rh/devtoolset-10/root/usr/bin/g++\""
   ]
  },
  {
   "cell_type": "code",
   "execution_count": null,
   "id": "9d10f578",
   "metadata": {},
   "outputs": [],
   "source": [
    "import nest_asyncio\n",
    "nest_asyncio.apply()\n",
    "\n",
    "import stan\n",
    "import numpy as np\n",
    "\n",
    "from mmur import IndependentHMConfusionMatrix\n",
    "from mmur import DirichletMultinomialMultiConfusionMatrix\n",
    "from mmur import DirichletMultinomialConfusionMatrix"
   ]
  },
  {
   "cell_type": "code",
   "execution_count": null,
   "id": "55a52c2f",
   "metadata": {},
   "outputs": [],
   "source": [
    "K = 10000 # n_obs\n",
    "probs = [0.1,0.2,0.5,0.2]\n",
    "N = 30 # n_cms\n",
    "\n",
    "y= np.random.multinomial(K,probs,N)"
   ]
  },
  {
   "cell_type": "code",
   "execution_count": null,
   "id": "e095e14c",
   "metadata": {
    "jupyter": {
     "outputs_hidden": true
    }
   },
   "outputs": [],
   "source": [
    "ind_hm = IndependentHMConfusionMatrix(1)\n",
    "out_hm = ind_hm.fit_predict(y)"
   ]
  },
  {
   "cell_type": "code",
   "execution_count": null,
   "id": "649621af",
   "metadata": {},
   "outputs": [],
   "source": [
    "dir_multi_mn = DirichletMultinomialMultiConfusionMatrix(1)\n",
    "out_dir_multi_mn = dir_multi_mn.fit_predict(y)"
   ]
  },
  {
   "cell_type": "code",
   "execution_count": null,
   "id": "75cc93da",
   "metadata": {},
   "outputs": [],
   "source": [
    "dir_mn = DirichletMultinomialConfusionMatrix(1)\n",
    "out_dir_mn = dir_mn.fit_predict(np.rint(y.mean(axis=0)).astype(np.int))"
   ]
  },
  {
   "cell_type": "code",
   "execution_count": null,
   "id": "4c23abb1",
   "metadata": {},
   "outputs": [],
   "source": [
    "probs_dm = out_dir_mn/K\n",
    "probs_dmm = out_dir_multi_mn/K\n",
    "probs_ind_hm = out_hm/K"
   ]
  },
  {
   "cell_type": "code",
   "execution_count": null,
   "id": "f0f56425",
   "metadata": {},
   "outputs": [],
   "source": [
    "probs = [0.1,0.2,0.5,0.2]"
   ]
  },
  {
   "cell_type": "code",
   "execution_count": null,
   "id": "ebcb8f71",
   "metadata": {},
   "outputs": [],
   "source": [
    "import seaborn as sns\n",
    "import matplotlib.pyplot as plt\n",
    "plt.style.use('ggplot')"
   ]
  },
  {
   "cell_type": "code",
   "execution_count": null,
   "id": "f4273a1b",
   "metadata": {},
   "outputs": [],
   "source": []
  },
  {
   "cell_type": "code",
   "execution_count": null,
   "id": "651c25a8",
   "metadata": {},
   "outputs": [],
   "source": [
    "d=0\n",
    "fig,ax = plt.subplots(figsize = (14, 7))\n",
    "sns.kdeplot(probs_dmm[:,d],ax=ax, label = 'Dirichlet-Multi-Multinomial')\n",
    "# sns.kdeplot(probs_dm[:,d],ax=ax, label = 'Dirichlet-Multinomial')\n",
    "sns.kdeplot(probs_ind_hm[:,d],ax=ax, label = 'Independent Hierarchical')\n",
    "ax.axvline(probs[d],ls='--',color='grey')\n",
    "plt.title(f'd={d}')\n",
    "plt.legend()"
   ]
  },
  {
   "cell_type": "code",
   "execution_count": null,
   "id": "8a039ffb",
   "metadata": {},
   "outputs": [],
   "source": [
    "rng = np.random.default_rng(1)\n",
    "p_post = rng.dirichlet(np.ones(4)+y[0],size=10000)\n",
    "rng.multinomial(10000, p_post,size=10000)\n",
    "p_post"
   ]
  },
  {
   "cell_type": "code",
   "execution_count": null,
   "id": "c71472bb",
   "metadata": {},
   "outputs": [],
   "source": [
    "from mmu.stats import compute_hdi\n",
    "from mmu import binary_metrics_confusion_matrices"
   ]
  },
  {
   "cell_type": "code",
   "execution_count": null,
   "id": "edcecc85",
   "metadata": {},
   "outputs": [],
   "source": [
    "prec_hm = binary_metrics_confusion_matrices(out_hm)[:,1]\n",
    "rec_hm = binary_metrics_confusion_matrices(out_hm)[:,3]\n",
    "\n",
    "prec_dmm = binary_metrics_confusion_matrices(out_dir_multi_mn)[:,1]\n",
    "rec_dmm = binary_metrics_confusion_matrices(out_dir_multi_mn)[:,3]"
   ]
  },
  {
   "cell_type": "code",
   "execution_count": null,
   "id": "423d2d7c",
   "metadata": {},
   "outputs": [],
   "source": [
    "y[0]"
   ]
  },
  {
   "cell_type": "code",
   "execution_count": null,
   "id": "deb58364",
   "metadata": {},
   "outputs": [],
   "source": [
    "compute_hdi(prec_hm),compute_hdi(prec_dmm)"
   ]
  },
  {
   "cell_type": "code",
   "execution_count": null,
   "id": "b3bc281c",
   "metadata": {},
   "outputs": [],
   "source": [
    "compute_hdi(rec_hm),compute_hdi(rec_dmm)"
   ]
  },
  {
   "cell_type": "code",
   "execution_count": null,
   "id": "56298e2d",
   "metadata": {},
   "outputs": [],
   "source": [
    "compute_hdi(probs_ind_hm),compute_hdi(probs_dmm)"
   ]
  },
  {
   "cell_type": "code",
   "execution_count": null,
   "id": "4df3bd57",
   "metadata": {},
   "outputs": [],
   "source": [
    "compute_hdi(probs_ind_hm),compute_hdi(probs_dmm)"
   ]
  },
  {
   "cell_type": "code",
   "execution_count": null,
   "id": "d1e94184",
   "metadata": {},
   "outputs": [],
   "source": []
  },
  {
   "cell_type": "code",
   "execution_count": null,
   "id": "4a14d83c",
   "metadata": {},
   "outputs": [],
   "source": [
    "d=1\n",
    "fig,ax = plt.subplots(figsize = (14, 7))\n",
    "sns.kdeplot(probs_dm[:,d],ax=ax, label = 'Dirichlet-Multinomial')\n",
    "sns.kdeplot(probs_ind_hm[:,d],ax=ax, label = 'Independent Hierarchical')\n",
    "plt.title(f'd={d}')\n",
    "plt.legend()"
   ]
  },
  {
   "cell_type": "code",
   "execution_count": null,
   "id": "faa2c2dd",
   "metadata": {},
   "outputs": [],
   "source": [
    "d=2\n",
    "fig,ax = plt.subplots(figsize = (14, 7))\n",
    "sns.kdeplot(probs_dm[:,d],ax=ax, label = 'Dirichlet-Multinomial')\n",
    "sns.kdeplot(probs_ind_hm[:,d],ax=ax, label = 'Independent Hierarchical')\n",
    "plt.title(f'd={d}')\n",
    "plt.legend()"
   ]
  },
  {
   "cell_type": "code",
   "execution_count": null,
   "id": "c749a4fc",
   "metadata": {},
   "outputs": [],
   "source": [
    "d=3\n",
    "fig,ax = plt.subplots(figsize = (14, 7))\n",
    "sns.kdeplot(probs_dm[:,d],ax=ax, label = 'Dirichlet-Multinomial')\n",
    "sns.kdeplot(probs_ind_hm[:,d],ax=ax, label = 'Independent Hierarchical')\n",
    "plt.title(f'd={d}')\n",
    "plt.legend()"
   ]
  },
  {
   "cell_type": "code",
   "execution_count": null,
   "id": "03dde738",
   "metadata": {},
   "outputs": [],
   "source": [
    "d = 0\n",
    "fig, ax = plt.subplots(figsize=(14, 7))\n",
    "sns.kdeplot(fit['pi_hat'][d, :], ax=ax)\n",
    "ax.axvline(x=probs[d], label='probability')\n",
    "ax.axvline(x=(y/K).mean(axis=0)[d], label='y_proba',ls='--')\n",
    "ax.legend()"
   ]
  },
  {
   "cell_type": "code",
   "execution_count": null,
   "id": "f1e96cc0",
   "metadata": {},
   "outputs": [],
   "source": [
    "(y/K).mean(axis=0)"
   ]
  },
  {
   "cell_type": "code",
   "execution_count": null,
   "id": "20fe2a4e",
   "metadata": {},
   "outputs": [],
   "source": [
    "d = 1\n",
    "fig, ax = plt.subplots(figsize=(14, 7))\n",
    "sns.kdeplot(fit['pi_hat'][d, :], ax=ax)\n",
    "ax.axvline(x=probs[d], label='probability')\n",
    "ax.axvline(x=(y/K).mean(axis=0)[d], label='y_proba',ls='--')\n",
    "ax.legend()"
   ]
  },
  {
   "cell_type": "code",
   "execution_count": null,
   "id": "4efa41aa",
   "metadata": {},
   "outputs": [],
   "source": [
    "d = 2\n",
    "fig, ax = plt.subplots(figsize=(14, 7))\n",
    "sns.kdeplot(fit['pi_hat'][d, :], ax=ax)\n",
    "ax.axvline(x=probs[d], label='probability')\n",
    "ax.axvline(x=(y/K).mean(axis=0)[d], label='y_proba',ls='--')\n",
    "ax.legend()"
   ]
  },
  {
   "cell_type": "code",
   "execution_count": null,
   "id": "cfbe1d23",
   "metadata": {},
   "outputs": [],
   "source": [
    "d = 3\n",
    "fig, ax = plt.subplots(figsize=(14, 7))\n",
    "sns.kdeplot(fit['pi_hat'][d, :], ax=ax)\n",
    "ax.axvline(x=probs[d], label='probability')\n",
    "ax.axvline(x=(y/K).mean(axis=0)[d], label='y_proba',ls='--')\n",
    "ax.legend()"
   ]
  },
  {
   "cell_type": "code",
   "execution_count": null,
   "id": "a17882be",
   "metadata": {},
   "outputs": [],
   "source": [
    "fig, ax = plt.subplots(figsize=(14, 7))\n",
    "sns.kdeplot(fit['gam'].flatten(), ax=ax, label='post')\n",
    "sns.kdeplot(np.random.gamma(gam_a, gam_b, size=fit['gam'].size), label='prior')\n",
    "ax.legend()"
   ]
  },
  {
   "cell_type": "code",
   "execution_count": null,
   "id": "24841ea1",
   "metadata": {},
   "outputs": [],
   "source": []
  },
  {
   "cell_type": "code",
   "execution_count": null,
   "id": "2086249d",
   "metadata": {},
   "outputs": [],
   "source": []
  }
 ],
 "metadata": {
  "kernelspec": {
   "display_name": "Python 3 (ipykernel)",
   "language": "python",
   "name": "python3"
  },
  "language_info": {
   "codemirror_mode": {
    "name": "ipython",
    "version": 3
   },
   "file_extension": ".py",
   "mimetype": "text/x-python",
   "name": "python",
   "nbconvert_exporter": "python",
   "pygments_lexer": "ipython3",
   "version": "3.8.11"
  }
 },
 "nbformat": 4,
 "nbformat_minor": 5
}
