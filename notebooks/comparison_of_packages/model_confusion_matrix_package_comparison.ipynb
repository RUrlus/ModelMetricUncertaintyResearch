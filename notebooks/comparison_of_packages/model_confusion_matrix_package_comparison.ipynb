{
 "cells": [
  {
   "cell_type": "markdown",
   "id": "bea5e9f1",
   "metadata": {},
   "source": [
    "# Beta Binomial\n",
    "\n",
    "Evaluate estimates distributions using Dirichlet-Multinomial"
   ]
  },
  {
   "cell_type": "code",
   "execution_count": 1,
   "id": "7ae8f6fc",
   "metadata": {},
   "outputs": [
    {
     "data": {
      "application/javascript": [
       "\n",
       "            setTimeout(function() {\n",
       "                var nbb_cell_id = 1;\n",
       "                var nbb_unformatted_code = \"%load_ext autoreload\\n%autoreload 2\\n\\n%load_ext nb_black\";\n",
       "                var nbb_formatted_code = \"%load_ext autoreload\\n%autoreload 2\\n\\n%load_ext nb_black\";\n",
       "                var nbb_cells = Jupyter.notebook.get_cells();\n",
       "                for (var i = 0; i < nbb_cells.length; ++i) {\n",
       "                    if (nbb_cells[i].input_prompt_number == nbb_cell_id) {\n",
       "                        if (nbb_cells[i].get_text() == nbb_unformatted_code) {\n",
       "                             nbb_cells[i].set_text(nbb_formatted_code);\n",
       "                        }\n",
       "                        break;\n",
       "                    }\n",
       "                }\n",
       "            }, 500);\n",
       "            "
      ],
      "text/plain": [
       "<IPython.core.display.Javascript object>"
      ]
     },
     "metadata": {},
     "output_type": "display_data"
    }
   ],
   "source": [
    "%load_ext autoreload\n",
    "%autoreload 2\n",
    "\n",
    "%load_ext nb_black"
   ]
  },
  {
   "cell_type": "code",
   "execution_count": 2,
   "id": "5d947a01",
   "metadata": {},
   "outputs": [
    {
     "data": {
      "application/javascript": [
       "\n",
       "            setTimeout(function() {\n",
       "                var nbb_cell_id = 2;\n",
       "                var nbb_unformatted_code = \"import arviz as az\\nimport numpy as np\\nimport pandas as pd\\nimport seaborn as sns\\nimport matplotlib.pyplot as plt\\nimport matplotlib.patches as mpatches\\nimport multiprocessing\\nfrom sklearn.utils import check_array\\n\\nimport mmur\\nimport mmu\\nfrom mmu import DirichletMultinomialConfusionMatrix\\nfrom mmu.metrics import confusion_matrix_proba\\nfrom mmu.metrics import binary_metrics_runs\\nfrom mmu.metrics import binary_metrics_confusion\";\n",
       "                var nbb_formatted_code = \"import arviz as az\\nimport numpy as np\\nimport pandas as pd\\nimport seaborn as sns\\nimport matplotlib.pyplot as plt\\nimport matplotlib.patches as mpatches\\nimport multiprocessing\\nfrom sklearn.utils import check_array\\n\\nimport mmur\\nimport mmu\\nfrom mmu import DirichletMultinomialConfusionMatrix\\nfrom mmu.metrics import confusion_matrix_proba\\nfrom mmu.metrics import binary_metrics_runs\\nfrom mmu.metrics import binary_metrics_confusion\";\n",
       "                var nbb_cells = Jupyter.notebook.get_cells();\n",
       "                for (var i = 0; i < nbb_cells.length; ++i) {\n",
       "                    if (nbb_cells[i].input_prompt_number == nbb_cell_id) {\n",
       "                        if (nbb_cells[i].get_text() == nbb_unformatted_code) {\n",
       "                             nbb_cells[i].set_text(nbb_formatted_code);\n",
       "                        }\n",
       "                        break;\n",
       "                    }\n",
       "                }\n",
       "            }, 500);\n",
       "            "
      ],
      "text/plain": [
       "<IPython.core.display.Javascript object>"
      ]
     },
     "metadata": {},
     "output_type": "display_data"
    }
   ],
   "source": [
    "import arviz as az\n",
    "import numpy as np\n",
    "import pandas as pd\n",
    "import seaborn as sns\n",
    "import matplotlib.pyplot as plt\n",
    "import matplotlib.patches as mpatches\n",
    "import multiprocessing\n",
    "from sklearn.utils import check_array\n",
    "\n",
    "import mmur\n",
    "import mmu\n",
    "from mmu import DirichletMultinomialConfusionMatrix\n",
    "from mmu.metrics import confusion_matrix_proba\n",
    "from mmu.metrics import binary_metrics_runs\n",
    "from mmu.metrics import binary_metrics_confusion"
   ]
  },
  {
   "cell_type": "code",
   "execution_count": 3,
   "id": "8f2895bd",
   "metadata": {},
   "outputs": [
    {
     "data": {
      "application/javascript": [
       "\n",
       "            setTimeout(function() {\n",
       "                var nbb_cell_id = 3;\n",
       "                var nbb_unformatted_code = \"%matplotlib inline\\nplt.style.use('ggplot')\\nplt.rcParams['text.color'] = 'black'\\nplt.rcParams['figure.max_open_warning'] = 0\\nCOLORS = [i['color'] for i in plt.rcParams['axes.prop_cycle']]\";\n",
       "                var nbb_formatted_code = \"%matplotlib inline\\nplt.style.use(\\\"ggplot\\\")\\nplt.rcParams[\\\"text.color\\\"] = \\\"black\\\"\\nplt.rcParams[\\\"figure.max_open_warning\\\"] = 0\\nCOLORS = [i[\\\"color\\\"] for i in plt.rcParams[\\\"axes.prop_cycle\\\"]]\";\n",
       "                var nbb_cells = Jupyter.notebook.get_cells();\n",
       "                for (var i = 0; i < nbb_cells.length; ++i) {\n",
       "                    if (nbb_cells[i].input_prompt_number == nbb_cell_id) {\n",
       "                        if (nbb_cells[i].get_text() == nbb_unformatted_code) {\n",
       "                             nbb_cells[i].set_text(nbb_formatted_code);\n",
       "                        }\n",
       "                        break;\n",
       "                    }\n",
       "                }\n",
       "            }, 500);\n",
       "            "
      ],
      "text/plain": [
       "<IPython.core.display.Javascript object>"
      ]
     },
     "metadata": {},
     "output_type": "display_data"
    }
   ],
   "source": [
    "%matplotlib inline\n",
    "plt.style.use('ggplot')\n",
    "plt.rcParams['text.color'] = 'black'\n",
    "plt.rcParams['figure.max_open_warning'] = 0\n",
    "COLORS = [i['color'] for i in plt.rcParams['axes.prop_cycle']]"
   ]
  },
  {
   "cell_type": "code",
   "execution_count": 4,
   "id": "85628f07",
   "metadata": {},
   "outputs": [
    {
     "data": {
      "application/javascript": [
       "\n",
       "            setTimeout(function() {\n",
       "                var nbb_cell_id = 4;\n",
       "                var nbb_unformatted_code = \"def plot_metric_distributions(estimated_metrics, gt_metrics, coverage=None):\\n    fig, axs = plt.subplots(ncols=5, figsize=(25, 5))\\n    for i, c in enumerate(estimated_metrics.columns):\\n        sns.kdeplot(estimated_metrics[c], ax=axs[i], label='estimated')\\n        if coverage is not None:\\n            sns.kdeplot(coverage[c], ax=axs[i], label='simulated')\\n        axs[i].axvline(gt_metrics[c][0], c='grey', lw=2, ls='--', label='population mean')\\n    axs[0].legend()\\n    return fig, axs\";\n",
       "                var nbb_formatted_code = \"def plot_metric_distributions(estimated_metrics, gt_metrics, coverage=None):\\n    fig, axs = plt.subplots(ncols=5, figsize=(25, 5))\\n    for i, c in enumerate(estimated_metrics.columns):\\n        sns.kdeplot(estimated_metrics[c], ax=axs[i], label=\\\"estimated\\\")\\n        if coverage is not None:\\n            sns.kdeplot(coverage[c], ax=axs[i], label=\\\"simulated\\\")\\n        axs[i].axvline(\\n            gt_metrics[c][0], c=\\\"grey\\\", lw=2, ls=\\\"--\\\", label=\\\"population mean\\\"\\n        )\\n    axs[0].legend()\\n    return fig, axs\";\n",
       "                var nbb_cells = Jupyter.notebook.get_cells();\n",
       "                for (var i = 0; i < nbb_cells.length; ++i) {\n",
       "                    if (nbb_cells[i].input_prompt_number == nbb_cell_id) {\n",
       "                        if (nbb_cells[i].get_text() == nbb_unformatted_code) {\n",
       "                             nbb_cells[i].set_text(nbb_formatted_code);\n",
       "                        }\n",
       "                        break;\n",
       "                    }\n",
       "                }\n",
       "            }, 500);\n",
       "            "
      ],
      "text/plain": [
       "<IPython.core.display.Javascript object>"
      ]
     },
     "metadata": {},
     "output_type": "display_data"
    }
   ],
   "source": [
    "def plot_metric_distributions(estimated_metrics, gt_metrics, coverage=None):\n",
    "    fig, axs = plt.subplots(ncols=5, figsize=(25, 5))\n",
    "    for i, c in enumerate(estimated_metrics.columns):\n",
    "        sns.kdeplot(estimated_metrics[c], ax=axs[i], label='estimated')\n",
    "        if coverage is not None:\n",
    "            sns.kdeplot(coverage[c], ax=axs[i], label='simulated')\n",
    "        axs[i].axvline(gt_metrics[c][0], c='grey', lw=2, ls='--', label='population mean')\n",
    "    axs[0].legend()\n",
    "    return fig, axs"
   ]
  },
  {
   "cell_type": "code",
   "execution_count": 5,
   "id": "7464c222",
   "metadata": {},
   "outputs": [
    {
     "data": {
      "application/javascript": [
       "\n",
       "            setTimeout(function() {\n",
       "                var nbb_cell_id = 5;\n",
       "                var nbb_unformatted_code = \"target_metrics = [\\n    'neg.precision', 'pos.precision', 'neg.recall', 'pos.recall', 'mcc'\\n]\";\n",
       "                var nbb_formatted_code = \"target_metrics = [\\\"neg.precision\\\", \\\"pos.precision\\\", \\\"neg.recall\\\", \\\"pos.recall\\\", \\\"mcc\\\"]\";\n",
       "                var nbb_cells = Jupyter.notebook.get_cells();\n",
       "                for (var i = 0; i < nbb_cells.length; ++i) {\n",
       "                    if (nbb_cells[i].input_prompt_number == nbb_cell_id) {\n",
       "                        if (nbb_cells[i].get_text() == nbb_unformatted_code) {\n",
       "                             nbb_cells[i].set_text(nbb_formatted_code);\n",
       "                        }\n",
       "                        break;\n",
       "                    }\n",
       "                }\n",
       "            }, 500);\n",
       "            "
      ],
      "text/plain": [
       "<IPython.core.display.Javascript object>"
      ]
     },
     "metadata": {},
     "output_type": "display_data"
    }
   ],
   "source": [
    "target_metrics = [\n",
    "    'neg.precision', 'pos.precision', 'neg.recall', 'pos.recall', 'mcc'\n",
    "]"
   ]
  },
  {
   "cell_type": "markdown",
   "id": "40b86601",
   "metadata": {},
   "source": [
    "## Generate data\n",
    "\n",
    "Generate data from a Logistic process with noise\n",
    "\n",
    "#### Hold-out set\n",
    "\n",
    "Validate the model by comparing the credible interval of the samples from the model and unseen data sampled from the data generating process."
   ]
  },
  {
   "cell_type": "code",
   "execution_count": 6,
   "id": "c1ce35ce",
   "metadata": {},
   "outputs": [
    {
     "data": {
      "application/javascript": [
       "\n",
       "            setTimeout(function() {\n",
       "                var nbb_cell_id = 6;\n",
       "                var nbb_unformatted_code = \"generator = mmur.LogisticGenerator()\\noutp = generator.fit_transform(\\n    train_samples=10000,\\n    test_samples=10000,\\n    holdout_samples=10000,\\n    noise_sigma=0.3,\\n    enable_noise=True,\\n    random_state=123456\\n)\";\n",
       "                var nbb_formatted_code = \"generator = mmur.LogisticGenerator()\\noutp = generator.fit_transform(\\n    train_samples=10000,\\n    test_samples=10000,\\n    holdout_samples=10000,\\n    noise_sigma=0.3,\\n    enable_noise=True,\\n    random_state=123456,\\n)\";\n",
       "                var nbb_cells = Jupyter.notebook.get_cells();\n",
       "                for (var i = 0; i < nbb_cells.length; ++i) {\n",
       "                    if (nbb_cells[i].input_prompt_number == nbb_cell_id) {\n",
       "                        if (nbb_cells[i].get_text() == nbb_unformatted_code) {\n",
       "                             nbb_cells[i].set_text(nbb_formatted_code);\n",
       "                        }\n",
       "                        break;\n",
       "                    }\n",
       "                }\n",
       "            }, 500);\n",
       "            "
      ],
      "text/plain": [
       "<IPython.core.display.Javascript object>"
      ]
     },
     "metadata": {},
     "output_type": "display_data"
    }
   ],
   "source": [
    "generator = mmur.LogisticGenerator()\n",
    "outp = generator.fit_transform(\n",
    "    train_samples=10000,\n",
    "    test_samples=10000,\n",
    "    holdout_samples=10000,\n",
    "    noise_sigma=0.3,\n",
    "    enable_noise=True,\n",
    "    random_state=123456\n",
    ")"
   ]
  },
  {
   "cell_type": "markdown",
   "id": "0989a709",
   "metadata": {},
   "source": [
    "Select the test sets"
   ]
  },
  {
   "cell_type": "code",
   "execution_count": 7,
   "id": "e1ee9fe7",
   "metadata": {},
   "outputs": [
    {
     "data": {
      "application/javascript": [
       "\n",
       "            setTimeout(function() {\n",
       "                var nbb_cell_id = 7;\n",
       "                var nbb_unformatted_code = \"y_test = outp['test']['y']\\nprobas_test = outp['test']['proba']\";\n",
       "                var nbb_formatted_code = \"y_test = outp[\\\"test\\\"][\\\"y\\\"]\\nprobas_test = outp[\\\"test\\\"][\\\"proba\\\"]\";\n",
       "                var nbb_cells = Jupyter.notebook.get_cells();\n",
       "                for (var i = 0; i < nbb_cells.length; ++i) {\n",
       "                    if (nbb_cells[i].input_prompt_number == nbb_cell_id) {\n",
       "                        if (nbb_cells[i].get_text() == nbb_unformatted_code) {\n",
       "                             nbb_cells[i].set_text(nbb_formatted_code);\n",
       "                        }\n",
       "                        break;\n",
       "                    }\n",
       "                }\n",
       "            }, 500);\n",
       "            "
      ],
      "text/plain": [
       "<IPython.core.display.Javascript object>"
      ]
     },
     "metadata": {},
     "output_type": "display_data"
    }
   ],
   "source": [
    "y_test = outp['test']['y']\n",
    "probas_test = outp['test']['proba']"
   ]
  },
  {
   "cell_type": "markdown",
   "id": "5da34855",
   "metadata": {},
   "source": [
    "Compute the confusion matrix on the test-set"
   ]
  },
  {
   "cell_type": "code",
   "execution_count": 8,
   "id": "0fc442a7",
   "metadata": {},
   "outputs": [
    {
     "data": {
      "application/javascript": [
       "\n",
       "            setTimeout(function() {\n",
       "                var nbb_cell_id = 8;\n",
       "                var nbb_unformatted_code = \"test_conf_mat, test_metrics = mmu.binary_metrics_proba(\\n    y_test, probas_test, threshold=0.5\\n)\\ntest_conf_mat = test_conf_mat.flatten()\\ntest_metrics = mmu.metrics_to_dataframe(test_metrics)[target_metrics]\";\n",
       "                var nbb_formatted_code = \"test_conf_mat, test_metrics = mmu.binary_metrics_proba(\\n    y_test, probas_test, threshold=0.5\\n)\\ntest_conf_mat = test_conf_mat.flatten()\\ntest_metrics = mmu.metrics_to_dataframe(test_metrics)[target_metrics]\";\n",
       "                var nbb_cells = Jupyter.notebook.get_cells();\n",
       "                for (var i = 0; i < nbb_cells.length; ++i) {\n",
       "                    if (nbb_cells[i].input_prompt_number == nbb_cell_id) {\n",
       "                        if (nbb_cells[i].get_text() == nbb_unformatted_code) {\n",
       "                             nbb_cells[i].set_text(nbb_formatted_code);\n",
       "                        }\n",
       "                        break;\n",
       "                    }\n",
       "                }\n",
       "            }, 500);\n",
       "            "
      ],
      "text/plain": [
       "<IPython.core.display.Javascript object>"
      ]
     },
     "metadata": {},
     "output_type": "display_data"
    }
   ],
   "source": [
    "test_conf_mat, test_metrics = mmu.binary_metrics_proba(\n",
    "    y_test, probas_test, threshold=0.5\n",
    ")\n",
    "test_conf_mat = test_conf_mat.flatten()\n",
    "test_metrics = mmu.metrics_to_dataframe(test_metrics)[target_metrics]"
   ]
  },
  {
   "cell_type": "code",
   "execution_count": 9,
   "id": "dddfc19b",
   "metadata": {},
   "outputs": [
    {
     "data": {
      "text/html": [
       "<div>\n",
       "<style scoped>\n",
       "    .dataframe tbody tr th:only-of-type {\n",
       "        vertical-align: middle;\n",
       "    }\n",
       "\n",
       "    .dataframe tbody tr th {\n",
       "        vertical-align: top;\n",
       "    }\n",
       "\n",
       "    .dataframe thead tr th {\n",
       "        text-align: left;\n",
       "    }\n",
       "</style>\n",
       "<table border=\"1\" class=\"dataframe\">\n",
       "  <thead>\n",
       "    <tr>\n",
       "      <th></th>\n",
       "      <th></th>\n",
       "      <th colspan=\"2\" halign=\"left\">estimated</th>\n",
       "    </tr>\n",
       "    <tr>\n",
       "      <th></th>\n",
       "      <th></th>\n",
       "      <th>negative</th>\n",
       "      <th>positive</th>\n",
       "    </tr>\n",
       "  </thead>\n",
       "  <tbody>\n",
       "    <tr>\n",
       "      <th rowspan=\"2\" valign=\"top\">observed</th>\n",
       "      <th>negative</th>\n",
       "      <td>4443</td>\n",
       "      <td>295</td>\n",
       "    </tr>\n",
       "    <tr>\n",
       "      <th>positive</th>\n",
       "      <td>289</td>\n",
       "      <td>4973</td>\n",
       "    </tr>\n",
       "  </tbody>\n",
       "</table>\n",
       "</div>"
      ],
      "text/plain": [
       "                  estimated         \n",
       "                   negative positive\n",
       "observed negative      4443      295\n",
       "         positive       289     4973"
      ]
     },
     "execution_count": 9,
     "metadata": {},
     "output_type": "execute_result"
    },
    {
     "data": {
      "application/javascript": [
       "\n",
       "            setTimeout(function() {\n",
       "                var nbb_cell_id = 9;\n",
       "                var nbb_unformatted_code = \"mmu.confusion_matrix_to_dataframe(test_conf_mat)\";\n",
       "                var nbb_formatted_code = \"mmu.confusion_matrix_to_dataframe(test_conf_mat)\";\n",
       "                var nbb_cells = Jupyter.notebook.get_cells();\n",
       "                for (var i = 0; i < nbb_cells.length; ++i) {\n",
       "                    if (nbb_cells[i].input_prompt_number == nbb_cell_id) {\n",
       "                        if (nbb_cells[i].get_text() == nbb_unformatted_code) {\n",
       "                             nbb_cells[i].set_text(nbb_formatted_code);\n",
       "                        }\n",
       "                        break;\n",
       "                    }\n",
       "                }\n",
       "            }, 500);\n",
       "            "
      ],
      "text/plain": [
       "<IPython.core.display.Javascript object>"
      ]
     },
     "metadata": {},
     "output_type": "display_data"
    }
   ],
   "source": [
    "mmu.confusion_matrix_to_dataframe(test_conf_mat)"
   ]
  },
  {
   "cell_type": "code",
   "execution_count": 10,
   "id": "c0d0c1f9",
   "metadata": {},
   "outputs": [
    {
     "data": {
      "text/html": [
       "<div>\n",
       "<style scoped>\n",
       "    .dataframe tbody tr th:only-of-type {\n",
       "        vertical-align: middle;\n",
       "    }\n",
       "\n",
       "    .dataframe tbody tr th {\n",
       "        vertical-align: top;\n",
       "    }\n",
       "\n",
       "    .dataframe thead th {\n",
       "        text-align: right;\n",
       "    }\n",
       "</style>\n",
       "<table border=\"1\" class=\"dataframe\">\n",
       "  <thead>\n",
       "    <tr style=\"text-align: right;\">\n",
       "      <th></th>\n",
       "      <th>neg.precision</th>\n",
       "      <th>pos.precision</th>\n",
       "      <th>neg.recall</th>\n",
       "      <th>pos.recall</th>\n",
       "      <th>mcc</th>\n",
       "    </tr>\n",
       "  </thead>\n",
       "  <tbody>\n",
       "    <tr>\n",
       "      <th>0</th>\n",
       "      <td>0.938926</td>\n",
       "      <td>0.944002</td>\n",
       "      <td>0.937737</td>\n",
       "      <td>0.945078</td>\n",
       "      <td>0.882872</td>\n",
       "    </tr>\n",
       "  </tbody>\n",
       "</table>\n",
       "</div>"
      ],
      "text/plain": [
       "   neg.precision  pos.precision  neg.recall  pos.recall       mcc\n",
       "0       0.938926       0.944002    0.937737    0.945078  0.882872"
      ]
     },
     "execution_count": 10,
     "metadata": {},
     "output_type": "execute_result"
    },
    {
     "data": {
      "application/javascript": [
       "\n",
       "            setTimeout(function() {\n",
       "                var nbb_cell_id = 10;\n",
       "                var nbb_unformatted_code = \"test_metrics\";\n",
       "                var nbb_formatted_code = \"test_metrics\";\n",
       "                var nbb_cells = Jupyter.notebook.get_cells();\n",
       "                for (var i = 0; i < nbb_cells.length; ++i) {\n",
       "                    if (nbb_cells[i].input_prompt_number == nbb_cell_id) {\n",
       "                        if (nbb_cells[i].get_text() == nbb_unformatted_code) {\n",
       "                             nbb_cells[i].set_text(nbb_formatted_code);\n",
       "                        }\n",
       "                        break;\n",
       "                    }\n",
       "                }\n",
       "            }, 500);\n",
       "            "
      ],
      "text/plain": [
       "<IPython.core.display.Javascript object>"
      ]
     },
     "metadata": {},
     "output_type": "display_data"
    }
   ],
   "source": [
    "test_metrics"
   ]
  },
  {
   "cell_type": "code",
   "execution_count": 11,
   "id": "e408385b-df6a-4089-a561-b62d7509015e",
   "metadata": {},
   "outputs": [
    {
     "data": {
      "text/plain": [
       "array([4443,  295,  289, 4973])"
      ]
     },
     "execution_count": 11,
     "metadata": {},
     "output_type": "execute_result"
    },
    {
     "data": {
      "application/javascript": [
       "\n",
       "            setTimeout(function() {\n",
       "                var nbb_cell_id = 11;\n",
       "                var nbb_unformatted_code = \"test_conf_mat\";\n",
       "                var nbb_formatted_code = \"test_conf_mat\";\n",
       "                var nbb_cells = Jupyter.notebook.get_cells();\n",
       "                for (var i = 0; i < nbb_cells.length; ++i) {\n",
       "                    if (nbb_cells[i].input_prompt_number == nbb_cell_id) {\n",
       "                        if (nbb_cells[i].get_text() == nbb_unformatted_code) {\n",
       "                             nbb_cells[i].set_text(nbb_formatted_code);\n",
       "                        }\n",
       "                        break;\n",
       "                    }\n",
       "                }\n",
       "            }, 500);\n",
       "            "
      ],
      "text/plain": [
       "<IPython.core.display.Javascript object>"
      ]
     },
     "metadata": {},
     "output_type": "display_data"
    }
   ],
   "source": [
    "test_conf_mat"
   ]
  },
  {
   "cell_type": "markdown",
   "id": "d10ebd3e",
   "metadata": {},
   "source": [
    "### Ground truth"
   ]
  },
  {
   "cell_type": "code",
   "execution_count": 12,
   "id": "b9c521d7",
   "metadata": {},
   "outputs": [
    {
     "data": {
      "application/javascript": [
       "\n",
       "            setTimeout(function() {\n",
       "                var nbb_cell_id = 12;\n",
       "                var nbb_unformatted_code = \"gt_proba_test = outp['ground_truth']['test']\";\n",
       "                var nbb_formatted_code = \"gt_proba_test = outp[\\\"ground_truth\\\"][\\\"test\\\"]\";\n",
       "                var nbb_cells = Jupyter.notebook.get_cells();\n",
       "                for (var i = 0; i < nbb_cells.length; ++i) {\n",
       "                    if (nbb_cells[i].input_prompt_number == nbb_cell_id) {\n",
       "                        if (nbb_cells[i].get_text() == nbb_unformatted_code) {\n",
       "                             nbb_cells[i].set_text(nbb_formatted_code);\n",
       "                        }\n",
       "                        break;\n",
       "                    }\n",
       "                }\n",
       "            }, 500);\n",
       "            "
      ],
      "text/plain": [
       "<IPython.core.display.Javascript object>"
      ]
     },
     "metadata": {},
     "output_type": "display_data"
    }
   ],
   "source": [
    "gt_proba_test = outp['ground_truth']['test']"
   ]
  },
  {
   "cell_type": "markdown",
   "id": "c7869f0b",
   "metadata": {},
   "source": [
    "Compute the ground truth confusion matrix and metrics"
   ]
  },
  {
   "cell_type": "code",
   "execution_count": 13,
   "id": "b9d8d02e",
   "metadata": {},
   "outputs": [
    {
     "data": {
      "application/javascript": [
       "\n",
       "            setTimeout(function() {\n",
       "                var nbb_cell_id = 13;\n",
       "                var nbb_unformatted_code = \"gt_conf_mat, gt_metrics = mmu.binary_metrics_proba(\\n    y_test, gt_proba_test, threshold=0.5\\n)\";\n",
       "                var nbb_formatted_code = \"gt_conf_mat, gt_metrics = mmu.binary_metrics_proba(y_test, gt_proba_test, threshold=0.5)\";\n",
       "                var nbb_cells = Jupyter.notebook.get_cells();\n",
       "                for (var i = 0; i < nbb_cells.length; ++i) {\n",
       "                    if (nbb_cells[i].input_prompt_number == nbb_cell_id) {\n",
       "                        if (nbb_cells[i].get_text() == nbb_unformatted_code) {\n",
       "                             nbb_cells[i].set_text(nbb_formatted_code);\n",
       "                        }\n",
       "                        break;\n",
       "                    }\n",
       "                }\n",
       "            }, 500);\n",
       "            "
      ],
      "text/plain": [
       "<IPython.core.display.Javascript object>"
      ]
     },
     "metadata": {},
     "output_type": "display_data"
    }
   ],
   "source": [
    "gt_conf_mat, gt_metrics = mmu.binary_metrics_proba(\n",
    "    y_test, gt_proba_test, threshold=0.5\n",
    ")"
   ]
  },
  {
   "cell_type": "code",
   "execution_count": 14,
   "id": "164a83c2",
   "metadata": {},
   "outputs": [
    {
     "data": {
      "text/html": [
       "<div>\n",
       "<style scoped>\n",
       "    .dataframe tbody tr th:only-of-type {\n",
       "        vertical-align: middle;\n",
       "    }\n",
       "\n",
       "    .dataframe tbody tr th {\n",
       "        vertical-align: top;\n",
       "    }\n",
       "\n",
       "    .dataframe thead tr th {\n",
       "        text-align: left;\n",
       "    }\n",
       "</style>\n",
       "<table border=\"1\" class=\"dataframe\">\n",
       "  <thead>\n",
       "    <tr>\n",
       "      <th></th>\n",
       "      <th></th>\n",
       "      <th colspan=\"2\" halign=\"left\">estimated</th>\n",
       "    </tr>\n",
       "    <tr>\n",
       "      <th></th>\n",
       "      <th></th>\n",
       "      <th>negative</th>\n",
       "      <th>positive</th>\n",
       "    </tr>\n",
       "  </thead>\n",
       "  <tbody>\n",
       "    <tr>\n",
       "      <th rowspan=\"2\" valign=\"top\">observed</th>\n",
       "      <th>negative</th>\n",
       "      <td>4440</td>\n",
       "      <td>298</td>\n",
       "    </tr>\n",
       "    <tr>\n",
       "      <th>positive</th>\n",
       "      <td>288</td>\n",
       "      <td>4974</td>\n",
       "    </tr>\n",
       "  </tbody>\n",
       "</table>\n",
       "</div>"
      ],
      "text/plain": [
       "                  estimated         \n",
       "                   negative positive\n",
       "observed negative      4440      298\n",
       "         positive       288     4974"
      ]
     },
     "execution_count": 14,
     "metadata": {},
     "output_type": "execute_result"
    },
    {
     "data": {
      "application/javascript": [
       "\n",
       "            setTimeout(function() {\n",
       "                var nbb_cell_id = 14;\n",
       "                var nbb_unformatted_code = \"gt_confusion_matrix = mmu.confusion_matrix_to_dataframe(gt_conf_mat)\\ngt_confusion_matrix\";\n",
       "                var nbb_formatted_code = \"gt_confusion_matrix = mmu.confusion_matrix_to_dataframe(gt_conf_mat)\\ngt_confusion_matrix\";\n",
       "                var nbb_cells = Jupyter.notebook.get_cells();\n",
       "                for (var i = 0; i < nbb_cells.length; ++i) {\n",
       "                    if (nbb_cells[i].input_prompt_number == nbb_cell_id) {\n",
       "                        if (nbb_cells[i].get_text() == nbb_unformatted_code) {\n",
       "                             nbb_cells[i].set_text(nbb_formatted_code);\n",
       "                        }\n",
       "                        break;\n",
       "                    }\n",
       "                }\n",
       "            }, 500);\n",
       "            "
      ],
      "text/plain": [
       "<IPython.core.display.Javascript object>"
      ]
     },
     "metadata": {},
     "output_type": "display_data"
    }
   ],
   "source": [
    "gt_confusion_matrix = mmu.confusion_matrix_to_dataframe(gt_conf_mat)\n",
    "gt_confusion_matrix"
   ]
  },
  {
   "cell_type": "code",
   "execution_count": 15,
   "id": "90188923",
   "metadata": {},
   "outputs": [
    {
     "data": {
      "text/html": [
       "<div>\n",
       "<style scoped>\n",
       "    .dataframe tbody tr th:only-of-type {\n",
       "        vertical-align: middle;\n",
       "    }\n",
       "\n",
       "    .dataframe tbody tr th {\n",
       "        vertical-align: top;\n",
       "    }\n",
       "\n",
       "    .dataframe thead th {\n",
       "        text-align: right;\n",
       "    }\n",
       "</style>\n",
       "<table border=\"1\" class=\"dataframe\">\n",
       "  <thead>\n",
       "    <tr style=\"text-align: right;\">\n",
       "      <th></th>\n",
       "      <th>neg.precision</th>\n",
       "      <th>pos.precision</th>\n",
       "      <th>neg.recall</th>\n",
       "      <th>pos.recall</th>\n",
       "      <th>mcc</th>\n",
       "    </tr>\n",
       "  </thead>\n",
       "  <tbody>\n",
       "    <tr>\n",
       "      <th>0</th>\n",
       "      <td>0.939086</td>\n",
       "      <td>0.943475</td>\n",
       "      <td>0.937104</td>\n",
       "      <td>0.945268</td>\n",
       "      <td>0.882467</td>\n",
       "    </tr>\n",
       "  </tbody>\n",
       "</table>\n",
       "</div>"
      ],
      "text/plain": [
       "   neg.precision  pos.precision  neg.recall  pos.recall       mcc\n",
       "0       0.939086       0.943475    0.937104    0.945268  0.882467"
      ]
     },
     "execution_count": 15,
     "metadata": {},
     "output_type": "execute_result"
    },
    {
     "data": {
      "application/javascript": [
       "\n",
       "            setTimeout(function() {\n",
       "                var nbb_cell_id = 15;\n",
       "                var nbb_unformatted_code = \"gt_metrics = mmu.metrics_to_dataframe(gt_metrics)[target_metrics]\\ngt_metrics\";\n",
       "                var nbb_formatted_code = \"gt_metrics = mmu.metrics_to_dataframe(gt_metrics)[target_metrics]\\ngt_metrics\";\n",
       "                var nbb_cells = Jupyter.notebook.get_cells();\n",
       "                for (var i = 0; i < nbb_cells.length; ++i) {\n",
       "                    if (nbb_cells[i].input_prompt_number == nbb_cell_id) {\n",
       "                        if (nbb_cells[i].get_text() == nbb_unformatted_code) {\n",
       "                             nbb_cells[i].set_text(nbb_formatted_code);\n",
       "                        }\n",
       "                        break;\n",
       "                    }\n",
       "                }\n",
       "            }, 500);\n",
       "            "
      ],
      "text/plain": [
       "<IPython.core.display.Javascript object>"
      ]
     },
     "metadata": {},
     "output_type": "display_data"
    }
   ],
   "source": [
    "gt_metrics = mmu.metrics_to_dataframe(gt_metrics)[target_metrics]\n",
    "gt_metrics"
   ]
  },
  {
   "cell_type": "markdown",
   "id": "16241cd7",
   "metadata": {},
   "source": [
    "### Hold-out set"
   ]
  },
  {
   "cell_type": "code",
   "execution_count": 16,
   "id": "1bd37abc",
   "metadata": {},
   "outputs": [
    {
     "data": {
      "application/javascript": [
       "\n",
       "            setTimeout(function() {\n",
       "                var nbb_cell_id = 16;\n",
       "                var nbb_unformatted_code = \"y_holdout = outp['holdout']['y']\\nproba_holdout = outp['holdout']['proba']\";\n",
       "                var nbb_formatted_code = \"y_holdout = outp[\\\"holdout\\\"][\\\"y\\\"]\\nproba_holdout = outp[\\\"holdout\\\"][\\\"proba\\\"]\";\n",
       "                var nbb_cells = Jupyter.notebook.get_cells();\n",
       "                for (var i = 0; i < nbb_cells.length; ++i) {\n",
       "                    if (nbb_cells[i].input_prompt_number == nbb_cell_id) {\n",
       "                        if (nbb_cells[i].get_text() == nbb_unformatted_code) {\n",
       "                             nbb_cells[i].set_text(nbb_formatted_code);\n",
       "                        }\n",
       "                        break;\n",
       "                    }\n",
       "                }\n",
       "            }, 500);\n",
       "            "
      ],
      "text/plain": [
       "<IPython.core.display.Javascript object>"
      ]
     },
     "metadata": {},
     "output_type": "display_data"
    }
   ],
   "source": [
    "y_holdout = outp['holdout']['y']\n",
    "proba_holdout = outp['holdout']['proba']"
   ]
  },
  {
   "cell_type": "markdown",
   "id": "91b315c3",
   "metadata": {},
   "source": [
    "Compute metrics on this set"
   ]
  },
  {
   "cell_type": "code",
   "execution_count": 17,
   "id": "0400f976",
   "metadata": {},
   "outputs": [
    {
     "data": {
      "application/javascript": [
       "\n",
       "            setTimeout(function() {\n",
       "                var nbb_cell_id = 17;\n",
       "                var nbb_unformatted_code = \"# holdout_conf_mat, holdout_metrics = mmu.binary_metrics_runs_thresholds(\\n#     y=y_holdout, proba=proba_holdout, thresholds=np.array((0.5, ))\\n# )\\n# holdout_metrics = mmu.metrics_to_dataframe(holdout_metrics)[target_metrics]\";\n",
       "                var nbb_formatted_code = \"# holdout_conf_mat, holdout_metrics = mmu.binary_metrics_runs_thresholds(\\n#     y=y_holdout, proba=proba_holdout, thresholds=np.array((0.5, ))\\n# )\\n# holdout_metrics = mmu.metrics_to_dataframe(holdout_metrics)[target_metrics]\";\n",
       "                var nbb_cells = Jupyter.notebook.get_cells();\n",
       "                for (var i = 0; i < nbb_cells.length; ++i) {\n",
       "                    if (nbb_cells[i].input_prompt_number == nbb_cell_id) {\n",
       "                        if (nbb_cells[i].get_text() == nbb_unformatted_code) {\n",
       "                             nbb_cells[i].set_text(nbb_formatted_code);\n",
       "                        }\n",
       "                        break;\n",
       "                    }\n",
       "                }\n",
       "            }, 500);\n",
       "            "
      ],
      "text/plain": [
       "<IPython.core.display.Javascript object>"
      ]
     },
     "metadata": {},
     "output_type": "display_data"
    }
   ],
   "source": [
    "# holdout_conf_mat, holdout_metrics = mmu.binary_metrics_runs_thresholds(\n",
    "#     y=y_holdout, proba=proba_holdout, thresholds=np.array((0.5, ))\n",
    "# )\n",
    "# holdout_metrics = mmu.metrics_to_dataframe(holdout_metrics)[target_metrics]"
   ]
  },
  {
   "cell_type": "markdown",
   "id": "5a7f451d-6a54-4ab3-b667-3d64617dcaef",
   "metadata": {},
   "source": [
    "# Model data and params"
   ]
  },
  {
   "cell_type": "code",
   "execution_count": 253,
   "id": "2cd81135-4cce-4a12-bb25-72e8132161df",
   "metadata": {},
   "outputs": [
    {
     "data": {
      "application/javascript": [
       "\n",
       "            setTimeout(function() {\n",
       "                var nbb_cell_id = 253;\n",
       "                var nbb_unformatted_code = \"# random_state = 42\\n# n_samples=10000\\n# n_warmup=500\\n# threshold=0.5\\n# n_chains =2\\n\\nparams = {\\n    'random_state': 42,\\n    'n_samples': 10000,\\n    'n_warmup': 500,\\n    'threshold': 0.5,\\n    'n_chains': 2,\\n}\";\n",
       "                var nbb_formatted_code = \"# random_state = 42\\n# n_samples=10000\\n# n_warmup=500\\n# threshold=0.5\\n# n_chains =2\\n\\nparams = {\\n    \\\"random_state\\\": 42,\\n    \\\"n_samples\\\": 10000,\\n    \\\"n_warmup\\\": 500,\\n    \\\"threshold\\\": 0.5,\\n    \\\"n_chains\\\": 2,\\n}\";\n",
       "                var nbb_cells = Jupyter.notebook.get_cells();\n",
       "                for (var i = 0; i < nbb_cells.length; ++i) {\n",
       "                    if (nbb_cells[i].input_prompt_number == nbb_cell_id) {\n",
       "                        if (nbb_cells[i].get_text() == nbb_unformatted_code) {\n",
       "                             nbb_cells[i].set_text(nbb_formatted_code);\n",
       "                        }\n",
       "                        break;\n",
       "                    }\n",
       "                }\n",
       "            }, 500);\n",
       "            "
      ],
      "text/plain": [
       "<IPython.core.display.Javascript object>"
      ]
     },
     "metadata": {},
     "output_type": "display_data"
    }
   ],
   "source": [
    "# random_state = 42\n",
    "# n_samples=10000\n",
    "# n_warmup=500\n",
    "# threshold=0.5\n",
    "# n_chains =2\n",
    "\n",
    "params = {\n",
    "    'random_state': 42,\n",
    "    'n_samples': 10000,\n",
    "    'n_warmup': 500,\n",
    "    'threshold': 0.5,\n",
    "    'n_chains': 2,\n",
    "}"
   ]
  },
  {
   "cell_type": "code",
   "execution_count": 254,
   "id": "986fb56a-4a18-41d7-9e5a-dde21f9030e0",
   "metadata": {},
   "outputs": [
    {
     "data": {
      "application/javascript": [
       "\n",
       "            setTimeout(function() {\n",
       "                var nbb_cell_id = 254;\n",
       "                var nbb_unformatted_code = \"X = test_conf_mat\\n\\ntotal_count = int(X.sum())\\n\\ndata = {\\n'n': total_count,\\n'y': X.flatten(),\\n'tpr_prior': np.ones(2),\\n'tnr_prior': np.ones(2),\\n'phi_prior': np.ones(2),\\n}\";\n",
       "                var nbb_formatted_code = \"X = test_conf_mat\\n\\ntotal_count = int(X.sum())\\n\\ndata = {\\n    \\\"n\\\": total_count,\\n    \\\"y\\\": X.flatten(),\\n    \\\"tpr_prior\\\": np.ones(2),\\n    \\\"tnr_prior\\\": np.ones(2),\\n    \\\"phi_prior\\\": np.ones(2),\\n}\";\n",
       "                var nbb_cells = Jupyter.notebook.get_cells();\n",
       "                for (var i = 0; i < nbb_cells.length; ++i) {\n",
       "                    if (nbb_cells[i].input_prompt_number == nbb_cell_id) {\n",
       "                        if (nbb_cells[i].get_text() == nbb_unformatted_code) {\n",
       "                             nbb_cells[i].set_text(nbb_formatted_code);\n",
       "                        }\n",
       "                        break;\n",
       "                    }\n",
       "                }\n",
       "            }, 500);\n",
       "            "
      ],
      "text/plain": [
       "<IPython.core.display.Javascript object>"
      ]
     },
     "metadata": {},
     "output_type": "display_data"
    }
   ],
   "source": [
    "X = test_conf_mat\n",
    "\n",
    "total_count = int(X.sum())\n",
    "\n",
    "data = {\n",
    "'n': total_count,\n",
    "'y': X.flatten(),\n",
    "'tpr_prior': np.ones(2),\n",
    "'tnr_prior': np.ones(2),\n",
    "'phi_prior': np.ones(2),\n",
    "}"
   ]
  },
  {
   "cell_type": "markdown",
   "id": "fc688684",
   "metadata": {},
   "source": [
    "## Stan Model"
   ]
  },
  {
   "cell_type": "code",
   "execution_count": 255,
   "id": "e130ef1f",
   "metadata": {},
   "outputs": [
    {
     "data": {
      "application/javascript": [
       "\n",
       "            setTimeout(function() {\n",
       "                var nbb_cell_id = 255;\n",
       "                var nbb_unformatted_code = \"import stan\\nfrom mmur.stan import _bnn_code\";\n",
       "                var nbb_formatted_code = \"import stan\\nfrom mmur.stan import _bnn_code\";\n",
       "                var nbb_cells = Jupyter.notebook.get_cells();\n",
       "                for (var i = 0; i < nbb_cells.length; ++i) {\n",
       "                    if (nbb_cells[i].input_prompt_number == nbb_cell_id) {\n",
       "                        if (nbb_cells[i].get_text() == nbb_unformatted_code) {\n",
       "                             nbb_cells[i].set_text(nbb_formatted_code);\n",
       "                        }\n",
       "                        break;\n",
       "                    }\n",
       "                }\n",
       "            }, 500);\n",
       "            "
      ],
      "text/plain": [
       "<IPython.core.display.Javascript object>"
      ]
     },
     "metadata": {},
     "output_type": "display_data"
    }
   ],
   "source": [
    "import stan\n",
    "from mmur.stan import _bnn_code"
   ]
  },
  {
   "cell_type": "code",
   "execution_count": 270,
   "id": "247dafd4-c524-47a1-994e-70c27abf9f32",
   "metadata": {},
   "outputs": [
    {
     "data": {
      "application/javascript": [
       "\n",
       "            setTimeout(function() {\n",
       "                var nbb_cell_id = 270;\n",
       "                var nbb_unformatted_code = \"def run_stan(data_dict, params_dict):\\n    \\n    # specific stan params\\n    _gen = np.random.default_rng(params_dict['random_state'])\\n\\n    model = stan.build(\\n        _bnn_code,\\n        data=data,\\n        random_seed=int(params_dict['random_state'])\\n    )\\n\\n    fit_ = model.sample(\\n        num_warmup= params_dict['n_warmup'],\\n        num_samples=params_dict['n_samples'],\\n        num_chains=params_dict['n_chains']\\n    )\\n    \\n    \\n    fit_data_ = az.from_pystan(\\n        posterior=fit_,\\n        posterior_predictive=['y_hat'],\\n        observed_data=list(data.keys()),\\n        posterior_model=model\\n    )\\n\\n    # validate if enough non-divergent samples were drawn\\n    div_mask = fit_data_.sample_stats.get('diverging').values\\n    n_samples_drawn = div_mask.size\\n    n_non_divergent = n_samples_drawn - div_mask.sum()\\n    if n_non_divergent < params_dict['n_samples']*params_dict['n_chains']:\\n        m = (\\n            f'The number of non-divergent samples ({n_non_divergent}) is'\\n            ' smaller than the requested samples ({n_samples}).'\\n            ' You should increase the sample factor.'\\n        )\\n        raise RuntimeError(m)\\n    \\n    # generative samples\\n    y_hat = (\\n        fit_data_\\n        .posterior_predictive\\n        .get('y_hat')\\n        .values\\n        [~div_mask]\\n    )\\n\\n    # subsample the posterior samples\\n    sidx = _gen.choice(\\n        np.arange(n_non_divergent),\\n        replace=False,\\n        size=params_dict['n_samples']\\n    )\\n\\n    sample_conf_mats_ = np.asarray(y_hat[sidx], dtype=np.int64, order='C')\\n    \\n    # stan takes up all the memory so let's delete after use\\n    del fit_data_\\n    del y_hat\\n    del sidx\\n    return sample_conf_mats_.T\";\n",
       "                var nbb_formatted_code = \"def run_stan(data_dict, params_dict):\\n\\n    # specific stan params\\n    _gen = np.random.default_rng(params_dict[\\\"random_state\\\"])\\n\\n    model = stan.build(\\n        _bnn_code, data=data, random_seed=int(params_dict[\\\"random_state\\\"])\\n    )\\n\\n    fit_ = model.sample(\\n        num_warmup=params_dict[\\\"n_warmup\\\"],\\n        num_samples=params_dict[\\\"n_samples\\\"],\\n        num_chains=params_dict[\\\"n_chains\\\"],\\n    )\\n\\n    fit_data_ = az.from_pystan(\\n        posterior=fit_,\\n        posterior_predictive=[\\\"y_hat\\\"],\\n        observed_data=list(data.keys()),\\n        posterior_model=model,\\n    )\\n\\n    # validate if enough non-divergent samples were drawn\\n    div_mask = fit_data_.sample_stats.get(\\\"diverging\\\").values\\n    n_samples_drawn = div_mask.size\\n    n_non_divergent = n_samples_drawn - div_mask.sum()\\n    if n_non_divergent < params_dict[\\\"n_samples\\\"] * params_dict[\\\"n_chains\\\"]:\\n        m = (\\n            f\\\"The number of non-divergent samples ({n_non_divergent}) is\\\"\\n            \\\" smaller than the requested samples ({n_samples}).\\\"\\n            \\\" You should increase the sample factor.\\\"\\n        )\\n        raise RuntimeError(m)\\n\\n    # generative samples\\n    y_hat = fit_data_.posterior_predictive.get(\\\"y_hat\\\").values[~div_mask]\\n\\n    # subsample the posterior samples\\n    sidx = _gen.choice(\\n        np.arange(n_non_divergent), replace=False, size=params_dict[\\\"n_samples\\\"]\\n    )\\n\\n    sample_conf_mats_ = np.asarray(y_hat[sidx], dtype=np.int64, order=\\\"C\\\")\\n\\n    # stan takes up all the memory so let's delete after use\\n    del fit_data_\\n    del y_hat\\n    del sidx\\n    return sample_conf_mats_.T\";\n",
       "                var nbb_cells = Jupyter.notebook.get_cells();\n",
       "                for (var i = 0; i < nbb_cells.length; ++i) {\n",
       "                    if (nbb_cells[i].input_prompt_number == nbb_cell_id) {\n",
       "                        if (nbb_cells[i].get_text() == nbb_unformatted_code) {\n",
       "                             nbb_cells[i].set_text(nbb_formatted_code);\n",
       "                        }\n",
       "                        break;\n",
       "                    }\n",
       "                }\n",
       "            }, 500);\n",
       "            "
      ],
      "text/plain": [
       "<IPython.core.display.Javascript object>"
      ]
     },
     "metadata": {},
     "output_type": "display_data"
    }
   ],
   "source": [
    "def run_stan(data_dict, params_dict):\n",
    "    \n",
    "    # specific stan params\n",
    "    _gen = np.random.default_rng(params_dict['random_state'])\n",
    "\n",
    "    model = stan.build(\n",
    "        _bnn_code,\n",
    "        data=data,\n",
    "        random_seed=int(params_dict['random_state'])\n",
    "    )\n",
    "\n",
    "    fit_ = model.sample(\n",
    "        num_warmup= params_dict['n_warmup'],\n",
    "        num_samples=params_dict['n_samples'],\n",
    "        num_chains=params_dict['n_chains']\n",
    "    )\n",
    "    \n",
    "    \n",
    "    fit_data_ = az.from_pystan(\n",
    "        posterior=fit_,\n",
    "        posterior_predictive=['y_hat'],\n",
    "        observed_data=list(data.keys()),\n",
    "        posterior_model=model\n",
    "    )\n",
    "\n",
    "    # validate if enough non-divergent samples were drawn\n",
    "    div_mask = fit_data_.sample_stats.get('diverging').values\n",
    "    n_samples_drawn = div_mask.size\n",
    "    n_non_divergent = n_samples_drawn - div_mask.sum()\n",
    "    if n_non_divergent < params_dict['n_samples']*params_dict['n_chains']:\n",
    "        m = (\n",
    "            f'The number of non-divergent samples ({n_non_divergent}) is'\n",
    "            ' smaller than the requested samples ({n_samples}).'\n",
    "            ' You should increase the sample factor.'\n",
    "        )\n",
    "        raise RuntimeError(m)\n",
    "    \n",
    "    # generative samples\n",
    "    y_hat = (\n",
    "        fit_data_\n",
    "        .posterior_predictive\n",
    "        .get('y_hat')\n",
    "        .values\n",
    "        [~div_mask]\n",
    "    )\n",
    "\n",
    "    # subsample the posterior samples\n",
    "    sidx = _gen.choice(\n",
    "        np.arange(n_non_divergent),\n",
    "        replace=False,\n",
    "        size=params_dict['n_samples']\n",
    "    )\n",
    "\n",
    "    sample_conf_mats_ = np.asarray(y_hat[sidx], dtype=np.int64, order='C')\n",
    "    \n",
    "    # stan takes up all the memory so let's delete after use\n",
    "    del fit_data_\n",
    "    del y_hat\n",
    "    del sidx\n",
    "    \n",
    "    return sample_conf_mats_.T"
   ]
  },
  {
   "cell_type": "code",
   "execution_count": null,
   "id": "cb3f67cc-be31-4635-8c69-f8b00db32ca3",
   "metadata": {},
   "outputs": [],
   "source": [
    "# y = run_stan(data, params)"
   ]
  },
  {
   "cell_type": "code",
   "execution_count": null,
   "id": "508db188-4f1d-4679-8e94-5b8a9da61666",
   "metadata": {},
   "outputs": [],
   "source": [
    "# gt_vals = gt_confusion_matrix.values.flatten()\n",
    "\n",
    "# fig, axes = plt.subplots(2,2, figsize=(8,8))\n",
    "# axes = axes.ravel()\n",
    "# for i, _ in enumerate(axes):\n",
    "    \n",
    "#     sampled_vals =y[i]\n",
    "#     hist_outputs = axes[i].hist(sampled_vals, bins=200)\n",
    "#     axes[i].vlines(gt_vals[i], 0, 1.01*max(hist_outputs[0]), color='blue', label='true')\n",
    "\n",
    "# plt.show()"
   ]
  },
  {
   "cell_type": "markdown",
   "id": "8b64481e-15d7-43d5-a212-d3cf884bf100",
   "metadata": {},
   "source": [
    "# Numpyro"
   ]
  },
  {
   "cell_type": "code",
   "execution_count": 20,
   "id": "dcdaeb0d-17d2-4169-8f3e-ee00fb9669a7",
   "metadata": {},
   "outputs": [
    {
     "name": "stderr",
     "output_type": "stream",
     "text": [
      "/Users/jasonmyers/opt/miniconda3/envs/mmu/lib/python3.9/site-packages/jax/experimental/optimizers.py:28: FutureWarning: jax.experimental.optimizers is deprecated, import jax.example_libraries.optimizers instead\n",
      "  warnings.warn('jax.experimental.optimizers is deprecated, '\n",
      "/Users/jasonmyers/opt/miniconda3/envs/mmu/lib/python3.9/site-packages/jax/experimental/stax.py:28: FutureWarning: jax.experimental.stax is deprecated, import jax.example_libraries.stax instead\n",
      "  warnings.warn('jax.experimental.stax is deprecated, '\n"
     ]
    },
    {
     "data": {
      "application/javascript": [
       "\n",
       "            setTimeout(function() {\n",
       "                var nbb_cell_id = 20;\n",
       "                var nbb_unformatted_code = \"\\nimport numpyro\\nimport numpyro.distributions as dist\\nfrom numpyro.infer import MCMC, NUTS, Predictive\\nfrom jax import random, vmap\";\n",
       "                var nbb_formatted_code = \"import numpyro\\nimport numpyro.distributions as dist\\nfrom numpyro.infer import MCMC, NUTS, Predictive\\nfrom jax import random, vmap\";\n",
       "                var nbb_cells = Jupyter.notebook.get_cells();\n",
       "                for (var i = 0; i < nbb_cells.length; ++i) {\n",
       "                    if (nbb_cells[i].input_prompt_number == nbb_cell_id) {\n",
       "                        if (nbb_cells[i].get_text() == nbb_unformatted_code) {\n",
       "                             nbb_cells[i].set_text(nbb_formatted_code);\n",
       "                        }\n",
       "                        break;\n",
       "                    }\n",
       "                }\n",
       "            }, 500);\n",
       "            "
      ],
      "text/plain": [
       "<IPython.core.display.Javascript object>"
      ]
     },
     "metadata": {},
     "output_type": "display_data"
    }
   ],
   "source": [
    "\n",
    "import numpyro\n",
    "import numpyro.distributions as dist\n",
    "from numpyro.infer import MCMC, NUTS, Predictive\n",
    "from jax import random, vmap"
   ]
  },
  {
   "cell_type": "code",
   "execution_count": 31,
   "id": "d5372c94-536e-42f7-8196-06b470bf2654",
   "metadata": {},
   "outputs": [
    {
     "data": {
      "application/javascript": [
       "\n",
       "            setTimeout(function() {\n",
       "                var nbb_cell_id = 31;\n",
       "                var nbb_unformatted_code = \"def run_numpyro(data, params):\\n    \\n    numpyro.set_host_device_count(2)\\n    \\n    def model(tpr_prior, tnr_prior, phi_prior, n, y=None, ):\\n    \\n        phi = numpyro.sample(\\\"phi\\\", dist.Beta(phi_prior[0], phi_prior[1]))\\n        tpr = numpyro.sample(\\\"tpr\\\", dist.Beta(tpr_prior[0], tpr_prior[1]))\\n        tnr = numpyro.sample(\\\"tnr\\\", dist.Beta(tnr_prior[0], tnr_prior[1]))\\n\\n        theta_tp = phi * tpr\\n        theta_tn = (1-phi) * tnr\\n        theta_fn = phi * (1-tpr)\\n        theta_fp = (1-phi) * (1-tnr)\\n\\n        y0, y1, y2, y3 = y if y is not None else [None, None, None, None]\\n\\n        numpyro.sample(\\\"y0\\\", dist.Binomial(n, theta_tp), obs=y0)\\n        numpyro.sample(\\\"y1\\\", dist.Binomial(n, theta_tn), obs=y1)\\n        numpyro.sample(\\\"y2\\\", dist.Binomial(n, theta_fn), obs=y2)\\n        numpyro.sample(\\\"y3\\\", dist.Binomial(n, theta_fp), obs=y3)\\n    \\n    # Start from this source of randomness. We will split keys for subsequent operations.\\n    rng_key = random.PRNGKey(params['random_state'])\\n    rng_key, rng_key_ = random.split(rng_key)\\n\\n    # Run NUTS.\\n    kernel = NUTS(model)\\n    mcmc = MCMC(\\n        kernel, \\n        num_chains=params['n_chains'], \\n        num_warmup=params['n_warmup'], \\n        num_samples=params['n_samples']\\n    )\\n    mcmc.run(\\n        rng_key_, \\n        n=data['n'], \\n        y=data['y'], \\n        tpr_prior=data['tpr_prior'], \\n        tnr_prior=data['tnr_prior'], \\n        phi_prior=data['phi_prior']\\n    )\\n    mcmc.print_summary()\\n    samples = mcmc.get_samples()\\n    \\n    \\n    predictive = Predictive(model, posterior_samples=samples)\\n    \\n    output_pred = predictive(\\n        rng_key_, \\n        n=data['n'], \\n        tpr_prior=data['tpr_prior'], \\n        tnr_prior=data['tnr_prior'], \\n        phi_prior=data['phi_prior']\\n    )\\n    \\n    return output_pred\";\n",
       "                var nbb_formatted_code = \"def run_numpyro(data, params):\\n\\n    numpyro.set_host_device_count(2)\\n\\n    def model(\\n        tpr_prior,\\n        tnr_prior,\\n        phi_prior,\\n        n,\\n        y=None,\\n    ):\\n\\n        phi = numpyro.sample(\\\"phi\\\", dist.Beta(phi_prior[0], phi_prior[1]))\\n        tpr = numpyro.sample(\\\"tpr\\\", dist.Beta(tpr_prior[0], tpr_prior[1]))\\n        tnr = numpyro.sample(\\\"tnr\\\", dist.Beta(tnr_prior[0], tnr_prior[1]))\\n\\n        theta_tp = phi * tpr\\n        theta_tn = (1 - phi) * tnr\\n        theta_fn = phi * (1 - tpr)\\n        theta_fp = (1 - phi) * (1 - tnr)\\n\\n        y0, y1, y2, y3 = y if y is not None else [None, None, None, None]\\n\\n        numpyro.sample(\\\"y0\\\", dist.Binomial(n, theta_tp), obs=y0)\\n        numpyro.sample(\\\"y1\\\", dist.Binomial(n, theta_tn), obs=y1)\\n        numpyro.sample(\\\"y2\\\", dist.Binomial(n, theta_fn), obs=y2)\\n        numpyro.sample(\\\"y3\\\", dist.Binomial(n, theta_fp), obs=y3)\\n\\n    # Start from this source of randomness. We will split keys for subsequent operations.\\n    rng_key = random.PRNGKey(params[\\\"random_state\\\"])\\n    rng_key, rng_key_ = random.split(rng_key)\\n\\n    # Run NUTS.\\n    kernel = NUTS(model)\\n    mcmc = MCMC(\\n        kernel,\\n        num_chains=params[\\\"n_chains\\\"],\\n        num_warmup=params[\\\"n_warmup\\\"],\\n        num_samples=params[\\\"n_samples\\\"],\\n    )\\n    mcmc.run(\\n        rng_key_,\\n        n=data[\\\"n\\\"],\\n        y=data[\\\"y\\\"],\\n        tpr_prior=data[\\\"tpr_prior\\\"],\\n        tnr_prior=data[\\\"tnr_prior\\\"],\\n        phi_prior=data[\\\"phi_prior\\\"],\\n    )\\n    mcmc.print_summary()\\n    samples = mcmc.get_samples()\\n\\n    predictive = Predictive(model, posterior_samples=samples)\\n\\n    output_pred = predictive(\\n        rng_key_,\\n        n=data[\\\"n\\\"],\\n        tpr_prior=data[\\\"tpr_prior\\\"],\\n        tnr_prior=data[\\\"tnr_prior\\\"],\\n        phi_prior=data[\\\"phi_prior\\\"],\\n    )\\n\\n    return output_pred\";\n",
       "                var nbb_cells = Jupyter.notebook.get_cells();\n",
       "                for (var i = 0; i < nbb_cells.length; ++i) {\n",
       "                    if (nbb_cells[i].input_prompt_number == nbb_cell_id) {\n",
       "                        if (nbb_cells[i].get_text() == nbb_unformatted_code) {\n",
       "                             nbb_cells[i].set_text(nbb_formatted_code);\n",
       "                        }\n",
       "                        break;\n",
       "                    }\n",
       "                }\n",
       "            }, 500);\n",
       "            "
      ],
      "text/plain": [
       "<IPython.core.display.Javascript object>"
      ]
     },
     "metadata": {},
     "output_type": "display_data"
    }
   ],
   "source": [
    "def run_numpyro(data, params):\n",
    "    \n",
    "    numpyro.set_host_device_count(2)\n",
    "    \n",
    "    def model(tpr_prior, tnr_prior, phi_prior, n, y=None, ):\n",
    "    \n",
    "        phi = numpyro.sample(\"phi\", dist.Beta(phi_prior[0], phi_prior[1]))\n",
    "        tpr = numpyro.sample(\"tpr\", dist.Beta(tpr_prior[0], tpr_prior[1]))\n",
    "        tnr = numpyro.sample(\"tnr\", dist.Beta(tnr_prior[0], tnr_prior[1]))\n",
    "\n",
    "        theta_tp = phi * tpr\n",
    "        theta_tn = (1-phi) * tnr\n",
    "        theta_fn = phi * (1-tpr)\n",
    "        theta_fp = (1-phi) * (1-tnr)\n",
    "\n",
    "        y0, y1, y2, y3 = y if y is not None else [None, None, None, None]\n",
    "\n",
    "        numpyro.sample(\"y0\", dist.Binomial(n, theta_tp), obs=y0)\n",
    "        numpyro.sample(\"y1\", dist.Binomial(n, theta_tn), obs=y1)\n",
    "        numpyro.sample(\"y2\", dist.Binomial(n, theta_fn), obs=y2)\n",
    "        numpyro.sample(\"y3\", dist.Binomial(n, theta_fp), obs=y3)\n",
    "    \n",
    "    # Start from this source of randomness. We will split keys for subsequent operations.\n",
    "    rng_key = random.PRNGKey(params['random_state'])\n",
    "    rng_key, rng_key_ = random.split(rng_key)\n",
    "\n",
    "    # Run NUTS.\n",
    "    kernel = NUTS(model)\n",
    "    mcmc = MCMC(\n",
    "        kernel, \n",
    "        num_chains=params['n_chains'], \n",
    "        num_warmup=params['n_warmup'], \n",
    "        num_samples=params['n_samples']\n",
    "    )\n",
    "    mcmc.run(\n",
    "        rng_key_, \n",
    "        n=data['n'], \n",
    "        y=data['y'], \n",
    "        tpr_prior=data['tpr_prior'], \n",
    "        tnr_prior=data['tnr_prior'], \n",
    "        phi_prior=data['phi_prior']\n",
    "    )\n",
    "    mcmc.print_summary()\n",
    "    samples = mcmc.get_samples()\n",
    "    \n",
    "    \n",
    "    predictive = Predictive(model, posterior_samples=samples)\n",
    "    \n",
    "    output_pred = predictive(\n",
    "        rng_key_, \n",
    "        n=data['n'], \n",
    "        tpr_prior=data['tpr_prior'], \n",
    "        tnr_prior=data['tnr_prior'], \n",
    "        phi_prior=data['phi_prior']\n",
    "    )\n",
    "    \n",
    "    return [np.array(vals) for vals in output_pred.values()]"
   ]
  },
  {
   "cell_type": "code",
   "execution_count": null,
   "id": "96d43ed9-7ca1-4fa4-93ec-7de9b1176ce6",
   "metadata": {},
   "outputs": [],
   "source": [
    "# y = run_numpyro(data, params)"
   ]
  },
  {
   "cell_type": "code",
   "execution_count": null,
   "id": "331d7232-facf-4a2d-844d-ad02c61d4362",
   "metadata": {},
   "outputs": [],
   "source": [
    "# gt_vals = gt_confusion_matrix.values.flatten()\n",
    "\n",
    "# fig, axes = plt.subplots(2,2, figsize=(8,8))\n",
    "# axes = axes.ravel()\n",
    "# for i, _ in enumerate(axes):\n",
    "    \n",
    "#     sampled_vals = np.array(output_pred[f'y{i}'])\n",
    "#     hist_outputs = axes[i].hist(sampled_vals, bins=200)\n",
    "#     axes[i].vlines(gt_vals[i], 0, 1.01*max(hist_outputs[0]), color='blue', label='true')\n",
    "\n",
    "# plt.show()"
   ]
  },
  {
   "cell_type": "markdown",
   "id": "c681d08e-c15c-443d-8532-44aa879f650d",
   "metadata": {},
   "source": [
    "# tensor flow probability"
   ]
  },
  {
   "cell_type": "code",
   "execution_count": 41,
   "id": "e0b9d41b-1bcf-4679-92f8-4bc7d0642053",
   "metadata": {},
   "outputs": [
    {
     "data": {
      "application/javascript": [
       "\n",
       "            setTimeout(function() {\n",
       "                var nbb_cell_id = 41;\n",
       "                var nbb_unformatted_code = \"import tensorflow as tf\\nimport tensorflow_probability as tfp\\ntfd = tfp.distributions\";\n",
       "                var nbb_formatted_code = \"import tensorflow as tf\\nimport tensorflow_probability as tfp\\n\\ntfd = tfp.distributions\";\n",
       "                var nbb_cells = Jupyter.notebook.get_cells();\n",
       "                for (var i = 0; i < nbb_cells.length; ++i) {\n",
       "                    if (nbb_cells[i].input_prompt_number == nbb_cell_id) {\n",
       "                        if (nbb_cells[i].get_text() == nbb_unformatted_code) {\n",
       "                             nbb_cells[i].set_text(nbb_formatted_code);\n",
       "                        }\n",
       "                        break;\n",
       "                    }\n",
       "                }\n",
       "            }, 500);\n",
       "            "
      ],
      "text/plain": [
       "<IPython.core.display.Javascript object>"
      ]
     },
     "metadata": {},
     "output_type": "display_data"
    }
   ],
   "source": [
    "import tensorflow as tf\n",
    "import tensorflow_probability as tfp\n",
    "tfd = tfp.distributions"
   ]
  },
  {
   "cell_type": "code",
   "execution_count": 227,
   "id": "ceacfe33-a947-40b1-a4d8-f83cb11858ca",
   "metadata": {},
   "outputs": [
    {
     "data": {
      "application/javascript": [
       "\n",
       "            setTimeout(function() {\n",
       "                var nbb_cell_id = 227;\n",
       "                var nbb_unformatted_code = \"def run_tensorflowprob(data, params):\\n    \\n    def build_model():\\n        # Prior Distribution.\\n        tpr = tfd.Beta(\\n          concentration1=data['tpr_prior'][0], concentration0=data['tpr_prior'][1]\\n        )\\n        tnr = tfd.Beta(\\n          concentration1=data['tnr_prior'][0], concentration0=data['tnr_prior'][1]\\n        )\\n        phi = tfd.Beta(\\n          concentration1=data['phi_prior'][0], concentration0=data['phi_prior'][1]\\n        )\\n        # Likelihood: Independent samples of a Poisson distribution. \\n        y0 = lambda phi, tpr: tfd.Binomial(total_count=data['n'], probs=phi * tpr)\\n        y1 = lambda phi, tnr: tfd.Binomial(total_count=data['n'], probs=(1-phi) * tnr)\\n        y2 = lambda phi, tpr: tfd.Binomial(total_count=data['n'], probs=phi * (1-tpr))\\n        y3 = lambda phi, tnr: tfd.Binomial(total_count=data['n'], probs=(1-phi) * (1-tnr))\\n\\n        return tfd.JointDistributionNamed(dict(phi=phi, tnr=tnr, tpr=tpr, y0=y0, y1=y1, y2=y2, y3=y3))\\n\\n    def target_log_prob_fn(phi, tnr, tpr):\\n        model = build_model()\\n        return model.log_prob(\\n            phi=phi, tnr=tnr, tpr=tpr, y0=data['y'][0], y1=data['y'][1], y2=data['y'][2], y3=data['y'][3]\\n        )\\n    \\n    \\n    kernel = tfp.mcmc.NoUTurnSampler(\\n        target_log_prob_fn=target_log_prob_fn, step_size=0.1,\\n    )\\n\\n    adaptive_hmc = tfp.mcmc.SimpleStepSizeAdaptation(\\n        inner_kernel = kernel,\\n        num_adaptation_steps=int(params['n_warmup'] * 0.8)\\n    )\\n    \\n    init_state = [\\n        tf.convert_to_tensor([0.9], dtype='float64'), \\n        tf.convert_to_tensor([0.9], dtype='float64'),\\n        tf.convert_to_tensor([0.9], dtype='float64')\\n    ]\\n    \\n    @tf.function\\n    def do_sampling():\\n        samples, acceptance = tfp.mcmc.sample_chain(\\n            num_results=params['n_samples'],\\n            num_burnin_steps=params['n_warmup'],\\n            current_state=init_state,\\n            kernel=adaptive_hmc,\\n            trace_fn=lambda _, pkr: pkr.inner_results.is_accepted\\n        )\\n        print(f'acceptance for chain is {acceptance}')\\n        return samples\\n\\n    states = [do_sampling() for _ in range(params['n_chains'])]\\n    states_concat = tf.concat(states, 1)\\n    \\n    # generative sampling\\n    phi_post=states_concat[0]\\n    tnr_post=states_concat[1]\\n    tpr_post=states_concat[2]\\n\\n    y0 = tfd.Binomial(total_count=data['n'], probs=phi_post * tpr_post)\\n    y1 = tfd.Binomial(total_count=data['n'], probs=(1-phi_post) * tnr_post)\\n    y2 = tfd.Binomial(total_count=data['n'], probs=phi_post * (1-tpr_post))\\n    y3 = tfd.Binomial(total_count=data['n'], probs=(1-phi_post) * (1-tnr_post))\\n\\n    y = [y0, y1, y2, y3]\\n    \\n    return y\";\n",
       "                var nbb_formatted_code = \"def run_tensorflowprob(data, params):\\n    def build_model():\\n        # Prior Distribution.\\n        tpr = tfd.Beta(\\n            concentration1=data[\\\"tpr_prior\\\"][0], concentration0=data[\\\"tpr_prior\\\"][1]\\n        )\\n        tnr = tfd.Beta(\\n            concentration1=data[\\\"tnr_prior\\\"][0], concentration0=data[\\\"tnr_prior\\\"][1]\\n        )\\n        phi = tfd.Beta(\\n            concentration1=data[\\\"phi_prior\\\"][0], concentration0=data[\\\"phi_prior\\\"][1]\\n        )\\n        # Likelihood: Independent samples of a Poisson distribution.\\n        y0 = lambda phi, tpr: tfd.Binomial(total_count=data[\\\"n\\\"], probs=phi * tpr)\\n        y1 = lambda phi, tnr: tfd.Binomial(total_count=data[\\\"n\\\"], probs=(1 - phi) * tnr)\\n        y2 = lambda phi, tpr: tfd.Binomial(total_count=data[\\\"n\\\"], probs=phi * (1 - tpr))\\n        y3 = lambda phi, tnr: tfd.Binomial(\\n            total_count=data[\\\"n\\\"], probs=(1 - phi) * (1 - tnr)\\n        )\\n\\n        return tfd.JointDistributionNamed(\\n            dict(phi=phi, tnr=tnr, tpr=tpr, y0=y0, y1=y1, y2=y2, y3=y3)\\n        )\\n\\n    def target_log_prob_fn(phi, tnr, tpr):\\n        model = build_model()\\n        return model.log_prob(\\n            phi=phi,\\n            tnr=tnr,\\n            tpr=tpr,\\n            y0=data[\\\"y\\\"][0],\\n            y1=data[\\\"y\\\"][1],\\n            y2=data[\\\"y\\\"][2],\\n            y3=data[\\\"y\\\"][3],\\n        )\\n\\n    kernel = tfp.mcmc.NoUTurnSampler(\\n        target_log_prob_fn=target_log_prob_fn,\\n        step_size=0.1,\\n    )\\n\\n    adaptive_hmc = tfp.mcmc.SimpleStepSizeAdaptation(\\n        inner_kernel=kernel, num_adaptation_steps=int(params[\\\"n_warmup\\\"] * 0.8)\\n    )\\n\\n    init_state = [\\n        tf.convert_to_tensor([0.9], dtype=\\\"float64\\\"),\\n        tf.convert_to_tensor([0.9], dtype=\\\"float64\\\"),\\n        tf.convert_to_tensor([0.9], dtype=\\\"float64\\\"),\\n    ]\\n\\n    @tf.function\\n    def do_sampling():\\n        samples, acceptance = tfp.mcmc.sample_chain(\\n            num_results=params[\\\"n_samples\\\"],\\n            num_burnin_steps=params[\\\"n_warmup\\\"],\\n            current_state=init_state,\\n            kernel=adaptive_hmc,\\n            trace_fn=lambda _, pkr: pkr.inner_results.is_accepted,\\n        )\\n        print(f\\\"acceptance for chain is {acceptance}\\\")\\n        return samples\\n\\n    states = [do_sampling() for _ in range(params[\\\"n_chains\\\"])]\\n    states_concat = tf.concat(states, 1)\\n\\n    # generative sampling\\n    phi_post = states_concat[0]\\n    tnr_post = states_concat[1]\\n    tpr_post = states_concat[2]\\n\\n    y0 = tfd.Binomial(total_count=data[\\\"n\\\"], probs=phi_post * tpr_post)\\n    y1 = tfd.Binomial(total_count=data[\\\"n\\\"], probs=(1 - phi_post) * tnr_post)\\n    y2 = tfd.Binomial(total_count=data[\\\"n\\\"], probs=phi_post * (1 - tpr_post))\\n    y3 = tfd.Binomial(total_count=data[\\\"n\\\"], probs=(1 - phi_post) * (1 - tnr_post))\\n\\n    y = [y0, y1, y2, y3]\\n\\n    return y\";\n",
       "                var nbb_cells = Jupyter.notebook.get_cells();\n",
       "                for (var i = 0; i < nbb_cells.length; ++i) {\n",
       "                    if (nbb_cells[i].input_prompt_number == nbb_cell_id) {\n",
       "                        if (nbb_cells[i].get_text() == nbb_unformatted_code) {\n",
       "                             nbb_cells[i].set_text(nbb_formatted_code);\n",
       "                        }\n",
       "                        break;\n",
       "                    }\n",
       "                }\n",
       "            }, 500);\n",
       "            "
      ],
      "text/plain": [
       "<IPython.core.display.Javascript object>"
      ]
     },
     "metadata": {},
     "output_type": "display_data"
    }
   ],
   "source": [
    "def run_tensorflowprob(data, params):\n",
    "    \n",
    "    def build_model():\n",
    "        # Prior Distribution.\n",
    "        tpr = tfd.Beta(\n",
    "          concentration1=data['tpr_prior'][0], concentration0=data['tpr_prior'][1]\n",
    "        )\n",
    "        tnr = tfd.Beta(\n",
    "          concentration1=data['tnr_prior'][0], concentration0=data['tnr_prior'][1]\n",
    "        )\n",
    "        phi = tfd.Beta(\n",
    "          concentration1=data['phi_prior'][0], concentration0=data['phi_prior'][1]\n",
    "        )\n",
    "        # Likelihood: Independent samples of a Poisson distribution. \n",
    "        y0 = lambda phi, tpr: tfd.Binomial(total_count=data['n'], probs=phi * tpr)\n",
    "        y1 = lambda phi, tnr: tfd.Binomial(total_count=data['n'], probs=(1-phi) * tnr)\n",
    "        y2 = lambda phi, tpr: tfd.Binomial(total_count=data['n'], probs=phi * (1-tpr))\n",
    "        y3 = lambda phi, tnr: tfd.Binomial(total_count=data['n'], probs=(1-phi) * (1-tnr))\n",
    "\n",
    "        return tfd.JointDistributionNamed(dict(phi=phi, tnr=tnr, tpr=tpr, y0=y0, y1=y1, y2=y2, y3=y3))\n",
    "\n",
    "    def target_log_prob_fn(phi, tnr, tpr):\n",
    "        model = build_model()\n",
    "        return model.log_prob(\n",
    "            phi=phi, tnr=tnr, tpr=tpr, y0=data['y'][0], y1=data['y'][1], y2=data['y'][2], y3=data['y'][3]\n",
    "        )\n",
    "    \n",
    "    \n",
    "    kernel = tfp.mcmc.NoUTurnSampler(\n",
    "        target_log_prob_fn=target_log_prob_fn, step_size=0.1,\n",
    "    )\n",
    "\n",
    "    adaptive_hmc = tfp.mcmc.SimpleStepSizeAdaptation(\n",
    "        inner_kernel = kernel,\n",
    "        num_adaptation_steps=int(params['n_warmup'] * 0.8)\n",
    "    )\n",
    "    \n",
    "    init_state = [\n",
    "        tf.convert_to_tensor([0.9], dtype='float64'), \n",
    "        tf.convert_to_tensor([0.9], dtype='float64'),\n",
    "        tf.convert_to_tensor([0.9], dtype='float64')\n",
    "    ]\n",
    "    \n",
    "    @tf.function\n",
    "    def do_sampling():\n",
    "        samples, acceptance = tfp.mcmc.sample_chain(\n",
    "            num_results=params['n_samples'],\n",
    "            num_burnin_steps=params['n_warmup'],\n",
    "            current_state=init_state,\n",
    "            kernel=adaptive_hmc,\n",
    "            trace_fn=lambda _, pkr: pkr.inner_results.is_accepted\n",
    "        )\n",
    "        print(f'acceptance for chain is {acceptance}')\n",
    "        return samples\n",
    "\n",
    "    states = [do_sampling() for _ in range(params['n_chains'])]\n",
    "    states_concat = tf.concat(states, 1)\n",
    "    \n",
    "    # generative sampling\n",
    "    phi_post=states_concat[0]\n",
    "    tnr_post=states_concat[1]\n",
    "    tpr_post=states_concat[2]\n",
    "\n",
    "    y0 = tfd.Binomial(total_count=data['n'], probs=phi_post * tpr_post)\n",
    "    y1 = tfd.Binomial(total_count=data['n'], probs=(1-phi_post) * tnr_post)\n",
    "    y2 = tfd.Binomial(total_count=data['n'], probs=phi_post * (1-tpr_post))\n",
    "    y3 = tfd.Binomial(total_count=data['n'], probs=(1-phi_post) * (1-tnr_post))\n",
    "\n",
    "    y = [y0, y1, y2, y3]\n",
    "    \n",
    "    return y"
   ]
  },
  {
   "cell_type": "code",
   "execution_count": null,
   "id": "bf5df704-c9dc-4c21-9978-32a34d0c4f8f",
   "metadata": {},
   "outputs": [],
   "source": [
    "# y = run_tensorflowprob(data, params)"
   ]
  },
  {
   "cell_type": "code",
   "execution_count": null,
   "id": "f1ff94bd-7fbc-4f15-904e-6ec962d3e79c",
   "metadata": {},
   "outputs": [],
   "source": [
    "# gt_vals = gt_confusion_matrix.values.flatten()\n",
    "\n",
    "# fig, axes = plt.subplots(2,2, figsize=(8,8))\n",
    "# axes = axes.ravel()\n",
    "# for i, _ in enumerate(axes):\n",
    "    \n",
    "#     sampled_vals = y[i].sample().numpy()\n",
    "#     hist_outputs = axes[i].hist(sampled_vals, bins=200)\n",
    "#     axes[i].vlines(gt_vals[i], 0, 1.01*max(hist_outputs[0]), color='blue', label='true')\n",
    "\n",
    "# plt.show()"
   ]
  },
  {
   "cell_type": "markdown",
   "id": "c484b9cd-5af5-4d5f-8b3d-f89fd89ba1bd",
   "metadata": {},
   "source": [
    "Poduced unhelpful error messages that made any debugging work challenging. In all honesty the entire infrastructure is not great and would strongly recomend not using this package for Bayesian modelling untill more work has been done. "
   ]
  },
  {
   "cell_type": "markdown",
   "id": "a89d2334-f626-48b3-9e35-9ec0ecf37c88",
   "metadata": {},
   "source": [
    "# PyMC3"
   ]
  },
  {
   "cell_type": "code",
   "execution_count": 235,
   "id": "9411392b-e676-4b1b-b58a-02821ee52532",
   "metadata": {},
   "outputs": [
    {
     "data": {
      "application/javascript": [
       "\n",
       "            setTimeout(function() {\n",
       "                var nbb_cell_id = 235;\n",
       "                var nbb_unformatted_code = \"import pymc3 as pm\\nimport theano.tensor as tt\";\n",
       "                var nbb_formatted_code = \"import pymc3 as pm\\nimport theano.tensor as tt\";\n",
       "                var nbb_cells = Jupyter.notebook.get_cells();\n",
       "                for (var i = 0; i < nbb_cells.length; ++i) {\n",
       "                    if (nbb_cells[i].input_prompt_number == nbb_cell_id) {\n",
       "                        if (nbb_cells[i].get_text() == nbb_unformatted_code) {\n",
       "                             nbb_cells[i].set_text(nbb_formatted_code);\n",
       "                        }\n",
       "                        break;\n",
       "                    }\n",
       "                }\n",
       "            }, 500);\n",
       "            "
      ],
      "text/plain": [
       "<IPython.core.display.Javascript object>"
      ]
     },
     "metadata": {},
     "output_type": "display_data"
    }
   ],
   "source": [
    "import pymc3 as pm\n",
    "import theano.tensor as tt"
   ]
  },
  {
   "cell_type": "code",
   "execution_count": 236,
   "id": "51ef9e5d-9104-4465-b390-97bfbf3bb521",
   "metadata": {},
   "outputs": [
    {
     "data": {
      "application/javascript": [
       "\n",
       "            setTimeout(function() {\n",
       "                var nbb_cell_id = 236;\n",
       "                var nbb_unformatted_code = \"def run_pymc3(data, params):\\n    y0, y1, y2, y3 = data['y'] \\n    n = data['n']\\n\\n    with pm.Model() as pmmodel:\\n\\n        phi = pm.Beta('phi', data['phi_prior'][0], data['phi_prior'][1])\\n        tpr = pm.Beta('tpr', data['tpr_prior'][0], data['tpr_prior'][1])\\n        tnr = pm.Beta('tnr', data['tnr_prior'][0], data['tnr_prior'][1])\\n\\n        theta_tp = phi * tpr\\n        theta_tn = (1-phi) * tnr\\n        theta_fn = phi * (1-tpr)\\n        theta_fp = (1-phi) * (1-tnr)\\n\\n        y0 = pm.Binomial(\\\"y0\\\", n=n, p=theta_tp, observed=y0)\\n        y1 = pm.Binomial(\\\"y1\\\", n=n, p=theta_tn, observed=y1)\\n        y2 = pm.Binomial(\\\"y2\\\", n=n, p=theta_fn, observed=y2)\\n        y3 = pm.Binomial(\\\"y3\\\", n=n, p=theta_fp, observed=y3)\\n    \\n    with pmmodel:\\n        trace = pm.sample(\\n            params['n_samples'], \\n            tune=params['n_warmup'], \\n            chains=params['n_chains'], \\n            target_accept=0.95, \\n            return_inferencedata=True\\n        )\\n\\n        # check convergence diagnostics\\n        assert all(az.rhat(trace) < 1.03)\\n        \\n    phi_post=trace['posterior']['phi'].values.flatten()\\n    tnr_post=trace['posterior']['tnr'].values.flatten()\\n    tpr_post=trace['posterior']['tpr'].values.flatten()\\n\\n    y0 = np.random.binomial(data['n'], phi_post * tpr_post)\\n    y1 = np.random.binomial(data['n'], (1-phi_post) * tnr_post)\\n    y2 = np.random.binomial(data['n'], phi_post * (1-tpr_post))\\n    y3 = np.random.binomial(data['n'], (1-phi_post) * (1-tnr_post))\\n\\n    y = [y0, y1, y2, y3]\\n    \\n    return y\";\n",
       "                var nbb_formatted_code = \"def run_pymc3(data, params):\\n    y0, y1, y2, y3 = data[\\\"y\\\"]\\n    n = data[\\\"n\\\"]\\n\\n    with pm.Model() as pmmodel:\\n\\n        phi = pm.Beta(\\\"phi\\\", data[\\\"phi_prior\\\"][0], data[\\\"phi_prior\\\"][1])\\n        tpr = pm.Beta(\\\"tpr\\\", data[\\\"tpr_prior\\\"][0], data[\\\"tpr_prior\\\"][1])\\n        tnr = pm.Beta(\\\"tnr\\\", data[\\\"tnr_prior\\\"][0], data[\\\"tnr_prior\\\"][1])\\n\\n        theta_tp = phi * tpr\\n        theta_tn = (1 - phi) * tnr\\n        theta_fn = phi * (1 - tpr)\\n        theta_fp = (1 - phi) * (1 - tnr)\\n\\n        y0 = pm.Binomial(\\\"y0\\\", n=n, p=theta_tp, observed=y0)\\n        y1 = pm.Binomial(\\\"y1\\\", n=n, p=theta_tn, observed=y1)\\n        y2 = pm.Binomial(\\\"y2\\\", n=n, p=theta_fn, observed=y2)\\n        y3 = pm.Binomial(\\\"y3\\\", n=n, p=theta_fp, observed=y3)\\n\\n    with pmmodel:\\n        trace = pm.sample(\\n            params[\\\"n_samples\\\"],\\n            tune=params[\\\"n_warmup\\\"],\\n            chains=params[\\\"n_chains\\\"],\\n            target_accept=0.95,\\n            return_inferencedata=True,\\n        )\\n\\n        # check convergence diagnostics\\n        assert all(az.rhat(trace) < 1.03)\\n\\n    phi_post = trace[\\\"posterior\\\"][\\\"phi\\\"].values.flatten()\\n    tnr_post = trace[\\\"posterior\\\"][\\\"tnr\\\"].values.flatten()\\n    tpr_post = trace[\\\"posterior\\\"][\\\"tpr\\\"].values.flatten()\\n\\n    y0 = np.random.binomial(data[\\\"n\\\"], phi_post * tpr_post)\\n    y1 = np.random.binomial(data[\\\"n\\\"], (1 - phi_post) * tnr_post)\\n    y2 = np.random.binomial(data[\\\"n\\\"], phi_post * (1 - tpr_post))\\n    y3 = np.random.binomial(data[\\\"n\\\"], (1 - phi_post) * (1 - tnr_post))\\n\\n    y = [y0, y1, y2, y3]\\n\\n    return y\";\n",
       "                var nbb_cells = Jupyter.notebook.get_cells();\n",
       "                for (var i = 0; i < nbb_cells.length; ++i) {\n",
       "                    if (nbb_cells[i].input_prompt_number == nbb_cell_id) {\n",
       "                        if (nbb_cells[i].get_text() == nbb_unformatted_code) {\n",
       "                             nbb_cells[i].set_text(nbb_formatted_code);\n",
       "                        }\n",
       "                        break;\n",
       "                    }\n",
       "                }\n",
       "            }, 500);\n",
       "            "
      ],
      "text/plain": [
       "<IPython.core.display.Javascript object>"
      ]
     },
     "metadata": {},
     "output_type": "display_data"
    }
   ],
   "source": [
    "def run_pymc3(data, params):\n",
    "    y0, y1, y2, y3 = data['y'] \n",
    "    n = data['n']\n",
    "\n",
    "    with pm.Model() as pmmodel:\n",
    "\n",
    "        phi = pm.Beta('phi', data['phi_prior'][0], data['phi_prior'][1])\n",
    "        tpr = pm.Beta('tpr', data['tpr_prior'][0], data['tpr_prior'][1])\n",
    "        tnr = pm.Beta('tnr', data['tnr_prior'][0], data['tnr_prior'][1])\n",
    "\n",
    "        theta_tp = phi * tpr\n",
    "        theta_tn = (1-phi) * tnr\n",
    "        theta_fn = phi * (1-tpr)\n",
    "        theta_fp = (1-phi) * (1-tnr)\n",
    "\n",
    "        y0 = pm.Binomial(\"y0\", n=n, p=theta_tp, observed=y0)\n",
    "        y1 = pm.Binomial(\"y1\", n=n, p=theta_tn, observed=y1)\n",
    "        y2 = pm.Binomial(\"y2\", n=n, p=theta_fn, observed=y2)\n",
    "        y3 = pm.Binomial(\"y3\", n=n, p=theta_fp, observed=y3)\n",
    "    \n",
    "    with pmmodel:\n",
    "        trace = pm.sample(\n",
    "            params['n_samples'], \n",
    "            tune=params['n_warmup'], \n",
    "            chains=params['n_chains'], \n",
    "            target_accept=0.95, \n",
    "            return_inferencedata=True\n",
    "        )\n",
    "\n",
    "        # check convergence diagnostics\n",
    "        assert all(az.rhat(trace) < 1.03)\n",
    "        \n",
    "    phi_post=trace['posterior']['phi'].values.flatten()\n",
    "    tnr_post=trace['posterior']['tnr'].values.flatten()\n",
    "    tpr_post=trace['posterior']['tpr'].values.flatten()\n",
    "\n",
    "    y0 = np.random.binomial(data['n'], phi_post * tpr_post)\n",
    "    y1 = np.random.binomial(data['n'], (1-phi_post) * tnr_post)\n",
    "    y2 = np.random.binomial(data['n'], phi_post * (1-tpr_post))\n",
    "    y3 = np.random.binomial(data['n'], (1-phi_post) * (1-tnr_post))\n",
    "\n",
    "    y = [y0, y1, y2, y3]\n",
    "    \n",
    "    return y\n"
   ]
  },
  {
   "cell_type": "code",
   "execution_count": null,
   "id": "a2960b96-f23b-43b8-9998-4686fa3ba0f1",
   "metadata": {},
   "outputs": [],
   "source": [
    "# y = run_pymc3(data, params)"
   ]
  },
  {
   "cell_type": "code",
   "execution_count": null,
   "id": "a6f6b0fd-80ab-4559-a76f-c9f384af2f0e",
   "metadata": {},
   "outputs": [],
   "source": [
    "# gt_vals = gt_confusion_matrix.values.flatten()\n",
    "\n",
    "# fig, axes = plt.subplots(2,2, figsize=(8,8))\n",
    "# axes = axes.ravel()\n",
    "# for i, _ in enumerate(axes):\n",
    "    \n",
    "#     sampled_vals = y[i]\n",
    "#     hist_outputs = axes[i].hist(sampled_vals, bins=200)\n",
    "#     axes[i].vlines(gt_vals[i], 0, 1.01*max(hist_outputs[0]), color='blue', label='true')\n",
    "\n",
    "# plt.show()"
   ]
  },
  {
   "cell_type": "markdown",
   "id": "21f32e81-483e-4112-8135-5d36b42fd6fc",
   "metadata": {},
   "source": [
    "# comparisons"
   ]
  },
  {
   "cell_type": "code",
   "execution_count": null,
   "id": "f2e8605f-8b29-45b8-a239-d0becc6225e4",
   "metadata": {},
   "outputs": [
    {
     "name": "stderr",
     "output_type": "stream",
     "text": [
      "\u001b[32mBuilding:\u001b[0m found in cache, done.\n",
      "\u001b[36mMessages from \u001b[0m\u001b[36;1mstanc\u001b[0m\u001b[36m:\u001b[0m\n",
      "Warning: The parameter tpr has no priors.\n",
      "Warning: The parameter tnr has no priors.\n",
      "Warning: The parameter phi has no priors.\n",
      "\u001b[36mSampling:\u001b[0m   0%\n",
      "\u001b[1A\u001b[0J\u001b[32mSampling:\u001b[0m 100%, done.\n",
      "\u001b[36mMessages received during sampling:\u001b[0m\n",
      "  Gradient evaluation took 3e-06 seconds\n",
      "  1000 transitions using 10 leapfrog steps per transition would take 0.03 seconds.\n",
      "  Adjust your expectations accordingly!\n",
      "  Gradient evaluation took 3e-06 seconds\n",
      "  1000 transitions using 10 leapfrog steps per transition would take 0.03 seconds.\n",
      "  Adjust your expectations accordingly!\n"
     ]
    }
   ],
   "source": [
    "y_stan = run_stan(data, params)"
   ]
  },
  {
   "cell_type": "code",
   "execution_count": null,
   "id": "176f1e31-f538-40f0-b877-3dc6d351939f",
   "metadata": {},
   "outputs": [],
   "source": [
    "y_numpyro = run_numpyro(data, params)"
   ]
  },
  {
   "cell_type": "code",
   "execution_count": null,
   "id": "423dd56f-7bd9-414c-8b16-1270f394f575",
   "metadata": {},
   "outputs": [],
   "source": [
    "y_tf = run_tensorflowprob(data, params)"
   ]
  },
  {
   "cell_type": "code",
   "execution_count": null,
   "id": "253748a8-4628-4f08-9d02-41abfd66341a",
   "metadata": {},
   "outputs": [],
   "source": [
    "y_pymc3 = run_pymc3(data, params)"
   ]
  },
  {
   "cell_type": "code",
   "execution_count": null,
   "id": "de29dbe4-0d5c-43e8-b850-cbb6deef9bb8",
   "metadata": {},
   "outputs": [],
   "source": [
    "generated_data_dict = {\n",
    "    'y_stan' = y_stan\n",
    "    'y_numpyro' = y_numpyro\n",
    "    'y_tf' = y_tf\n",
    "    'y_pymc3' = y_pymc3 \n",
    "}"
   ]
  },
  {
   "cell_type": "code",
   "execution_count": null,
   "id": "4e990938-0600-477e-9427-add15c0a2e0e",
   "metadata": {},
   "outputs": [],
   "source": [
    "gt_vals = gt_confusion_matrix.values.flatten()\n",
    "\n",
    "for name, data in generated_data_dict.items():\n",
    "\n",
    "    fig, axes = plt.subplots(2,2, figsize=(8,8))\n",
    "    axes = axes.ravel()\n",
    "    for i, _ in enumerate(axes):\n",
    "\n",
    "        sampled_vals = y[i]\n",
    "        hist_outputs = axes[i].hist(sampled_vals, bins=200)\n",
    "        axes[i].vlines(gt_vals[i], 0, 1.01*max(hist_outputs[0]), color='blue', label='true')\n",
    "    plt.title(name)\n",
    "    plt.show()\n",
    "    \n",
    "    print('\\n')"
   ]
  },
  {
   "cell_type": "code",
   "execution_count": 267,
   "id": "8e846d7b-4107-4658-b8cd-e06999046446",
   "metadata": {},
   "outputs": [
    {
     "name": "stdin",
     "output_type": "stream",
     "text": [
      "Once deleted, variables cannot be recovered. Proceed (y/[n])?  n\n"
     ]
    },
    {
     "name": "stdout",
     "output_type": "stream",
     "text": [
      "Nothing done.\n"
     ]
    },
    {
     "data": {
      "application/javascript": [
       "\n",
       "            setTimeout(function() {\n",
       "                var nbb_cell_id = 267;\n",
       "                var nbb_unformatted_code = \"%reset\";\n",
       "                var nbb_formatted_code = \"%reset\";\n",
       "                var nbb_cells = Jupyter.notebook.get_cells();\n",
       "                for (var i = 0; i < nbb_cells.length; ++i) {\n",
       "                    if (nbb_cells[i].input_prompt_number == nbb_cell_id) {\n",
       "                        if (nbb_cells[i].get_text() == nbb_unformatted_code) {\n",
       "                             nbb_cells[i].set_text(nbb_formatted_code);\n",
       "                        }\n",
       "                        break;\n",
       "                    }\n",
       "                }\n",
       "            }, 500);\n",
       "            "
      ],
      "text/plain": [
       "<IPython.core.display.Javascript object>"
      ]
     },
     "metadata": {},
     "output_type": "display_data"
    }
   ],
   "source": [
    "%reset"
   ]
  },
  {
   "cell_type": "code",
   "execution_count": 269,
   "id": "b3a606a5-d501-4632-85ce-45d1eeb9c9cf",
   "metadata": {},
   "outputs": [
    {
     "name": "stdout",
     "output_type": "stream",
     "text": [
      "Variable                              Type                          Data/Info\n",
      "-----------------------------------------------------------------------------\n",
      "COLORS                                list                          n=7\n",
      "DirichletMultinomialConfusionMatrix   type                          <class 'mmu.models.dirich<...>tinomialConfusionMatrix'>\n",
      "MCMC                                  type                          <class 'numpyro.infer.mcmc.MCMC'>\n",
      "NUTS                                  ABCMeta                       <class 'numpyro.infer.hmc.NUTS'>\n",
      "Predictive                            type                          <class 'numpyro.infer.util.Predictive'>\n",
      "X                                     ndarray                       4: 4 elems, type `int64`, 32 bytes\n",
      "a                                     EagerTensor                   tf.Tensor(0.9, shape=(), dtype=float32)\n",
      "axes                                  ndarray                       4: 4 elems, type `object`, 32 bytes\n",
      "az                                    module                        <module 'arviz' from '/Us<...>kages/arviz/__init__.py'>\n",
      "b                                     EagerTensor                   tf.Tensor(0.9, shape=(), dtype=float32)\n",
      "binary_metrics_confusion              builtin_function_or_method    <built-in method binary_m<...>object at 0x7fcd4e269e70>\n",
      "binary_metrics_runs                   builtin_function_or_method    <built-in method binary_m<...>object at 0x7fcd4e269ea0>\n",
      "c                                     EagerTensor                   tf.Tensor(0.9, shape=(), dtype=float32)\n",
      "check_array                           function                      <function check_array at 0x7fcd4dbab9d0>\n",
      "confusion_matrix_proba                builtin_function_or_method    <built-in method confusio<...>object at 0x7fcd4e269c90>\n",
      "data                                  dict                          n=5\n",
      "dist                                  module                        <module 'numpyro.distribu<...>stributions/__init__.py'>\n",
      "fig                                   Figure                        Figure(576x576)\n",
      "generator                             LogisticGenerator             <mmur.generators.logistic<...>object at 0x7fcd4f293f70>\n",
      "gt_conf_mat                           ndarray                       2x2: 4 elems, type `int64`, 32 bytes\n",
      "gt_confusion_matrix                   DataFrame                                       estimat<...>sitive       288     4974\n",
      "gt_metrics                            DataFrame                        neg.precision  pos.pre<...>104    0.945268  0.882467\n",
      "gt_proba_test                         ndarray                       10000: 10000 elems, type `float64`, 80000 bytes\n",
      "gt_vals                               ndarray                       4: 4 elems, type `int64`, 32 bytes\n",
      "hist_outputs                          tuple                         n=3\n",
      "i                                     int                           3\n",
      "jax                                   module                        <module 'jax' from '/User<...>ackages/jax/__init__.py'>\n",
      "mmu                                   module                        <module 'mmu' from '/User<...>rtainty/mmu/__init__.py'>\n",
      "mmur                                  module                        <module 'mmur' from '/Use<...>search/mmur/__init__.py'>\n",
      "mpatches                              module                        <module 'matplotlib.patch<...>s/matplotlib/patches.py'>\n",
      "multiprocessing                       module                        <module 'multiprocessing'<...>iprocessing/__init__.py'>\n",
      "np                                    module                        <module 'numpy' from '/Us<...>kages/numpy/__init__.py'>\n",
      "numpyro                               module                        <module 'numpyro' from '/<...>ges/numpyro/__init__.py'>\n",
      "outp                                  dict                          n=4\n",
      "output_pred                           dict                          n=4\n",
      "params                                dict                          n=5\n",
      "pd                                    module                        <module 'pandas' from '/U<...>ages/pandas/__init__.py'>\n",
      "plot_metric_distributions             function                      <function plot_metric_dis<...>utions at 0x7fcd4f260310>\n",
      "plt                                   module                        <module 'matplotlib.pyplo<...>es/matplotlib/pyplot.py'>\n",
      "pm                                    module                        <module 'pymc3' from '/Us<...>kages/pymc3/__init__.py'>\n",
      "proba_holdout                         ndarray                       10000x10000: 100000000 elems, type `float64`, 800000000 bytes (762.939453125 Mb)\n",
      "probas_test                           ndarray                       10000x1: 10000 elems, type `float64`, 80000 bytes\n",
      "random                                module                        <module 'jax.random' from<...>-packages/jax/random.py'>\n",
      "run_numpyro                           function                      <function run_numpyro at 0x7fcbb2e36700>\n",
      "run_pymc3                             function                      <function run_pymc3 at 0x7fcbc2fb51f0>\n",
      "run_stan                              function                      <function run_stan at 0x7fcbdbcd83a0>\n",
      "run_tensorflowprob                    function                      <function run_tensorflowprob at 0x7fcbcf5f5820>\n",
      "sampled_vals                          ndarray                       10000: 10000 elems, type `int64`, 80000 bytes\n",
      "sns                                   module                        <module 'seaborn' from '/<...>ges/seaborn/__init__.py'>\n",
      "stan                                  module                        <module 'stan' from '/Use<...>ckages/stan/__init__.py'>\n",
      "target_metrics                        list                          n=5\n",
      "test_conf_mat                         ndarray                       4: 4 elems, type `int64`, 32 bytes\n",
      "test_metrics                          DataFrame                        neg.precision  pos.pre<...>737    0.945078  0.882872\n",
      "tf                                    module                        <module 'tensorflow' from<...>/tensorflow/__init__.py'>\n",
      "tfd                                   module                        <module 'tensorflow_proba<...>stributions/__init__.py'>\n",
      "tfp                                   module                        <module 'tensorflow_proba<...>probability/__init__.py'>\n",
      "total_count                           int                           10000\n",
      "tt                                    module                        <module 'theano.tensor' f<...>eano/tensor/__init__.py'>\n",
      "vmap                                  function                      <function vmap at 0x7fcbb0ba8af0>\n",
      "y                                     ndarray                       4x10000: 40000 elems, type `int64`, 320000 bytes (312.5 kb)\n",
      "y_holdout                             ndarray                       10000x10000: 100000000 elems, type `int64`, 800000000 bytes (762.939453125 Mb)\n",
      "y_stan                                ndarray                       4x10000: 40000 elems, type `int64`, 320000 bytes (312.5 kb)\n",
      "y_test                                ndarray                       10000x1: 10000 elems, type `int64`, 80000 bytes\n"
     ]
    },
    {
     "data": {
      "application/javascript": [
       "\n",
       "            setTimeout(function() {\n",
       "                var nbb_cell_id = 269;\n",
       "                var nbb_unformatted_code = \"whos\";\n",
       "                var nbb_formatted_code = \"whos\";\n",
       "                var nbb_cells = Jupyter.notebook.get_cells();\n",
       "                for (var i = 0; i < nbb_cells.length; ++i) {\n",
       "                    if (nbb_cells[i].input_prompt_number == nbb_cell_id) {\n",
       "                        if (nbb_cells[i].get_text() == nbb_unformatted_code) {\n",
       "                             nbb_cells[i].set_text(nbb_formatted_code);\n",
       "                        }\n",
       "                        break;\n",
       "                    }\n",
       "                }\n",
       "            }, 500);\n",
       "            "
      ],
      "text/plain": [
       "<IPython.core.display.Javascript object>"
      ]
     },
     "metadata": {},
     "output_type": "display_data"
    }
   ],
   "source": [
    "whos"
   ]
  },
  {
   "cell_type": "markdown",
   "id": "39b52ade-59ae-49da-ba43-dd9a2479a673",
   "metadata": {},
   "source": [
    "# Summray of learnings"
   ]
  },
  {
   "cell_type": "markdown",
   "id": "56b14720-f6e0-42e8-a5c8-f03a053f9744",
   "metadata": {},
   "source": [
    "I found a good blog post (https://towardsdatascience.com/3-probabilistic-frameworks-you-should-know-the-bayesian-toolkit-c13fe7c4b12e) that roughly sums up the game here:\n",
    "\n",
    "* Stan is the staticians choice.\n",
    "\n",
    "* Pyro/Numpyro is the programming choice\n",
    "\n",
    "* Tensorflow probability - the googlers\n",
    "\n",
    "* PyMC3 got an honourable mention. \n",
    "\n",
    "My learnings. \n",
    "\n",
    "Stan is the standard and hard to beat. Best documentation and large community of people makes this much easier and simple to use. The downside is the code must be written in as a string for python feels a little odd and also means a newcomer needs to get comfortable with Stan, not that this is a complex language by any means\n",
    "\n",
    "I liked Numpyro for its more native python feel. In fairness PyMC3 was very similar but I couldn't find any nice functionality for PyMC3 inference stage having to generate outputs using numpy - this is not bad just a little weird somehow. Numpyro is a work in progress and gave some slightly worrying errors that some of its Jax dependeences were out of date. The main difference between pyro and numpyro is the back end of the latter is in Jax to give is a numpy feel whilst the former makes use of pytorch. \n",
    "\n",
    "Since I stared on PyMC3 I notice that it feels a lot slower than the other three options here. Also seemingly not that natural to perform inference within PyMC3 and ended up using numpy random using the posterior of the model parameters.\n",
    "\n",
    "Finally TensorFlow probability - each of the other three took me about 30 min to an hour to get working correctly. This took all day. Documentation is not clear and this is by far the most complex of the choices. It is quite verbose. Some seem to prefer the verbosity but makes it tough to start up on this and non-intuitive. Presumably if one wanted to do something in TensorFlow then this becomes good but as it stands would not reccomend outside of this fringe case. Worth noting that I tried to use the NUTS solver but its still in experiementation phase. Unfortuantly error messages made this near impossible to debug. Also seemingly doesn't naturally allow for inference and must be performed as a seperate step based on the posterior of the model parameters. \n",
    "\n",
    "\n",
    "For what it is worth I think that variational inference would be easeir in Pyro/Numpyroo than stan, although still possible in the later it is not as natural. "
   ]
  },
  {
   "cell_type": "code",
   "execution_count": null,
   "id": "eb78104b-e656-4140-ae1a-e4fe77681ba0",
   "metadata": {},
   "outputs": [],
   "source": []
  },
  {
   "cell_type": "code",
   "execution_count": null,
   "id": "fd2dd4d5-3bfb-4d28-883f-6f57297bfb91",
   "metadata": {},
   "outputs": [],
   "source": []
  }
 ],
 "metadata": {
  "interpreter": {
   "hash": "fad7dca73cb617c0561fdc34c3cdfc145937bf05cf330d05b316a9a86553b48a"
  },
  "kernelspec": {
   "display_name": "Python [conda env:mmu]",
   "language": "python",
   "name": "conda-env-mmu-py"
  },
  "language_info": {
   "codemirror_mode": {
    "name": "ipython",
    "version": 3
   },
   "file_extension": ".py",
   "mimetype": "text/x-python",
   "name": "python",
   "nbconvert_exporter": "python",
   "pygments_lexer": "ipython3",
   "version": "3.9.5"
  }
 },
 "nbformat": 4,
 "nbformat_minor": 5
}
