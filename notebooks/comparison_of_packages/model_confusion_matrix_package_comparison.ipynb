{
 "cells": [
  {
   "cell_type": "markdown",
   "id": "bea5e9f1",
   "metadata": {},
   "source": [
    "# Beta Binomial\n",
    "\n",
    "Evaluate estimates distributions using Dirichlet-Multinomial"
   ]
  },
  {
   "cell_type": "code",
   "execution_count": 1,
   "id": "7ae8f6fc",
   "metadata": {},
   "outputs": [
    {
     "data": {
      "application/javascript": [
       "\n",
       "            setTimeout(function() {\n",
       "                var nbb_cell_id = 1;\n",
       "                var nbb_unformatted_code = \"%load_ext autoreload\\n%autoreload 2\\n\\n%load_ext nb_black\";\n",
       "                var nbb_formatted_code = \"%load_ext autoreload\\n%autoreload 2\\n\\n%load_ext nb_black\";\n",
       "                var nbb_cells = Jupyter.notebook.get_cells();\n",
       "                for (var i = 0; i < nbb_cells.length; ++i) {\n",
       "                    if (nbb_cells[i].input_prompt_number == nbb_cell_id) {\n",
       "                        if (nbb_cells[i].get_text() == nbb_unformatted_code) {\n",
       "                             nbb_cells[i].set_text(nbb_formatted_code);\n",
       "                        }\n",
       "                        break;\n",
       "                    }\n",
       "                }\n",
       "            }, 500);\n",
       "            "
      ],
      "text/plain": [
       "<IPython.core.display.Javascript object>"
      ]
     },
     "metadata": {},
     "output_type": "display_data"
    }
   ],
   "source": [
    "%load_ext autoreload\n",
    "%autoreload 2\n",
    "\n",
    "%load_ext nb_black"
   ]
  },
  {
   "cell_type": "code",
   "execution_count": 2,
   "id": "5d947a01",
   "metadata": {},
   "outputs": [
    {
     "data": {
      "application/javascript": [
       "\n",
       "            setTimeout(function() {\n",
       "                var nbb_cell_id = 2;\n",
       "                var nbb_unformatted_code = \"import arviz as az\\nimport numpy as np\\nimport pandas as pd\\nimport seaborn as sns\\nimport matplotlib.pyplot as plt\\nimport matplotlib.patches as mpatches\\nimport multiprocessing\\nfrom sklearn.utils import check_array\\n\\nimport mmur\\nimport mmu\\nfrom mmu import DirichletMultinomialConfusionMatrix\\nfrom mmu.metrics import confusion_matrix_proba\\nfrom mmu.metrics import binary_metrics_runs\\nfrom mmu.metrics import binary_metrics_confusion\";\n",
       "                var nbb_formatted_code = \"import arviz as az\\nimport numpy as np\\nimport pandas as pd\\nimport seaborn as sns\\nimport matplotlib.pyplot as plt\\nimport matplotlib.patches as mpatches\\nimport multiprocessing\\nfrom sklearn.utils import check_array\\n\\nimport mmur\\nimport mmu\\nfrom mmu import DirichletMultinomialConfusionMatrix\\nfrom mmu.metrics import confusion_matrix_proba\\nfrom mmu.metrics import binary_metrics_runs\\nfrom mmu.metrics import binary_metrics_confusion\";\n",
       "                var nbb_cells = Jupyter.notebook.get_cells();\n",
       "                for (var i = 0; i < nbb_cells.length; ++i) {\n",
       "                    if (nbb_cells[i].input_prompt_number == nbb_cell_id) {\n",
       "                        if (nbb_cells[i].get_text() == nbb_unformatted_code) {\n",
       "                             nbb_cells[i].set_text(nbb_formatted_code);\n",
       "                        }\n",
       "                        break;\n",
       "                    }\n",
       "                }\n",
       "            }, 500);\n",
       "            "
      ],
      "text/plain": [
       "<IPython.core.display.Javascript object>"
      ]
     },
     "metadata": {},
     "output_type": "display_data"
    }
   ],
   "source": [
    "import arviz as az\n",
    "import numpy as np\n",
    "import pandas as pd\n",
    "import seaborn as sns\n",
    "import matplotlib.pyplot as plt\n",
    "import matplotlib.patches as mpatches\n",
    "import multiprocessing\n",
    "from sklearn.utils import check_array\n",
    "\n",
    "import mmur\n",
    "import mmu\n",
    "from mmu import DirichletMultinomialConfusionMatrix\n",
    "from mmu.metrics import confusion_matrix_proba\n",
    "from mmu.metrics import binary_metrics_runs\n",
    "from mmu.metrics import binary_metrics_confusion"
   ]
  },
  {
   "cell_type": "code",
   "execution_count": 3,
   "id": "8f2895bd",
   "metadata": {},
   "outputs": [
    {
     "data": {
      "application/javascript": [
       "\n",
       "            setTimeout(function() {\n",
       "                var nbb_cell_id = 3;\n",
       "                var nbb_unformatted_code = \"%matplotlib inline\\nplt.style.use('ggplot')\\nplt.rcParams['text.color'] = 'black'\\nplt.rcParams['figure.max_open_warning'] = 0\\nCOLORS = [i['color'] for i in plt.rcParams['axes.prop_cycle']]\";\n",
       "                var nbb_formatted_code = \"%matplotlib inline\\nplt.style.use(\\\"ggplot\\\")\\nplt.rcParams[\\\"text.color\\\"] = \\\"black\\\"\\nplt.rcParams[\\\"figure.max_open_warning\\\"] = 0\\nCOLORS = [i[\\\"color\\\"] for i in plt.rcParams[\\\"axes.prop_cycle\\\"]]\";\n",
       "                var nbb_cells = Jupyter.notebook.get_cells();\n",
       "                for (var i = 0; i < nbb_cells.length; ++i) {\n",
       "                    if (nbb_cells[i].input_prompt_number == nbb_cell_id) {\n",
       "                        if (nbb_cells[i].get_text() == nbb_unformatted_code) {\n",
       "                             nbb_cells[i].set_text(nbb_formatted_code);\n",
       "                        }\n",
       "                        break;\n",
       "                    }\n",
       "                }\n",
       "            }, 500);\n",
       "            "
      ],
      "text/plain": [
       "<IPython.core.display.Javascript object>"
      ]
     },
     "metadata": {},
     "output_type": "display_data"
    }
   ],
   "source": [
    "%matplotlib inline\n",
    "plt.style.use('ggplot')\n",
    "plt.rcParams['text.color'] = 'black'\n",
    "plt.rcParams['figure.max_open_warning'] = 0\n",
    "COLORS = [i['color'] for i in plt.rcParams['axes.prop_cycle']]"
   ]
  },
  {
   "cell_type": "code",
   "execution_count": 4,
   "id": "85628f07",
   "metadata": {},
   "outputs": [
    {
     "data": {
      "application/javascript": [
       "\n",
       "            setTimeout(function() {\n",
       "                var nbb_cell_id = 4;\n",
       "                var nbb_unformatted_code = \"def plot_metric_distributions(estimated_metrics, gt_metrics, coverage=None):\\n    fig, axs = plt.subplots(ncols=5, figsize=(25, 5))\\n    for i, c in enumerate(estimated_metrics.columns):\\n        sns.kdeplot(estimated_metrics[c], ax=axs[i], label='estimated')\\n        if coverage is not None:\\n            sns.kdeplot(coverage[c], ax=axs[i], label='simulated')\\n        axs[i].axvline(gt_metrics[c][0], c='grey', lw=2, ls='--', label='population mean')\\n    axs[0].legend()\\n    return fig, axs\";\n",
       "                var nbb_formatted_code = \"def plot_metric_distributions(estimated_metrics, gt_metrics, coverage=None):\\n    fig, axs = plt.subplots(ncols=5, figsize=(25, 5))\\n    for i, c in enumerate(estimated_metrics.columns):\\n        sns.kdeplot(estimated_metrics[c], ax=axs[i], label=\\\"estimated\\\")\\n        if coverage is not None:\\n            sns.kdeplot(coverage[c], ax=axs[i], label=\\\"simulated\\\")\\n        axs[i].axvline(\\n            gt_metrics[c][0], c=\\\"grey\\\", lw=2, ls=\\\"--\\\", label=\\\"population mean\\\"\\n        )\\n    axs[0].legend()\\n    return fig, axs\";\n",
       "                var nbb_cells = Jupyter.notebook.get_cells();\n",
       "                for (var i = 0; i < nbb_cells.length; ++i) {\n",
       "                    if (nbb_cells[i].input_prompt_number == nbb_cell_id) {\n",
       "                        if (nbb_cells[i].get_text() == nbb_unformatted_code) {\n",
       "                             nbb_cells[i].set_text(nbb_formatted_code);\n",
       "                        }\n",
       "                        break;\n",
       "                    }\n",
       "                }\n",
       "            }, 500);\n",
       "            "
      ],
      "text/plain": [
       "<IPython.core.display.Javascript object>"
      ]
     },
     "metadata": {},
     "output_type": "display_data"
    }
   ],
   "source": [
    "def plot_metric_distributions(estimated_metrics, gt_metrics, coverage=None):\n",
    "    fig, axs = plt.subplots(ncols=5, figsize=(25, 5))\n",
    "    for i, c in enumerate(estimated_metrics.columns):\n",
    "        sns.kdeplot(estimated_metrics[c], ax=axs[i], label='estimated')\n",
    "        if coverage is not None:\n",
    "            sns.kdeplot(coverage[c], ax=axs[i], label='simulated')\n",
    "        axs[i].axvline(gt_metrics[c][0], c='grey', lw=2, ls='--', label='population mean')\n",
    "    axs[0].legend()\n",
    "    return fig, axs"
   ]
  },
  {
   "cell_type": "code",
   "execution_count": 5,
   "id": "7464c222",
   "metadata": {},
   "outputs": [
    {
     "data": {
      "application/javascript": [
       "\n",
       "            setTimeout(function() {\n",
       "                var nbb_cell_id = 5;\n",
       "                var nbb_unformatted_code = \"target_metrics = [\\n    'neg.precision', 'pos.precision', 'neg.recall', 'pos.recall', 'mcc'\\n]\";\n",
       "                var nbb_formatted_code = \"target_metrics = [\\\"neg.precision\\\", \\\"pos.precision\\\", \\\"neg.recall\\\", \\\"pos.recall\\\", \\\"mcc\\\"]\";\n",
       "                var nbb_cells = Jupyter.notebook.get_cells();\n",
       "                for (var i = 0; i < nbb_cells.length; ++i) {\n",
       "                    if (nbb_cells[i].input_prompt_number == nbb_cell_id) {\n",
       "                        if (nbb_cells[i].get_text() == nbb_unformatted_code) {\n",
       "                             nbb_cells[i].set_text(nbb_formatted_code);\n",
       "                        }\n",
       "                        break;\n",
       "                    }\n",
       "                }\n",
       "            }, 500);\n",
       "            "
      ],
      "text/plain": [
       "<IPython.core.display.Javascript object>"
      ]
     },
     "metadata": {},
     "output_type": "display_data"
    }
   ],
   "source": [
    "target_metrics = [\n",
    "    'neg.precision', 'pos.precision', 'neg.recall', 'pos.recall', 'mcc'\n",
    "]"
   ]
  },
  {
   "cell_type": "markdown",
   "id": "40b86601",
   "metadata": {},
   "source": [
    "## Generate data\n",
    "\n",
    "Generate data from a Logistic process with noise\n",
    "\n",
    "#### Hold-out set\n",
    "\n",
    "Validate the model by comparing the credible interval of the samples from the model and unseen data sampled from the data generating process."
   ]
  },
  {
   "cell_type": "code",
   "execution_count": 6,
   "id": "c1ce35ce",
   "metadata": {},
   "outputs": [
    {
     "data": {
      "application/javascript": [
       "\n",
       "            setTimeout(function() {\n",
       "                var nbb_cell_id = 6;\n",
       "                var nbb_unformatted_code = \"generator = mmur.LogisticGenerator()\\noutp = generator.fit_transform(\\n    train_samples=10000,\\n    test_samples=10000,\\n    holdout_samples=10000,\\n    noise_sigma=0.3,\\n    enable_noise=True,\\n    random_state=123456\\n)\";\n",
       "                var nbb_formatted_code = \"generator = mmur.LogisticGenerator()\\noutp = generator.fit_transform(\\n    train_samples=10000,\\n    test_samples=10000,\\n    holdout_samples=10000,\\n    noise_sigma=0.3,\\n    enable_noise=True,\\n    random_state=123456,\\n)\";\n",
       "                var nbb_cells = Jupyter.notebook.get_cells();\n",
       "                for (var i = 0; i < nbb_cells.length; ++i) {\n",
       "                    if (nbb_cells[i].input_prompt_number == nbb_cell_id) {\n",
       "                        if (nbb_cells[i].get_text() == nbb_unformatted_code) {\n",
       "                             nbb_cells[i].set_text(nbb_formatted_code);\n",
       "                        }\n",
       "                        break;\n",
       "                    }\n",
       "                }\n",
       "            }, 500);\n",
       "            "
      ],
      "text/plain": [
       "<IPython.core.display.Javascript object>"
      ]
     },
     "metadata": {},
     "output_type": "display_data"
    }
   ],
   "source": [
    "generator = mmur.LogisticGenerator()\n",
    "outp = generator.fit_transform(\n",
    "    train_samples=10000,\n",
    "    test_samples=10000,\n",
    "    holdout_samples=10000,\n",
    "    noise_sigma=0.3,\n",
    "    enable_noise=True,\n",
    "    random_state=123456\n",
    ")"
   ]
  },
  {
   "cell_type": "markdown",
   "id": "0989a709",
   "metadata": {},
   "source": [
    "Select the test sets"
   ]
  },
  {
   "cell_type": "code",
   "execution_count": 7,
   "id": "e1ee9fe7",
   "metadata": {},
   "outputs": [
    {
     "data": {
      "application/javascript": [
       "\n",
       "            setTimeout(function() {\n",
       "                var nbb_cell_id = 7;\n",
       "                var nbb_unformatted_code = \"y_test = outp['test']['y']\\nprobas_test = outp['test']['proba']\";\n",
       "                var nbb_formatted_code = \"y_test = outp[\\\"test\\\"][\\\"y\\\"]\\nprobas_test = outp[\\\"test\\\"][\\\"proba\\\"]\";\n",
       "                var nbb_cells = Jupyter.notebook.get_cells();\n",
       "                for (var i = 0; i < nbb_cells.length; ++i) {\n",
       "                    if (nbb_cells[i].input_prompt_number == nbb_cell_id) {\n",
       "                        if (nbb_cells[i].get_text() == nbb_unformatted_code) {\n",
       "                             nbb_cells[i].set_text(nbb_formatted_code);\n",
       "                        }\n",
       "                        break;\n",
       "                    }\n",
       "                }\n",
       "            }, 500);\n",
       "            "
      ],
      "text/plain": [
       "<IPython.core.display.Javascript object>"
      ]
     },
     "metadata": {},
     "output_type": "display_data"
    }
   ],
   "source": [
    "y_test = outp['test']['y']\n",
    "probas_test = outp['test']['proba']"
   ]
  },
  {
   "cell_type": "markdown",
   "id": "5da34855",
   "metadata": {},
   "source": [
    "Compute the confusion matrix on the test-set"
   ]
  },
  {
   "cell_type": "code",
   "execution_count": 8,
   "id": "0fc442a7",
   "metadata": {},
   "outputs": [
    {
     "data": {
      "application/javascript": [
       "\n",
       "            setTimeout(function() {\n",
       "                var nbb_cell_id = 8;\n",
       "                var nbb_unformatted_code = \"test_conf_mat, test_metrics = mmu.binary_metrics_proba(\\n    y_test, probas_test, threshold=0.5\\n)\\ntest_conf_mat = test_conf_mat.flatten()\\ntest_metrics = mmu.metrics_to_dataframe(test_metrics)[target_metrics]\";\n",
       "                var nbb_formatted_code = \"test_conf_mat, test_metrics = mmu.binary_metrics_proba(\\n    y_test, probas_test, threshold=0.5\\n)\\ntest_conf_mat = test_conf_mat.flatten()\\ntest_metrics = mmu.metrics_to_dataframe(test_metrics)[target_metrics]\";\n",
       "                var nbb_cells = Jupyter.notebook.get_cells();\n",
       "                for (var i = 0; i < nbb_cells.length; ++i) {\n",
       "                    if (nbb_cells[i].input_prompt_number == nbb_cell_id) {\n",
       "                        if (nbb_cells[i].get_text() == nbb_unformatted_code) {\n",
       "                             nbb_cells[i].set_text(nbb_formatted_code);\n",
       "                        }\n",
       "                        break;\n",
       "                    }\n",
       "                }\n",
       "            }, 500);\n",
       "            "
      ],
      "text/plain": [
       "<IPython.core.display.Javascript object>"
      ]
     },
     "metadata": {},
     "output_type": "display_data"
    }
   ],
   "source": [
    "test_conf_mat, test_metrics = mmu.binary_metrics_proba(\n",
    "    y_test, probas_test, threshold=0.5\n",
    ")\n",
    "test_conf_mat = test_conf_mat.flatten()\n",
    "test_metrics = mmu.metrics_to_dataframe(test_metrics)[target_metrics]"
   ]
  },
  {
   "cell_type": "code",
   "execution_count": 9,
   "id": "dddfc19b",
   "metadata": {},
   "outputs": [
    {
     "data": {
      "text/html": [
       "<div>\n",
       "<style scoped>\n",
       "    .dataframe tbody tr th:only-of-type {\n",
       "        vertical-align: middle;\n",
       "    }\n",
       "\n",
       "    .dataframe tbody tr th {\n",
       "        vertical-align: top;\n",
       "    }\n",
       "\n",
       "    .dataframe thead tr th {\n",
       "        text-align: left;\n",
       "    }\n",
       "</style>\n",
       "<table border=\"1\" class=\"dataframe\">\n",
       "  <thead>\n",
       "    <tr>\n",
       "      <th></th>\n",
       "      <th></th>\n",
       "      <th colspan=\"2\" halign=\"left\">estimated</th>\n",
       "    </tr>\n",
       "    <tr>\n",
       "      <th></th>\n",
       "      <th></th>\n",
       "      <th>negative</th>\n",
       "      <th>positive</th>\n",
       "    </tr>\n",
       "  </thead>\n",
       "  <tbody>\n",
       "    <tr>\n",
       "      <th rowspan=\"2\" valign=\"top\">observed</th>\n",
       "      <th>negative</th>\n",
       "      <td>4443</td>\n",
       "      <td>295</td>\n",
       "    </tr>\n",
       "    <tr>\n",
       "      <th>positive</th>\n",
       "      <td>289</td>\n",
       "      <td>4973</td>\n",
       "    </tr>\n",
       "  </tbody>\n",
       "</table>\n",
       "</div>"
      ],
      "text/plain": [
       "                  estimated         \n",
       "                   negative positive\n",
       "observed negative      4443      295\n",
       "         positive       289     4973"
      ]
     },
     "execution_count": 9,
     "metadata": {},
     "output_type": "execute_result"
    },
    {
     "data": {
      "application/javascript": [
       "\n",
       "            setTimeout(function() {\n",
       "                var nbb_cell_id = 9;\n",
       "                var nbb_unformatted_code = \"mmu.confusion_matrix_to_dataframe(test_conf_mat)\";\n",
       "                var nbb_formatted_code = \"mmu.confusion_matrix_to_dataframe(test_conf_mat)\";\n",
       "                var nbb_cells = Jupyter.notebook.get_cells();\n",
       "                for (var i = 0; i < nbb_cells.length; ++i) {\n",
       "                    if (nbb_cells[i].input_prompt_number == nbb_cell_id) {\n",
       "                        if (nbb_cells[i].get_text() == nbb_unformatted_code) {\n",
       "                             nbb_cells[i].set_text(nbb_formatted_code);\n",
       "                        }\n",
       "                        break;\n",
       "                    }\n",
       "                }\n",
       "            }, 500);\n",
       "            "
      ],
      "text/plain": [
       "<IPython.core.display.Javascript object>"
      ]
     },
     "metadata": {},
     "output_type": "display_data"
    }
   ],
   "source": [
    "mmu.confusion_matrix_to_dataframe(test_conf_mat)"
   ]
  },
  {
   "cell_type": "code",
   "execution_count": 10,
   "id": "c0d0c1f9",
   "metadata": {},
   "outputs": [
    {
     "data": {
      "text/html": [
       "<div>\n",
       "<style scoped>\n",
       "    .dataframe tbody tr th:only-of-type {\n",
       "        vertical-align: middle;\n",
       "    }\n",
       "\n",
       "    .dataframe tbody tr th {\n",
       "        vertical-align: top;\n",
       "    }\n",
       "\n",
       "    .dataframe thead th {\n",
       "        text-align: right;\n",
       "    }\n",
       "</style>\n",
       "<table border=\"1\" class=\"dataframe\">\n",
       "  <thead>\n",
       "    <tr style=\"text-align: right;\">\n",
       "      <th></th>\n",
       "      <th>neg.precision</th>\n",
       "      <th>pos.precision</th>\n",
       "      <th>neg.recall</th>\n",
       "      <th>pos.recall</th>\n",
       "      <th>mcc</th>\n",
       "    </tr>\n",
       "  </thead>\n",
       "  <tbody>\n",
       "    <tr>\n",
       "      <th>0</th>\n",
       "      <td>0.938926</td>\n",
       "      <td>0.944002</td>\n",
       "      <td>0.937737</td>\n",
       "      <td>0.945078</td>\n",
       "      <td>0.882872</td>\n",
       "    </tr>\n",
       "  </tbody>\n",
       "</table>\n",
       "</div>"
      ],
      "text/plain": [
       "   neg.precision  pos.precision  neg.recall  pos.recall       mcc\n",
       "0       0.938926       0.944002    0.937737    0.945078  0.882872"
      ]
     },
     "execution_count": 10,
     "metadata": {},
     "output_type": "execute_result"
    },
    {
     "data": {
      "application/javascript": [
       "\n",
       "            setTimeout(function() {\n",
       "                var nbb_cell_id = 10;\n",
       "                var nbb_unformatted_code = \"test_metrics\";\n",
       "                var nbb_formatted_code = \"test_metrics\";\n",
       "                var nbb_cells = Jupyter.notebook.get_cells();\n",
       "                for (var i = 0; i < nbb_cells.length; ++i) {\n",
       "                    if (nbb_cells[i].input_prompt_number == nbb_cell_id) {\n",
       "                        if (nbb_cells[i].get_text() == nbb_unformatted_code) {\n",
       "                             nbb_cells[i].set_text(nbb_formatted_code);\n",
       "                        }\n",
       "                        break;\n",
       "                    }\n",
       "                }\n",
       "            }, 500);\n",
       "            "
      ],
      "text/plain": [
       "<IPython.core.display.Javascript object>"
      ]
     },
     "metadata": {},
     "output_type": "display_data"
    }
   ],
   "source": [
    "test_metrics"
   ]
  },
  {
   "cell_type": "code",
   "execution_count": 11,
   "id": "e408385b-df6a-4089-a561-b62d7509015e",
   "metadata": {},
   "outputs": [
    {
     "data": {
      "text/plain": [
       "array([4443,  295,  289, 4973])"
      ]
     },
     "execution_count": 11,
     "metadata": {},
     "output_type": "execute_result"
    },
    {
     "data": {
      "application/javascript": [
       "\n",
       "            setTimeout(function() {\n",
       "                var nbb_cell_id = 11;\n",
       "                var nbb_unformatted_code = \"test_conf_mat\";\n",
       "                var nbb_formatted_code = \"test_conf_mat\";\n",
       "                var nbb_cells = Jupyter.notebook.get_cells();\n",
       "                for (var i = 0; i < nbb_cells.length; ++i) {\n",
       "                    if (nbb_cells[i].input_prompt_number == nbb_cell_id) {\n",
       "                        if (nbb_cells[i].get_text() == nbb_unformatted_code) {\n",
       "                             nbb_cells[i].set_text(nbb_formatted_code);\n",
       "                        }\n",
       "                        break;\n",
       "                    }\n",
       "                }\n",
       "            }, 500);\n",
       "            "
      ],
      "text/plain": [
       "<IPython.core.display.Javascript object>"
      ]
     },
     "metadata": {},
     "output_type": "display_data"
    }
   ],
   "source": [
    "test_conf_mat"
   ]
  },
  {
   "cell_type": "markdown",
   "id": "d10ebd3e",
   "metadata": {},
   "source": [
    "### Ground truth"
   ]
  },
  {
   "cell_type": "code",
   "execution_count": 12,
   "id": "b9c521d7",
   "metadata": {},
   "outputs": [
    {
     "data": {
      "application/javascript": [
       "\n",
       "            setTimeout(function() {\n",
       "                var nbb_cell_id = 12;\n",
       "                var nbb_unformatted_code = \"gt_proba_test = outp['ground_truth']['test']\";\n",
       "                var nbb_formatted_code = \"gt_proba_test = outp[\\\"ground_truth\\\"][\\\"test\\\"]\";\n",
       "                var nbb_cells = Jupyter.notebook.get_cells();\n",
       "                for (var i = 0; i < nbb_cells.length; ++i) {\n",
       "                    if (nbb_cells[i].input_prompt_number == nbb_cell_id) {\n",
       "                        if (nbb_cells[i].get_text() == nbb_unformatted_code) {\n",
       "                             nbb_cells[i].set_text(nbb_formatted_code);\n",
       "                        }\n",
       "                        break;\n",
       "                    }\n",
       "                }\n",
       "            }, 500);\n",
       "            "
      ],
      "text/plain": [
       "<IPython.core.display.Javascript object>"
      ]
     },
     "metadata": {},
     "output_type": "display_data"
    }
   ],
   "source": [
    "gt_proba_test = outp['ground_truth']['test']"
   ]
  },
  {
   "cell_type": "markdown",
   "id": "c7869f0b",
   "metadata": {},
   "source": [
    "Compute the ground truth confusion matrix and metrics"
   ]
  },
  {
   "cell_type": "code",
   "execution_count": 13,
   "id": "b9d8d02e",
   "metadata": {},
   "outputs": [
    {
     "data": {
      "application/javascript": [
       "\n",
       "            setTimeout(function() {\n",
       "                var nbb_cell_id = 13;\n",
       "                var nbb_unformatted_code = \"gt_conf_mat, gt_metrics = mmu.binary_metrics_proba(\\n    y_test, gt_proba_test, threshold=0.5\\n)\";\n",
       "                var nbb_formatted_code = \"gt_conf_mat, gt_metrics = mmu.binary_metrics_proba(y_test, gt_proba_test, threshold=0.5)\";\n",
       "                var nbb_cells = Jupyter.notebook.get_cells();\n",
       "                for (var i = 0; i < nbb_cells.length; ++i) {\n",
       "                    if (nbb_cells[i].input_prompt_number == nbb_cell_id) {\n",
       "                        if (nbb_cells[i].get_text() == nbb_unformatted_code) {\n",
       "                             nbb_cells[i].set_text(nbb_formatted_code);\n",
       "                        }\n",
       "                        break;\n",
       "                    }\n",
       "                }\n",
       "            }, 500);\n",
       "            "
      ],
      "text/plain": [
       "<IPython.core.display.Javascript object>"
      ]
     },
     "metadata": {},
     "output_type": "display_data"
    }
   ],
   "source": [
    "gt_conf_mat, gt_metrics = mmu.binary_metrics_proba(\n",
    "    y_test, gt_proba_test, threshold=0.5\n",
    ")"
   ]
  },
  {
   "cell_type": "code",
   "execution_count": 14,
   "id": "164a83c2",
   "metadata": {},
   "outputs": [
    {
     "data": {
      "text/html": [
       "<div>\n",
       "<style scoped>\n",
       "    .dataframe tbody tr th:only-of-type {\n",
       "        vertical-align: middle;\n",
       "    }\n",
       "\n",
       "    .dataframe tbody tr th {\n",
       "        vertical-align: top;\n",
       "    }\n",
       "\n",
       "    .dataframe thead tr th {\n",
       "        text-align: left;\n",
       "    }\n",
       "</style>\n",
       "<table border=\"1\" class=\"dataframe\">\n",
       "  <thead>\n",
       "    <tr>\n",
       "      <th></th>\n",
       "      <th></th>\n",
       "      <th colspan=\"2\" halign=\"left\">estimated</th>\n",
       "    </tr>\n",
       "    <tr>\n",
       "      <th></th>\n",
       "      <th></th>\n",
       "      <th>negative</th>\n",
       "      <th>positive</th>\n",
       "    </tr>\n",
       "  </thead>\n",
       "  <tbody>\n",
       "    <tr>\n",
       "      <th rowspan=\"2\" valign=\"top\">observed</th>\n",
       "      <th>negative</th>\n",
       "      <td>4440</td>\n",
       "      <td>298</td>\n",
       "    </tr>\n",
       "    <tr>\n",
       "      <th>positive</th>\n",
       "      <td>288</td>\n",
       "      <td>4974</td>\n",
       "    </tr>\n",
       "  </tbody>\n",
       "</table>\n",
       "</div>"
      ],
      "text/plain": [
       "                  estimated         \n",
       "                   negative positive\n",
       "observed negative      4440      298\n",
       "         positive       288     4974"
      ]
     },
     "execution_count": 14,
     "metadata": {},
     "output_type": "execute_result"
    },
    {
     "data": {
      "application/javascript": [
       "\n",
       "            setTimeout(function() {\n",
       "                var nbb_cell_id = 14;\n",
       "                var nbb_unformatted_code = \"gt_confusion_matrix = mmu.confusion_matrix_to_dataframe(gt_conf_mat)\\ngt_confusion_matrix\";\n",
       "                var nbb_formatted_code = \"gt_confusion_matrix = mmu.confusion_matrix_to_dataframe(gt_conf_mat)\\ngt_confusion_matrix\";\n",
       "                var nbb_cells = Jupyter.notebook.get_cells();\n",
       "                for (var i = 0; i < nbb_cells.length; ++i) {\n",
       "                    if (nbb_cells[i].input_prompt_number == nbb_cell_id) {\n",
       "                        if (nbb_cells[i].get_text() == nbb_unformatted_code) {\n",
       "                             nbb_cells[i].set_text(nbb_formatted_code);\n",
       "                        }\n",
       "                        break;\n",
       "                    }\n",
       "                }\n",
       "            }, 500);\n",
       "            "
      ],
      "text/plain": [
       "<IPython.core.display.Javascript object>"
      ]
     },
     "metadata": {},
     "output_type": "display_data"
    }
   ],
   "source": [
    "gt_confusion_matrix = mmu.confusion_matrix_to_dataframe(gt_conf_mat)\n",
    "gt_confusion_matrix"
   ]
  },
  {
   "cell_type": "code",
   "execution_count": 15,
   "id": "90188923",
   "metadata": {},
   "outputs": [
    {
     "data": {
      "text/html": [
       "<div>\n",
       "<style scoped>\n",
       "    .dataframe tbody tr th:only-of-type {\n",
       "        vertical-align: middle;\n",
       "    }\n",
       "\n",
       "    .dataframe tbody tr th {\n",
       "        vertical-align: top;\n",
       "    }\n",
       "\n",
       "    .dataframe thead th {\n",
       "        text-align: right;\n",
       "    }\n",
       "</style>\n",
       "<table border=\"1\" class=\"dataframe\">\n",
       "  <thead>\n",
       "    <tr style=\"text-align: right;\">\n",
       "      <th></th>\n",
       "      <th>neg.precision</th>\n",
       "      <th>pos.precision</th>\n",
       "      <th>neg.recall</th>\n",
       "      <th>pos.recall</th>\n",
       "      <th>mcc</th>\n",
       "    </tr>\n",
       "  </thead>\n",
       "  <tbody>\n",
       "    <tr>\n",
       "      <th>0</th>\n",
       "      <td>0.939086</td>\n",
       "      <td>0.943475</td>\n",
       "      <td>0.937104</td>\n",
       "      <td>0.945268</td>\n",
       "      <td>0.882467</td>\n",
       "    </tr>\n",
       "  </tbody>\n",
       "</table>\n",
       "</div>"
      ],
      "text/plain": [
       "   neg.precision  pos.precision  neg.recall  pos.recall       mcc\n",
       "0       0.939086       0.943475    0.937104    0.945268  0.882467"
      ]
     },
     "execution_count": 15,
     "metadata": {},
     "output_type": "execute_result"
    },
    {
     "data": {
      "application/javascript": [
       "\n",
       "            setTimeout(function() {\n",
       "                var nbb_cell_id = 15;\n",
       "                var nbb_unformatted_code = \"gt_metrics = mmu.metrics_to_dataframe(gt_metrics)[target_metrics]\\ngt_metrics\";\n",
       "                var nbb_formatted_code = \"gt_metrics = mmu.metrics_to_dataframe(gt_metrics)[target_metrics]\\ngt_metrics\";\n",
       "                var nbb_cells = Jupyter.notebook.get_cells();\n",
       "                for (var i = 0; i < nbb_cells.length; ++i) {\n",
       "                    if (nbb_cells[i].input_prompt_number == nbb_cell_id) {\n",
       "                        if (nbb_cells[i].get_text() == nbb_unformatted_code) {\n",
       "                             nbb_cells[i].set_text(nbb_formatted_code);\n",
       "                        }\n",
       "                        break;\n",
       "                    }\n",
       "                }\n",
       "            }, 500);\n",
       "            "
      ],
      "text/plain": [
       "<IPython.core.display.Javascript object>"
      ]
     },
     "metadata": {},
     "output_type": "display_data"
    }
   ],
   "source": [
    "gt_metrics = mmu.metrics_to_dataframe(gt_metrics)[target_metrics]\n",
    "gt_metrics"
   ]
  },
  {
   "cell_type": "markdown",
   "id": "16241cd7",
   "metadata": {},
   "source": [
    "### Hold-out set"
   ]
  },
  {
   "cell_type": "code",
   "execution_count": 16,
   "id": "1bd37abc",
   "metadata": {},
   "outputs": [
    {
     "data": {
      "application/javascript": [
       "\n",
       "            setTimeout(function() {\n",
       "                var nbb_cell_id = 16;\n",
       "                var nbb_unformatted_code = \"y_holdout = outp['holdout']['y']\\nproba_holdout = outp['holdout']['proba']\";\n",
       "                var nbb_formatted_code = \"y_holdout = outp[\\\"holdout\\\"][\\\"y\\\"]\\nproba_holdout = outp[\\\"holdout\\\"][\\\"proba\\\"]\";\n",
       "                var nbb_cells = Jupyter.notebook.get_cells();\n",
       "                for (var i = 0; i < nbb_cells.length; ++i) {\n",
       "                    if (nbb_cells[i].input_prompt_number == nbb_cell_id) {\n",
       "                        if (nbb_cells[i].get_text() == nbb_unformatted_code) {\n",
       "                             nbb_cells[i].set_text(nbb_formatted_code);\n",
       "                        }\n",
       "                        break;\n",
       "                    }\n",
       "                }\n",
       "            }, 500);\n",
       "            "
      ],
      "text/plain": [
       "<IPython.core.display.Javascript object>"
      ]
     },
     "metadata": {},
     "output_type": "display_data"
    }
   ],
   "source": [
    "y_holdout = outp['holdout']['y']\n",
    "proba_holdout = outp['holdout']['proba']"
   ]
  },
  {
   "cell_type": "markdown",
   "id": "91b315c3",
   "metadata": {},
   "source": [
    "Compute metrics on this set"
   ]
  },
  {
   "cell_type": "code",
   "execution_count": 17,
   "id": "0400f976",
   "metadata": {},
   "outputs": [
    {
     "data": {
      "application/javascript": [
       "\n",
       "            setTimeout(function() {\n",
       "                var nbb_cell_id = 17;\n",
       "                var nbb_unformatted_code = \"# holdout_conf_mat, holdout_metrics = mmu.binary_metrics_runs_thresholds(\\n#     y=y_holdout, proba=proba_holdout, thresholds=np.array((0.5, ))\\n# )\\n# holdout_metrics = mmu.metrics_to_dataframe(holdout_metrics)[target_metrics]\";\n",
       "                var nbb_formatted_code = \"# holdout_conf_mat, holdout_metrics = mmu.binary_metrics_runs_thresholds(\\n#     y=y_holdout, proba=proba_holdout, thresholds=np.array((0.5, ))\\n# )\\n# holdout_metrics = mmu.metrics_to_dataframe(holdout_metrics)[target_metrics]\";\n",
       "                var nbb_cells = Jupyter.notebook.get_cells();\n",
       "                for (var i = 0; i < nbb_cells.length; ++i) {\n",
       "                    if (nbb_cells[i].input_prompt_number == nbb_cell_id) {\n",
       "                        if (nbb_cells[i].get_text() == nbb_unformatted_code) {\n",
       "                             nbb_cells[i].set_text(nbb_formatted_code);\n",
       "                        }\n",
       "                        break;\n",
       "                    }\n",
       "                }\n",
       "            }, 500);\n",
       "            "
      ],
      "text/plain": [
       "<IPython.core.display.Javascript object>"
      ]
     },
     "metadata": {},
     "output_type": "display_data"
    }
   ],
   "source": [
    "# holdout_conf_mat, holdout_metrics = mmu.binary_metrics_runs_thresholds(\n",
    "#     y=y_holdout, proba=proba_holdout, thresholds=np.array((0.5, ))\n",
    "# )\n",
    "# holdout_metrics = mmu.metrics_to_dataframe(holdout_metrics)[target_metrics]"
   ]
  },
  {
   "cell_type": "markdown",
   "id": "fc688684",
   "metadata": {},
   "source": [
    "## Stan Model"
   ]
  },
  {
   "cell_type": "code",
   "execution_count": 18,
   "id": "e130ef1f",
   "metadata": {},
   "outputs": [
    {
     "data": {
      "application/javascript": [
       "\n",
       "            setTimeout(function() {\n",
       "                var nbb_cell_id = 18;\n",
       "                var nbb_unformatted_code = \"import stan\\n\\nfrom mmur.stan import _bnn_code\";\n",
       "                var nbb_formatted_code = \"import stan\\n\\nfrom mmur.stan import _bnn_code\";\n",
       "                var nbb_cells = Jupyter.notebook.get_cells();\n",
       "                for (var i = 0; i < nbb_cells.length; ++i) {\n",
       "                    if (nbb_cells[i].input_prompt_number == nbb_cell_id) {\n",
       "                        if (nbb_cells[i].get_text() == nbb_unformatted_code) {\n",
       "                             nbb_cells[i].set_text(nbb_formatted_code);\n",
       "                        }\n",
       "                        break;\n",
       "                    }\n",
       "                }\n",
       "            }, 500);\n",
       "            "
      ],
      "text/plain": [
       "<IPython.core.display.Javascript object>"
      ]
     },
     "metadata": {},
     "output_type": "display_data"
    }
   ],
   "source": [
    "import stan\n",
    "\n",
    "from mmur.stan import _bnn_code"
   ]
  },
  {
   "cell_type": "code",
   "execution_count": 19,
   "id": "43135508-fc75-4cad-a474-4b92265852ff",
   "metadata": {},
   "outputs": [
    {
     "data": {
      "application/javascript": [
       "\n",
       "            setTimeout(function() {\n",
       "                var nbb_cell_id = 19;\n",
       "                var nbb_unformatted_code = \"random_state = 42\\nn_samples=10000\\nsample_factor=1.5\\nn_warmup=500\\nthreshold=0.5\\nn_cores = multiprocessing.cpu_count() - 1\\n\\n_gen = np.random.default_rng(random_state)\\ntotal_samples = int(np.floor(n_samples * sample_factor))\\n\\nprior_vars = ['phi', 'tpr', 'tnr']\\npost_vars = ['y_hat']\\npredictive_var = 'y_hat'\";\n",
       "                var nbb_formatted_code = \"random_state = 42\\nn_samples = 10000\\nsample_factor = 1.5\\nn_warmup = 500\\nthreshold = 0.5\\nn_cores = multiprocessing.cpu_count() - 1\\n\\n_gen = np.random.default_rng(random_state)\\ntotal_samples = int(np.floor(n_samples * sample_factor))\\n\\nprior_vars = [\\\"phi\\\", \\\"tpr\\\", \\\"tnr\\\"]\\npost_vars = [\\\"y_hat\\\"]\\npredictive_var = \\\"y_hat\\\"\";\n",
       "                var nbb_cells = Jupyter.notebook.get_cells();\n",
       "                for (var i = 0; i < nbb_cells.length; ++i) {\n",
       "                    if (nbb_cells[i].input_prompt_number == nbb_cell_id) {\n",
       "                        if (nbb_cells[i].get_text() == nbb_unformatted_code) {\n",
       "                             nbb_cells[i].set_text(nbb_formatted_code);\n",
       "                        }\n",
       "                        break;\n",
       "                    }\n",
       "                }\n",
       "            }, 500);\n",
       "            "
      ],
      "text/plain": [
       "<IPython.core.display.Javascript object>"
      ]
     },
     "metadata": {},
     "output_type": "display_data"
    }
   ],
   "source": [
    "random_state = 42\n",
    "n_samples=10000\n",
    "sample_factor=1.5\n",
    "n_warmup=500\n",
    "threshold=0.5\n",
    "n_cores = multiprocessing.cpu_count() - 1\n",
    "\n",
    "_gen = np.random.default_rng(random_state)\n",
    "total_samples = int(np.floor(n_samples * sample_factor))\n",
    "\n",
    "prior_vars = ['phi', 'tpr', 'tnr']\n",
    "post_vars = ['y_hat']\n",
    "predictive_var = 'y_hat'\n"
   ]
  },
  {
   "cell_type": "code",
   "execution_count": 20,
   "id": "8fbf1453-81e2-4b83-9810-1764b16ff979",
   "metadata": {},
   "outputs": [
    {
     "data": {
      "application/javascript": [
       "\n",
       "            setTimeout(function() {\n",
       "                var nbb_cell_id = 20;\n",
       "                var nbb_unformatted_code = \"X = test_conf_mat\\n\\ntotal_count = int(X.sum())\\n\\ndata = {\\n'n': total_count,\\n'y': X.flatten(),\\n'tpr_prior': np.ones(2),\\n'tnr_prior': np.ones(2),\\n'phi_prior': np.ones(2),\\n}\";\n",
       "                var nbb_formatted_code = \"X = test_conf_mat\\n\\ntotal_count = int(X.sum())\\n\\ndata = {\\n    \\\"n\\\": total_count,\\n    \\\"y\\\": X.flatten(),\\n    \\\"tpr_prior\\\": np.ones(2),\\n    \\\"tnr_prior\\\": np.ones(2),\\n    \\\"phi_prior\\\": np.ones(2),\\n}\";\n",
       "                var nbb_cells = Jupyter.notebook.get_cells();\n",
       "                for (var i = 0; i < nbb_cells.length; ++i) {\n",
       "                    if (nbb_cells[i].input_prompt_number == nbb_cell_id) {\n",
       "                        if (nbb_cells[i].get_text() == nbb_unformatted_code) {\n",
       "                             nbb_cells[i].set_text(nbb_formatted_code);\n",
       "                        }\n",
       "                        break;\n",
       "                    }\n",
       "                }\n",
       "            }, 500);\n",
       "            "
      ],
      "text/plain": [
       "<IPython.core.display.Javascript object>"
      ]
     },
     "metadata": {},
     "output_type": "display_data"
    }
   ],
   "source": [
    "X = test_conf_mat\n",
    "\n",
    "total_count = int(X.sum())\n",
    "\n",
    "data = {\n",
    "'n': total_count,\n",
    "'y': X.flatten(),\n",
    "'tpr_prior': np.ones(2),\n",
    "'tnr_prior': np.ones(2),\n",
    "'phi_prior': np.ones(2),\n",
    "}\n",
    "\n"
   ]
  },
  {
   "cell_type": "code",
   "execution_count": 21,
   "id": "71269ffb",
   "metadata": {
    "scrolled": true,
    "tags": []
   },
   "outputs": [
    {
     "name": "stderr",
     "output_type": "stream",
     "text": [
      "\u001b[32mBuilding:\u001b[0m found in cache, done.\n",
      "\u001b[36mMessages from \u001b[0m\u001b[36;1mstanc\u001b[0m\u001b[36m:\u001b[0m\n",
      "Warning: The parameter tpr has no priors.\n",
      "Warning: The parameter tnr has no priors.\n",
      "Warning: The parameter phi has no priors.\n",
      "\u001b[36mSampling:\u001b[0m   0%\n",
      "\u001b[1A\u001b[0J\u001b[36mSampling:\u001b[0m   9% (1863/20493)\n",
      "\u001b[1A\u001b[0J\u001b[36mSampling:\u001b[0m  18% (3726/20493)\n",
      "\u001b[1A\u001b[0J\u001b[36mSampling:\u001b[0m  27% (5589/20493)\n",
      "\u001b[1A\u001b[0J\u001b[36mSampling:\u001b[0m  36% (7452/20493)\n",
      "\u001b[1A\u001b[0J\u001b[36mSampling:\u001b[0m  45% (9315/20493)\n",
      "\u001b[1A\u001b[0J\u001b[36mSampling:\u001b[0m  55% (11178/20493)\n",
      "\u001b[1A\u001b[0J\u001b[36mSampling:\u001b[0m  64% (13041/20493)\n",
      "\u001b[1A\u001b[0J\u001b[36mSampling:\u001b[0m  73% (14904/20493)\n",
      "\u001b[1A\u001b[0J\u001b[36mSampling:\u001b[0m  82% (16767/20493)\n",
      "\u001b[1A\u001b[0J\u001b[36mSampling:\u001b[0m  91% (18630/20493)\n",
      "\u001b[1A\u001b[0J\u001b[36mSampling:\u001b[0m 100% (20493/20493)\n",
      "\u001b[1A\u001b[0J\u001b[32mSampling:\u001b[0m 100% (20493/20493), done.\n",
      "\u001b[36mMessages received during sampling:\u001b[0m\n",
      "  Gradient evaluation took 1.9e-05 seconds\n",
      "  1000 transitions using 10 leapfrog steps per transition would take 0.19 seconds.\n",
      "  Adjust your expectations accordingly!\n",
      "  Gradient evaluation took 3e-06 seconds\n",
      "  1000 transitions using 10 leapfrog steps per transition would take 0.03 seconds.\n",
      "  Adjust your expectations accordingly!\n",
      "  Gradient evaluation took 5e-06 seconds\n",
      "  1000 transitions using 10 leapfrog steps per transition would take 0.05 seconds.\n",
      "  Adjust your expectations accordingly!\n",
      "  Gradient evaluation took 5e-06 seconds\n",
      "  1000 transitions using 10 leapfrog steps per transition would take 0.05 seconds.\n",
      "  Adjust your expectations accordingly!\n",
      "  Gradient evaluation took 4e-06 seconds\n",
      "  1000 transitions using 10 leapfrog steps per transition would take 0.04 seconds.\n",
      "  Adjust your expectations accordingly!\n",
      "  Gradient evaluation took 3e-06 seconds\n",
      "  1000 transitions using 10 leapfrog steps per transition would take 0.03 seconds.\n",
      "  Adjust your expectations accordingly!\n",
      "  Gradient evaluation took 3e-06 seconds\n",
      "  1000 transitions using 10 leapfrog steps per transition would take 0.03 seconds.\n",
      "  Adjust your expectations accordingly!\n",
      "  Gradient evaluation took 5e-06 seconds\n",
      "  1000 transitions using 10 leapfrog steps per transition would take 0.05 seconds.\n",
      "  Adjust your expectations accordingly!\n",
      "  Gradient evaluation took 4e-06 seconds\n",
      "  1000 transitions using 10 leapfrog steps per transition would take 0.04 seconds.\n",
      "  Adjust your expectations accordingly!\n",
      "  Gradient evaluation took 4e-06 seconds\n",
      "  1000 transitions using 10 leapfrog steps per transition would take 0.04 seconds.\n",
      "  Adjust your expectations accordingly!\n",
      "  Gradient evaluation took 3e-06 seconds\n",
      "  1000 transitions using 10 leapfrog steps per transition would take 0.03 seconds.\n",
      "  Adjust your expectations accordingly!\n"
     ]
    },
    {
     "data": {
      "application/javascript": [
       "\n",
       "            setTimeout(function() {\n",
       "                var nbb_cell_id = 21;\n",
       "                var nbb_unformatted_code = \"model = stan.build(\\n    _bnn_code,\\n    data=data,\\n    random_seed=int(random_state)\\n)\\n\\n# set the number of samples per chain\\nn_samples_per_chain = total_samples // n_cores\\n\\nfit_ = model.sample(\\n    num_warmup=n_warmup,\\n    num_samples=n_samples_per_chain,\\n    num_chains=n_cores\\n)\";\n",
       "                var nbb_formatted_code = \"model = stan.build(_bnn_code, data=data, random_seed=int(random_state))\\n\\n# set the number of samples per chain\\nn_samples_per_chain = total_samples // n_cores\\n\\nfit_ = model.sample(\\n    num_warmup=n_warmup, num_samples=n_samples_per_chain, num_chains=n_cores\\n)\";\n",
       "                var nbb_cells = Jupyter.notebook.get_cells();\n",
       "                for (var i = 0; i < nbb_cells.length; ++i) {\n",
       "                    if (nbb_cells[i].input_prompt_number == nbb_cell_id) {\n",
       "                        if (nbb_cells[i].get_text() == nbb_unformatted_code) {\n",
       "                             nbb_cells[i].set_text(nbb_formatted_code);\n",
       "                        }\n",
       "                        break;\n",
       "                    }\n",
       "                }\n",
       "            }, 500);\n",
       "            "
      ],
      "text/plain": [
       "<IPython.core.display.Javascript object>"
      ]
     },
     "metadata": {},
     "output_type": "display_data"
    }
   ],
   "source": [
    "model = stan.build(\n",
    "    _bnn_code,\n",
    "    data=data,\n",
    "    random_seed=int(random_state)\n",
    ")\n",
    "\n",
    "# set the number of samples per chain\n",
    "n_samples_per_chain = total_samples // n_cores\n",
    "\n",
    "fit_ = model.sample(\n",
    "    num_warmup=n_warmup,\n",
    "    num_samples=n_samples_per_chain,\n",
    "    num_chains=n_cores\n",
    ")"
   ]
  },
  {
   "cell_type": "code",
   "execution_count": 22,
   "id": "43fda462-4c53-4120-991c-64830b9b6db8",
   "metadata": {},
   "outputs": [
    {
     "data": {
      "application/javascript": [
       "\n",
       "            setTimeout(function() {\n",
       "                var nbb_cell_id = 22;\n",
       "                var nbb_unformatted_code = \"fit_data_ = az.from_pystan(\\n    posterior=fit_,\\n    posterior_predictive=post_vars,\\n    observed_data=list(data.keys()),\\n    posterior_model=model\\n)\\n\\n# validate if enough non-divergent samples were drawn\\ndiv_mask = fit_data_.sample_stats.get('diverging').values\\nn_samples_drawn = div_mask.size\\nn_non_divergent = n_samples_drawn - div_mask.sum()\\nif n_non_divergent < n_samples:\\n    m = (\\n        f'The number of non-divergent samples ({n_non_divergent}) is'\\n        ' smaller than the requested samples ({n_samples}).'\\n        ' You should increase the sample factor.'\\n    )\\n    raise RuntimeError(m)\";\n",
       "                var nbb_formatted_code = \"fit_data_ = az.from_pystan(\\n    posterior=fit_,\\n    posterior_predictive=post_vars,\\n    observed_data=list(data.keys()),\\n    posterior_model=model,\\n)\\n\\n# validate if enough non-divergent samples were drawn\\ndiv_mask = fit_data_.sample_stats.get(\\\"diverging\\\").values\\nn_samples_drawn = div_mask.size\\nn_non_divergent = n_samples_drawn - div_mask.sum()\\nif n_non_divergent < n_samples:\\n    m = (\\n        f\\\"The number of non-divergent samples ({n_non_divergent}) is\\\"\\n        \\\" smaller than the requested samples ({n_samples}).\\\"\\n        \\\" You should increase the sample factor.\\\"\\n    )\\n    raise RuntimeError(m)\";\n",
       "                var nbb_cells = Jupyter.notebook.get_cells();\n",
       "                for (var i = 0; i < nbb_cells.length; ++i) {\n",
       "                    if (nbb_cells[i].input_prompt_number == nbb_cell_id) {\n",
       "                        if (nbb_cells[i].get_text() == nbb_unformatted_code) {\n",
       "                             nbb_cells[i].set_text(nbb_formatted_code);\n",
       "                        }\n",
       "                        break;\n",
       "                    }\n",
       "                }\n",
       "            }, 500);\n",
       "            "
      ],
      "text/plain": [
       "<IPython.core.display.Javascript object>"
      ]
     },
     "metadata": {},
     "output_type": "display_data"
    }
   ],
   "source": [
    "fit_data_ = az.from_pystan(\n",
    "    posterior=fit_,\n",
    "    posterior_predictive=post_vars,\n",
    "    observed_data=list(data.keys()),\n",
    "    posterior_model=model\n",
    ")\n",
    "\n",
    "# validate if enough non-divergent samples were drawn\n",
    "div_mask = fit_data_.sample_stats.get('diverging').values\n",
    "n_samples_drawn = div_mask.size\n",
    "n_non_divergent = n_samples_drawn - div_mask.sum()\n",
    "if n_non_divergent < n_samples:\n",
    "    m = (\n",
    "        f'The number of non-divergent samples ({n_non_divergent}) is'\n",
    "        ' smaller than the requested samples ({n_samples}).'\n",
    "        ' You should increase the sample factor.'\n",
    "    )\n",
    "    raise RuntimeError(m)"
   ]
  },
  {
   "cell_type": "code",
   "execution_count": 23,
   "id": "84e2b42e-1b43-4ea2-8036-030a0f1aef66",
   "metadata": {},
   "outputs": [
    {
     "data": {
      "application/javascript": [
       "\n",
       "            setTimeout(function() {\n",
       "                var nbb_cell_id = 23;\n",
       "                var nbb_unformatted_code = \"# generative samples\\ny_hat = (\\n    fit_data_\\n    .posterior_predictive\\n    .get(predictive_var)\\n    .values\\n    [~div_mask]\\n)\\n\\n# subsample the posterior samples\\nsidx = _gen.choice(\\n    np.arange(n_non_divergent),\\n    replace=False,\\n    size=n_samples\\n)\\n\\nsample_conf_mats_ = np.asarray(y_hat[sidx], dtype=np.int64, order='C')\";\n",
       "                var nbb_formatted_code = \"# generative samples\\ny_hat = fit_data_.posterior_predictive.get(predictive_var).values[~div_mask]\\n\\n# subsample the posterior samples\\nsidx = _gen.choice(np.arange(n_non_divergent), replace=False, size=n_samples)\\n\\nsample_conf_mats_ = np.asarray(y_hat[sidx], dtype=np.int64, order=\\\"C\\\")\";\n",
       "                var nbb_cells = Jupyter.notebook.get_cells();\n",
       "                for (var i = 0; i < nbb_cells.length; ++i) {\n",
       "                    if (nbb_cells[i].input_prompt_number == nbb_cell_id) {\n",
       "                        if (nbb_cells[i].get_text() == nbb_unformatted_code) {\n",
       "                             nbb_cells[i].set_text(nbb_formatted_code);\n",
       "                        }\n",
       "                        break;\n",
       "                    }\n",
       "                }\n",
       "            }, 500);\n",
       "            "
      ],
      "text/plain": [
       "<IPython.core.display.Javascript object>"
      ]
     },
     "metadata": {},
     "output_type": "display_data"
    }
   ],
   "source": [
    "# generative samples\n",
    "y_hat = (\n",
    "    fit_data_\n",
    "    .posterior_predictive\n",
    "    .get(predictive_var)\n",
    "    .values\n",
    "    [~div_mask]\n",
    ")\n",
    "\n",
    "# subsample the posterior samples\n",
    "sidx = _gen.choice(\n",
    "    np.arange(n_non_divergent),\n",
    "    replace=False,\n",
    "    size=n_samples\n",
    ")\n",
    "\n",
    "sample_conf_mats_ = np.asarray(y_hat[sidx], dtype=np.int64, order='C')"
   ]
  },
  {
   "cell_type": "code",
   "execution_count": 24,
   "id": "a616755f",
   "metadata": {},
   "outputs": [
    {
     "data": {
      "image/png": "[encoded data removed]",
      "text/plain": [
       "<Figure size 576x576 with 4 Axes>"
      ]
     },
     "metadata": {},
     "output_type": "display_data"
    },
    {
     "data": {
      "application/javascript": [
       "\n",
       "            setTimeout(function() {\n",
       "                var nbb_cell_id = 24;\n",
       "                var nbb_unformatted_code = \"gt_vals = gt_confusion_matrix.values.flatten()\\n\\nfig, axes = plt.subplots(2,2, figsize=(8,8))\\naxes = axes.ravel()\\nfor i, _ in enumerate(axes):\\n    \\n    sampled_vals = sample_conf_mats_[:,i]\\n    hist_outputs = axes[i].hist(sampled_vals, bins=200)\\n    axes[i].vlines(gt_vals[i], 0, 1.01*max(hist_outputs[0]), color='blue', label='true')\\n\\nplt.show()\";\n",
       "                var nbb_formatted_code = \"gt_vals = gt_confusion_matrix.values.flatten()\\n\\nfig, axes = plt.subplots(2, 2, figsize=(8, 8))\\naxes = axes.ravel()\\nfor i, _ in enumerate(axes):\\n\\n    sampled_vals = sample_conf_mats_[:, i]\\n    hist_outputs = axes[i].hist(sampled_vals, bins=200)\\n    axes[i].vlines(\\n        gt_vals[i], 0, 1.01 * max(hist_outputs[0]), color=\\\"blue\\\", label=\\\"true\\\"\\n    )\\n\\nplt.show()\";\n",
       "                var nbb_cells = Jupyter.notebook.get_cells();\n",
       "                for (var i = 0; i < nbb_cells.length; ++i) {\n",
       "                    if (nbb_cells[i].input_prompt_number == nbb_cell_id) {\n",
       "                        if (nbb_cells[i].get_text() == nbb_unformatted_code) {\n",
       "                             nbb_cells[i].set_text(nbb_formatted_code);\n",
       "                        }\n",
       "                        break;\n",
       "                    }\n",
       "                }\n",
       "            }, 500);\n",
       "            "
      ],
      "text/plain": [
       "<IPython.core.display.Javascript object>"
      ]
     },
     "metadata": {},
     "output_type": "display_data"
    }
   ],
   "source": [
    "gt_vals = gt_confusion_matrix.values.flatten()\n",
    "\n",
    "fig, axes = plt.subplots(2,2, figsize=(8,8))\n",
    "axes = axes.ravel()\n",
    "for i, _ in enumerate(axes):\n",
    "    \n",
    "    sampled_vals = sample_conf_mats_[:,i]\n",
    "    hist_outputs = axes[i].hist(sampled_vals, bins=200)\n",
    "    axes[i].vlines(gt_vals[i], 0, 1.01*max(hist_outputs[0]), color='blue', label='true')\n",
    "\n",
    "plt.show()"
   ]
  },
  {
   "cell_type": "markdown",
   "id": "8b64481e-15d7-43d5-a212-d3cf884bf100",
   "metadata": {},
   "source": [
    "# Numpyro"
   ]
  },
  {
   "cell_type": "code",
   "execution_count": 17,
   "id": "dcdaeb0d-17d2-4169-8f3e-ee00fb9669a7",
   "metadata": {},
   "outputs": [
    {
     "name": "stderr",
     "output_type": "stream",
     "text": [
      "/Users/jasonmyers/opt/miniconda3/envs/mmu/lib/python3.9/site-packages/jax/experimental/optimizers.py:28: FutureWarning: jax.experimental.optimizers is deprecated, import jax.example_libraries.optimizers instead\n",
      "  warnings.warn('jax.experimental.optimizers is deprecated, '\n",
      "/Users/jasonmyers/opt/miniconda3/envs/mmu/lib/python3.9/site-packages/jax/experimental/stax.py:28: FutureWarning: jax.experimental.stax is deprecated, import jax.example_libraries.stax instead\n",
      "  warnings.warn('jax.experimental.stax is deprecated, '\n"
     ]
    },
    {
     "data": {
      "application/javascript": [
       "\n",
       "            setTimeout(function() {\n",
       "                var nbb_cell_id = 17;\n",
       "                var nbb_unformatted_code = \"\\nimport numpyro\\nimport numpyro.distributions as dist\\nfrom numpyro.infer import MCMC, NUTS, Predictive\\nfrom jax import random, vmap\";\n",
       "                var nbb_formatted_code = \"import numpyro\\nimport numpyro.distributions as dist\\nfrom numpyro.infer import MCMC, NUTS, Predictive\\nfrom jax import random, vmap\";\n",
       "                var nbb_cells = Jupyter.notebook.get_cells();\n",
       "                for (var i = 0; i < nbb_cells.length; ++i) {\n",
       "                    if (nbb_cells[i].input_prompt_number == nbb_cell_id) {\n",
       "                        if (nbb_cells[i].get_text() == nbb_unformatted_code) {\n",
       "                             nbb_cells[i].set_text(nbb_formatted_code);\n",
       "                        }\n",
       "                        break;\n",
       "                    }\n",
       "                }\n",
       "            }, 500);\n",
       "            "
      ],
      "text/plain": [
       "<IPython.core.display.Javascript object>"
      ]
     },
     "metadata": {},
     "output_type": "display_data"
    }
   ],
   "source": [
    "\n",
    "import numpyro\n",
    "import numpyro.distributions as dist\n",
    "from numpyro.infer import MCMC, NUTS, Predictive\n",
    "from jax import random, vmap"
   ]
  },
  {
   "cell_type": "code",
   "execution_count": 18,
   "id": "a8b22bf2-888f-4588-9f89-1595935e272f",
   "metadata": {},
   "outputs": [
    {
     "data": {
      "application/javascript": [
       "\n",
       "            setTimeout(function() {\n",
       "                var nbb_cell_id = 18;\n",
       "                var nbb_unformatted_code = \"random_state = 42\\nn_samples=10000\\nsample_factor=1.5\\nn_warmup=500\\nthreshold=0.5\\nn_cores = multiprocessing.cpu_count() - 1\";\n",
       "                var nbb_formatted_code = \"random_state = 42\\nn_samples = 10000\\nsample_factor = 1.5\\nn_warmup = 500\\nthreshold = 0.5\\nn_cores = multiprocessing.cpu_count() - 1\";\n",
       "                var nbb_cells = Jupyter.notebook.get_cells();\n",
       "                for (var i = 0; i < nbb_cells.length; ++i) {\n",
       "                    if (nbb_cells[i].input_prompt_number == nbb_cell_id) {\n",
       "                        if (nbb_cells[i].get_text() == nbb_unformatted_code) {\n",
       "                             nbb_cells[i].set_text(nbb_formatted_code);\n",
       "                        }\n",
       "                        break;\n",
       "                    }\n",
       "                }\n",
       "            }, 500);\n",
       "            "
      ],
      "text/plain": [
       "<IPython.core.display.Javascript object>"
      ]
     },
     "metadata": {},
     "output_type": "display_data"
    }
   ],
   "source": [
    "random_state = 42\n",
    "n_samples=10000\n",
    "sample_factor=1.5\n",
    "n_warmup=500\n",
    "threshold=0.5\n",
    "n_cores = multiprocessing.cpu_count() - 1"
   ]
  },
  {
   "cell_type": "code",
   "execution_count": 19,
   "id": "ecffffe5-9925-4948-8039-ad63b15d8773",
   "metadata": {},
   "outputs": [
    {
     "data": {
      "application/javascript": [
       "\n",
       "            setTimeout(function() {\n",
       "                var nbb_cell_id = 19;\n",
       "                var nbb_unformatted_code = \"X = test_conf_mat\\n\\ntotal_count = int(X.sum())\\n\\ndata = {\\n'n': total_count,\\n'y': X.flatten(),\\n'tpr_prior': np.ones(2),\\n'tnr_prior': np.ones(2),\\n'phi_prior': np.ones(2),\\n}\";\n",
       "                var nbb_formatted_code = \"X = test_conf_mat\\n\\ntotal_count = int(X.sum())\\n\\ndata = {\\n    \\\"n\\\": total_count,\\n    \\\"y\\\": X.flatten(),\\n    \\\"tpr_prior\\\": np.ones(2),\\n    \\\"tnr_prior\\\": np.ones(2),\\n    \\\"phi_prior\\\": np.ones(2),\\n}\";\n",
       "                var nbb_cells = Jupyter.notebook.get_cells();\n",
       "                for (var i = 0; i < nbb_cells.length; ++i) {\n",
       "                    if (nbb_cells[i].input_prompt_number == nbb_cell_id) {\n",
       "                        if (nbb_cells[i].get_text() == nbb_unformatted_code) {\n",
       "                             nbb_cells[i].set_text(nbb_formatted_code);\n",
       "                        }\n",
       "                        break;\n",
       "                    }\n",
       "                }\n",
       "            }, 500);\n",
       "            "
      ],
      "text/plain": [
       "<IPython.core.display.Javascript object>"
      ]
     },
     "metadata": {},
     "output_type": "display_data"
    }
   ],
   "source": [
    "X = test_conf_mat\n",
    "\n",
    "total_count = int(X.sum())\n",
    "\n",
    "data = {\n",
    "'n': total_count,\n",
    "'y': X.flatten(),\n",
    "'tpr_prior': np.ones(2),\n",
    "'tnr_prior': np.ones(2),\n",
    "'phi_prior': np.ones(2),\n",
    "}\n"
   ]
  },
  {
   "cell_type": "code",
   "execution_count": 20,
   "id": "c68071f7-98a9-42d1-908b-f705ca4a1190",
   "metadata": {},
   "outputs": [
    {
     "data": {
      "application/javascript": [
       "\n",
       "            setTimeout(function() {\n",
       "                var nbb_cell_id = 20;\n",
       "                var nbb_unformatted_code = \"def model(tpr_prior, tnr_prior, phi_prior, n, y=None, ):\\n    \\n    phi = numpyro.sample(\\\"phi\\\", dist.Beta(phi_prior[0], phi_prior[1]))\\n    tpr = numpyro.sample(\\\"tpr\\\", dist.Beta(tpr_prior[0], tpr_prior[1]))\\n    tnr = numpyro.sample(\\\"tnr\\\", dist.Beta(tnr_prior[0], tnr_prior[1]))\\n    \\n    theta_tp = phi * tpr\\n    theta_tn = (1-phi) * tnr\\n    theta_fn = phi * (1-tpr)\\n    theta_fp = (1-phi) * (1-tnr)\\n    \\n    y0, y1, y2, y3 = y if y is not None else [None, None, None, None]\\n    \\n    numpyro.sample(\\\"y0\\\", dist.Binomial(n, theta_tp), obs=y0)\\n    numpyro.sample(\\\"y1\\\", dist.Binomial(n, theta_tn), obs=y1)\\n    numpyro.sample(\\\"y2\\\", dist.Binomial(n, theta_fn), obs=y2)\\n    numpyro.sample(\\\"y3\\\", dist.Binomial(n, theta_fp), obs=y3)\";\n",
       "                var nbb_formatted_code = \"def model(\\n    tpr_prior,\\n    tnr_prior,\\n    phi_prior,\\n    n,\\n    y=None,\\n):\\n\\n    phi = numpyro.sample(\\\"phi\\\", dist.Beta(phi_prior[0], phi_prior[1]))\\n    tpr = numpyro.sample(\\\"tpr\\\", dist.Beta(tpr_prior[0], tpr_prior[1]))\\n    tnr = numpyro.sample(\\\"tnr\\\", dist.Beta(tnr_prior[0], tnr_prior[1]))\\n\\n    theta_tp = phi * tpr\\n    theta_tn = (1 - phi) * tnr\\n    theta_fn = phi * (1 - tpr)\\n    theta_fp = (1 - phi) * (1 - tnr)\\n\\n    y0, y1, y2, y3 = y if y is not None else [None, None, None, None]\\n\\n    numpyro.sample(\\\"y0\\\", dist.Binomial(n, theta_tp), obs=y0)\\n    numpyro.sample(\\\"y1\\\", dist.Binomial(n, theta_tn), obs=y1)\\n    numpyro.sample(\\\"y2\\\", dist.Binomial(n, theta_fn), obs=y2)\\n    numpyro.sample(\\\"y3\\\", dist.Binomial(n, theta_fp), obs=y3)\";\n",
       "                var nbb_cells = Jupyter.notebook.get_cells();\n",
       "                for (var i = 0; i < nbb_cells.length; ++i) {\n",
       "                    if (nbb_cells[i].input_prompt_number == nbb_cell_id) {\n",
       "                        if (nbb_cells[i].get_text() == nbb_unformatted_code) {\n",
       "                             nbb_cells[i].set_text(nbb_formatted_code);\n",
       "                        }\n",
       "                        break;\n",
       "                    }\n",
       "                }\n",
       "            }, 500);\n",
       "            "
      ],
      "text/plain": [
       "<IPython.core.display.Javascript object>"
      ]
     },
     "metadata": {},
     "output_type": "display_data"
    }
   ],
   "source": [
    "def model(tpr_prior, tnr_prior, phi_prior, n, y=None, ):\n",
    "    \n",
    "    phi = numpyro.sample(\"phi\", dist.Beta(phi_prior[0], phi_prior[1]))\n",
    "    tpr = numpyro.sample(\"tpr\", dist.Beta(tpr_prior[0], tpr_prior[1]))\n",
    "    tnr = numpyro.sample(\"tnr\", dist.Beta(tnr_prior[0], tnr_prior[1]))\n",
    "    \n",
    "    theta_tp = phi * tpr\n",
    "    theta_tn = (1-phi) * tnr\n",
    "    theta_fn = phi * (1-tpr)\n",
    "    theta_fp = (1-phi) * (1-tnr)\n",
    "    \n",
    "    y0, y1, y2, y3 = y if y is not None else [None, None, None, None]\n",
    "    \n",
    "    numpyro.sample(\"y0\", dist.Binomial(n, theta_tp), obs=y0)\n",
    "    numpyro.sample(\"y1\", dist.Binomial(n, theta_tn), obs=y1)\n",
    "    numpyro.sample(\"y2\", dist.Binomial(n, theta_fn), obs=y2)\n",
    "    numpyro.sample(\"y3\", dist.Binomial(n, theta_fp), obs=y3)"
   ]
  },
  {
   "cell_type": "code",
   "execution_count": 21,
   "id": "1bf62333-b2ae-41c0-b779-26711a16a3b4",
   "metadata": {},
   "outputs": [
    {
     "name": "stderr",
     "output_type": "stream",
     "text": [
      "sample: 100%|█| 10500/10500 [00:04<00:00, 2239.75it/s, 3 steps of\n"
     ]
    },
    {
     "name": "stdout",
     "output_type": "stream",
     "text": [
      "\n",
      "                mean       std    median      5.0%     95.0%     n_eff     r_hat\n",
      "       phi      0.47      0.00      0.47      0.47      0.48  10552.36      1.00\n",
      "       tnr      0.06      0.00      0.06      0.05      0.06   7947.39      1.00\n",
      "       tpr      0.94      0.00      0.94      0.93      0.94   8268.60      1.00\n",
      "\n",
      "Number of divergences: 0\n"
     ]
    },
    {
     "data": {
      "application/javascript": [
       "\n",
       "            setTimeout(function() {\n",
       "                var nbb_cell_id = 21;\n",
       "                var nbb_unformatted_code = \"# Start from this source of randomness. We will split keys for subsequent operations.\\nrng_key = random.PRNGKey(42)\\nrng_key, rng_key_ = random.split(rng_key)\\n\\n# Run NUTS.\\nkernel = NUTS(model)\\nmcmc = MCMC(kernel, num_warmup=n_warmup, num_samples=n_samples)\\nmcmc.run(\\n    rng_key_, \\n    n=data['n'], \\n    y=data['y'], \\n    tpr_prior=data['tpr_prior'], \\n    tnr_prior=data['tnr_prior'], \\n    phi_prior=data['phi_prior']\\n)\\nmcmc.print_summary()\\nsamples_1 = mcmc.get_samples()\";\n",
       "                var nbb_formatted_code = \"# Start from this source of randomness. We will split keys for subsequent operations.\\nrng_key = random.PRNGKey(42)\\nrng_key, rng_key_ = random.split(rng_key)\\n\\n# Run NUTS.\\nkernel = NUTS(model)\\nmcmc = MCMC(kernel, num_warmup=n_warmup, num_samples=n_samples)\\nmcmc.run(\\n    rng_key_,\\n    n=data[\\\"n\\\"],\\n    y=data[\\\"y\\\"],\\n    tpr_prior=data[\\\"tpr_prior\\\"],\\n    tnr_prior=data[\\\"tnr_prior\\\"],\\n    phi_prior=data[\\\"phi_prior\\\"],\\n)\\nmcmc.print_summary()\\nsamples_1 = mcmc.get_samples()\";\n",
       "                var nbb_cells = Jupyter.notebook.get_cells();\n",
       "                for (var i = 0; i < nbb_cells.length; ++i) {\n",
       "                    if (nbb_cells[i].input_prompt_number == nbb_cell_id) {\n",
       "                        if (nbb_cells[i].get_text() == nbb_unformatted_code) {\n",
       "                             nbb_cells[i].set_text(nbb_formatted_code);\n",
       "                        }\n",
       "                        break;\n",
       "                    }\n",
       "                }\n",
       "            }, 500);\n",
       "            "
      ],
      "text/plain": [
       "<IPython.core.display.Javascript object>"
      ]
     },
     "metadata": {},
     "output_type": "display_data"
    }
   ],
   "source": [
    "# Start from this source of randomness. We will split keys for subsequent operations.\n",
    "rng_key = random.PRNGKey(42)\n",
    "rng_key, rng_key_ = random.split(rng_key)\n",
    "\n",
    "# Run NUTS.\n",
    "kernel = NUTS(model)\n",
    "mcmc = MCMC(kernel, num_warmup=n_warmup, num_samples=n_samples)\n",
    "mcmc.run(\n",
    "    rng_key_, \n",
    "    n=data['n'], \n",
    "    y=data['y'], \n",
    "    tpr_prior=data['tpr_prior'], \n",
    "    tnr_prior=data['tnr_prior'], \n",
    "    phi_prior=data['phi_prior']\n",
    ")\n",
    "mcmc.print_summary()\n",
    "samples_1 = mcmc.get_samples()"
   ]
  },
  {
   "cell_type": "code",
   "execution_count": 23,
   "id": "2c12148a-4415-4848-b7ef-034258fb7bad",
   "metadata": {},
   "outputs": [
    {
     "data": {
      "application/javascript": [
       "\n",
       "            setTimeout(function() {\n",
       "                var nbb_cell_id = 23;\n",
       "                var nbb_unformatted_code = \"predictive = Predictive(model, posterior_samples=samples_1)\";\n",
       "                var nbb_formatted_code = \"predictive = Predictive(model, posterior_samples=samples_1)\";\n",
       "                var nbb_cells = Jupyter.notebook.get_cells();\n",
       "                for (var i = 0; i < nbb_cells.length; ++i) {\n",
       "                    if (nbb_cells[i].input_prompt_number == nbb_cell_id) {\n",
       "                        if (nbb_cells[i].get_text() == nbb_unformatted_code) {\n",
       "                             nbb_cells[i].set_text(nbb_formatted_code);\n",
       "                        }\n",
       "                        break;\n",
       "                    }\n",
       "                }\n",
       "            }, 500);\n",
       "            "
      ],
      "text/plain": [
       "<IPython.core.display.Javascript object>"
      ]
     },
     "metadata": {},
     "output_type": "display_data"
    }
   ],
   "source": [
    "predictive = Predictive(model, posterior_samples=samples_1)"
   ]
  },
  {
   "cell_type": "code",
   "execution_count": 24,
   "id": "7350aa09-975b-4072-854d-c570e0a2d394",
   "metadata": {},
   "outputs": [
    {
     "data": {
      "application/javascript": [
       "\n",
       "            setTimeout(function() {\n",
       "                var nbb_cell_id = 24;\n",
       "                var nbb_unformatted_code = \"output_pred = predictive(\\n    rng_key_, \\n    n=data['n'], \\n    tpr_prior=data['tpr_prior'], \\n    tnr_prior=data['tnr_prior'], \\n    phi_prior=data['phi_prior']\\n)\";\n",
       "                var nbb_formatted_code = \"output_pred = predictive(\\n    rng_key_,\\n    n=data[\\\"n\\\"],\\n    tpr_prior=data[\\\"tpr_prior\\\"],\\n    tnr_prior=data[\\\"tnr_prior\\\"],\\n    phi_prior=data[\\\"phi_prior\\\"],\\n)\";\n",
       "                var nbb_cells = Jupyter.notebook.get_cells();\n",
       "                for (var i = 0; i < nbb_cells.length; ++i) {\n",
       "                    if (nbb_cells[i].input_prompt_number == nbb_cell_id) {\n",
       "                        if (nbb_cells[i].get_text() == nbb_unformatted_code) {\n",
       "                             nbb_cells[i].set_text(nbb_formatted_code);\n",
       "                        }\n",
       "                        break;\n",
       "                    }\n",
       "                }\n",
       "            }, 500);\n",
       "            "
      ],
      "text/plain": [
       "<IPython.core.display.Javascript object>"
      ]
     },
     "metadata": {},
     "output_type": "display_data"
    }
   ],
   "source": [
    "output_pred = predictive(\n",
    "    rng_key_, \n",
    "    n=data['n'], \n",
    "    tpr_prior=data['tpr_prior'], \n",
    "    tnr_prior=data['tnr_prior'], \n",
    "    phi_prior=data['phi_prior']\n",
    ")"
   ]
  },
  {
   "cell_type": "code",
   "execution_count": 27,
   "id": "ab28f96d-4920-475d-abf8-39d74d25d156",
   "metadata": {},
   "outputs": [
    {
     "data": {
      "image/png": "[encoded data removed]",
      "text/plain": [
       "<Figure size 576x576 with 4 Axes>"
      ]
     },
     "metadata": {},
     "output_type": "display_data"
    },
    {
     "data": {
      "application/javascript": [
       "\n",
       "            setTimeout(function() {\n",
       "                var nbb_cell_id = 27;\n",
       "                var nbb_unformatted_code = \"gt_vals = gt_confusion_matrix.values.flatten()\\n\\nfig, axes = plt.subplots(2,2, figsize=(8,8))\\naxes = axes.ravel()\\nfor i, _ in enumerate(axes):\\n    \\n    sampled_vals = np.array(output_pred[f'y{i}'])\\n    hist_outputs = axes[i].hist(sampled_vals, bins=200)\\n    axes[i].vlines(gt_vals[i], 0, 1.01*max(hist_outputs[0]), color='blue', label='true')\\n\\nplt.show()\";\n",
       "                var nbb_formatted_code = \"gt_vals = gt_confusion_matrix.values.flatten()\\n\\nfig, axes = plt.subplots(2, 2, figsize=(8, 8))\\naxes = axes.ravel()\\nfor i, _ in enumerate(axes):\\n\\n    sampled_vals = np.array(output_pred[f\\\"y{i}\\\"])\\n    hist_outputs = axes[i].hist(sampled_vals, bins=200)\\n    axes[i].vlines(\\n        gt_vals[i], 0, 1.01 * max(hist_outputs[0]), color=\\\"blue\\\", label=\\\"true\\\"\\n    )\\n\\nplt.show()\";\n",
       "                var nbb_cells = Jupyter.notebook.get_cells();\n",
       "                for (var i = 0; i < nbb_cells.length; ++i) {\n",
       "                    if (nbb_cells[i].input_prompt_number == nbb_cell_id) {\n",
       "                        if (nbb_cells[i].get_text() == nbb_unformatted_code) {\n",
       "                             nbb_cells[i].set_text(nbb_formatted_code);\n",
       "                        }\n",
       "                        break;\n",
       "                    }\n",
       "                }\n",
       "            }, 500);\n",
       "            "
      ],
      "text/plain": [
       "<IPython.core.display.Javascript object>"
      ]
     },
     "metadata": {},
     "output_type": "display_data"
    }
   ],
   "source": [
    "gt_vals = gt_confusion_matrix.values.flatten()\n",
    "\n",
    "fig, axes = plt.subplots(2,2, figsize=(8,8))\n",
    "axes = axes.ravel()\n",
    "for i, _ in enumerate(axes):\n",
    "    \n",
    "    sampled_vals = np.array(output_pred[f'y{i}'])\n",
    "    hist_outputs = axes[i].hist(sampled_vals, bins=200)\n",
    "    axes[i].vlines(gt_vals[i], 0, 1.01*max(hist_outputs[0]), color='blue', label='true')\n",
    "\n",
    "plt.show()"
   ]
  },
  {
   "cell_type": "markdown",
   "id": "c681d08e-c15c-443d-8532-44aa879f650d",
   "metadata": {},
   "source": [
    "# tensor flow probability"
   ]
  },
  {
   "cell_type": "code",
   "execution_count": 18,
   "id": "e0b9d41b-1bcf-4679-92f8-4bc7d0642053",
   "metadata": {},
   "outputs": [
    {
     "data": {
      "application/javascript": [
       "\n",
       "            setTimeout(function() {\n",
       "                var nbb_cell_id = 18;\n",
       "                var nbb_unformatted_code = \"import tensorflow as tf\\nimport tensorflow_probability as tfp\\ntfd = tfp.distributions\";\n",
       "                var nbb_formatted_code = \"import tensorflow as tf\\nimport tensorflow_probability as tfp\\n\\ntfd = tfp.distributions\";\n",
       "                var nbb_cells = Jupyter.notebook.get_cells();\n",
       "                for (var i = 0; i < nbb_cells.length; ++i) {\n",
       "                    if (nbb_cells[i].input_prompt_number == nbb_cell_id) {\n",
       "                        if (nbb_cells[i].get_text() == nbb_unformatted_code) {\n",
       "                             nbb_cells[i].set_text(nbb_formatted_code);\n",
       "                        }\n",
       "                        break;\n",
       "                    }\n",
       "                }\n",
       "            }, 500);\n",
       "            "
      ],
      "text/plain": [
       "<IPython.core.display.Javascript object>"
      ]
     },
     "metadata": {},
     "output_type": "display_data"
    }
   ],
   "source": [
    "import tensorflow as tf\n",
    "import tensorflow_probability as tfp\n",
    "tfd = tfp.distributions"
   ]
  },
  {
   "cell_type": "code",
   "execution_count": 19,
   "id": "e38265f7-b66f-48b9-8d56-9743440197c1",
   "metadata": {},
   "outputs": [
    {
     "data": {
      "application/javascript": [
       "\n",
       "            setTimeout(function() {\n",
       "                var nbb_cell_id = 19;\n",
       "                var nbb_unformatted_code = \"random_state = 42\\nn_samples=10000\\nsample_factor=1.5\\nn_warmup=500\\nthreshold=0.5\\nn_cores = multiprocessing.cpu_count() - 1\";\n",
       "                var nbb_formatted_code = \"random_state = 42\\nn_samples = 10000\\nsample_factor = 1.5\\nn_warmup = 500\\nthreshold = 0.5\\nn_cores = multiprocessing.cpu_count() - 1\";\n",
       "                var nbb_cells = Jupyter.notebook.get_cells();\n",
       "                for (var i = 0; i < nbb_cells.length; ++i) {\n",
       "                    if (nbb_cells[i].input_prompt_number == nbb_cell_id) {\n",
       "                        if (nbb_cells[i].get_text() == nbb_unformatted_code) {\n",
       "                             nbb_cells[i].set_text(nbb_formatted_code);\n",
       "                        }\n",
       "                        break;\n",
       "                    }\n",
       "                }\n",
       "            }, 500);\n",
       "            "
      ],
      "text/plain": [
       "<IPython.core.display.Javascript object>"
      ]
     },
     "metadata": {},
     "output_type": "display_data"
    }
   ],
   "source": [
    "random_state = 42\n",
    "n_samples=10000\n",
    "sample_factor=1.5\n",
    "n_warmup=500\n",
    "threshold=0.5\n",
    "n_cores = multiprocessing.cpu_count() - 1"
   ]
  },
  {
   "cell_type": "code",
   "execution_count": 20,
   "id": "c42c3615-9083-4f17-8036-04be2c869865",
   "metadata": {},
   "outputs": [
    {
     "data": {
      "application/javascript": [
       "\n",
       "            setTimeout(function() {\n",
       "                var nbb_cell_id = 20;\n",
       "                var nbb_unformatted_code = \"X = test_conf_mat\\n\\ntotal_count = int(X.sum())\\n\\ndata = {\\n    'n': total_count,\\n    'y': X.flatten().astype('float32'),\\n    'tpr_prior': np.ones(2).astype('float32'),\\n    'tnr_prior': np.ones(2).astype('float32'),\\n    'phi_prior': np.ones(2).astype('float32'),\\n}\";\n",
       "                var nbb_formatted_code = \"X = test_conf_mat\\n\\ntotal_count = int(X.sum())\\n\\ndata = {\\n    \\\"n\\\": total_count,\\n    \\\"y\\\": X.flatten().astype(\\\"float32\\\"),\\n    \\\"tpr_prior\\\": np.ones(2).astype(\\\"float32\\\"),\\n    \\\"tnr_prior\\\": np.ones(2).astype(\\\"float32\\\"),\\n    \\\"phi_prior\\\": np.ones(2).astype(\\\"float32\\\"),\\n}\";\n",
       "                var nbb_cells = Jupyter.notebook.get_cells();\n",
       "                for (var i = 0; i < nbb_cells.length; ++i) {\n",
       "                    if (nbb_cells[i].input_prompt_number == nbb_cell_id) {\n",
       "                        if (nbb_cells[i].get_text() == nbb_unformatted_code) {\n",
       "                             nbb_cells[i].set_text(nbb_formatted_code);\n",
       "                        }\n",
       "                        break;\n",
       "                    }\n",
       "                }\n",
       "            }, 500);\n",
       "            "
      ],
      "text/plain": [
       "<IPython.core.display.Javascript object>"
      ]
     },
     "metadata": {},
     "output_type": "display_data"
    }
   ],
   "source": [
    "X = test_conf_mat\n",
    "\n",
    "total_count = int(X.sum())\n",
    "\n",
    "data = {\n",
    "    'n': total_count,\n",
    "    'y': X.flatten().astype('float32'),\n",
    "    'tpr_prior': np.ones(2).astype('float32'),\n",
    "    'tnr_prior': np.ones(2).astype('float32'),\n",
    "    'phi_prior': np.ones(2).astype('float32'),\n",
    "}"
   ]
  },
  {
   "cell_type": "code",
   "execution_count": 21,
   "id": "12833799-f049-47e0-a3e5-b39308c1ec70",
   "metadata": {},
   "outputs": [
    {
     "data": {
      "application/javascript": [
       "\n",
       "            setTimeout(function() {\n",
       "                var nbb_cell_id = 21;\n",
       "                var nbb_unformatted_code = \"def build_model():\\n    # Prior Distribution.\\n    tpr = tfd.Beta(\\n      concentration1=data['tpr_prior'][0], concentration0=data['tpr_prior'][1]\\n    )\\n    tnr = tfd.Beta(\\n      concentration1=data['tnr_prior'][0], concentration0=data['tnr_prior'][1]\\n    )\\n    phi = tfd.Beta(\\n      concentration1=data['phi_prior'][0], concentration0=data['phi_prior'][1]\\n    )\\n    # Likelihood: Independent samples of a Poisson distribution. \\n    y0 = lambda phi, tpr: tfd.Binomial(total_count=data['n'], probs=phi * tpr)\\n    y1 = lambda phi, tnr: tfd.Binomial(total_count=data['n'], probs=(1-phi) * tnr)\\n    y2 = lambda phi, tpr: tfd.Binomial(total_count=data['n'], probs=phi * (1-tpr))\\n    y3 = lambda phi, tnr: tfd.Binomial(total_count=data['n'], probs=(1-phi) * (1-tnr))\\n    \\n    return tfd.JointDistributionNamed(dict(phi=phi, tnr=tnr, tpr=tpr, y0=y0, y1=y1, y2=y2, y3=y3))\\n\\ndef target_log_prob_fn(phi, tnr, tpr):\\n    model2 = build_model()\\n    return model2.log_prob(\\n        phi=phi, tnr=tnr, tpr=tpr, y0=data['y'][0], y1=data['y'][1], y2=data['y'][2], y3=data['y'][3]\\n    )\";\n",
       "                var nbb_formatted_code = \"def build_model():\\n    # Prior Distribution.\\n    tpr = tfd.Beta(\\n        concentration1=data[\\\"tpr_prior\\\"][0], concentration0=data[\\\"tpr_prior\\\"][1]\\n    )\\n    tnr = tfd.Beta(\\n        concentration1=data[\\\"tnr_prior\\\"][0], concentration0=data[\\\"tnr_prior\\\"][1]\\n    )\\n    phi = tfd.Beta(\\n        concentration1=data[\\\"phi_prior\\\"][0], concentration0=data[\\\"phi_prior\\\"][1]\\n    )\\n    # Likelihood: Independent samples of a Poisson distribution.\\n    y0 = lambda phi, tpr: tfd.Binomial(total_count=data[\\\"n\\\"], probs=phi * tpr)\\n    y1 = lambda phi, tnr: tfd.Binomial(total_count=data[\\\"n\\\"], probs=(1 - phi) * tnr)\\n    y2 = lambda phi, tpr: tfd.Binomial(total_count=data[\\\"n\\\"], probs=phi * (1 - tpr))\\n    y3 = lambda phi, tnr: tfd.Binomial(\\n        total_count=data[\\\"n\\\"], probs=(1 - phi) * (1 - tnr)\\n    )\\n\\n    return tfd.JointDistributionNamed(\\n        dict(phi=phi, tnr=tnr, tpr=tpr, y0=y0, y1=y1, y2=y2, y3=y3)\\n    )\\n\\n\\ndef target_log_prob_fn(phi, tnr, tpr):\\n    model2 = build_model()\\n    return model2.log_prob(\\n        phi=phi,\\n        tnr=tnr,\\n        tpr=tpr,\\n        y0=data[\\\"y\\\"][0],\\n        y1=data[\\\"y\\\"][1],\\n        y2=data[\\\"y\\\"][2],\\n        y3=data[\\\"y\\\"][3],\\n    )\";\n",
       "                var nbb_cells = Jupyter.notebook.get_cells();\n",
       "                for (var i = 0; i < nbb_cells.length; ++i) {\n",
       "                    if (nbb_cells[i].input_prompt_number == nbb_cell_id) {\n",
       "                        if (nbb_cells[i].get_text() == nbb_unformatted_code) {\n",
       "                             nbb_cells[i].set_text(nbb_formatted_code);\n",
       "                        }\n",
       "                        break;\n",
       "                    }\n",
       "                }\n",
       "            }, 500);\n",
       "            "
      ],
      "text/plain": [
       "<IPython.core.display.Javascript object>"
      ]
     },
     "metadata": {},
     "output_type": "display_data"
    }
   ],
   "source": [
    "def build_model():\n",
    "    # Prior Distribution.\n",
    "    tpr = tfd.Beta(\n",
    "      concentration1=data['tpr_prior'][0], concentration0=data['tpr_prior'][1]\n",
    "    )\n",
    "    tnr = tfd.Beta(\n",
    "      concentration1=data['tnr_prior'][0], concentration0=data['tnr_prior'][1]\n",
    "    )\n",
    "    phi = tfd.Beta(\n",
    "      concentration1=data['phi_prior'][0], concentration0=data['phi_prior'][1]\n",
    "    )\n",
    "    # Likelihood: Independent samples of a Poisson distribution. \n",
    "    y0 = lambda phi, tpr: tfd.Binomial(total_count=data['n'], probs=phi * tpr)\n",
    "    y1 = lambda phi, tnr: tfd.Binomial(total_count=data['n'], probs=(1-phi) * tnr)\n",
    "    y2 = lambda phi, tpr: tfd.Binomial(total_count=data['n'], probs=phi * (1-tpr))\n",
    "    y3 = lambda phi, tnr: tfd.Binomial(total_count=data['n'], probs=(1-phi) * (1-tnr))\n",
    "    \n",
    "    return tfd.JointDistributionNamed(dict(phi=phi, tnr=tnr, tpr=tpr, y0=y0, y1=y1, y2=y2, y3=y3))\n",
    "\n",
    "def target_log_prob_fn(phi, tnr, tpr):\n",
    "    model2 = build_model()\n",
    "    return model2.log_prob(\n",
    "        phi=phi, tnr=tnr, tpr=tpr, y0=data['y'][0], y1=data['y'][1], y2=data['y'][2], y3=data['y'][3]\n",
    "    )"
   ]
  },
  {
   "cell_type": "code",
   "execution_count": 22,
   "id": "106e3d79-cb3d-4e87-b0e4-a1948b478c9c",
   "metadata": {
    "scrolled": true,
    "tags": []
   },
   "outputs": [
    {
     "data": {
      "application/javascript": [
       "\n",
       "            setTimeout(function() {\n",
       "                var nbb_cell_id = 22;\n",
       "                var nbb_unformatted_code = \"\\nkernel = tfp.mcmc.HamiltonianMonteCarlo(\\n    target_log_prob_fn= target_log_prob_fn,\\n    step_size=0.1,\\n    num_leapfrog_steps=3\\n)\\n\\nadaptive_hmc = tfp.mcmc.SimpleStepSizeAdaptation(\\n    inner_kernel = kernel,\\n    num_adaptation_steps=int(n_warmup * 0.8)\\n)\";\n",
       "                var nbb_formatted_code = \"kernel = tfp.mcmc.HamiltonianMonteCarlo(\\n    target_log_prob_fn=target_log_prob_fn, step_size=0.1, num_leapfrog_steps=3\\n)\\n\\nadaptive_hmc = tfp.mcmc.SimpleStepSizeAdaptation(\\n    inner_kernel=kernel, num_adaptation_steps=int(n_warmup * 0.8)\\n)\";\n",
       "                var nbb_cells = Jupyter.notebook.get_cells();\n",
       "                for (var i = 0; i < nbb_cells.length; ++i) {\n",
       "                    if (nbb_cells[i].input_prompt_number == nbb_cell_id) {\n",
       "                        if (nbb_cells[i].get_text() == nbb_unformatted_code) {\n",
       "                             nbb_cells[i].set_text(nbb_formatted_code);\n",
       "                        }\n",
       "                        break;\n",
       "                    }\n",
       "                }\n",
       "            }, 500);\n",
       "            "
      ],
      "text/plain": [
       "<IPython.core.display.Javascript object>"
      ]
     },
     "metadata": {},
     "output_type": "display_data"
    }
   ],
   "source": [
    "\n",
    "kernel = tfp.mcmc.HamiltonianMonteCarlo(\n",
    "    target_log_prob_fn= target_log_prob_fn,\n",
    "    step_size=0.1,\n",
    "    num_leapfrog_steps=3\n",
    ")\n",
    "\n",
    "adaptive_hmc = tfp.mcmc.SimpleStepSizeAdaptation(\n",
    "    inner_kernel = kernel,\n",
    "    num_adaptation_steps=int(n_warmup * 0.8)\n",
    ")"
   ]
  },
  {
   "cell_type": "code",
   "execution_count": 23,
   "id": "658a8b00-f77c-43f3-9386-e735df9b6461",
   "metadata": {},
   "outputs": [
    {
     "data": {
      "application/javascript": [
       "\n",
       "            setTimeout(function() {\n",
       "                var nbb_cell_id = 23;\n",
       "                var nbb_unformatted_code = \"init_state = [\\n    tf.convert_to_tensor([0.9], dtype='float32'), \\n    tf.convert_to_tensor([0.9], dtype='float32'),\\n    tf.convert_to_tensor([0.9], dtype='float32')\\n]\";\n",
       "                var nbb_formatted_code = \"init_state = [\\n    tf.convert_to_tensor([0.9], dtype=\\\"float32\\\"),\\n    tf.convert_to_tensor([0.9], dtype=\\\"float32\\\"),\\n    tf.convert_to_tensor([0.9], dtype=\\\"float32\\\"),\\n]\";\n",
       "                var nbb_cells = Jupyter.notebook.get_cells();\n",
       "                for (var i = 0; i < nbb_cells.length; ++i) {\n",
       "                    if (nbb_cells[i].input_prompt_number == nbb_cell_id) {\n",
       "                        if (nbb_cells[i].get_text() == nbb_unformatted_code) {\n",
       "                             nbb_cells[i].set_text(nbb_formatted_code);\n",
       "                        }\n",
       "                        break;\n",
       "                    }\n",
       "                }\n",
       "            }, 500);\n",
       "            "
      ],
      "text/plain": [
       "<IPython.core.display.Javascript object>"
      ]
     },
     "metadata": {},
     "output_type": "display_data"
    }
   ],
   "source": [
    "init_state = [\n",
    "    tf.convert_to_tensor([0.9], dtype='float32'), \n",
    "    tf.convert_to_tensor([0.9], dtype='float32'),\n",
    "    tf.convert_to_tensor([0.9], dtype='float32')\n",
    "]"
   ]
  },
  {
   "cell_type": "code",
   "execution_count": 24,
   "id": "1837b206-6696-43de-a6f6-a4cf7d2810a7",
   "metadata": {},
   "outputs": [
    {
     "name": "stdout",
     "output_type": "stream",
     "text": [
      "WARNING:tensorflow:@custom_gradient grad_fn has 'variables' in signature, but no ResourceVariables were used on the forward pass.\n",
      "WARNING:tensorflow:@custom_gradient grad_fn has 'variables' in signature, but no ResourceVariables were used on the forward pass.\n",
      "WARNING:tensorflow:@custom_gradient grad_fn has 'variables' in signature, but no ResourceVariables were used on the forward pass.\n",
      "WARNING:tensorflow:@custom_gradient grad_fn has 'variables' in signature, but no ResourceVariables were used on the forward pass.\n",
      "WARNING:tensorflow:@custom_gradient grad_fn has 'variables' in signature, but no ResourceVariables were used on the forward pass.\n",
      "WARNING:tensorflow:@custom_gradient grad_fn has 'variables' in signature, but no ResourceVariables were used on the forward pass.\n",
      "WARNING:tensorflow:@custom_gradient grad_fn has 'variables' in signature, but no ResourceVariables were used on the forward pass.\n",
      "WARNING:tensorflow:@custom_gradient grad_fn has 'variables' in signature, but no ResourceVariables were used on the forward pass.\n",
      "WARNING:tensorflow:@custom_gradient grad_fn has 'variables' in signature, but no ResourceVariables were used on the forward pass.\n",
      "WARNING:tensorflow:@custom_gradient grad_fn has 'variables' in signature, but no ResourceVariables were used on the forward pass.\n",
      "WARNING:tensorflow:@custom_gradient grad_fn has 'variables' in signature, but no ResourceVariables were used on the forward pass.\n",
      "WARNING:tensorflow:@custom_gradient grad_fn has 'variables' in signature, but no ResourceVariables were used on the forward pass.\n",
      "WARNING:tensorflow:@custom_gradient grad_fn has 'variables' in signature, but no ResourceVariables were used on the forward pass.\n",
      "WARNING:tensorflow:@custom_gradient grad_fn has 'variables' in signature, but no ResourceVariables were used on the forward pass.\n",
      "WARNING:tensorflow:@custom_gradient grad_fn has 'variables' in signature, but no ResourceVariables were used on the forward pass.\n",
      "WARNING:tensorflow:@custom_gradient grad_fn has 'variables' in signature, but no ResourceVariables were used on the forward pass.\n",
      "WARNING:tensorflow:@custom_gradient grad_fn has 'variables' in signature, but no ResourceVariables were used on the forward pass.\n",
      "WARNING:tensorflow:@custom_gradient grad_fn has 'variables' in signature, but no ResourceVariables were used on the forward pass.\n",
      "WARNING:tensorflow:@custom_gradient grad_fn has 'variables' in signature, but no ResourceVariables were used on the forward pass.\n",
      "WARNING:tensorflow:@custom_gradient grad_fn has 'variables' in signature, but no ResourceVariables were used on the forward pass.\n",
      "WARNING:tensorflow:@custom_gradient grad_fn has 'variables' in signature, but no ResourceVariables were used on the forward pass.\n",
      "WARNING:tensorflow:@custom_gradient grad_fn has 'variables' in signature, but no ResourceVariables were used on the forward pass.\n",
      "WARNING:tensorflow:@custom_gradient grad_fn has 'variables' in signature, but no ResourceVariables were used on the forward pass.\n",
      "WARNING:tensorflow:@custom_gradient grad_fn has 'variables' in signature, but no ResourceVariables were used on the forward pass.\n",
      "WARNING:tensorflow:@custom_gradient grad_fn has 'variables' in signature, but no ResourceVariables were used on the forward pass.\n"
     ]
    },
    {
     "data": {
      "application/javascript": [
       "\n",
       "            setTimeout(function() {\n",
       "                var nbb_cell_id = 24;\n",
       "                var nbb_unformatted_code = \"@tf.function\\ndef do_sampling():\\n    return tfp.mcmc.sample_chain(\\n        num_results=n_samples,\\n        num_burnin_steps=n_warmup,\\n        current_state=init_state,\\n        kernel=adaptive_hmc,\\n        trace_fn=lambda _, pkr: pkr.inner_results.is_accepted\\n    )\\n\\nstates, kernel_results = do_sampling()\";\n",
       "                var nbb_formatted_code = \"@tf.function\\ndef do_sampling():\\n    return tfp.mcmc.sample_chain(\\n        num_results=n_samples,\\n        num_burnin_steps=n_warmup,\\n        current_state=init_state,\\n        kernel=adaptive_hmc,\\n        trace_fn=lambda _, pkr: pkr.inner_results.is_accepted,\\n    )\\n\\n\\nstates, kernel_results = do_sampling()\";\n",
       "                var nbb_cells = Jupyter.notebook.get_cells();\n",
       "                for (var i = 0; i < nbb_cells.length; ++i) {\n",
       "                    if (nbb_cells[i].input_prompt_number == nbb_cell_id) {\n",
       "                        if (nbb_cells[i].get_text() == nbb_unformatted_code) {\n",
       "                             nbb_cells[i].set_text(nbb_formatted_code);\n",
       "                        }\n",
       "                        break;\n",
       "                    }\n",
       "                }\n",
       "            }, 500);\n",
       "            "
      ],
      "text/plain": [
       "<IPython.core.display.Javascript object>"
      ]
     },
     "metadata": {},
     "output_type": "display_data"
    }
   ],
   "source": [
    "@tf.function\n",
    "def do_sampling():\n",
    "    return tfp.mcmc.sample_chain(\n",
    "        num_results=n_samples,\n",
    "        num_burnin_steps=n_warmup,\n",
    "        current_state=init_state,\n",
    "        kernel=adaptive_hmc,\n",
    "        trace_fn=lambda _, pkr: pkr.inner_results.is_accepted\n",
    "    )\n",
    "\n",
    "states, kernel_results = do_sampling()"
   ]
  },
  {
   "cell_type": "code",
   "execution_count": 25,
   "id": "72aa7772-fc8a-4aff-a97e-38ec5ba9e227",
   "metadata": {},
   "outputs": [
    {
     "data": {
      "image/png": "[encoded data removed]",
      "text/plain": [
       "<Figure size 576x576 with 4 Axes>"
      ]
     },
     "metadata": {},
     "output_type": "display_data"
    },
    {
     "data": {
      "application/javascript": [
       "\n",
       "            setTimeout(function() {\n",
       "                var nbb_cell_id = 25;\n",
       "                var nbb_unformatted_code = \"phi_post=states[0]\\ntnr_post=states[1]\\ntpr_post=states[2]\\n\\ny0 = tfd.Binomial(total_count=data['n'], probs=phi_post * tpr_post)\\ny1 = tfd.Binomial(total_count=data['n'], probs=(1-phi_post) * tnr_post)\\ny2 = tfd.Binomial(total_count=data['n'], probs=phi_post * (1-tpr_post))\\ny3 = tfd.Binomial(total_count=data['n'], probs=(1-phi_post) * (1-tnr_post))\\n\\ny = [y0, y1, y2, y3]\\n\\n\\ngt_vals = gt_confusion_matrix.values.flatten()\\n\\nfig, axes = plt.subplots(2,2, figsize=(8,8))\\naxes = axes.ravel()\\nfor i, _ in enumerate(axes):\\n    \\n    sampled_vals = y[i].sample().numpy()\\n    hist_outputs = axes[i].hist(sampled_vals, bins=200)\\n    axes[i].vlines(gt_vals[i], 0, 1.01*max(hist_outputs[0]), color='blue', label='true')\\n\\nplt.show()\";\n",
       "                var nbb_formatted_code = \"phi_post = states[0]\\ntnr_post = states[1]\\ntpr_post = states[2]\\n\\ny0 = tfd.Binomial(total_count=data[\\\"n\\\"], probs=phi_post * tpr_post)\\ny1 = tfd.Binomial(total_count=data[\\\"n\\\"], probs=(1 - phi_post) * tnr_post)\\ny2 = tfd.Binomial(total_count=data[\\\"n\\\"], probs=phi_post * (1 - tpr_post))\\ny3 = tfd.Binomial(total_count=data[\\\"n\\\"], probs=(1 - phi_post) * (1 - tnr_post))\\n\\ny = [y0, y1, y2, y3]\\n\\n\\ngt_vals = gt_confusion_matrix.values.flatten()\\n\\nfig, axes = plt.subplots(2, 2, figsize=(8, 8))\\naxes = axes.ravel()\\nfor i, _ in enumerate(axes):\\n\\n    sampled_vals = y[i].sample().numpy()\\n    hist_outputs = axes[i].hist(sampled_vals, bins=200)\\n    axes[i].vlines(\\n        gt_vals[i], 0, 1.01 * max(hist_outputs[0]), color=\\\"blue\\\", label=\\\"true\\\"\\n    )\\n\\nplt.show()\";\n",
       "                var nbb_cells = Jupyter.notebook.get_cells();\n",
       "                for (var i = 0; i < nbb_cells.length; ++i) {\n",
       "                    if (nbb_cells[i].input_prompt_number == nbb_cell_id) {\n",
       "                        if (nbb_cells[i].get_text() == nbb_unformatted_code) {\n",
       "                             nbb_cells[i].set_text(nbb_formatted_code);\n",
       "                        }\n",
       "                        break;\n",
       "                    }\n",
       "                }\n",
       "            }, 500);\n",
       "            "
      ],
      "text/plain": [
       "<IPython.core.display.Javascript object>"
      ]
     },
     "metadata": {},
     "output_type": "display_data"
    }
   ],
   "source": [
    "phi_post=states[0]\n",
    "tnr_post=states[1]\n",
    "tpr_post=states[2]\n",
    "\n",
    "y0 = tfd.Binomial(total_count=data['n'], probs=phi_post * tpr_post)\n",
    "y1 = tfd.Binomial(total_count=data['n'], probs=(1-phi_post) * tnr_post)\n",
    "y2 = tfd.Binomial(total_count=data['n'], probs=phi_post * (1-tpr_post))\n",
    "y3 = tfd.Binomial(total_count=data['n'], probs=(1-phi_post) * (1-tnr_post))\n",
    "\n",
    "y = [y0, y1, y2, y3]\n",
    "\n",
    "\n",
    "gt_vals = gt_confusion_matrix.values.flatten()\n",
    "\n",
    "fig, axes = plt.subplots(2,2, figsize=(8,8))\n",
    "axes = axes.ravel()\n",
    "for i, _ in enumerate(axes):\n",
    "    \n",
    "    sampled_vals = y[i].sample().numpy()\n",
    "    hist_outputs = axes[i].hist(sampled_vals, bins=200)\n",
    "    axes[i].vlines(gt_vals[i], 0, 1.01*max(hist_outputs[0]), color='blue', label='true')\n",
    "\n",
    "plt.show()"
   ]
  },
  {
   "cell_type": "markdown",
   "id": "c484b9cd-5af5-4d5f-8b3d-f89fd89ba1bd",
   "metadata": {},
   "source": [
    "Attempts were made to use the NUTS sampler from Tensorflow but this kept failing without any error messages. It is found in `tfp.experimental` so it is still in on going develop and based on the experince of this user, it needs a lot more work. Before failing without errors, just getting stuck, it produced unhelpful error messages that made any debugging work challenging. In all honesty the entire infrastructure is not great and would strongly recomend not using this package for Bayesian modelling untill more work has been done. "
   ]
  },
  {
   "cell_type": "markdown",
   "id": "a89d2334-f626-48b3-9e35-9ec0ecf37c88",
   "metadata": {},
   "source": [
    "# PyMC3"
   ]
  },
  {
   "cell_type": "code",
   "execution_count": 27,
   "id": "9411392b-e676-4b1b-b58a-02821ee52532",
   "metadata": {},
   "outputs": [
    {
     "data": {
      "application/javascript": [
       "\n",
       "            setTimeout(function() {\n",
       "                var nbb_cell_id = 27;\n",
       "                var nbb_unformatted_code = \"import pymc3 as pm\\nimport theano.tensor as tt\";\n",
       "                var nbb_formatted_code = \"import pymc3 as pm\\nimport theano.tensor as tt\";\n",
       "                var nbb_cells = Jupyter.notebook.get_cells();\n",
       "                for (var i = 0; i < nbb_cells.length; ++i) {\n",
       "                    if (nbb_cells[i].input_prompt_number == nbb_cell_id) {\n",
       "                        if (nbb_cells[i].get_text() == nbb_unformatted_code) {\n",
       "                             nbb_cells[i].set_text(nbb_formatted_code);\n",
       "                        }\n",
       "                        break;\n",
       "                    }\n",
       "                }\n",
       "            }, 500);\n",
       "            "
      ],
      "text/plain": [
       "<IPython.core.display.Javascript object>"
      ]
     },
     "metadata": {},
     "output_type": "display_data"
    }
   ],
   "source": [
    "import pymc3 as pm\n",
    "import theano.tensor as tt"
   ]
  },
  {
   "cell_type": "code",
   "execution_count": 28,
   "id": "fcc54042-b278-4e0d-851e-2735c11fd471",
   "metadata": {},
   "outputs": [
    {
     "data": {
      "application/javascript": [
       "\n",
       "            setTimeout(function() {\n",
       "                var nbb_cell_id = 28;\n",
       "                var nbb_unformatted_code = \"random_state = 42\\nn_samples=10000\\nsample_factor=1.5\\nn_warmup=500\\nthreshold=0.5\\nn_cores = multiprocessing.cpu_count() - 1\";\n",
       "                var nbb_formatted_code = \"random_state = 42\\nn_samples = 10000\\nsample_factor = 1.5\\nn_warmup = 500\\nthreshold = 0.5\\nn_cores = multiprocessing.cpu_count() - 1\";\n",
       "                var nbb_cells = Jupyter.notebook.get_cells();\n",
       "                for (var i = 0; i < nbb_cells.length; ++i) {\n",
       "                    if (nbb_cells[i].input_prompt_number == nbb_cell_id) {\n",
       "                        if (nbb_cells[i].get_text() == nbb_unformatted_code) {\n",
       "                             nbb_cells[i].set_text(nbb_formatted_code);\n",
       "                        }\n",
       "                        break;\n",
       "                    }\n",
       "                }\n",
       "            }, 500);\n",
       "            "
      ],
      "text/plain": [
       "<IPython.core.display.Javascript object>"
      ]
     },
     "metadata": {},
     "output_type": "display_data"
    }
   ],
   "source": [
    "random_state = 42\n",
    "n_samples=10000\n",
    "sample_factor=1.5\n",
    "n_warmup=500\n",
    "threshold=0.5\n",
    "n_cores = multiprocessing.cpu_count() - 1"
   ]
  },
  {
   "cell_type": "code",
   "execution_count": 29,
   "id": "63956502-eaa2-4ca6-bde6-251acd7f3021",
   "metadata": {},
   "outputs": [
    {
     "data": {
      "application/javascript": [
       "\n",
       "            setTimeout(function() {\n",
       "                var nbb_cell_id = 29;\n",
       "                var nbb_unformatted_code = \"\\nX = test_conf_mat\\n\\ntotal_count = int(X.sum())\\n\\ndata = {\\n'n': total_count,\\n'y': X.flatten(),\\n'tpr_prior': np.ones(2),\\n'tnr_prior': np.ones(2),\\n'phi_prior': np.ones(2),\\n}\";\n",
       "                var nbb_formatted_code = \"X = test_conf_mat\\n\\ntotal_count = int(X.sum())\\n\\ndata = {\\n    \\\"n\\\": total_count,\\n    \\\"y\\\": X.flatten(),\\n    \\\"tpr_prior\\\": np.ones(2),\\n    \\\"tnr_prior\\\": np.ones(2),\\n    \\\"phi_prior\\\": np.ones(2),\\n}\";\n",
       "                var nbb_cells = Jupyter.notebook.get_cells();\n",
       "                for (var i = 0; i < nbb_cells.length; ++i) {\n",
       "                    if (nbb_cells[i].input_prompt_number == nbb_cell_id) {\n",
       "                        if (nbb_cells[i].get_text() == nbb_unformatted_code) {\n",
       "                             nbb_cells[i].set_text(nbb_formatted_code);\n",
       "                        }\n",
       "                        break;\n",
       "                    }\n",
       "                }\n",
       "            }, 500);\n",
       "            "
      ],
      "text/plain": [
       "<IPython.core.display.Javascript object>"
      ]
     },
     "metadata": {},
     "output_type": "display_data"
    }
   ],
   "source": [
    "\n",
    "X = test_conf_mat\n",
    "\n",
    "total_count = int(X.sum())\n",
    "\n",
    "data = {\n",
    "'n': total_count,\n",
    "'y': X.flatten(),\n",
    "'tpr_prior': np.ones(2),\n",
    "'tnr_prior': np.ones(2),\n",
    "'phi_prior': np.ones(2),\n",
    "}"
   ]
  },
  {
   "cell_type": "code",
   "execution_count": 49,
   "id": "94e94a4b-a63d-4e3a-9182-6254da9d6b6d",
   "metadata": {},
   "outputs": [
    {
     "data": {
      "application/javascript": [
       "\n",
       "            setTimeout(function() {\n",
       "                var nbb_cell_id = 49;\n",
       "                var nbb_unformatted_code = \"y0, y1, y2, y3 = data['y'] \\nn = data['n']\\n\\nwith pm.Model() as pmmodel:\\n    \\n    phi = pm.Beta('phi', data['phi_prior'][0], data['phi_prior'][1])\\n    tpr = pm.Beta('tpr', data['tpr_prior'][0], data['tpr_prior'][1])\\n    tnr = pm.Beta('tnr', data['tnr_prior'][0], data['tnr_prior'][1])\\n    \\n    theta_tp = phi * tpr\\n    theta_tn = (1-phi) * tnr\\n    theta_fn = phi * (1-tpr)\\n    theta_fp = (1-phi) * (1-tnr)\\n    \\n    y0 = pm.Binomial(\\\"y0\\\", n=n, p=theta_tp, observed=y0)\\n    y1 = pm.Binomial(\\\"y1\\\", n=n, p=theta_tn, observed=y1)\\n    y2 = pm.Binomial(\\\"y2\\\", n=n, p=theta_fn, observed=y2)\\n    y3 = pm.Binomial(\\\"y3\\\", n=n, p=theta_fp, observed=y3)\";\n",
       "                var nbb_formatted_code = \"y0, y1, y2, y3 = data[\\\"y\\\"]\\nn = data[\\\"n\\\"]\\n\\nwith pm.Model() as pmmodel:\\n\\n    phi = pm.Beta(\\\"phi\\\", data[\\\"phi_prior\\\"][0], data[\\\"phi_prior\\\"][1])\\n    tpr = pm.Beta(\\\"tpr\\\", data[\\\"tpr_prior\\\"][0], data[\\\"tpr_prior\\\"][1])\\n    tnr = pm.Beta(\\\"tnr\\\", data[\\\"tnr_prior\\\"][0], data[\\\"tnr_prior\\\"][1])\\n\\n    theta_tp = phi * tpr\\n    theta_tn = (1 - phi) * tnr\\n    theta_fn = phi * (1 - tpr)\\n    theta_fp = (1 - phi) * (1 - tnr)\\n\\n    y0 = pm.Binomial(\\\"y0\\\", n=n, p=theta_tp, observed=y0)\\n    y1 = pm.Binomial(\\\"y1\\\", n=n, p=theta_tn, observed=y1)\\n    y2 = pm.Binomial(\\\"y2\\\", n=n, p=theta_fn, observed=y2)\\n    y3 = pm.Binomial(\\\"y3\\\", n=n, p=theta_fp, observed=y3)\";\n",
       "                var nbb_cells = Jupyter.notebook.get_cells();\n",
       "                for (var i = 0; i < nbb_cells.length; ++i) {\n",
       "                    if (nbb_cells[i].input_prompt_number == nbb_cell_id) {\n",
       "                        if (nbb_cells[i].get_text() == nbb_unformatted_code) {\n",
       "                             nbb_cells[i].set_text(nbb_formatted_code);\n",
       "                        }\n",
       "                        break;\n",
       "                    }\n",
       "                }\n",
       "            }, 500);\n",
       "            "
      ],
      "text/plain": [
       "<IPython.core.display.Javascript object>"
      ]
     },
     "metadata": {},
     "output_type": "display_data"
    }
   ],
   "source": [
    "y0, y1, y2, y3 = data['y'] \n",
    "n = data['n']\n",
    "\n",
    "with pm.Model() as pmmodel:\n",
    "    \n",
    "    phi = pm.Beta('phi', data['phi_prior'][0], data['phi_prior'][1])\n",
    "    tpr = pm.Beta('tpr', data['tpr_prior'][0], data['tpr_prior'][1])\n",
    "    tnr = pm.Beta('tnr', data['tnr_prior'][0], data['tnr_prior'][1])\n",
    "    \n",
    "    theta_tp = phi * tpr\n",
    "    theta_tn = (1-phi) * tnr\n",
    "    theta_fn = phi * (1-tpr)\n",
    "    theta_fp = (1-phi) * (1-tnr)\n",
    "    \n",
    "    y0 = pm.Binomial(\"y0\", n=n, p=theta_tp, observed=y0)\n",
    "    y1 = pm.Binomial(\"y1\", n=n, p=theta_tn, observed=y1)\n",
    "    y2 = pm.Binomial(\"y2\", n=n, p=theta_fn, observed=y2)\n",
    "    y3 = pm.Binomial(\"y3\", n=n, p=theta_fp, observed=y3)"
   ]
  },
  {
   "cell_type": "code",
   "execution_count": 50,
   "id": "672246e5-c908-4257-b819-b170809cabdd",
   "metadata": {},
   "outputs": [
    {
     "data": {
      "application/javascript": [
       "\n",
       "            setTimeout(function() {\n",
       "                var nbb_cell_id = 50;\n",
       "                var nbb_unformatted_code = \"# with pmmodel: \\n    \\n#     y0_new = pm.Binomial(\\\"y0_new\\\", n=n, p=phi * tpr)\\n#     y1_new = pm.Binomial(\\\"y1_new\\\", n=n, p=(1-phi) * tnr)\\n#     y2_new = pm.Binomial(\\\"y2_new\\\", n=n, p=phi * (1-tpr))\\n#     y3_new = pm.Binomial(\\\"y3_new\\\", n=n, p=(1-phi) * (1-tnr))\";\n",
       "                var nbb_formatted_code = \"# with pmmodel:\\n\\n#     y0_new = pm.Binomial(\\\"y0_new\\\", n=n, p=phi * tpr)\\n#     y1_new = pm.Binomial(\\\"y1_new\\\", n=n, p=(1-phi) * tnr)\\n#     y2_new = pm.Binomial(\\\"y2_new\\\", n=n, p=phi * (1-tpr))\\n#     y3_new = pm.Binomial(\\\"y3_new\\\", n=n, p=(1-phi) * (1-tnr))\";\n",
       "                var nbb_cells = Jupyter.notebook.get_cells();\n",
       "                for (var i = 0; i < nbb_cells.length; ++i) {\n",
       "                    if (nbb_cells[i].input_prompt_number == nbb_cell_id) {\n",
       "                        if (nbb_cells[i].get_text() == nbb_unformatted_code) {\n",
       "                             nbb_cells[i].set_text(nbb_formatted_code);\n",
       "                        }\n",
       "                        break;\n",
       "                    }\n",
       "                }\n",
       "            }, 500);\n",
       "            "
      ],
      "text/plain": [
       "<IPython.core.display.Javascript object>"
      ]
     },
     "metadata": {},
     "output_type": "display_data"
    }
   ],
   "source": [
    "# with pmmodel: \n",
    "    \n",
    "#     y0_new = pm.Binomial(\"y0_new\", n=n, p=phi * tpr)\n",
    "#     y1_new = pm.Binomial(\"y1_new\", n=n, p=(1-phi) * tnr)\n",
    "#     y2_new = pm.Binomial(\"y2_new\", n=n, p=phi * (1-tpr))\n",
    "#     y3_new = pm.Binomial(\"y3_new\", n=n, p=(1-phi) * (1-tnr))\n"
   ]
  },
  {
   "cell_type": "code",
   "execution_count": 51,
   "id": "79515fa2-786c-4c00-ae23-d95ed4f1e6be",
   "metadata": {},
   "outputs": [
    {
     "name": "stderr",
     "output_type": "stream",
     "text": [
      "Auto-assigning NUTS sampler...\n",
      "Initializing NUTS using jitter+adapt_diag...\n",
      "Sequential sampling (1 chains in 1 job)\n",
      "NUTS: [tnr, tpr, phi]\n"
     ]
    },
    {
     "data": {
      "text/html": [
       "\n",
       "    <div>\n",
       "        <style>\n",
       "            /* Turns off some styling */\n",
       "            progress {\n",
       "                /* gets rid of default border in Firefox and Opera. */\n",
       "                border: none;\n",
       "                /* Needs to be in here for Safari polyfill so background images work as expected. */\n",
       "                background-size: auto;\n",
       "            }\n",
       "            .progress-bar-interrupted, .progress-bar-interrupted::-webkit-progress-bar {\n",
       "                background: #F44336;\n",
       "            }\n",
       "        </style>\n",
       "      <progress value='10500' class='' max='10500' style='width:300px; height:20px; vertical-align: middle;'></progress>\n",
       "      100.00% [10500/10500 00:08<00:00 Sampling chain 0, 0 divergences]\n",
       "    </div>\n",
       "    "
      ],
      "text/plain": [
       "<IPython.core.display.HTML object>"
      ]
     },
     "metadata": {},
     "output_type": "display_data"
    },
    {
     "name": "stderr",
     "output_type": "stream",
     "text": [
      "Sampling 1 chain for 500 tune and 10_000 draw iterations (500 + 10_000 draws total) took 8 seconds.\n",
      "Only one chain was sampled, this makes it impossible to run some convergence checks\n"
     ]
    },
    {
     "data": {
      "application/javascript": [
       "\n",
       "            setTimeout(function() {\n",
       "                var nbb_cell_id = 51;\n",
       "                var nbb_unformatted_code = \"with pmmodel:\\n    trace = pm.sample(n_samples, tune=n_warmup, chains=1, target_accept=0.95, return_inferencedata=True)\\n\\n    # check convergence diagnostics\\n    assert all(az.rhat(trace) < 1.03)\";\n",
       "                var nbb_formatted_code = \"with pmmodel:\\n    trace = pm.sample(\\n        n_samples,\\n        tune=n_warmup,\\n        chains=1,\\n        target_accept=0.95,\\n        return_inferencedata=True,\\n    )\\n\\n    # check convergence diagnostics\\n    assert all(az.rhat(trace) < 1.03)\";\n",
       "                var nbb_cells = Jupyter.notebook.get_cells();\n",
       "                for (var i = 0; i < nbb_cells.length; ++i) {\n",
       "                    if (nbb_cells[i].input_prompt_number == nbb_cell_id) {\n",
       "                        if (nbb_cells[i].get_text() == nbb_unformatted_code) {\n",
       "                             nbb_cells[i].set_text(nbb_formatted_code);\n",
       "                        }\n",
       "                        break;\n",
       "                    }\n",
       "                }\n",
       "            }, 500);\n",
       "            "
      ],
      "text/plain": [
       "<IPython.core.display.Javascript object>"
      ]
     },
     "metadata": {},
     "output_type": "display_data"
    }
   ],
   "source": [
    "with pmmodel:\n",
    "    trace = pm.sample(n_samples, tune=n_warmup, chains=1, target_accept=0.95, return_inferencedata=True)\n",
    "\n",
    "    # check convergence diagnostics\n",
    "    assert all(az.rhat(trace) < 1.03)"
   ]
  },
  {
   "cell_type": "code",
   "execution_count": 82,
   "id": "e22d9301-ece1-4c51-a053-7b70f2ea8090",
   "metadata": {},
   "outputs": [
    {
     "data": {
      "image/png": "[encoded data removed]",
      "text/plain": [
       "<Figure size 576x576 with 4 Axes>"
      ]
     },
     "metadata": {},
     "output_type": "display_data"
    },
    {
     "data": {
      "application/javascript": [
       "\n",
       "            setTimeout(function() {\n",
       "                var nbb_cell_id = 82;\n",
       "                var nbb_unformatted_code = \"phi_post=trace['posterior']['phi'].values.flatten()\\ntnr_post=trace['posterior']['tnr'].values.flatten()\\ntpr_post=trace['posterior']['tpr'].values.flatten()\\n\\ny0 = np.random.binomial(data['n'], phi_post * tpr_post)\\ny1 = np.random.binomial(data['n'], (1-phi_post) * tnr_post)\\ny2 = np.random.binomial(data['n'], phi_post * (1-tpr_post))\\ny3 = np.random.binomial(data['n'], (1-phi_post) * (1-tnr_post))\\n\\ny = [y0, y1, y2, y3]\\n\\ngt_vals = gt_confusion_matrix.values.flatten()\\n\\nfig, axes = plt.subplots(2,2, figsize=(8,8))\\naxes = axes.ravel()\\nfor i, _ in enumerate(axes):\\n    \\n    sampled_vals = y[i]\\n    hist_outputs = axes[i].hist(sampled_vals, bins=200)\\n    axes[i].vlines(gt_vals[i], 0, 1.01*max(hist_outputs[0]), color='blue', label='true')\\n\\nplt.show()\";\n",
       "                var nbb_formatted_code = \"phi_post = trace[\\\"posterior\\\"][\\\"phi\\\"].values.flatten()\\ntnr_post = trace[\\\"posterior\\\"][\\\"tnr\\\"].values.flatten()\\ntpr_post = trace[\\\"posterior\\\"][\\\"tpr\\\"].values.flatten()\\n\\ny0 = np.random.binomial(data[\\\"n\\\"], phi_post * tpr_post)\\ny1 = np.random.binomial(data[\\\"n\\\"], (1 - phi_post) * tnr_post)\\ny2 = np.random.binomial(data[\\\"n\\\"], phi_post * (1 - tpr_post))\\ny3 = np.random.binomial(data[\\\"n\\\"], (1 - phi_post) * (1 - tnr_post))\\n\\ny = [y0, y1, y2, y3]\\n\\ngt_vals = gt_confusion_matrix.values.flatten()\\n\\nfig, axes = plt.subplots(2, 2, figsize=(8, 8))\\naxes = axes.ravel()\\nfor i, _ in enumerate(axes):\\n\\n    sampled_vals = y[i]\\n    hist_outputs = axes[i].hist(sampled_vals, bins=200)\\n    axes[i].vlines(\\n        gt_vals[i], 0, 1.01 * max(hist_outputs[0]), color=\\\"blue\\\", label=\\\"true\\\"\\n    )\\n\\nplt.show()\";\n",
       "                var nbb_cells = Jupyter.notebook.get_cells();\n",
       "                for (var i = 0; i < nbb_cells.length; ++i) {\n",
       "                    if (nbb_cells[i].input_prompt_number == nbb_cell_id) {\n",
       "                        if (nbb_cells[i].get_text() == nbb_unformatted_code) {\n",
       "                             nbb_cells[i].set_text(nbb_formatted_code);\n",
       "                        }\n",
       "                        break;\n",
       "                    }\n",
       "                }\n",
       "            }, 500);\n",
       "            "
      ],
      "text/plain": [
       "<IPython.core.display.Javascript object>"
      ]
     },
     "metadata": {},
     "output_type": "display_data"
    }
   ],
   "source": [
    "phi_post=trace['posterior']['phi'].values.flatten()\n",
    "tnr_post=trace['posterior']['tnr'].values.flatten()\n",
    "tpr_post=trace['posterior']['tpr'].values.flatten()\n",
    "\n",
    "y0 = np.random.binomial(data['n'], phi_post * tpr_post)\n",
    "y1 = np.random.binomial(data['n'], (1-phi_post) * tnr_post)\n",
    "y2 = np.random.binomial(data['n'], phi_post * (1-tpr_post))\n",
    "y3 = np.random.binomial(data['n'], (1-phi_post) * (1-tnr_post))\n",
    "\n",
    "y = [y0, y1, y2, y3]\n",
    "\n",
    "gt_vals = gt_confusion_matrix.values.flatten()\n",
    "\n",
    "fig, axes = plt.subplots(2,2, figsize=(8,8))\n",
    "axes = axes.ravel()\n",
    "for i, _ in enumerate(axes):\n",
    "    \n",
    "    sampled_vals = y[i]\n",
    "    hist_outputs = axes[i].hist(sampled_vals, bins=200)\n",
    "    axes[i].vlines(gt_vals[i], 0, 1.01*max(hist_outputs[0]), color='blue', label='true')\n",
    "\n",
    "plt.show()"
   ]
  },
  {
   "cell_type": "markdown",
   "id": "39b52ade-59ae-49da-ba43-dd9a2479a673",
   "metadata": {},
   "source": [
    "# Summray of learnings"
   ]
  },
  {
   "cell_type": "markdown",
   "id": "56b14720-f6e0-42e8-a5c8-f03a053f9744",
   "metadata": {},
   "source": [
    "I found a good blog post (https://towardsdatascience.com/3-probabilistic-frameworks-you-should-know-the-bayesian-toolkit-c13fe7c4b12e) that roughly sums up the game here:\n",
    "\n",
    "* Stan is the staticians choice.\n",
    "\n",
    "* Pyro/Numpyro is the programming choice\n",
    "\n",
    "* Tensorflow probability - the googlers\n",
    "\n",
    "* PyMC3 got an honourable mention. \n",
    "\n",
    "My learnings. \n",
    "\n",
    "Stan is the standard and hard to beat. Best documentation and large community of people makes this much easier and simple to use. The downside is the code must be written in as a string for python feels a little odd and also means a newcomer needs to get comfortable with Stan, not that this is a complex language by any means\n",
    "\n",
    "I liked Numpyro for its more native python feel. In fairness PyMC3 was very similar but I couldn't find any nice functionality for PyMC3 inference stage having to generate outputs using numpy - this is not bad just a little weird somehow. Numpyro is a work in progress and gave some slightly worrying errors that some of its Jax dependeences were out of date. The main difference between pyro and numpyro is the back end of the latter is in Jax to give is a numpy feel whilst the former makes use of pytorch. \n",
    "\n",
    "Since I stared on PyMC3 I notice that it feels a lot slower than the other three options here. \n",
    "\n",
    "Finally TensorFlow probability - each of the other three took me about 30 min to an hour to get working correctly. This took all day. Documentation is not clear and this is by far the most complex of the choices. It is quite verbose. Some seem to prefer the verbosity but makes it tough to start up on this and non-intuitive. Presumably if one wanted to do something in TensorFlow then this becomes good but as it stands would not reccomend outside of this fringe case. Worth noting that I tried to use the NUTS solver but its still in experiementation phase. Unfortuantly error messages made this near impossible to debug. \n",
    "\n",
    "\n",
    "For what it is worth I think that variational inference would be easeir in Pyro/Numpyroo than stan, although still possible in the later it is not as natural. "
   ]
  },
  {
   "cell_type": "code",
   "execution_count": null,
   "id": "fff199a4-0464-42f3-817c-837ebe67b174",
   "metadata": {},
   "outputs": [],
   "source": []
  }
 ],
 "metadata": {
  "interpreter": {
   "hash": "fad7dca73cb617c0561fdc34c3cdfc145937bf05cf330d05b316a9a86553b48a"
  },
  "kernelspec": {
   "display_name": "Python [conda env:mmu]",
   "language": "python",
   "name": "conda-env-mmu-py"
  },
  "language_info": {
   "codemirror_mode": {
    "name": "ipython",
    "version": 3
   },
   "file_extension": ".py",
   "mimetype": "text/x-python",
   "name": "python",
   "nbconvert_exporter": "python",
   "pygments_lexer": "ipython3",
   "version": "3.9.5"
  }
 },
 "nbformat": 4,
 "nbformat_minor": 5
}
