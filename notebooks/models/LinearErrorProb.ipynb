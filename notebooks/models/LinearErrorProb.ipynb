{
 "cells": [
  {
   "cell_type": "markdown",
   "id": "a32d6ef4",
   "metadata": {},
   "source": [
    "# Linear Error Propagation\n",
    "\n",
    "\n"
   ]
  },
  {
   "cell_type": "markdown",
   "id": "817c25d2",
   "metadata": {},
   "source": [
    "#### MMU Installation\n",
    "\n",
    "`mmu` can be installed using:\n",
    "```bash\n",
    "pip install git+https://github.com/RUrlus/ModelMetricUncertainty.git\n",
    "```"
   ]
  },
  {
   "cell_type": "code",
   "execution_count": null,
   "id": "7ae8f6fc",
   "metadata": {
    "slideshow": {
     "slide_type": "skip"
    }
   },
   "outputs": [],
   "source": [
    "%load_ext autoreload\n",
    "%autoreload 2"
   ]
  },
  {
   "cell_type": "code",
   "execution_count": null,
   "id": "5d947a01",
   "metadata": {
    "slideshow": {
     "slide_type": "skip"
    }
   },
   "outputs": [],
   "source": [
    "import arviz as az\n",
    "import numpy as np\n",
    "import pandas as pd\n",
    "import seaborn as sns\n",
    "\n",
    "import mmu\n",
    "import mmur\n",
    "from mmur.viz import _set_plot_style, plot_logstic_dgp, plot_probas, plot_ci_violin"
   ]
  },
  {
   "cell_type": "code",
   "execution_count": null,
   "id": "8f2895bd",
   "metadata": {
    "slideshow": {
     "slide_type": "skip"
    }
   },
   "outputs": [],
   "source": [
    "%matplotlib inline\n",
    "COLORS = _set_plot_style()"
   ]
  },
  {
   "cell_type": "code",
   "execution_count": null,
   "id": "85628f07",
   "metadata": {
    "slideshow": {
     "slide_type": "skip"
    }
   },
   "outputs": [],
   "source": [
    "def plot_metric_distributions(estimated_metrics, gt_metrics, coverage=None, label_alt='simulated'):\n",
    "    fig, axs = plt.subplots(ncols=5, figsize=(25, 5))\n",
    "    for i, c in enumerate(estimated_metrics.columns):\n",
    "        sns.kdeplot(estimated_metrics[c], ax=axs[i], label='estimated')\n",
    "        if coverage is not None:\n",
    "            sns.kdeplot(coverage[c], ax=axs[i], label=label_alt)\n",
    "        axs[i].axvline(gt_metrics[c][0], c='grey', lw=2, ls='--', label='population mean')\n",
    "    axs[0].legend()\n",
    "    return fig, axs"
   ]
  },
  {
   "cell_type": "markdown",
   "id": "d2b13d8e",
   "metadata": {
    "slideshow": {
     "slide_type": "slide"
    }
   },
   "source": [
    "### Logistic process\n",
    "\n",
    "Let $X \\subset \\mathbb{R}^{Nx2}$\n",
    "where:\n",
    "\n",
    "$$\\begin{align}\n",
    "X_{i, 1} &= 1.~\\forall~i \\in N\\\\\n",
    "X_{i, 2} &\\sim \\mathrm{Uniform}(-10, 10)~\\forall~i \\in N\\\\\n",
    "L &= \\beta_{1}X_{1} + \\beta_{2}X_{2}\\\\\n",
    "P &= \\mathrm{sigmoid}(L)\\\\\n",
    "L_{\\mathrm{noisy}} &= L + \\mathrm{Normal}(0, \\sigma)\\\\\n",
    "P_{\\mathrm{noisy}} &= \\mathrm{sigmoid}(L_{\\mathrm{noisy}})\\\\\n",
    "y &\\sim \\mathrm{Bernoulli}(P_{\\mathrm{noisy}})\\\\\n",
    "\\end{align}$$"
   ]
  },
  {
   "cell_type": "code",
   "execution_count": null,
   "id": "688f9e32",
   "metadata": {
    "slideshow": {
     "slide_type": "subslide"
    }
   },
   "outputs": [],
   "source": [
    "fig, ax = plot_logstic_dgp()"
   ]
  },
  {
   "cell_type": "markdown",
   "id": "c05e7dac",
   "metadata": {
    "slideshow": {
     "slide_type": "slide"
    }
   },
   "source": [
    "## Logistic Model generator\n",
    "\n",
    "We simulate a scenario where you have trained a Logistic Regression model and we want to see how well the uncertainty of the metrics is modelled\n",
    "\n",
    "1. Generate train, test and holdout samples from logistic process\n",
    "2. Fit Logistic regression on train set\n",
    "3. Using fitted model predict probabilities on:\n",
    "    a. test set\n",
    "    b. all hold out sets\n",
    "4. Compute confusion matrix test\n",
    "5. Model uncertainty on the metrics based on the test set\n",
    "6. Compare against distribution of metrics on the hold out sets"
   ]
  },
  {
   "cell_type": "markdown",
   "id": "513e183b",
   "metadata": {
    "slideshow": {
     "slide_type": "slide"
    }
   },
   "source": [
    "### Generate data"
   ]
  },
  {
   "cell_type": "code",
   "execution_count": null,
   "id": "c1ce35ce",
   "metadata": {
    "slideshow": {
     "slide_type": "fragment"
    }
   },
   "outputs": [],
   "source": [
    "generator = mmur.LogisticGenerator()\n",
    "outp = generator.fit_transform(\n",
    "    train_samples=10000,\n",
    "    test_samples=10000,\n",
    "    holdout_samples=10000,\n",
    "    n_sets=10000,\n",
    "    noise_sigma=0.3,\n",
    "    random_state=123456\n",
    ")\n",
    "\n",
    "# Select the test sets\n",
    "y_test = outp['test']['y']\n",
    "probas_test = outp['test']['proba']"
   ]
  },
  {
   "cell_type": "markdown",
   "id": "1886a98c",
   "metadata": {
    "slideshow": {
     "slide_type": "slide"
    }
   },
   "source": [
    "We only consider the below metrics for now"
   ]
  },
  {
   "cell_type": "code",
   "execution_count": null,
   "id": "e9bb0c1d",
   "metadata": {
    "slideshow": {
     "slide_type": "fragment"
    }
   },
   "outputs": [],
   "source": [
    "target_metrics = [\n",
    "    'pos.precision', 'pos.recall'\n",
    "]"
   ]
  },
  {
   "cell_type": "markdown",
   "id": "5da34855",
   "metadata": {
    "slideshow": {
     "slide_type": "slide"
    }
   },
   "source": [
    "#### Test set performance\n",
    "\n",
    "Compute the confusion matrix and metrics on the test-set"
   ]
  },
  {
   "cell_type": "code",
   "execution_count": null,
   "id": "0fc442a7",
   "metadata": {
    "slideshow": {
     "slide_type": "fragment"
    }
   },
   "outputs": [],
   "source": [
    "test_conf_mat, test_metrics = mmu.binary_metrics_proba(\n",
    "    y_test, probas_test, threshold=0.5\n",
    ")\n",
    "test_conf_mat = test_conf_mat.flatten()\n",
    "test_metrics = mmu.metrics_to_dataframe(test_metrics)[target_metrics]\n",
    "\n",
    "mmu.confusion_matrix_to_dataframe(test_conf_mat)"
   ]
  },
  {
   "cell_type": "code",
   "execution_count": null,
   "id": "c0d0c1f9",
   "metadata": {
    "slideshow": {
     "slide_type": "fragment"
    }
   },
   "outputs": [],
   "source": [
    "test_metrics"
   ]
  },
  {
   "cell_type": "code",
   "execution_count": null,
   "id": "b9c521d7",
   "metadata": {
    "slideshow": {
     "slide_type": "skip"
    }
   },
   "outputs": [],
   "source": [
    "gt_proba_test = outp['ground_truth']['test']"
   ]
  },
  {
   "cell_type": "markdown",
   "id": "c7869f0b",
   "metadata": {
    "slideshow": {
     "slide_type": "slide"
    }
   },
   "source": [
    "We know the ground truth probability\n",
    "\n",
    "Compute the ground truth confusion matrix and metrics"
   ]
  },
  {
   "cell_type": "code",
   "execution_count": null,
   "id": "b9d8d02e",
   "metadata": {
    "slideshow": {
     "slide_type": "fragment"
    }
   },
   "outputs": [],
   "source": [
    "gt_conf_mat, gt_metrics = mmu.binary_metrics_proba(\n",
    "    y_test, gt_proba_test, threshold=0.5\n",
    ")\n",
    "mmu.confusion_matrix_to_dataframe(gt_conf_mat)"
   ]
  },
  {
   "cell_type": "code",
   "execution_count": null,
   "id": "90188923",
   "metadata": {
    "slideshow": {
     "slide_type": "fragment"
    }
   },
   "outputs": [],
   "source": [
    "gt_metrics = mmu.metrics_to_dataframe(gt_metrics)[target_metrics]\n",
    "gt_metrics"
   ]
  },
  {
   "cell_type": "markdown",
   "id": "16241cd7",
   "metadata": {
    "slideshow": {
     "slide_type": "slide"
    }
   },
   "source": [
    "### Hold-out set\n",
    "\n",
    "We compare a sample from the holdout set to the ground truth probability"
   ]
  },
  {
   "cell_type": "code",
   "execution_count": null,
   "id": "0b92f4d3",
   "metadata": {},
   "outputs": [],
   "source": [
    "y_holdout = outp['holdout']['y']\n",
    "proba_holdout = outp['holdout']['proba']"
   ]
  },
  {
   "cell_type": "code",
   "execution_count": null,
   "id": "1bd37abc",
   "metadata": {
    "slideshow": {
     "slide_type": "fragment"
    }
   },
   "outputs": [],
   "source": [
    "fig, ax = plot_probas(proba_holdout, gt_proba_test)"
   ]
  },
  {
   "cell_type": "markdown",
   "id": "91b315c3",
   "metadata": {
    "slideshow": {
     "slide_type": "skip"
    }
   },
   "source": [
    "Compute metrics on this set"
   ]
  },
  {
   "cell_type": "code",
   "execution_count": null,
   "id": "1d0962c7",
   "metadata": {},
   "outputs": [],
   "source": [
    "holdout_conf_mat, holdout_metrics = mmu.binary_metrics_runs(y=y_holdout, proba=proba_holdout, threshold=0.5)\n",
    "holdout_metrics = mmu.metrics_to_dataframe(holdout_metrics)[target_metrics]"
   ]
  },
  {
   "cell_type": "markdown",
   "id": "6e07a764",
   "metadata": {},
   "source": [
    "At this point you can compare the observed metrics in `holdout_metrics` with the estimation coming from the method.\n",
    "\n",
    "Univariate uncertainties can be validated using the below cell as an example"
   ]
  },
  {
   "cell_type": "code",
   "execution_count": null,
   "id": "02d06d69",
   "metadata": {},
   "outputs": [],
   "source": [
    "from mmur.models import pr_uni_err_prop"
   ]
  },
  {
   "cell_type": "code",
   "execution_count": null,
   "id": "024337ea",
   "metadata": {},
   "outputs": [],
   "source": [
    "lep_ci = pd.DataFrame(\n",
    "    np.vstack(pr_uni_err_prop(test_conf_mat)),\n",
    "    columns=['mu', 'sigma', 'lb', 'ub'],\n",
    "    index=['pos.precision', 'pos.recall']\n",
    ")"
   ]
  },
  {
   "cell_type": "code",
   "execution_count": null,
   "id": "f3f99752",
   "metadata": {},
   "outputs": [],
   "source": [
    "fig, ax = plot_ci_violin(lep_ci, holdout_metrics)"
   ]
  }
 ],
 "metadata": {
  "kernelspec": {
   "display_name": "Python 3 (ipykernel)",
   "language": "python",
   "name": "python3"
  },
  "language_info": {
   "codemirror_mode": {
    "name": "ipython",
    "version": 3
   },
   "file_extension": ".py",
   "mimetype": "text/x-python",
   "name": "python",
   "nbconvert_exporter": "python",
   "pygments_lexer": "ipython3",
   "version": "3.10.2"
  }
 },
 "nbformat": 4,
 "nbformat_minor": 5
}
