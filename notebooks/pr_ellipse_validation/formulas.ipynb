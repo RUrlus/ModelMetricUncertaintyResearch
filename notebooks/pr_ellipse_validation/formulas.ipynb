{
 "cells": [
  {
   "cell_type": "code",
   "execution_count": 1,
   "id": "72861a02",
   "metadata": {
    "ExecuteTime": {
     "end_time": "2022-05-16T17:45:23.267084Z",
     "start_time": "2022-05-16T17:45:22.672723Z"
    }
   },
   "outputs": [],
   "source": [
    "from sympy import Matrix\n",
    "from sympy import symbols\n",
    "from sympy import simplify, factor"
   ]
  },
  {
   "cell_type": "code",
   "execution_count": 2,
   "id": "8d995548",
   "metadata": {
    "ExecuteTime": {
     "end_time": "2022-05-16T17:45:23.318234Z",
     "start_time": "2022-05-16T17:45:23.268584Z"
    }
   },
   "outputs": [],
   "source": [
    "# Used in both\n",
    "xTP, xFP, xTN, xFN = symbols('xTP xFP xTN xFN')\n",
    "n = xTP + xFP + xTN + xFN"
   ]
  },
  {
   "cell_type": "markdown",
   "id": "79526825",
   "metadata": {},
   "source": [
    "# Precision Recall"
   ]
  },
  {
   "cell_type": "code",
   "execution_count": 3,
   "id": "67f601aa",
   "metadata": {
    "ExecuteTime": {
     "end_time": "2022-05-16T17:45:23.323283Z",
     "start_time": "2022-05-16T17:45:23.320760Z"
    }
   },
   "outputs": [],
   "source": [
    "P, R = symbols('P R')"
   ]
  },
  {
   "cell_type": "code",
   "execution_count": 4,
   "id": "14b15785",
   "metadata": {
    "ExecuteTime": {
     "end_time": "2022-05-16T17:45:23.583382Z",
     "start_time": "2022-05-16T17:45:23.324849Z"
    }
   },
   "outputs": [
    {
     "data": {
      "text/latex": [
       "$\\displaystyle \\frac{xTP}{xFP + xTP}$"
      ],
      "text/plain": [
       "xTP/(xFP + xTP)"
      ]
     },
     "execution_count": 4,
     "metadata": {},
     "output_type": "execute_result"
    }
   ],
   "source": [
    "P = xTP / (xTP + xFP)\n",
    "R = xTP / (xTP + xFN)\n",
    "P"
   ]
  },
  {
   "cell_type": "code",
   "execution_count": 5,
   "id": "2e56f2c5",
   "metadata": {
    "ExecuteTime": {
     "end_time": "2022-05-16T17:45:23.612152Z",
     "start_time": "2022-05-16T17:45:23.585161Z"
    }
   },
   "outputs": [
    {
     "data": {
      "text/latex": [
       "$\\displaystyle \\left[\\begin{matrix}- \\frac{xTP}{\\left(xFP + xTP\\right)^{2}} + \\frac{1}{xFP + xTP} & - \\frac{xTP}{\\left(xFP + xTP\\right)^{2}} & 0 & 0\\\\- \\frac{xTP}{\\left(xFN + xTP\\right)^{2}} + \\frac{1}{xFN + xTP} & 0 & 0 & - \\frac{xTP}{\\left(xFN + xTP\\right)^{2}}\\end{matrix}\\right]$"
      ],
      "text/plain": [
       "Matrix([\n",
       "[-xTP/(xFP + xTP)**2 + 1/(xFP + xTP), -xTP/(xFP + xTP)**2, 0,                   0],\n",
       "[-xTP/(xFN + xTP)**2 + 1/(xFN + xTP),                   0, 0, -xTP/(xFN + xTP)**2]])"
      ]
     },
     "execution_count": 5,
     "metadata": {},
     "output_type": "execute_result"
    }
   ],
   "source": [
    "X = Matrix([P, R])\n",
    "Y = Matrix([xTP, xFP, xTN, xFN])\n",
    "J = X.jacobian(Y)\n",
    "J"
   ]
  },
  {
   "cell_type": "code",
   "execution_count": 6,
   "id": "240559ec",
   "metadata": {
    "ExecuteTime": {
     "end_time": "2022-05-16T17:45:23.646051Z",
     "start_time": "2022-05-16T17:45:23.614010Z"
    }
   },
   "outputs": [
    {
     "data": {
      "text/latex": [
       "$\\displaystyle \\left[\\begin{matrix}xTP \\left(- \\frac{xTP}{xFN + xFP + xTN + xTP} + 1\\right) & - \\frac{xFP xTP}{xFN + xFP + xTN + xTP} & - \\frac{xTN xTP}{xFN + xFP + xTN + xTP} & - \\frac{xFN xTP}{xFN + xFP + xTN + xTP}\\\\- \\frac{xFP xTP}{xFN + xFP + xTN + xTP} & xFP \\left(- \\frac{xFP}{xFN + xFP + xTN + xTP} + 1\\right) & - \\frac{xFP xTN}{xFN + xFP + xTN + xTP} & - \\frac{xFN xFP}{xFN + xFP + xTN + xTP}\\\\- \\frac{xTN xTP}{xFN + xFP + xTN + xTP} & - \\frac{xFP xTN}{xFN + xFP + xTN + xTP} & xTN \\left(- \\frac{xTN}{xFN + xFP + xTN + xTP} + 1\\right) & - \\frac{xFN xTN}{xFN + xFP + xTN + xTP}\\\\- \\frac{xFN xTP}{xFN + xFP + xTN + xTP} & - \\frac{xFN xFP}{xFN + xFP + xTN + xTP} & - \\frac{xFN xTN}{xFN + xFP + xTN + xTP} & xFN \\left(- \\frac{xFN}{xFN + xFP + xTN + xTP} + 1\\right)\\end{matrix}\\right]$"
      ],
      "text/plain": [
       "Matrix([\n",
       "[xTP*(-xTP/(xFN + xFP + xTN + xTP) + 1),       -xFP*xTP/(xFN + xFP + xTN + xTP),       -xTN*xTP/(xFN + xFP + xTN + xTP),       -xFN*xTP/(xFN + xFP + xTN + xTP)],\n",
       "[      -xFP*xTP/(xFN + xFP + xTN + xTP), xFP*(-xFP/(xFN + xFP + xTN + xTP) + 1),       -xFP*xTN/(xFN + xFP + xTN + xTP),       -xFN*xFP/(xFN + xFP + xTN + xTP)],\n",
       "[      -xTN*xTP/(xFN + xFP + xTN + xTP),       -xFP*xTN/(xFN + xFP + xTN + xTP), xTN*(-xTN/(xFN + xFP + xTN + xTP) + 1),       -xFN*xTN/(xFN + xFP + xTN + xTP)],\n",
       "[      -xFN*xTP/(xFN + xFP + xTN + xTP),       -xFN*xFP/(xFN + xFP + xTN + xTP),       -xFN*xTN/(xFN + xFP + xTN + xTP), xFN*(-xFN/(xFN + xFP + xTN + xTP) + 1)]])"
      ]
     },
     "execution_count": 6,
     "metadata": {},
     "output_type": "execute_result"
    }
   ],
   "source": [
    "# Used in both\n",
    "covar_binomial = - (Y/n) * (Y/n).T\n",
    "for i, x in enumerate(Y):\n",
    "    covar_binomial[i,i] = x/n * (1-x/n)\n",
    "covar_binomial = n* covar_binomial\n",
    "covar_binomial"
   ]
  },
  {
   "cell_type": "code",
   "execution_count": 7,
   "id": "b1302570",
   "metadata": {
    "ExecuteTime": {
     "end_time": "2022-05-16T17:45:24.250692Z",
     "start_time": "2022-05-16T17:45:23.648108Z"
    }
   },
   "outputs": [
    {
     "data": {
      "text/latex": [
       "$\\displaystyle \\left[\\begin{matrix}\\frac{xFP xTP}{\\left(xFP + xTP\\right)^{3}} & \\frac{xFN xFP xTP}{\\left(xFN + xTP\\right)^{2} \\left(xFP + xTP\\right)^{2}}\\\\\\frac{xFN xFP xTP}{\\left(xFN + xTP\\right)^{2} \\left(xFP + xTP\\right)^{2}} & \\frac{xFN xTP}{\\left(xFN + xTP\\right)^{3}}\\end{matrix}\\right]$"
      ],
      "text/plain": [
       "Matrix([\n",
       "[                     xFP*xTP/(xFP + xTP)**3, xFN*xFP*xTP/((xFN + xTP)**2*(xFP + xTP)**2)],\n",
       "[xFN*xFP*xTP/((xFN + xTP)**2*(xFP + xTP)**2),                      xFN*xTP/(xFN + xTP)**3]])"
      ]
     },
     "execution_count": 7,
     "metadata": {},
     "output_type": "execute_result"
    }
   ],
   "source": [
    "covar_PR = J*covar_binomial*J.T\n",
    "covar_PR = factor(covar_PR, deep=True)\n",
    "covar_PR"
   ]
  },
  {
   "cell_type": "markdown",
   "id": "e3f0128f",
   "metadata": {},
   "source": [
    "# ROC"
   ]
  },
  {
   "cell_type": "code",
   "execution_count": 8,
   "id": "14c11229",
   "metadata": {
    "ExecuteTime": {
     "end_time": "2022-05-16T17:45:24.254681Z",
     "start_time": "2022-05-16T17:45:24.252220Z"
    }
   },
   "outputs": [],
   "source": [
    "TPR, FPR = symbols('TPR FPR')"
   ]
  },
  {
   "cell_type": "code",
   "execution_count": 9,
   "id": "2568ce33",
   "metadata": {
    "ExecuteTime": {
     "end_time": "2022-05-16T17:45:24.260848Z",
     "start_time": "2022-05-16T17:45:24.258029Z"
    }
   },
   "outputs": [],
   "source": [
    "TPR = xTP / (xTP + xFN)\n",
    "FPR = xFP / (xFP + xTN)\n",
    "#FPR = xFP / (n - xTP - xFN)  # Same results"
   ]
  },
  {
   "cell_type": "code",
   "execution_count": 10,
   "id": "802c81d3",
   "metadata": {
    "ExecuteTime": {
     "end_time": "2022-05-16T17:45:24.279686Z",
     "start_time": "2022-05-16T17:45:24.262981Z"
    }
   },
   "outputs": [
    {
     "data": {
      "text/latex": [
       "$\\displaystyle \\left[\\begin{matrix}- \\frac{xTP}{\\left(xFN + xTP\\right)^{2}} + \\frac{1}{xFN + xTP} & 0 & 0 & - \\frac{xTP}{\\left(xFN + xTP\\right)^{2}}\\\\0 & - \\frac{xFP}{\\left(xFP + xTN\\right)^{2}} + \\frac{1}{xFP + xTN} & - \\frac{xFP}{\\left(xFP + xTN\\right)^{2}} & 0\\end{matrix}\\right]$"
      ],
      "text/plain": [
       "Matrix([\n",
       "[-xTP/(xFN + xTP)**2 + 1/(xFN + xTP),                                   0,                   0, -xTP/(xFN + xTP)**2],\n",
       "[                                  0, -xFP/(xFP + xTN)**2 + 1/(xFP + xTN), -xFP/(xFP + xTN)**2,                   0]])"
      ]
     },
     "execution_count": 10,
     "metadata": {},
     "output_type": "execute_result"
    }
   ],
   "source": [
    "X_ROC = Matrix([TPR, FPR])\n",
    "Y = Matrix([xTP, xFP, xTN, xFN])\n",
    "J_ROC = X_ROC.jacobian(Y)\n",
    "J_ROC"
   ]
  },
  {
   "cell_type": "code",
   "execution_count": 11,
   "id": "843c380f",
   "metadata": {
    "ExecuteTime": {
     "end_time": "2022-05-16T17:45:24.781675Z",
     "start_time": "2022-05-16T17:45:24.281397Z"
    }
   },
   "outputs": [
    {
     "data": {
      "text/latex": [
       "$\\displaystyle \\left[\\begin{matrix}\\frac{xFN xTP}{\\left(xFN + xTP\\right)^{3}} & 0\\\\0 & \\frac{xFP xTN}{\\left(xFP + xTN\\right)^{3}}\\end{matrix}\\right]$"
      ],
      "text/plain": [
       "Matrix([\n",
       "[xFN*xTP/(xFN + xTP)**3,                      0],\n",
       "[                     0, xFP*xTN/(xFP + xTN)**3]])"
      ]
     },
     "execution_count": 11,
     "metadata": {},
     "output_type": "execute_result"
    }
   ],
   "source": [
    "covar_ROC = J_ROC * covar_binomial * J_ROC.T\n",
    "covar_ROC = factor(covar_ROC, deep=True)\n",
    "covar_ROC"
   ]
  },
  {
   "cell_type": "code",
   "execution_count": null,
   "id": "0758c1e0",
   "metadata": {},
   "outputs": [],
   "source": []
  }
 ],
 "metadata": {
  "kernelspec": {
   "display_name": "Python 3 (pyenv38)",
   "language": "python",
   "name": "python3"
  },
  "language_info": {
   "codemirror_mode": {
    "name": "ipython",
    "version": 3
   },
   "file_extension": ".py",
   "mimetype": "text/x-python",
   "name": "python",
   "nbconvert_exporter": "python",
   "pygments_lexer": "ipython3",
   "version": "3.8.13"
  },
  "toc": {
   "base_numbering": 1,
   "nav_menu": {},
   "number_sections": true,
   "sideBar": true,
   "skip_h1_title": false,
   "title_cell": "Table of Contents",
   "title_sidebar": "Contents",
   "toc_cell": false,
   "toc_position": {},
   "toc_section_display": true,
   "toc_window_display": false
  }
 },
 "nbformat": 4,
 "nbformat_minor": 5
}
