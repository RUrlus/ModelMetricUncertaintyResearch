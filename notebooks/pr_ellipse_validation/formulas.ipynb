{
 "cells": [
  {
   "cell_type": "code",
   "execution_count": 2,
   "id": "4cf98f77",
   "metadata": {
    "ExecuteTime": {
     "end_time": "2022-06-20T22:27:47.870145Z",
     "start_time": "2022-06-20T22:27:45.196301Z"
    }
   },
   "outputs": [],
   "source": [
    "import sympy\n",
    "from sympy import Matrix\n",
    "from sympy import symbols\n",
    "from sympy import simplify, factor\n",
    "from sympy.solvers import solve"
   ]
  },
  {
   "cell_type": "code",
   "execution_count": 3,
   "id": "4e400a70",
   "metadata": {
    "ExecuteTime": {
     "end_time": "2022-06-20T22:27:47.989179Z",
     "start_time": "2022-06-20T22:27:47.873688Z"
    }
   },
   "outputs": [],
   "source": [
    "# Used in both\n",
    "xTP, xFP, xTN, xFN = symbols('xTP xFP xTN xFN')\n",
    "n = xTP + xFP + xTN + xFN"
   ]
  },
  {
   "cell_type": "markdown",
   "id": "afb30d43",
   "metadata": {},
   "source": [
    "# Precision Recall"
   ]
  },
  {
   "cell_type": "code",
   "execution_count": 4,
   "id": "98bcc96d",
   "metadata": {
    "ExecuteTime": {
     "end_time": "2022-06-20T22:27:47.993486Z",
     "start_time": "2022-06-20T22:27:47.990720Z"
    }
   },
   "outputs": [],
   "source": [
    "P, R = symbols('P R')"
   ]
  },
  {
   "cell_type": "code",
   "execution_count": 5,
   "id": "be36cb8e",
   "metadata": {
    "ExecuteTime": {
     "end_time": "2022-06-20T22:27:48.250403Z",
     "start_time": "2022-06-20T22:27:47.996457Z"
    }
   },
   "outputs": [
    {
     "data": {
      "text/latex": [
       "$\\displaystyle \\frac{xTP}{xFP + xTP}$"
      ],
      "text/plain": [
       "xTP/(xFP + xTP)"
      ]
     },
     "execution_count": 5,
     "metadata": {},
     "output_type": "execute_result"
    }
   ],
   "source": [
    "P = xTP / (xTP + xFP)\n",
    "R = xTP / (xTP + xFN)\n",
    "P"
   ]
  },
  {
   "cell_type": "code",
   "execution_count": 6,
   "id": "3f198b8e",
   "metadata": {
    "ExecuteTime": {
     "end_time": "2022-06-20T22:27:48.331870Z",
     "start_time": "2022-06-20T22:27:48.251830Z"
    }
   },
   "outputs": [
    {
     "data": {
      "text/latex": [
       "$\\displaystyle \\left[\\begin{matrix}- \\frac{xTP}{\\left(xFP + xTP\\right)^{2}} + \\frac{1}{xFP + xTP} & - \\frac{xTP}{\\left(xFP + xTP\\right)^{2}} & 0 & 0\\\\- \\frac{xTP}{\\left(xFN + xTP\\right)^{2}} + \\frac{1}{xFN + xTP} & 0 & 0 & - \\frac{xTP}{\\left(xFN + xTP\\right)^{2}}\\end{matrix}\\right]$"
      ],
      "text/plain": [
       "Matrix([\n",
       "[-xTP/(xFP + xTP)**2 + 1/(xFP + xTP), -xTP/(xFP + xTP)**2, 0,                   0],\n",
       "[-xTP/(xFN + xTP)**2 + 1/(xFN + xTP),                   0, 0, -xTP/(xFN + xTP)**2]])"
      ]
     },
     "execution_count": 6,
     "metadata": {},
     "output_type": "execute_result"
    }
   ],
   "source": [
    "X = Matrix([P, R])\n",
    "Y = Matrix([xTP, xFP, xTN, xFN])\n",
    "J = X.jacobian(Y)\n",
    "J"
   ]
  },
  {
   "cell_type": "code",
   "execution_count": 7,
   "id": "ba2f87a9",
   "metadata": {
    "ExecuteTime": {
     "end_time": "2022-06-20T22:27:48.371161Z",
     "start_time": "2022-06-20T22:27:48.334040Z"
    }
   },
   "outputs": [
    {
     "data": {
      "text/latex": [
       "$\\displaystyle \\left[\\begin{matrix}xTP \\left(- \\frac{xTP}{xFN + xFP + xTN + xTP} + 1\\right) & - \\frac{xFP xTP}{xFN + xFP + xTN + xTP} & - \\frac{xTN xTP}{xFN + xFP + xTN + xTP} & - \\frac{xFN xTP}{xFN + xFP + xTN + xTP}\\\\- \\frac{xFP xTP}{xFN + xFP + xTN + xTP} & xFP \\left(- \\frac{xFP}{xFN + xFP + xTN + xTP} + 1\\right) & - \\frac{xFP xTN}{xFN + xFP + xTN + xTP} & - \\frac{xFN xFP}{xFN + xFP + xTN + xTP}\\\\- \\frac{xTN xTP}{xFN + xFP + xTN + xTP} & - \\frac{xFP xTN}{xFN + xFP + xTN + xTP} & xTN \\left(- \\frac{xTN}{xFN + xFP + xTN + xTP} + 1\\right) & - \\frac{xFN xTN}{xFN + xFP + xTN + xTP}\\\\- \\frac{xFN xTP}{xFN + xFP + xTN + xTP} & - \\frac{xFN xFP}{xFN + xFP + xTN + xTP} & - \\frac{xFN xTN}{xFN + xFP + xTN + xTP} & xFN \\left(- \\frac{xFN}{xFN + xFP + xTN + xTP} + 1\\right)\\end{matrix}\\right]$"
      ],
      "text/plain": [
       "Matrix([\n",
       "[xTP*(-xTP/(xFN + xFP + xTN + xTP) + 1),       -xFP*xTP/(xFN + xFP + xTN + xTP),       -xTN*xTP/(xFN + xFP + xTN + xTP),       -xFN*xTP/(xFN + xFP + xTN + xTP)],\n",
       "[      -xFP*xTP/(xFN + xFP + xTN + xTP), xFP*(-xFP/(xFN + xFP + xTN + xTP) + 1),       -xFP*xTN/(xFN + xFP + xTN + xTP),       -xFN*xFP/(xFN + xFP + xTN + xTP)],\n",
       "[      -xTN*xTP/(xFN + xFP + xTN + xTP),       -xFP*xTN/(xFN + xFP + xTN + xTP), xTN*(-xTN/(xFN + xFP + xTN + xTP) + 1),       -xFN*xTN/(xFN + xFP + xTN + xTP)],\n",
       "[      -xFN*xTP/(xFN + xFP + xTN + xTP),       -xFN*xFP/(xFN + xFP + xTN + xTP),       -xFN*xTN/(xFN + xFP + xTN + xTP), xFN*(-xFN/(xFN + xFP + xTN + xTP) + 1)]])"
      ]
     },
     "execution_count": 7,
     "metadata": {},
     "output_type": "execute_result"
    }
   ],
   "source": [
    "# Used in both\n",
    "covar_binomial = - (Y/n) * (Y/n).T\n",
    "for i, x in enumerate(Y):\n",
    "    covar_binomial[i,i] = x/n * (1-x/n)\n",
    "covar_binomial = n* covar_binomial\n",
    "covar_binomial"
   ]
  },
  {
   "cell_type": "code",
   "execution_count": 8,
   "id": "9bcfc49f",
   "metadata": {
    "ExecuteTime": {
     "end_time": "2022-06-20T22:27:48.884839Z",
     "start_time": "2022-06-20T22:27:48.372961Z"
    }
   },
   "outputs": [
    {
     "data": {
      "text/latex": [
       "$\\displaystyle \\left[\\begin{matrix}\\frac{xFP xTP}{\\left(xFP + xTP\\right)^{3}} & \\frac{xFN xFP xTP}{\\left(xFN + xTP\\right)^{2} \\left(xFP + xTP\\right)^{2}}\\\\\\frac{xFN xFP xTP}{\\left(xFN + xTP\\right)^{2} \\left(xFP + xTP\\right)^{2}} & \\frac{xFN xTP}{\\left(xFN + xTP\\right)^{3}}\\end{matrix}\\right]$"
      ],
      "text/plain": [
       "Matrix([\n",
       "[                     xFP*xTP/(xFP + xTP)**3, xFN*xFP*xTP/((xFN + xTP)**2*(xFP + xTP)**2)],\n",
       "[xFN*xFP*xTP/((xFN + xTP)**2*(xFP + xTP)**2),                      xFN*xTP/(xFN + xTP)**3]])"
      ]
     },
     "execution_count": 8,
     "metadata": {},
     "output_type": "execute_result"
    }
   ],
   "source": [
    "covar_PR = J*covar_binomial*J.T\n",
    "covar_PR = factor(covar_PR, deep=True)\n",
    "covar_PR"
   ]
  },
  {
   "cell_type": "markdown",
   "id": "8ac3187b",
   "metadata": {},
   "source": [
    "# ROC"
   ]
  },
  {
   "cell_type": "code",
   "execution_count": 9,
   "id": "63bf5721",
   "metadata": {
    "ExecuteTime": {
     "end_time": "2022-06-20T22:27:48.889966Z",
     "start_time": "2022-06-20T22:27:48.887454Z"
    }
   },
   "outputs": [],
   "source": [
    "TPR, FPR = symbols('TPR FPR')"
   ]
  },
  {
   "cell_type": "code",
   "execution_count": 10,
   "id": "9679b5d8",
   "metadata": {
    "ExecuteTime": {
     "end_time": "2022-06-20T22:27:48.895613Z",
     "start_time": "2022-06-20T22:27:48.892750Z"
    }
   },
   "outputs": [],
   "source": [
    "TPR = xTP / (xTP + xFN)  # Same as Recall: R\n",
    "FPR = xFP / (xFP + xTN)\n",
    "#FPR = xFP / (n - xTP - xFN)  # Same results"
   ]
  },
  {
   "cell_type": "code",
   "execution_count": 11,
   "id": "830bc258",
   "metadata": {
    "ExecuteTime": {
     "end_time": "2022-06-20T22:27:48.904698Z",
     "start_time": "2022-06-20T22:27:48.901091Z"
    }
   },
   "outputs": [
    {
     "data": {
      "text/plain": [
       "True"
      ]
     },
     "execution_count": 11,
     "metadata": {},
     "output_type": "execute_result"
    }
   ],
   "source": [
    "R == TPR"
   ]
  },
  {
   "cell_type": "code",
   "execution_count": 12,
   "id": "5b6de4ad",
   "metadata": {
    "ExecuteTime": {
     "end_time": "2022-06-20T22:27:48.925563Z",
     "start_time": "2022-06-20T22:27:48.906372Z"
    }
   },
   "outputs": [
    {
     "data": {
      "text/latex": [
       "$\\displaystyle \\left[\\begin{matrix}- \\frac{xTP}{\\left(xFN + xTP\\right)^{2}} + \\frac{1}{xFN + xTP} & 0 & 0 & - \\frac{xTP}{\\left(xFN + xTP\\right)^{2}}\\\\0 & - \\frac{xFP}{\\left(xFP + xTN\\right)^{2}} + \\frac{1}{xFP + xTN} & - \\frac{xFP}{\\left(xFP + xTN\\right)^{2}} & 0\\end{matrix}\\right]$"
      ],
      "text/plain": [
       "Matrix([\n",
       "[-xTP/(xFN + xTP)**2 + 1/(xFN + xTP),                                   0,                   0, -xTP/(xFN + xTP)**2],\n",
       "[                                  0, -xFP/(xFP + xTN)**2 + 1/(xFP + xTN), -xFP/(xFP + xTN)**2,                   0]])"
      ]
     },
     "execution_count": 12,
     "metadata": {},
     "output_type": "execute_result"
    }
   ],
   "source": [
    "X_ROC = Matrix([TPR, FPR])\n",
    "Y = Matrix([xTP, xFP, xTN, xFN])\n",
    "J_ROC = X_ROC.jacobian(Y)\n",
    "J_ROC"
   ]
  },
  {
   "cell_type": "code",
   "execution_count": 13,
   "id": "d7700cd0",
   "metadata": {
    "ExecuteTime": {
     "end_time": "2022-06-20T22:27:49.356021Z",
     "start_time": "2022-06-20T22:27:48.928362Z"
    }
   },
   "outputs": [
    {
     "data": {
      "text/latex": [
       "$\\displaystyle \\left[\\begin{matrix}\\frac{xFN xTP}{\\left(xFN + xTP\\right)^{3}} & 0\\\\0 & \\frac{xFP xTN}{\\left(xFP + xTN\\right)^{3}}\\end{matrix}\\right]$"
      ],
      "text/plain": [
       "Matrix([\n",
       "[xFN*xTP/(xFN + xTP)**3,                      0],\n",
       "[                     0, xFP*xTN/(xFP + xTN)**3]])"
      ]
     },
     "execution_count": 13,
     "metadata": {},
     "output_type": "execute_result"
    }
   ],
   "source": [
    "covar_ROC = J_ROC * covar_binomial * J_ROC.T\n",
    "covar_ROC = factor(covar_ROC, deep=True)\n",
    "covar_ROC"
   ]
  },
  {
   "cell_type": "markdown",
   "id": "45df92ab",
   "metadata": {},
   "source": [
    "# Binomial Wilks"
   ]
  },
  {
   "cell_type": "code",
   "execution_count": 14,
   "id": "f3160140",
   "metadata": {
    "ExecuteTime": {
     "end_time": "2022-06-20T22:27:49.372615Z",
     "start_time": "2022-06-20T22:27:49.362262Z"
    }
   },
   "outputs": [
    {
     "data": {
      "text/latex": [
       "$\\displaystyle \\frac{xFP}{xTP}$"
      ],
      "text/plain": [
       "xFP/xTP"
      ]
     },
     "execution_count": 14,
     "metadata": {},
     "output_type": "execute_result"
    }
   ],
   "source": [
    "factor( (1-P)/P )"
   ]
  },
  {
   "cell_type": "code",
   "execution_count": 15,
   "id": "6a0f7bb4",
   "metadata": {
    "ExecuteTime": {
     "end_time": "2022-06-20T22:27:49.384309Z",
     "start_time": "2022-06-20T22:27:49.375249Z"
    }
   },
   "outputs": [
    {
     "data": {
      "text/latex": [
       "$\\displaystyle \\frac{xFN}{xTP}$"
      ],
      "text/plain": [
       "xFN/xTP"
      ]
     },
     "execution_count": 15,
     "metadata": {},
     "output_type": "execute_result"
    }
   ],
   "source": [
    "factor( (1-R)/R )"
   ]
  },
  {
   "cell_type": "code",
   "execution_count": 16,
   "id": "569a7470",
   "metadata": {
    "ExecuteTime": {
     "end_time": "2022-06-20T22:27:49.391190Z",
     "start_time": "2022-06-20T22:27:49.385801Z"
    }
   },
   "outputs": [
    {
     "data": {
      "text/latex": [
       "$\\displaystyle \\frac{xFN}{xTP}$"
      ],
      "text/plain": [
       "xFN/xTP"
      ]
     },
     "execution_count": 16,
     "metadata": {},
     "output_type": "execute_result"
    }
   ],
   "source": [
    "factor( (1-TPR)/TPR )"
   ]
  },
  {
   "cell_type": "code",
   "execution_count": 17,
   "id": "e01bd1cc",
   "metadata": {
    "ExecuteTime": {
     "end_time": "2022-06-20T22:27:49.401480Z",
     "start_time": "2022-06-20T22:27:49.393244Z"
    }
   },
   "outputs": [
    {
     "data": {
      "text/latex": [
       "$\\displaystyle \\frac{xTN}{xFP}$"
      ],
      "text/plain": [
       "xTN/xFP"
      ]
     },
     "execution_count": 17,
     "metadata": {},
     "output_type": "execute_result"
    }
   ],
   "source": [
    "factor( (1-FPR)/FPR )"
   ]
  },
  {
   "cell_type": "code",
   "execution_count": 18,
   "id": "3b7334be",
   "metadata": {
    "ExecuteTime": {
     "end_time": "2022-06-20T22:27:49.413041Z",
     "start_time": "2022-06-20T22:27:49.403492Z"
    }
   },
   "outputs": [
    {
     "data": {
      "text/latex": [
       "$\\displaystyle \\frac{xFP}{xTN}$"
      ],
      "text/plain": [
       "xFP/xTN"
      ]
     },
     "execution_count": 18,
     "metadata": {},
     "output_type": "execute_result"
    }
   ],
   "source": [
    "factor( FPR/(1-FPR) ) # Reverse"
   ]
  },
  {
   "cell_type": "code",
   "execution_count": 19,
   "id": "238842eb",
   "metadata": {
    "ExecuteTime": {
     "end_time": "2022-06-20T22:27:49.420352Z",
     "start_time": "2022-06-20T22:27:49.414859Z"
    }
   },
   "outputs": [
    {
     "data": {
      "text/latex": [
       "$\\displaystyle \\frac{xFP}{\\left(xFP + xTN\\right) \\left(- \\frac{xFP}{xFP + xTN} + 1\\right)}$"
      ],
      "text/plain": [
       "xFP/((xFP + xTN)*(-xFP/(xFP + xTN) + 1))"
      ]
     },
     "execution_count": 19,
     "metadata": {},
     "output_type": "execute_result"
    }
   ],
   "source": [
    "FPR/(1-FPR)"
   ]
  },
  {
   "cell_type": "code",
   "execution_count": null,
   "id": "eed9206d",
   "metadata": {},
   "outputs": [],
   "source": []
  },
  {
   "cell_type": "code",
   "execution_count": 20,
   "id": "3582bd92",
   "metadata": {
    "ExecuteTime": {
     "end_time": "2022-06-20T22:27:49.428873Z",
     "start_time": "2022-06-20T22:27:49.422267Z"
    }
   },
   "outputs": [
    {
     "data": {
      "text/latex": [
       "$\\displaystyle xFP$"
      ],
      "text/plain": [
       "xFP"
      ]
     },
     "execution_count": 20,
     "metadata": {},
     "output_type": "execute_result"
    }
   ],
   "source": [
    "factor( (FPR/(1-FPR)) * xTN )"
   ]
  },
  {
   "cell_type": "code",
   "execution_count": 21,
   "id": "10020e68",
   "metadata": {
    "ExecuteTime": {
     "end_time": "2022-06-20T22:27:49.440972Z",
     "start_time": "2022-06-20T22:27:49.430432Z"
    }
   },
   "outputs": [
    {
     "data": {
      "text/latex": [
       "$\\displaystyle - \\frac{xFP \\left(xFN + xFP + xTP - 1\\right)}{xTN}$"
      ],
      "text/plain": [
       "-xFP*(xFN + xFP + xTP - 1)/xTN"
      ]
     },
     "execution_count": 21,
     "metadata": {},
     "output_type": "execute_result"
    }
   ],
   "source": [
    "factor( (FPR/(1-FPR)) * (1-xTP-xFP-xFN) )"
   ]
  },
  {
   "cell_type": "code",
   "execution_count": 22,
   "id": "26fbe572",
   "metadata": {
    "ExecuteTime": {
     "end_time": "2022-06-20T22:27:49.455318Z",
     "start_time": "2022-06-20T22:27:49.442902Z"
    }
   },
   "outputs": [
    {
     "data": {
      "text/latex": [
       "$\\displaystyle - \\frac{xFP \\left(xFN + xFP + xTP - 1\\right)}{xTN}$"
      ],
      "text/plain": [
       "-xFP*(xFN + xFP + xTP - 1)/xTN"
      ]
     },
     "execution_count": 22,
     "metadata": {},
     "output_type": "execute_result"
    }
   ],
   "source": [
    "factor( (FPR/(1-FPR)) * (1-xTP-xFP-((1-TPR)/TPR * xTP)) )"
   ]
  },
  {
   "cell_type": "markdown",
   "id": "5158b546",
   "metadata": {
    "ExecuteTime": {
     "end_time": "2022-05-19T15:12:45.862341Z",
     "start_time": "2022-05-19T15:12:45.859687Z"
    }
   },
   "source": [
    "## Which to proba"
   ]
  },
  {
   "cell_type": "code",
   "execution_count": 23,
   "id": "ceaec4a6",
   "metadata": {
    "ExecuteTime": {
     "end_time": "2022-06-20T22:27:49.459697Z",
     "start_time": "2022-06-20T22:27:49.457064Z"
    }
   },
   "outputs": [],
   "source": [
    "# Which to probability\n",
    "pTP, pFP, pTN, pFN = symbols('pTP pFP pTN pFN', real=True)\n",
    "#1 = pTP + pFP + pTN + pFN"
   ]
  },
  {
   "cell_type": "code",
   "execution_count": 24,
   "id": "c075ddfe",
   "metadata": {
    "ExecuteTime": {
     "end_time": "2022-06-20T22:27:49.464346Z",
     "start_time": "2022-06-20T22:27:49.461848Z"
    }
   },
   "outputs": [],
   "source": [
    "# Constant\n",
    "cP, cR, cFPR, cTPR, cN = symbols('cP cR cFPR cTPR cN')"
   ]
  },
  {
   "cell_type": "code",
   "execution_count": 25,
   "id": "795da6bc",
   "metadata": {
    "ExecuteTime": {
     "end_time": "2022-06-20T22:27:49.500550Z",
     "start_time": "2022-06-20T22:27:49.466187Z"
    }
   },
   "outputs": [
    {
     "name": "stdout",
     "output_type": "stream",
     "text": [
      "pFP = \n"
     ]
    },
    {
     "data": {
      "text/latex": [
       "$\\displaystyle cFPR \\left(- pFN - pTP + 1\\right)$"
      ],
      "text/plain": [
       "cFPR*(-pFN - pTP + 1)"
      ]
     },
     "execution_count": 25,
     "metadata": {},
     "output_type": "execute_result"
    }
   ],
   "source": [
    "print(\"pFP = \")\n",
    "solve(pFP - ( (cFPR/(1-cFPR)) * (1-pTP-pFP-pFN) ), pFP)[0]"
   ]
  },
  {
   "cell_type": "code",
   "execution_count": 26,
   "id": "a212f569",
   "metadata": {
    "ExecuteTime": {
     "end_time": "2022-06-20T22:27:49.549454Z",
     "start_time": "2022-06-20T22:27:49.502126Z"
    }
   },
   "outputs": [
    {
     "name": "stdout",
     "output_type": "stream",
     "text": [
      "pFP = \n"
     ]
    },
    {
     "data": {
      "text/latex": [
       "$\\displaystyle \\frac{cFPR \\left(cTPR - pTP\\right)}{cTPR}$"
      ],
      "text/plain": [
       "cFPR*(cTPR - pTP)/cTPR"
      ]
     },
     "execution_count": 26,
     "metadata": {},
     "output_type": "execute_result"
    }
   ],
   "source": [
    "print(\"pFP = \")\n",
    "factor(solve(pFP - ( (cFPR/(1-cFPR)) * (1-pTP-pFP- ( ((1-cTPR)/cTPR)*pTP ) ) ), pFP)[0])"
   ]
  },
  {
   "cell_type": "markdown",
   "id": "c027b042",
   "metadata": {},
   "source": [
    "## Analytical solution for ROC"
   ]
  },
  {
   "cell_type": "code",
   "execution_count": 27,
   "id": "94fcf114",
   "metadata": {
    "ExecuteTime": {
     "end_time": "2022-06-20T22:27:49.554069Z",
     "start_time": "2022-06-20T22:27:49.550944Z"
    }
   },
   "outputs": [],
   "source": [
    "pFP = (cFPR)/(1-cFPR) * pTN"
   ]
  },
  {
   "cell_type": "code",
   "execution_count": 28,
   "id": "b79fae66",
   "metadata": {
    "ExecuteTime": {
     "end_time": "2022-06-20T22:27:49.558623Z",
     "start_time": "2022-06-20T22:27:49.556001Z"
    }
   },
   "outputs": [],
   "source": [
    "pFN = (1-cTPR)/cTPR * pTP"
   ]
  },
  {
   "cell_type": "code",
   "execution_count": 29,
   "id": "86740a7d",
   "metadata": {
    "ExecuteTime": {
     "end_time": "2022-06-20T22:27:49.568053Z",
     "start_time": "2022-06-20T22:27:49.565435Z"
    }
   },
   "outputs": [],
   "source": [
    "pTN = 1 - pTP - pFP - pFN"
   ]
  },
  {
   "cell_type": "code",
   "execution_count": 30,
   "id": "f8dbf04c",
   "metadata": {
    "ExecuteTime": {
     "end_time": "2022-06-20T22:27:49.707526Z",
     "start_time": "2022-06-20T22:27:49.569843Z"
    }
   },
   "outputs": [
    {
     "data": {
      "text/latex": [
       "$\\displaystyle \\frac{cFPR \\left(cTPR - pTP\\right)}{cTPR}$"
      ],
      "text/plain": [
       "cFPR*(cTPR - pTP)/cTPR"
      ]
     },
     "execution_count": 30,
     "metadata": {},
     "output_type": "execute_result"
    }
   ],
   "source": [
    "pFP = (cFPR)/(1-cFPR) * pTN\n",
    "pFP = (cFPR)/(1-cFPR) * (1 - pTP - pFP - pFN)\n",
    "pFP = solve((cFPR)/(1-cFPR) * (1 - pTP - pFP - pFN) - pFP, pFP)[0]\n",
    "pFP"
   ]
  },
  {
   "cell_type": "code",
   "execution_count": 31,
   "id": "dba5b033",
   "metadata": {
    "ExecuteTime": {
     "end_time": "2022-06-20T22:27:49.724656Z",
     "start_time": "2022-06-20T22:27:49.709802Z"
    }
   },
   "outputs": [
    {
     "data": {
      "text/latex": [
       "$\\displaystyle pTP^{xTP} \\left(\\frac{cFPR \\left(cTPR - pTP\\right)}{cTPR}\\right)^{xFP} \\left(\\frac{pTP \\left(1 - cTPR\\right)}{cTPR}\\right)^{xFN} \\left(- \\frac{cFPR \\left(cTPR - pTP\\right)}{cTPR} - pTP + 1 - \\frac{pTP \\left(1 - cTPR\\right)}{cTPR}\\right)^{xTN}$"
      ],
      "text/plain": [
       "pTP**xTP*(cFPR*(cTPR - pTP)/cTPR)**xFP*(pTP*(1 - cTPR)/cTPR)**xFN*(-cFPR*(cTPR - pTP)/cTPR - pTP + 1 - pTP*(1 - cTPR)/cTPR)**xTN"
      ]
     },
     "execution_count": 31,
     "metadata": {},
     "output_type": "execute_result"
    }
   ],
   "source": [
    "proba = pFP**xFP * pFN**xFN * pTP**xTP * (1 - pTP - pFP - pFN)**xTN\n",
    "proba"
   ]
  },
  {
   "cell_type": "code",
   "execution_count": 32,
   "id": "1fb150a9",
   "metadata": {
    "ExecuteTime": {
     "end_time": "2022-06-20T22:27:49.740160Z",
     "start_time": "2022-06-20T22:27:49.727295Z"
    }
   },
   "outputs": [
    {
     "data": {
      "text/latex": [
       "$\\displaystyle \\log{\\left(pTP^{xTP} \\left(\\frac{cFPR \\left(cTPR - pTP\\right)}{cTPR}\\right)^{xFP} \\left(\\frac{pTP \\left(1 - cTPR\\right)}{cTPR}\\right)^{xFN} \\left(- \\frac{cFPR \\left(cTPR - pTP\\right)}{cTPR} - pTP + 1 - \\frac{pTP \\left(1 - cTPR\\right)}{cTPR}\\right)^{xTN} \\right)}$"
      ],
      "text/plain": [
       "log(pTP**xTP*(cFPR*(cTPR - pTP)/cTPR)**xFP*(pTP*(1 - cTPR)/cTPR)**xFN*(-cFPR*(cTPR - pTP)/cTPR - pTP + 1 - pTP*(1 - cTPR)/cTPR)**xTN)"
      ]
     },
     "execution_count": 32,
     "metadata": {},
     "output_type": "execute_result"
    }
   ],
   "source": [
    "proba_log = sympy.log(proba)\n",
    "proba_log"
   ]
  },
  {
   "cell_type": "code",
   "execution_count": 33,
   "id": "55b79177",
   "metadata": {
    "ExecuteTime": {
     "end_time": "2022-06-20T22:27:49.802230Z",
     "start_time": "2022-06-20T22:27:49.742055Z"
    }
   },
   "outputs": [
    {
     "data": {
      "text/latex": [
       "$\\displaystyle pTP^{- xTP} \\left(\\frac{cFPR \\left(cTPR - pTP\\right)}{cTPR}\\right)^{- xFP} \\left(\\frac{pTP \\left(1 - cTPR\\right)}{cTPR}\\right)^{- xFN} \\left(- \\frac{cFPR \\left(cTPR - pTP\\right)}{cTPR} - pTP + 1 - \\frac{pTP \\left(1 - cTPR\\right)}{cTPR}\\right)^{- xTN} \\left(- \\frac{pTP^{xTP} xFP \\left(\\frac{cFPR \\left(cTPR - pTP\\right)}{cTPR}\\right)^{xFP} \\left(\\frac{pTP \\left(1 - cTPR\\right)}{cTPR}\\right)^{xFN} \\left(- \\frac{cFPR \\left(cTPR - pTP\\right)}{cTPR} - pTP + 1 - \\frac{pTP \\left(1 - cTPR\\right)}{cTPR}\\right)^{xTN}}{cTPR - pTP} + \\frac{pTP^{xTP} xTN \\left(\\frac{cFPR \\left(cTPR - pTP\\right)}{cTPR}\\right)^{xFP} \\left(\\frac{pTP \\left(1 - cTPR\\right)}{cTPR}\\right)^{xFN} \\left(\\frac{cFPR}{cTPR} - 1 - \\frac{1 - cTPR}{cTPR}\\right) \\left(- \\frac{cFPR \\left(cTPR - pTP\\right)}{cTPR} - pTP + 1 - \\frac{pTP \\left(1 - cTPR\\right)}{cTPR}\\right)^{xTN}}{- \\frac{cFPR \\left(cTPR - pTP\\right)}{cTPR} - pTP + 1 - \\frac{pTP \\left(1 - cTPR\\right)}{cTPR}} + \\frac{pTP^{xTP} xFN \\left(\\frac{cFPR \\left(cTPR - pTP\\right)}{cTPR}\\right)^{xFP} \\left(\\frac{pTP \\left(1 - cTPR\\right)}{cTPR}\\right)^{xFN} \\left(- \\frac{cFPR \\left(cTPR - pTP\\right)}{cTPR} - pTP + 1 - \\frac{pTP \\left(1 - cTPR\\right)}{cTPR}\\right)^{xTN}}{pTP} + \\frac{pTP^{xTP} xTP \\left(\\frac{cFPR \\left(cTPR - pTP\\right)}{cTPR}\\right)^{xFP} \\left(\\frac{pTP \\left(1 - cTPR\\right)}{cTPR}\\right)^{xFN} \\left(- \\frac{cFPR \\left(cTPR - pTP\\right)}{cTPR} - pTP + 1 - \\frac{pTP \\left(1 - cTPR\\right)}{cTPR}\\right)^{xTN}}{pTP}\\right)$"
      ],
      "text/plain": [
       "(-pTP**xTP*xFP*(cFPR*(cTPR - pTP)/cTPR)**xFP*(pTP*(1 - cTPR)/cTPR)**xFN*(-cFPR*(cTPR - pTP)/cTPR - pTP + 1 - pTP*(1 - cTPR)/cTPR)**xTN/(cTPR - pTP) + pTP**xTP*xTN*(cFPR*(cTPR - pTP)/cTPR)**xFP*(pTP*(1 - cTPR)/cTPR)**xFN*(cFPR/cTPR - 1 - (1 - cTPR)/cTPR)*(-cFPR*(cTPR - pTP)/cTPR - pTP + 1 - pTP*(1 - cTPR)/cTPR)**xTN/(-cFPR*(cTPR - pTP)/cTPR - pTP + 1 - pTP*(1 - cTPR)/cTPR) + pTP**xTP*xFN*(cFPR*(cTPR - pTP)/cTPR)**xFP*(pTP*(1 - cTPR)/cTPR)**xFN*(-cFPR*(cTPR - pTP)/cTPR - pTP + 1 - pTP*(1 - cTPR)/cTPR)**xTN/pTP + pTP**xTP*xTP*(cFPR*(cTPR - pTP)/cTPR)**xFP*(pTP*(1 - cTPR)/cTPR)**xFN*(-cFPR*(cTPR - pTP)/cTPR - pTP + 1 - pTP*(1 - cTPR)/cTPR)**xTN/pTP)/(pTP**xTP*(cFPR*(cTPR - pTP)/cTPR)**xFP*(pTP*(1 - cTPR)/cTPR)**xFN*(-cFPR*(cTPR - pTP)/cTPR - pTP + 1 - pTP*(1 - cTPR)/cTPR)**xTN)"
      ]
     },
     "execution_count": 33,
     "metadata": {},
     "output_type": "execute_result"
    }
   ],
   "source": [
    "log_proba_diff = sympy.diff(proba_log, pTP)\n",
    "log_proba_diff"
   ]
  },
  {
   "cell_type": "code",
   "execution_count": 35,
   "id": "79758c02",
   "metadata": {
    "ExecuteTime": {
     "end_time": "2022-06-20T22:28:07.382776Z",
     "start_time": "2022-06-20T22:28:07.229993Z"
    }
   },
   "outputs": [
    {
     "data": {
      "text/latex": [
       "$\\displaystyle \\frac{cTPR xFN + cTPR xTP - pTP xFN - pTP xFP - pTP xTN - pTP xTP}{pTP \\left(cTPR - pTP\\right)}$"
      ],
      "text/plain": [
       "(cTPR*xFN + cTPR*xTP - pTP*xFN - pTP*xFP - pTP*xTN - pTP*xTP)/(pTP*(cTPR - pTP))"
      ]
     },
     "execution_count": 35,
     "metadata": {},
     "output_type": "execute_result"
    }
   ],
   "source": [
    "factor(log_proba_diff)"
   ]
  },
  {
   "cell_type": "code",
   "execution_count": 33,
   "id": "6c720f27",
   "metadata": {
    "ExecuteTime": {
     "end_time": "2022-05-25T07:50:42.312538Z",
     "start_time": "2022-05-25T07:50:37.825297Z"
    }
   },
   "outputs": [
    {
     "name": "stdout",
     "output_type": "stream",
     "text": [
      "Number of solution: 1\n"
     ]
    },
    {
     "data": {
      "text/latex": [
       "$\\displaystyle \\frac{cTPR \\left(xFN + xTP\\right)}{xFN + xFP + xTN + xTP}$"
      ],
      "text/plain": [
       "cTPR*(xFN + xTP)/(xFN + xFP + xTN + xTP)"
      ]
     },
     "execution_count": 33,
     "metadata": {},
     "output_type": "execute_result"
    }
   ],
   "source": [
    "solutions = solve(log_proba_diff, pTP)\n",
    "print(\"Number of solution:\", len(solutions))\n",
    "solutions[-1]"
   ]
  },
  {
   "cell_type": "code",
   "execution_count": null,
   "id": "928ee21e",
   "metadata": {},
   "outputs": [],
   "source": [
    "# TPR = xTP / (xTP + xFN)  # Same as Recall: R"
   ]
  },
  {
   "cell_type": "code",
   "execution_count": 34,
   "id": "9f3d1efa",
   "metadata": {
    "ExecuteTime": {
     "end_time": "2022-05-25T07:50:42.354209Z",
     "start_time": "2022-05-25T07:50:42.315625Z"
    }
   },
   "outputs": [
    {
     "data": {
      "text/latex": [
       "$\\displaystyle \\frac{cTPR \\left(xFN + xTP\\right)}{xFN + xFP + xTN + xTP}$"
      ],
      "text/plain": [
       "cTPR*(xFN + xTP)/(xFN + xFP + xTN + xTP)"
      ]
     },
     "execution_count": 34,
     "metadata": {},
     "output_type": "execute_result"
    }
   ],
   "source": [
    "simplify(factor(solutions[-1]))"
   ]
  },
  {
   "cell_type": "code",
   "execution_count": 35,
   "id": "6d0c31fb",
   "metadata": {
    "ExecuteTime": {
     "end_time": "2022-05-25T07:50:42.391964Z",
     "start_time": "2022-05-25T07:50:42.357463Z"
    }
   },
   "outputs": [
    {
     "name": "stdout",
     "output_type": "stream",
     "text": [
      "cTPR = Symbol('cTPR')\n",
      "xFN = Symbol('xFN')\n",
      "xTP = Symbol('xTP')\n",
      "xFP = Symbol('xFP')\n",
      "xTN = Symbol('xTN')\n",
      "e = cTPR*(xFN + xTP)/(xFN + xFP + xTN + xTP)\n"
     ]
    }
   ],
   "source": [
    "sympy.print_python(simplify(factor(solutions[-1])))"
   ]
  },
  {
   "cell_type": "code",
   "execution_count": 36,
   "id": "92484d20",
   "metadata": {
    "ExecuteTime": {
     "end_time": "2022-05-25T07:50:42.904036Z",
     "start_time": "2022-05-25T07:50:42.393678Z"
    }
   },
   "outputs": [
    {
     "ename": "ZeroDivisionError",
     "evalue": "division by zero",
     "output_type": "error",
     "traceback": [
      "\u001b[0;31m---------------------------------------------------------------------------\u001b[0m",
      "\u001b[0;31mZeroDivisionError\u001b[0m                         Traceback (most recent call last)",
      "Input \u001b[0;32mIn [36]\u001b[0m, in \u001b[0;36m<cell line: 1>\u001b[0;34m()\u001b[0m\n\u001b[0;32m----> 1\u001b[0m \u001b[38;5;241;43m1\u001b[39;49m\u001b[38;5;241;43m/\u001b[39;49m\u001b[38;5;241;43m0\u001b[39;49m\n",
      "\u001b[0;31mZeroDivisionError\u001b[0m: division by zero"
     ]
    }
   ],
   "source": [
    "1/0"
   ]
  },
  {
   "cell_type": "markdown",
   "id": "ebb4e852",
   "metadata": {
    "ExecuteTime": {
     "end_time": "2022-05-23T09:48:14.500192Z",
     "start_time": "2022-05-23T09:48:14.497291Z"
    }
   },
   "source": [
    "## Analytical solution for PR"
   ]
  },
  {
   "cell_type": "code",
   "execution_count": 37,
   "id": "19effe4c",
   "metadata": {
    "ExecuteTime": {
     "end_time": "2022-05-25T07:50:44.245287Z",
     "start_time": "2022-05-25T07:50:44.237798Z"
    }
   },
   "outputs": [
    {
     "data": {
      "text/latex": [
       "$\\displaystyle \\frac{pTP \\left(1 - cP\\right)}{cP}$"
      ],
      "text/plain": [
       "pTP*(1 - cP)/cP"
      ]
     },
     "execution_count": 37,
     "metadata": {},
     "output_type": "execute_result"
    }
   ],
   "source": [
    "pFP = (1-cP)/cP * pTP\n",
    "pFP"
   ]
  },
  {
   "cell_type": "code",
   "execution_count": 38,
   "id": "036d4628",
   "metadata": {
    "ExecuteTime": {
     "end_time": "2022-05-25T07:50:44.266321Z",
     "start_time": "2022-05-25T07:50:44.247259Z"
    }
   },
   "outputs": [
    {
     "data": {
      "text/latex": [
       "$\\displaystyle \\frac{pTP \\left(1 - cR\\right)}{cR}$"
      ],
      "text/plain": [
       "pTP*(1 - cR)/cR"
      ]
     },
     "execution_count": 38,
     "metadata": {},
     "output_type": "execute_result"
    }
   ],
   "source": [
    "pFN = (1-cR)/cR * pTP\n",
    "pFN"
   ]
  },
  {
   "cell_type": "code",
   "execution_count": 39,
   "id": "3955dbc5",
   "metadata": {
    "ExecuteTime": {
     "end_time": "2022-05-25T07:50:44.279496Z",
     "start_time": "2022-05-25T07:50:44.268027Z"
    }
   },
   "outputs": [
    {
     "data": {
      "text/latex": [
       "$\\displaystyle pTP^{xTP} \\left(\\frac{pTP \\left(1 - cP\\right)}{cP}\\right)^{xFP} \\left(\\frac{pTP \\left(1 - cR\\right)}{cR}\\right)^{xFN} \\left(- \\frac{cFPR pTN}{1 - cFPR} - pTP + 1 - \\frac{pTP \\left(1 - cTPR\\right)}{cTPR}\\right)^{xTN}$"
      ],
      "text/plain": [
       "pTP**xTP*(pTP*(1 - cP)/cP)**xFP*(pTP*(1 - cR)/cR)**xFN*(-cFPR*pTN/(1 - cFPR) - pTP + 1 - pTP*(1 - cTPR)/cTPR)**xTN"
      ]
     },
     "execution_count": 39,
     "metadata": {},
     "output_type": "execute_result"
    }
   ],
   "source": [
    "pFP**xFP * pFN**xFN * pTP**xTP * pTN**xTN"
   ]
  },
  {
   "cell_type": "code",
   "execution_count": 40,
   "id": "fc6e8341",
   "metadata": {
    "ExecuteTime": {
     "end_time": "2022-05-25T07:50:44.285322Z",
     "start_time": "2022-05-25T07:50:44.282636Z"
    }
   },
   "outputs": [],
   "source": [
    "xTN = cN - xTP - xFP - xFN\n",
    "#xTP = cN - xTN - xFP - xFN"
   ]
  },
  {
   "cell_type": "code",
   "execution_count": 41,
   "id": "df2cd8d3",
   "metadata": {
    "ExecuteTime": {
     "end_time": "2022-05-25T07:50:44.299066Z",
     "start_time": "2022-05-25T07:50:44.286843Z"
    }
   },
   "outputs": [
    {
     "data": {
      "text/latex": [
       "$\\displaystyle pTP^{xTP} \\left(\\frac{pTP \\left(1 - cP\\right)}{cP}\\right)^{xFP} \\left(\\frac{pTP \\left(1 - cR\\right)}{cR}\\right)^{xFN} \\left(- pTP + 1 - \\frac{pTP \\left(1 - cR\\right)}{cR} - \\frac{pTP \\left(1 - cP\\right)}{cP}\\right)^{cN - xFN - xFP - xTP}$"
      ],
      "text/plain": [
       "pTP**xTP*(pTP*(1 - cP)/cP)**xFP*(pTP*(1 - cR)/cR)**xFN*(-pTP + 1 - pTP*(1 - cR)/cR - pTP*(1 - cP)/cP)**(cN - xFN - xFP - xTP)"
      ]
     },
     "execution_count": 41,
     "metadata": {},
     "output_type": "execute_result"
    }
   ],
   "source": [
    "proba = pFP**xFP * pFN**xFN * pTP**xTP * (1-pFP-pFN-pTP)**xTN\n",
    "proba"
   ]
  },
  {
   "cell_type": "code",
   "execution_count": 42,
   "id": "b13f0200",
   "metadata": {
    "ExecuteTime": {
     "end_time": "2022-05-25T07:50:44.323124Z",
     "start_time": "2022-05-25T07:50:44.301065Z"
    }
   },
   "outputs": [
    {
     "data": {
      "text/latex": [
       "$\\displaystyle \\log{\\left(pTP^{xTP} \\left(\\frac{pTP \\left(1 - cP\\right)}{cP}\\right)^{xFP} \\left(\\frac{pTP \\left(1 - cR\\right)}{cR}\\right)^{xFN} \\left(- pTP + 1 - \\frac{pTP \\left(1 - cR\\right)}{cR} - \\frac{pTP \\left(1 - cP\\right)}{cP}\\right)^{cN - xFN - xFP - xTP} \\right)}$"
      ],
      "text/plain": [
       "log(pTP**xTP*(pTP*(1 - cP)/cP)**xFP*(pTP*(1 - cR)/cR)**xFN*(-pTP + 1 - pTP*(1 - cR)/cR - pTP*(1 - cP)/cP)**(cN - xFN - xFP - xTP))"
      ]
     },
     "execution_count": 42,
     "metadata": {},
     "output_type": "execute_result"
    }
   ],
   "source": [
    "proba_log = sympy.log(proba)\n",
    "proba_log"
   ]
  },
  {
   "cell_type": "code",
   "execution_count": 43,
   "id": "0da6303d",
   "metadata": {
    "ExecuteTime": {
     "end_time": "2022-05-25T07:50:44.433339Z",
     "start_time": "2022-05-25T07:50:44.325748Z"
    }
   },
   "outputs": [
    {
     "data": {
      "text/latex": [
       "$\\displaystyle cN \\log{\\left(pTP + 1 - \\frac{pTP}{cR} - \\frac{pTP}{cP} \\right)} - xFN \\log{\\left(cR \\right)} + xFN \\log{\\left(pTP \\right)} + xFN \\log{\\left(1 - cR \\right)} - xFN \\log{\\left(pTP + 1 - \\frac{pTP}{cR} - \\frac{pTP}{cP} \\right)} - xFP \\log{\\left(cP \\right)} + xFP \\log{\\left(pTP \\right)} + xFP \\log{\\left(1 - cP \\right)} - xFP \\log{\\left(pTP + 1 - \\frac{pTP}{cR} - \\frac{pTP}{cP} \\right)} + xTP \\log{\\left(pTP \\right)} - xTP \\log{\\left(pTP + 1 - \\frac{pTP}{cR} - \\frac{pTP}{cP} \\right)}$"
      ],
      "text/plain": [
       "cN*log(pTP + 1 - pTP/cR - pTP/cP) - xFN*log(cR) + xFN*log(pTP) + xFN*log(1 - cR) - xFN*log(pTP + 1 - pTP/cR - pTP/cP) - xFP*log(cP) + xFP*log(pTP) + xFP*log(1 - cP) - xFP*log(pTP + 1 - pTP/cR - pTP/cP) + xTP*log(pTP) - xTP*log(pTP + 1 - pTP/cR - pTP/cP)"
      ]
     },
     "execution_count": 43,
     "metadata": {},
     "output_type": "execute_result"
    }
   ],
   "source": [
    "sympy.log(proba).expand(force=True)"
   ]
  },
  {
   "cell_type": "code",
   "execution_count": 44,
   "id": "619fd553",
   "metadata": {
    "ExecuteTime": {
     "end_time": "2022-05-25T07:50:44.607996Z",
     "start_time": "2022-05-25T07:50:44.435751Z"
    }
   },
   "outputs": [
    {
     "data": {
      "text/latex": [
       "$\\displaystyle \\log{\\left(pTP^{xTP} \\left(\\frac{pTP \\left(1 - cP\\right)}{cP}\\right)^{xFP} \\left(\\frac{pTP \\left(1 - cR\\right)}{cR}\\right)^{xFN} \\left(- pTP + 1 - \\frac{pTP \\left(1 - cR\\right)}{cR} - \\frac{pTP \\left(1 - cP\\right)}{cP}\\right)^{cN - xFN - xFP - xTP} \\right)}$"
      ],
      "text/plain": [
       "log(pTP**xTP*(pTP*(1 - cP)/cP)**xFP*(pTP*(1 - cR)/cR)**xFN*(-pTP + 1 - pTP*(1 - cR)/cR - pTP*(1 - cP)/cP)**(cN - xFN - xFP - xTP))"
      ]
     },
     "execution_count": 44,
     "metadata": {},
     "output_type": "execute_result"
    }
   ],
   "source": [
    "simplify(sympy.log(proba), inverse=True)"
   ]
  },
  {
   "cell_type": "code",
   "execution_count": null,
   "id": "cdfdc9f6",
   "metadata": {},
   "outputs": [],
   "source": []
  },
  {
   "cell_type": "code",
   "execution_count": 45,
   "id": "01c0ccf1",
   "metadata": {
    "ExecuteTime": {
     "end_time": "2022-05-25T07:50:44.614885Z",
     "start_time": "2022-05-25T07:50:44.609858Z"
    }
   },
   "outputs": [
    {
     "name": "stdout",
     "output_type": "stream",
     "text": [
      "xTP = Symbol('xTP')\n",
      "pTP = Symbol('pTP')\n",
      "xFP = Symbol('xFP')\n",
      "cP = Symbol('cP')\n",
      "xFN = Symbol('xFN')\n",
      "cR = Symbol('cR')\n",
      "cN = Symbol('cN')\n",
      "e = pTP**xTP*(pTP*(1 - cP)/cP)**xFP*(pTP*(1 - cR)/cR)**xFN*(-pTP + 1 - pTP*(1 - cR)/cR - pTP*(1 - cP)/cP)**(cN - xFN - xFP - xTP)\n"
     ]
    }
   ],
   "source": [
    "sympy.print_python(proba)"
   ]
  },
  {
   "cell_type": "raw",
   "id": "78f7e93a",
   "metadata": {
    "ExecuteTime": {
     "end_time": "2022-05-24T21:04:16.058677Z",
     "start_time": "2022-05-24T21:04:16.045553Z"
    }
   },
   "source": [
    "proba_log = sympy.log(pTP)*xTP + sympy.log(pTP*(1 - cP)/cP)*xFP + sympy.log(pTP*(1 - cR)/cR)*xFN + sympy.log(-pTP + 1 - pTP*(1 - cR)/cR - pTP*(1 - cP)/cP)*(cN - xFN - xFP - xTP)\n",
    "proba_log"
   ]
  },
  {
   "cell_type": "code",
   "execution_count": 46,
   "id": "a07da6d3",
   "metadata": {
    "ExecuteTime": {
     "end_time": "2022-05-25T07:50:44.678480Z",
     "start_time": "2022-05-25T07:50:44.619316Z"
    }
   },
   "outputs": [
    {
     "data": {
      "text/latex": [
       "$\\displaystyle pTP^{- xTP} \\left(\\frac{pTP \\left(1 - cP\\right)}{cP}\\right)^{- xFP} \\left(\\frac{pTP \\left(1 - cR\\right)}{cR}\\right)^{- xFN} \\left(- pTP + 1 - \\frac{pTP \\left(1 - cR\\right)}{cR} - \\frac{pTP \\left(1 - cP\\right)}{cP}\\right)^{- cN + xFN + xFP + xTP} \\left(\\frac{pTP^{xTP} \\left(\\frac{pTP \\left(1 - cP\\right)}{cP}\\right)^{xFP} \\left(\\frac{pTP \\left(1 - cR\\right)}{cR}\\right)^{xFN} \\left(-1 - \\frac{1 - cR}{cR} - \\frac{1 - cP}{cP}\\right) \\left(cN - xFN - xFP - xTP\\right) \\left(- pTP + 1 - \\frac{pTP \\left(1 - cR\\right)}{cR} - \\frac{pTP \\left(1 - cP\\right)}{cP}\\right)^{cN - xFN - xFP - xTP}}{- pTP + 1 - \\frac{pTP \\left(1 - cR\\right)}{cR} - \\frac{pTP \\left(1 - cP\\right)}{cP}} + \\frac{pTP^{xTP} xFN \\left(\\frac{pTP \\left(1 - cP\\right)}{cP}\\right)^{xFP} \\left(\\frac{pTP \\left(1 - cR\\right)}{cR}\\right)^{xFN} \\left(- pTP + 1 - \\frac{pTP \\left(1 - cR\\right)}{cR} - \\frac{pTP \\left(1 - cP\\right)}{cP}\\right)^{cN - xFN - xFP - xTP}}{pTP} + \\frac{pTP^{xTP} xFP \\left(\\frac{pTP \\left(1 - cP\\right)}{cP}\\right)^{xFP} \\left(\\frac{pTP \\left(1 - cR\\right)}{cR}\\right)^{xFN} \\left(- pTP + 1 - \\frac{pTP \\left(1 - cR\\right)}{cR} - \\frac{pTP \\left(1 - cP\\right)}{cP}\\right)^{cN - xFN - xFP - xTP}}{pTP} + \\frac{pTP^{xTP} xTP \\left(\\frac{pTP \\left(1 - cP\\right)}{cP}\\right)^{xFP} \\left(\\frac{pTP \\left(1 - cR\\right)}{cR}\\right)^{xFN} \\left(- pTP + 1 - \\frac{pTP \\left(1 - cR\\right)}{cR} - \\frac{pTP \\left(1 - cP\\right)}{cP}\\right)^{cN - xFN - xFP - xTP}}{pTP}\\right)$"
      ],
      "text/plain": [
       "(-pTP + 1 - pTP*(1 - cR)/cR - pTP*(1 - cP)/cP)**(-cN + xFN + xFP + xTP)*(pTP**xTP*(pTP*(1 - cP)/cP)**xFP*(pTP*(1 - cR)/cR)**xFN*(-1 - (1 - cR)/cR - (1 - cP)/cP)*(cN - xFN - xFP - xTP)*(-pTP + 1 - pTP*(1 - cR)/cR - pTP*(1 - cP)/cP)**(cN - xFN - xFP - xTP)/(-pTP + 1 - pTP*(1 - cR)/cR - pTP*(1 - cP)/cP) + pTP**xTP*xFN*(pTP*(1 - cP)/cP)**xFP*(pTP*(1 - cR)/cR)**xFN*(-pTP + 1 - pTP*(1 - cR)/cR - pTP*(1 - cP)/cP)**(cN - xFN - xFP - xTP)/pTP + pTP**xTP*xFP*(pTP*(1 - cP)/cP)**xFP*(pTP*(1 - cR)/cR)**xFN*(-pTP + 1 - pTP*(1 - cR)/cR - pTP*(1 - cP)/cP)**(cN - xFN - xFP - xTP)/pTP + pTP**xTP*xTP*(pTP*(1 - cP)/cP)**xFP*(pTP*(1 - cR)/cR)**xFN*(-pTP + 1 - pTP*(1 - cR)/cR - pTP*(1 - cP)/cP)**(cN - xFN - xFP - xTP)/pTP)/(pTP**xTP*(pTP*(1 - cP)/cP)**xFP*(pTP*(1 - cR)/cR)**xFN)"
      ]
     },
     "execution_count": 46,
     "metadata": {},
     "output_type": "execute_result"
    }
   ],
   "source": [
    "log_proba_diff = sympy.diff(proba_log, pTP)\n",
    "log_proba_diff"
   ]
  },
  {
   "cell_type": "code",
   "execution_count": 47,
   "id": "cc836867",
   "metadata": {
    "ExecuteTime": {
     "end_time": "2022-05-25T07:50:44.818329Z",
     "start_time": "2022-05-25T07:50:44.680026Z"
    }
   },
   "outputs": [
    {
     "data": {
      "text/latex": [
       "$\\displaystyle \\frac{\\left(pTP + 1 - \\frac{pTP}{cR} - \\frac{pTP}{cP}\\right)^{- cN + xFN + xFP + xTP} \\left(pTP + 1 - \\frac{pTP}{cR} - \\frac{pTP}{cP}\\right)^{cN - xFN - xFP - xTP} \\left(cN cP cR pTP - cN cP pTP - cN cR pTP + cP cR xFN + cP cR xFP + cP cR xTP\\right)}{pTP \\left(cP cR pTP + cP cR - cP pTP - cR pTP\\right)}$"
      ],
      "text/plain": [
       "(pTP + 1 - pTP/cR - pTP/cP)**(-cN + xFN + xFP + xTP)*(pTP + 1 - pTP/cR - pTP/cP)**(cN - xFN - xFP - xTP)*(cN*cP*cR*pTP - cN*cP*pTP - cN*cR*pTP + cP*cR*xFN + cP*cR*xFP + cP*cR*xTP)/(pTP*(cP*cR*pTP + cP*cR - cP*pTP - cR*pTP))"
      ]
     },
     "execution_count": 47,
     "metadata": {},
     "output_type": "execute_result"
    }
   ],
   "source": [
    "factor(log_proba_diff)"
   ]
  },
  {
   "cell_type": "code",
   "execution_count": 48,
   "id": "98b3524e",
   "metadata": {
    "ExecuteTime": {
     "end_time": "2022-05-25T07:50:45.045963Z",
     "start_time": "2022-05-25T07:50:44.819980Z"
    }
   },
   "outputs": [
    {
     "data": {
      "text/latex": [
       "$\\displaystyle \\frac{cN cP cR pTP - cN cP pTP - cN cR pTP + cP cR xFN + cP cR xFP + cP cR xTP}{pTP \\left(cP cR pTP + cP cR - cP pTP - cR pTP\\right)}$"
      ],
      "text/plain": [
       "(cN*cP*cR*pTP - cN*cP*pTP - cN*cR*pTP + cP*cR*xFN + cP*cR*xFP + cP*cR*xTP)/(pTP*(cP*cR*pTP + cP*cR - cP*pTP - cR*pTP))"
      ]
     },
     "execution_count": 48,
     "metadata": {},
     "output_type": "execute_result"
    }
   ],
   "source": [
    "log_proba_diff = simplify(factor(log_proba_diff))\n",
    "log_proba_diff"
   ]
  },
  {
   "cell_type": "code",
   "execution_count": 49,
   "id": "b25a4868",
   "metadata": {
    "ExecuteTime": {
     "end_time": "2022-05-25T07:50:45.429900Z",
     "start_time": "2022-05-25T07:50:45.047902Z"
    }
   },
   "outputs": [
    {
     "name": "stdout",
     "output_type": "stream",
     "text": [
      "Number of solution: 1\n"
     ]
    },
    {
     "data": {
      "text/latex": [
       "$\\displaystyle \\frac{cP cR \\left(xFN + xFP + xTP\\right)}{cN \\left(- cP cR + cP + cR\\right)}$"
      ],
      "text/plain": [
       "cP*cR*(xFN + xFP + xTP)/(cN*(-cP*cR + cP + cR))"
      ]
     },
     "execution_count": 49,
     "metadata": {},
     "output_type": "execute_result"
    }
   ],
   "source": [
    "solutions = solve(log_proba_diff, pTP)\n",
    "print(\"Number of solution:\", len(solutions))\n",
    "solutions[-1]"
   ]
  },
  {
   "cell_type": "code",
   "execution_count": 50,
   "id": "340f2442",
   "metadata": {
    "ExecuteTime": {
     "end_time": "2022-05-25T07:50:45.437064Z",
     "start_time": "2022-05-25T07:50:45.431521Z"
    }
   },
   "outputs": [
    {
     "data": {
      "text/latex": [
       "$\\displaystyle \\frac{cP cR \\left(xFN + xFP + xTP\\right)}{cN \\left(- cP cR + cP + cR\\right)}$"
      ],
      "text/plain": [
       "cP*cR*(xFN + xFP + xTP)/(cN*(-cP*cR + cP + cR))"
      ]
     },
     "execution_count": 50,
     "metadata": {},
     "output_type": "execute_result"
    }
   ],
   "source": [
    "solutions[0]"
   ]
  },
  {
   "cell_type": "code",
   "execution_count": null,
   "id": "eabdeb7d",
   "metadata": {},
   "outputs": [],
   "source": []
  }
 ],
 "metadata": {
  "kernelspec": {
   "display_name": "Python 3 (pyenv38)",
   "language": "python",
   "name": "python3"
  },
  "language_info": {
   "codemirror_mode": {
    "name": "ipython",
    "version": 3
   },
   "file_extension": ".py",
   "mimetype": "text/x-python",
   "name": "python",
   "nbconvert_exporter": "python",
   "pygments_lexer": "ipython3",
   "version": "3.8.13"
  },
  "toc": {
   "base_numbering": 1,
   "nav_menu": {},
   "number_sections": true,
   "sideBar": true,
   "skip_h1_title": false,
   "title_cell": "Table of Contents",
   "title_sidebar": "Contents",
   "toc_cell": false,
   "toc_position": {},
   "toc_section_display": true,
   "toc_window_display": true
  }
 },
 "nbformat": 4,
 "nbformat_minor": 5
}
