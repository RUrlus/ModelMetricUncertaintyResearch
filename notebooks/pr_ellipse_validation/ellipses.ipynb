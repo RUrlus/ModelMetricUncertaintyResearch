{
 "cells": [
  {
   "cell_type": "code",
   "execution_count": 1,
   "id": "6b2cd39f",
   "metadata": {
    "ExecuteTime": {
     "end_time": "2022-05-30T21:20:53.518812Z",
     "start_time": "2022-05-30T21:20:53.501568Z"
    }
   },
   "outputs": [],
   "source": [
    "%load_ext autoreload\n",
    "%autoreload 2"
   ]
  },
  {
   "cell_type": "code",
   "execution_count": null,
   "id": "62c838e4",
   "metadata": {
    "ExecuteTime": {
     "start_time": "2022-05-30T21:20:53.286Z"
    }
   },
   "outputs": [],
   "source": [
    "from sklearn.datasets import make_classification\n",
    "from sklearn.linear_model import LogisticRegression\n",
    "import numpy as np\n",
    "import matplotlib.pyplot as plt"
   ]
  },
  {
   "cell_type": "code",
   "execution_count": null,
   "id": "1c898bd3",
   "metadata": {
    "ExecuteTime": {
     "start_time": "2022-05-30T21:20:53.287Z"
    }
   },
   "outputs": [],
   "source": [
    "import mmur"
   ]
  },
  {
   "cell_type": "code",
   "execution_count": null,
   "id": "1bff3859",
   "metadata": {
    "ExecuteTime": {
     "start_time": "2022-05-30T21:20:53.288Z"
    }
   },
   "outputs": [],
   "source": [
    "X, y_true = make_classification(n_samples=1000, n_classes=2, random_state=1)\n",
    "\n",
    "model = LogisticRegression(solver='lbfgs')\n",
    "model.fit(X, y_true)\n",
    "y_prob = model.predict_proba(X)[:, 1]"
   ]
  },
  {
   "cell_type": "code",
   "execution_count": null,
   "id": "a4e7743b",
   "metadata": {
    "ExecuteTime": {
     "start_time": "2022-05-30T21:20:53.289Z"
    }
   },
   "outputs": [],
   "source": [
    "mmur.metrics.ellipses.plot_precision_recall_curve_with_CI(y_true, y_prob, tails=False, lim=1, method='ellipse')\n",
    "plt.show()"
   ]
  },
  {
   "cell_type": "code",
   "execution_count": null,
   "id": "41cdfc74",
   "metadata": {
    "ExecuteTime": {
     "start_time": "2022-05-30T21:20:53.290Z"
    }
   },
   "outputs": [],
   "source": [
    "mmur.metrics.ellipses.plot_precision_recall_curve_with_CI(y_true, y_prob, tails=False, lim=1, method='contour')\n",
    "plt.show()"
   ]
  },
  {
   "cell_type": "code",
   "execution_count": null,
   "id": "620b586b",
   "metadata": {},
   "outputs": [],
   "source": []
  },
  {
   "cell_type": "code",
   "execution_count": null,
   "id": "05542ac7",
   "metadata": {},
   "outputs": [],
   "source": []
  }
 ],
 "metadata": {
  "kernelspec": {
   "display_name": "Python 3 (pyenv38)",
   "language": "python",
   "name": "python3"
  },
  "language_info": {
   "codemirror_mode": {
    "name": "ipython",
    "version": 3
   },
   "file_extension": ".py",
   "mimetype": "text/x-python",
   "name": "python",
   "nbconvert_exporter": "python",
   "pygments_lexer": "ipython3",
   "version": "3.8.13"
  },
  "toc": {
   "base_numbering": 1,
   "nav_menu": {},
   "number_sections": true,
   "sideBar": true,
   "skip_h1_title": false,
   "title_cell": "Table of Contents",
   "title_sidebar": "Contents",
   "toc_cell": false,
   "toc_position": {},
   "toc_section_display": true,
   "toc_window_display": false
  }
 },
 "nbformat": 4,
 "nbformat_minor": 5
}
