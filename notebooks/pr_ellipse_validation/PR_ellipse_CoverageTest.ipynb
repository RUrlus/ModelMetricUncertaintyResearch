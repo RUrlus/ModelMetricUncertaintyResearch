{
 "cells": [
  {
   "cell_type": "code",
   "execution_count": null,
   "id": "4b679c9a",
   "metadata": {},
   "outputs": [],
   "source": [
    "import numpy as np\n",
    "import pandas as pd\n",
    "import matplotlib.pyplot as plt\n",
    "from tqdm import tqdm"
   ]
  },
  {
   "cell_type": "code",
   "execution_count": null,
   "id": "76feac28",
   "metadata": {},
   "outputs": [],
   "source": [
    "import matplotlib"
   ]
  },
  {
   "cell_type": "code",
   "execution_count": null,
   "id": "1eba6d38",
   "metadata": {},
   "outputs": [],
   "source": [
    "# precision-recall curve and f1\n",
    "from matplotlib import pyplot\n",
    "from scipy.stats import chi2, norm\n"
   ]
  },
  {
   "cell_type": "code",
   "execution_count": null,
   "id": "88bab561",
   "metadata": {},
   "outputs": [],
   "source": [
    "%matplotlib inline"
   ]
  },
  {
   "cell_type": "code",
   "execution_count": null,
   "id": "526e1fc8",
   "metadata": {},
   "outputs": [],
   "source": [
    "plt.rc('font', size=12)"
   ]
  },
  {
   "cell_type": "code",
   "execution_count": null,
   "id": "67f33440",
   "metadata": {},
   "outputs": [],
   "source": []
  },
  {
   "cell_type": "code",
   "execution_count": null,
   "id": "44f91ff4",
   "metadata": {},
   "outputs": [],
   "source": [
    "# confidence limits for 1, 2, and 3 standard deviations in 1 dimension\n",
    "nstd1 = 2. * (norm.cdf(1) - 0.5)\n",
    "nstd2 = 2. * (norm.cdf(2) - 0.5)\n",
    "nstd3 = 2. * (norm.cdf(3) - 0.5)\n",
    "#print (nstd1, nstd2, nstd3)\n",
    "\n",
    "# confidence limits in two dimensions\n",
    "# 68.3% = 1 std dev (1 dim)\n",
    "l68 = chi2.ppf(nstd1, 2)\n",
    "# 95.4% = 2 std dev (1 dim)\n",
    "l95 = chi2.ppf(nstd2, 2)\n",
    "# 99.7% = 3 std dev (1 dim)\n",
    "l99 = chi2.ppf(nstd3, 2)\n",
    "\n",
    "# scales with which to scale up r1 and r2\n",
    "scale1 = np.sqrt(l68)\n",
    "scale2 = np.sqrt(l95)\n",
    "scale3 = np.sqrt(l99)\n",
    "#print (scale1, scale2, scale3)\n",
    "\n",
    "print (l68, l95, l99)"
   ]
  },
  {
   "cell_type": "code",
   "execution_count": null,
   "id": "dfb4ad2b",
   "metadata": {},
   "outputs": [],
   "source": []
  },
  {
   "cell_type": "code",
   "execution_count": null,
   "id": "ba71d1fe",
   "metadata": {},
   "outputs": [],
   "source": []
  },
  {
   "cell_type": "code",
   "execution_count": null,
   "id": "8104f6d5",
   "metadata": {},
   "outputs": [],
   "source": [
    "from scipy.special import xlogy\n",
    "\n",
    "def phat(rec, prec, x_tp, x_fp, x_tn, x_fn):\n",
    "    \"\"\"Fit probability parameters of confusion matrix under the constraint of \n",
    "    fixed recall and precision\n",
    "    \"\"\"\n",
    "    n4 = x_tp + x_fp + x_tn + x_fn\n",
    "    n3 = x_tp + x_fp + x_fn\n",
    "    alpha = (1-prec)/prec + (1-rec)/rec + 1\n",
    "    p_tp = (n3 / n4) * (1. / alpha)\n",
    "    p_fn = ((1-rec)/rec) * p_tp\n",
    "    p_fp = ((1-prec)/prec) * p_tp\n",
    "    p_tn = 1. - p_fn - p_fp - p_tp \n",
    "    if isinstance(p_tn, np.ndarray):\n",
    "        p_tn[p_tn < 0] = 0\n",
    "    elif isinstance(p_tn, float) and p_tn < 0:\n",
    "        p_tn = 0.\n",
    "    \n",
    "    return p_tp, p_fp, p_tn, p_fn\n",
    "\n",
    "def nll(rec, prec, x_tp, x_fp, x_tn, x_fn):\n",
    "    \"\"\"Return -2logp of multinomial distribution\n",
    "    \n",
    "    1. Fit with fixed recall and precision \n",
    "    2. Fit with all probability parameters free\n",
    "    \n",
    "    Return the difference in -2 log L\n",
    "    \"\"\"\n",
    "    p_tp, p_fp, p_tn, p_fn = phat(rec, prec, x_tp, x_fp, x_tn, x_fn)    \n",
    "    nll_value = -2 * xlogy(x_tp, p_tp) - 2 * xlogy(x_fp, p_fp) - 2 * xlogy(x_fn, p_fn) - 2 * xlogy(x_tn, p_tn)\n",
    "\n",
    "    n4 = x_tp + x_fp + x_tn + x_fn\n",
    "    p_fn0 = x_fn / n4\n",
    "    p_tp0 = x_tp / n4\n",
    "    p_fp0 = x_fp / n4\n",
    "    p_tn0 = x_tn / n4\n",
    "    nll_minimum = -2 * xlogy(x_tp, p_tp0) - 2 * xlogy(x_fp, p_fp0) - 2 * xlogy(x_fn, p_fn0) - 2 * xlogy(x_tn, p_tn0)    \n",
    "\n",
    "    return nll_value - nll_minimum"
   ]
  },
  {
   "cell_type": "code",
   "execution_count": null,
   "id": "b6507888",
   "metadata": {},
   "outputs": [],
   "source": []
  },
  {
   "cell_type": "code",
   "execution_count": null,
   "id": "8119fa79",
   "metadata": {},
   "outputs": [],
   "source": [
    "# confusion matrix\n",
    "x_tp = 100\n",
    "x_fp = 10\n",
    "x_tn = 1620\n",
    "x_fn = 100\n",
    "\n",
    "# how fine-grained is the precision-recall grid?\n",
    "# MC simulations\n",
    "nbins1 = 40\n",
    "# PLL calculation\n",
    "nbins2 = 500\n",
    "\n",
    "# number of pseudo experiments per R,P point\n",
    "n_toys = 50000"
   ]
  },
  {
   "cell_type": "code",
   "execution_count": null,
   "id": "b649ca24",
   "metadata": {},
   "outputs": [],
   "source": [
    "N = x_tp + x_fp + x_tn + x_fn"
   ]
  },
  {
   "cell_type": "code",
   "execution_count": null,
   "id": "e402725b",
   "metadata": {},
   "outputs": [],
   "source": [
    "rec = x_tp / (x_tp + x_fn)\n",
    "prec = x_tp / (x_tp + x_fp)"
   ]
  },
  {
   "cell_type": "code",
   "execution_count": null,
   "id": "1d83fbcb",
   "metadata": {},
   "outputs": [],
   "source": [
    "rec, prec, N"
   ]
  },
  {
   "cell_type": "code",
   "execution_count": null,
   "id": "7c343626",
   "metadata": {},
   "outputs": [],
   "source": [
    "# Next: make a rough estimate for the range of the precision-recall grid"
   ]
  },
  {
   "cell_type": "code",
   "execution_count": null,
   "id": "c4ce47c9",
   "metadata": {},
   "outputs": [],
   "source": [
    "if rec == 0:\n",
    "    rec_for_sigma = 1 / (x_tp + x_fn)\n",
    "elif rec == 1:\n",
    "    rec_for_sigma = (x_tp + x_fn - 1) / (x_tp + x_fn)\n",
    "else:\n",
    "    rec_for_sigma = rec\n",
    "    \n",
    "if prec == 0:\n",
    "    prec_for_sigma = 1 / (x_tp + x_fp)\n",
    "elif prec == 1:\n",
    "    prec_for_sigma = (x_tp + x_fp - 1) / (x_tp + x_fp)\n",
    "else:\n",
    "    prec_for_sigma = prec"
   ]
  },
  {
   "cell_type": "code",
   "execution_count": null,
   "id": "4268f3f6",
   "metadata": {},
   "outputs": [],
   "source": [
    "sigma_rec = np.sqrt((rec_for_sigma*(1-rec_for_sigma))/(x_tp + x_fn))\n",
    "sigma_prec = np.sqrt((prec_for_sigma*(1-prec_for_sigma))/(x_tp + x_fp))"
   ]
  },
  {
   "cell_type": "code",
   "execution_count": null,
   "id": "e303c7e5",
   "metadata": {},
   "outputs": [],
   "source": [
    "# epsilon to prevent division by zero at edge\n",
    "epsilon = 1e-4\n",
    "\n",
    "rec_max = min(rec + 6 * sigma_rec, 1)\n",
    "rec_min = max(rec - 7 * sigma_rec, epsilon)\n",
    "\n",
    "prec_max = min(prec + 6 * sigma_prec, 1)\n",
    "prec_min = max(prec - 7 * sigma_prec, epsilon)\n",
    "\n",
    "# the plot range\n",
    "rec_min_range = max(rec - 7 * sigma_rec, 0)\n",
    "prec_min_range = max(prec - 7 * sigma_prec, 0)"
   ]
  },
  {
   "cell_type": "code",
   "execution_count": null,
   "id": "96288606",
   "metadata": {},
   "outputs": [],
   "source": [
    "(rec_min, rec_max), (prec_min, prec_max)"
   ]
  },
  {
   "cell_type": "code",
   "execution_count": null,
   "id": "14bde3f9",
   "metadata": {},
   "outputs": [],
   "source": []
  },
  {
   "cell_type": "code",
   "execution_count": null,
   "id": "30dc7932",
   "metadata": {},
   "outputs": [],
   "source": [
    "# PR grid for MC simulations"
   ]
  },
  {
   "cell_type": "code",
   "execution_count": null,
   "id": "4cd2512c",
   "metadata": {},
   "outputs": [],
   "source": [
    "rx = np.linspace(rec_min, rec_max, nbins1)\n",
    "py = np.linspace(prec_min, prec_max, nbins1)\n",
    "RX, PY = np.meshgrid(rx, py)"
   ]
  },
  {
   "cell_type": "code",
   "execution_count": null,
   "id": "a8101947",
   "metadata": {},
   "outputs": [],
   "source": [
    "P_TP, P_FP, P_TN, P_FN = phat(RX, PY, x_tp, x_fp, x_tn, x_fn)"
   ]
  },
  {
   "cell_type": "code",
   "execution_count": null,
   "id": "404e4825",
   "metadata": {},
   "outputs": [],
   "source": [
    "the_shape = RX.shape\n",
    "\n",
    "RX = RX.ravel()\n",
    "PY = PY.ravel()\n",
    "P_TP = P_TP.ravel()\n",
    "P_FP = P_FP.ravel()\n",
    "P_TN = P_TN.ravel()\n",
    "P_FN = P_FN.ravel()"
   ]
  },
  {
   "cell_type": "code",
   "execution_count": null,
   "id": "8bd02f7b",
   "metadata": {},
   "outputs": [],
   "source": [
    "# size of the grid\n",
    "nbins1 ** 2"
   ]
  },
  {
   "cell_type": "code",
   "execution_count": null,
   "id": "71c221ca",
   "metadata": {},
   "outputs": [],
   "source": [
    "# run MC simulations\n",
    "# evaluate coverage for each precision, recall point.\n",
    "covg = []\n",
    "\n",
    "for r_x, p_y, p_tp, p_fp, p_tn, p_fn in tqdm(zip(RX, PY, P_TP, P_FP, P_TN, P_FN)):\n",
    "    ph = [p_tp, p_fp, p_tn, p_fn]\n",
    "    X = np.random.multinomial(N, ph, n_toys)\n",
    "    X_TP = X[:, 0]\n",
    "    X_FP = X[:, 1]\n",
    "    X_TN = X[:, 2]\n",
    "    X_FN = X[:, 3]\n",
    "    dchi2 = nll(r_x, p_y, X_TP, X_FP, X_TN, X_FN)\n",
    "    dchi2_null = nll(r_x, p_y, x_tp, x_fp, x_tn, x_fn)\n",
    "    coverage = np.sum(dchi2 < dchi2_null) / n_toys\n",
    "    # print (r_x, p_y, coverage)\n",
    "    covg.append(coverage)\n",
    "\n",
    "covg = np.array(covg)"
   ]
  },
  {
   "cell_type": "code",
   "execution_count": null,
   "id": "8478e0b4",
   "metadata": {},
   "outputs": [],
   "source": [
    "RX = RX.reshape(the_shape)\n",
    "PY = PY.reshape(the_shape)\n",
    "covg = covg.reshape(the_shape)"
   ]
  },
  {
   "cell_type": "code",
   "execution_count": null,
   "id": "0bb3a50b",
   "metadata": {},
   "outputs": [],
   "source": [
    "#chi2.cdf(dchi2_null, 2)"
   ]
  },
  {
   "cell_type": "code",
   "execution_count": null,
   "id": "91d6a404",
   "metadata": {},
   "outputs": [],
   "source": [
    "# evaluate analytical coverage for each precision, recall point.\n",
    "\n",
    "rx = np.linspace(rec_min, rec_max, nbins2)\n",
    "py = np.linspace(prec_min, prec_max, nbins2)\n",
    "RX2, PY2 = np.meshgrid(rx, py)\n",
    "Z = nll(RX2, PY2, x_tp, x_fp, x_tn, x_fn)"
   ]
  },
  {
   "cell_type": "code",
   "execution_count": null,
   "id": "a2230a2f",
   "metadata": {},
   "outputs": [],
   "source": []
  },
  {
   "cell_type": "code",
   "execution_count": null,
   "id": "49c54330",
   "metadata": {},
   "outputs": [],
   "source": [
    "# plot both sets of contours\n",
    "fig, ax = plt.subplots(figsize=(12,7))\n",
    "\n",
    "CS = ax.contour(RX2, PY2, Z, levels=[l68, l95, l99])\n",
    "CS = ax.contour(RX, PY, covg, levels=[nstd1, nstd2, nstd3])\n",
    "ax.clabel(CS, inline=True, fontsize=10)\n",
    "ax.set_xlim(rec_min_range, rec_max)\n",
    "ax.set_ylim(prec_min_range, prec_max)\n",
    "\n",
    "title = f'TP: {x_tp:.1f}, FP: {x_fp:.1f}, FN: {x_fn:.1f}, test size: {N}'\n",
    "ax.set_title(title)\n",
    "ax.grid()\n",
    "ax.set_xlabel('Recall')\n",
    "ax.set_ylabel('Precision')\n",
    "\n",
    "ax.plot(rec, prec,'ro') \n",
    "\n",
    "plt.tight_layout()\n",
    "plt.savefig(f'PR_exclusion_contours_{x_fp:.1f}FP.pdf')"
   ]
  },
  {
   "cell_type": "code",
   "execution_count": null,
   "id": "fd99edc9",
   "metadata": {},
   "outputs": [],
   "source": []
  }
 ],
 "metadata": {
  "kernelspec": {
   "display_name": "Python 3",
   "language": "python",
   "name": "python3"
  },
  "language_info": {
   "codemirror_mode": {
    "name": "ipython",
    "version": 3
   },
   "file_extension": ".py",
   "mimetype": "text/x-python",
   "name": "python",
   "nbconvert_exporter": "python",
   "pygments_lexer": "ipython3",
   "version": "3.6.13"
  }
 },
 "nbformat": 4,
 "nbformat_minor": 5
}
