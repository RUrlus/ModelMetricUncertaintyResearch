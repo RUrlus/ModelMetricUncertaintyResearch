{
 "cells": [
  {
   "cell_type": "code",
   "execution_count": 1,
   "id": "6b2cd39f",
   "metadata": {
    "ExecuteTime": {
     "end_time": "2022-06-24T14:59:06.778639Z",
     "start_time": "2022-06-24T14:59:06.754909Z"
    },
    "tags": []
   },
   "outputs": [],
   "source": [
    "%load_ext autoreload\n",
    "%autoreload 2"
   ]
  },
  {
   "cell_type": "code",
   "execution_count": 2,
   "id": "62c838e4",
   "metadata": {
    "ExecuteTime": {
     "end_time": "2022-06-24T14:59:08.310054Z",
     "start_time": "2022-06-24T14:59:06.782266Z"
    },
    "tags": []
   },
   "outputs": [],
   "source": [
    "from sklearn.datasets import make_classification\n",
    "from sklearn.linear_model import LogisticRegression\n",
    "import numpy as np\n",
    "import matplotlib.pyplot as plt\n",
    "import time\n",
    "import pandas as pd"
   ]
  },
  {
   "cell_type": "code",
   "execution_count": 4,
   "id": "e4ee7851-5ec0-45ff-8a39-3b6394b24ca4",
   "metadata": {
    "tags": []
   },
   "outputs": [],
   "source": [
    "import numpy as np\n",
    "import matplotlib.pyplot as plt\n",
    "import matplotlib\n",
    "from scipy.stats import chi2, norm\n",
    "from scipy.special import xlogy\n",
    "\n",
    "from sklearn.metrics import roc_curve\n",
    "from sklearn.metrics import precision_recall_curve\n"
   ]
  },
  {
   "cell_type": "markdown",
   "id": "de907123-bc9c-4673-b0f7-251316361651",
   "metadata": {},
   "source": [
    "# Data"
   ]
  },
  {
   "cell_type": "code",
   "execution_count": 10,
   "id": "1bff3859",
   "metadata": {
    "ExecuteTime": {
     "end_time": "2022-06-24T14:59:10.101076Z",
     "start_time": "2022-06-24T14:59:10.066560Z"
    },
    "tags": []
   },
   "outputs": [
    {
     "name": "stdout",
     "output_type": "stream",
     "text": [
      "\n"
     ]
    }
   ],
   "source": [
    "n_row = 100\n",
    "print()\n",
    "X, y_true = make_classification(n_samples=n_row, n_classes=2, random_state=1)\n",
    "\n",
    "model = LogisticRegression(solver='lbfgs')\n",
    "model.fit(X, y_true)\n",
    "y_prob = model.predict_proba(X)[:, 1]"
   ]
  },
  {
   "cell_type": "code",
   "execution_count": 11,
   "id": "37c5d0fc-02ab-4b20-814e-2ec76690f58e",
   "metadata": {
    "tags": []
   },
   "outputs": [
    {
     "name": "stdout",
     "output_type": "stream",
     "text": [
      "6\n"
     ]
    }
   ],
   "source": [
    "fpr, tpr, thresholds = roc_curve(y_true, y_prob)\n",
    "print(len(thresholds))"
   ]
  },
  {
   "cell_type": "code",
   "execution_count": 13,
   "id": "a2a08199-44df-4b5a-844a-c78bd6ccf5ff",
   "metadata": {
    "tags": []
   },
   "outputs": [
    {
     "name": "stdout",
     "output_type": "stream",
     "text": [
      "101\n"
     ]
    }
   ],
   "source": [
    "fpr, tpr, thresholds = roc_curve(y_true, y_prob, drop_intermediate=False)\n",
    "print(len(thresholds))"
   ]
  },
  {
   "cell_type": "code",
   "execution_count": 12,
   "id": "97d2b034-7ba9-435a-995a-af422cf2d214",
   "metadata": {
    "tags": []
   },
   "outputs": [
    {
     "name": "stdout",
     "output_type": "stream",
     "text": [
      "100\n"
     ]
    }
   ],
   "source": [
    "precision, recall, thresholds = precision_recall_curve(y_true, y_prob)\n",
    "print(len(thresholds))"
   ]
  },
  {
   "cell_type": "code",
   "execution_count": null,
   "id": "00e2338d-2a5f-451b-b2b3-d56013447306",
   "metadata": {},
   "outputs": [],
   "source": []
  }
 ],
 "metadata": {
  "kernelspec": {
   "display_name": "py311",
   "language": "python",
   "name": "py311"
  },
  "language_info": {
   "codemirror_mode": {
    "name": "ipython",
    "version": 3
   },
   "file_extension": ".py",
   "mimetype": "text/x-python",
   "name": "python",
   "nbconvert_exporter": "python",
   "pygments_lexer": "ipython3",
   "version": "3.11.0"
  },
  "toc": {
   "base_numbering": 1,
   "nav_menu": {},
   "number_sections": true,
   "sideBar": true,
   "skip_h1_title": false,
   "title_cell": "Table of Contents",
   "title_sidebar": "Contents",
   "toc_cell": false,
   "toc_position": {},
   "toc_section_display": true,
   "toc_window_display": false
  }
 },
 "nbformat": 4,
 "nbformat_minor": 5
}
