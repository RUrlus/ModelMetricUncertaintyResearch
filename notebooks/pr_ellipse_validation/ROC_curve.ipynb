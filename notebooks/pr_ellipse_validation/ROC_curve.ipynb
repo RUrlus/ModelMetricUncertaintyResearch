{
 "cells": [
  {
   "cell_type": "code",
   "execution_count": 1,
   "id": "0a874212",
   "metadata": {
    "ExecuteTime": {
     "end_time": "2022-05-30T21:19:01.536420Z",
     "start_time": "2022-05-30T21:19:01.511048Z"
    }
   },
   "outputs": [],
   "source": [
    "%load_ext autoreload\n",
    "%autoreload 2"
   ]
  },
  {
   "cell_type": "code",
   "execution_count": 2,
   "id": "4b92b3f5",
   "metadata": {
    "ExecuteTime": {
     "end_time": "2022-05-30T21:19:09.250151Z",
     "start_time": "2022-05-30T21:19:01.538096Z"
    }
   },
   "outputs": [],
   "source": [
    "from sklearn.datasets import make_classification\n",
    "from sklearn.linear_model import LogisticRegression\n",
    "import numpy as np\n",
    "import matplotlib.pyplot as plt\n",
    "import matplotlib"
   ]
  },
  {
   "cell_type": "code",
   "execution_count": 3,
   "id": "af32049f",
   "metadata": {
    "ExecuteTime": {
     "end_time": "2022-05-30T21:19:09.276244Z",
     "start_time": "2022-05-30T21:19:09.252766Z"
    }
   },
   "outputs": [],
   "source": [
    "from scipy.stats import chi2, norm\n",
    "from scipy.special import xlogy"
   ]
  },
  {
   "cell_type": "code",
   "execution_count": 4,
   "id": "ccdd8d2e",
   "metadata": {
    "ExecuteTime": {
     "end_time": "2022-05-30T21:19:13.089800Z",
     "start_time": "2022-05-30T21:19:09.278220Z"
    }
   },
   "outputs": [
    {
     "ename": "ImportError",
     "evalue": "cannot import name 'bvn_uncertainty_over_grid_thresholds_wtrain' from 'mmu.lib._mmu_core' (/Users/mg86ub/wbaa/core/ModelMetricUncertainty/mmu/lib/_mmu_core.cpython-38-darwin.so)",
     "output_type": "error",
     "traceback": [
      "\u001b[0;31m---------------------------------------------------------------------------\u001b[0m",
      "\u001b[0;31mImportError\u001b[0m                               Traceback (most recent call last)",
      "Input \u001b[0;32mIn [4]\u001b[0m, in \u001b[0;36m<cell line: 2>\u001b[0;34m()\u001b[0m\n\u001b[1;32m      1\u001b[0m \u001b[38;5;28;01mfrom\u001b[39;00m \u001b[38;5;21;01msklearn\u001b[39;00m\u001b[38;5;21;01m.\u001b[39;00m\u001b[38;5;21;01mmetrics\u001b[39;00m \u001b[38;5;28;01mimport\u001b[39;00m precision_recall_curve, roc_curve\n\u001b[0;32m----> 2\u001b[0m \u001b[38;5;28;01mimport\u001b[39;00m \u001b[38;5;21;01mmmur\u001b[39;00m\n\u001b[1;32m      3\u001b[0m \u001b[38;5;28;01mfrom\u001b[39;00m \u001b[38;5;21;01mmmur\u001b[39;00m\u001b[38;5;21;01m.\u001b[39;00m\u001b[38;5;21;01mstats\u001b[39;00m\u001b[38;5;21;01m.\u001b[39;00m\u001b[38;5;21;01mkde_utils\u001b[39;00m \u001b[38;5;28;01mimport\u001b[39;00m kde_bw\n\u001b[1;32m      4\u001b[0m \u001b[38;5;28;01mfrom\u001b[39;00m \u001b[38;5;21;01mmmur\u001b[39;00m\u001b[38;5;21;01m.\u001b[39;00m\u001b[38;5;21;01mstats\u001b[39;00m\u001b[38;5;21;01m.\u001b[39;00m\u001b[38;5;21;01mkde_utils\u001b[39;00m \u001b[38;5;28;01mimport\u001b[39;00m kde_process_data\n",
      "File \u001b[0;32m~/wbaa/core/ModelMetricUncertaintyResearch/mmur/__init__.py:1\u001b[0m, in \u001b[0;36m<module>\u001b[0;34m\u001b[0m\n\u001b[0;32m----> 1\u001b[0m \u001b[38;5;28;01mfrom\u001b[39;00m \u001b[38;5;21;01mmmur\u001b[39;00m \u001b[38;5;28;01mimport\u001b[39;00m viz\n\u001b[1;32m      2\u001b[0m \u001b[38;5;28;01mfrom\u001b[39;00m \u001b[38;5;21;01mmmur\u001b[39;00m \u001b[38;5;28;01mimport\u001b[39;00m generators\n\u001b[1;32m      4\u001b[0m \u001b[38;5;28;01mfrom\u001b[39;00m \u001b[38;5;21;01mmmur\u001b[39;00m\u001b[38;5;21;01m.\u001b[39;00m\u001b[38;5;21;01mgenerators\u001b[39;00m\u001b[38;5;21;01m.\u001b[39;00m\u001b[38;5;21;01mlogistic_generator\u001b[39;00m \u001b[38;5;28;01mimport\u001b[39;00m LogisticGenerator\n",
      "File \u001b[0;32m~/wbaa/core/ModelMetricUncertaintyResearch/mmur/viz/__init__.py:6\u001b[0m, in \u001b[0;36m<module>\u001b[0;34m\u001b[0m\n\u001b[1;32m      1\u001b[0m \u001b[38;5;28;01mfrom\u001b[39;00m \u001b[38;5;21;01mmmur\u001b[39;00m\u001b[38;5;21;01m.\u001b[39;00m\u001b[38;5;21;01mviz\u001b[39;00m\u001b[38;5;21;01m.\u001b[39;00m\u001b[38;5;21;01mcommons\u001b[39;00m \u001b[38;5;28;01mimport\u001b[39;00m _set_plot_style\n\u001b[1;32m      2\u001b[0m \u001b[38;5;28;01mfrom\u001b[39;00m \u001b[38;5;21;01mmmur\u001b[39;00m\u001b[38;5;21;01m.\u001b[39;00m\u001b[38;5;21;01mviz\u001b[39;00m\u001b[38;5;21;01m.\u001b[39;00m\u001b[38;5;21;01mgenerators\u001b[39;00m \u001b[38;5;28;01mimport\u001b[39;00m (\n\u001b[1;32m      3\u001b[0m     plot_logstic_dgp,\n\u001b[1;32m      4\u001b[0m     plot_probas,\n\u001b[1;32m      5\u001b[0m )\n\u001b[0;32m----> 6\u001b[0m \u001b[38;5;28;01mfrom\u001b[39;00m \u001b[38;5;21;01mmmur\u001b[39;00m\u001b[38;5;21;01m.\u001b[39;00m\u001b[38;5;21;01mviz\u001b[39;00m\u001b[38;5;21;01m.\u001b[39;00m\u001b[38;5;21;01mdists\u001b[39;00m \u001b[38;5;28;01mimport\u001b[39;00m plot_hdis_violin, plot_ci_violin\n\u001b[1;32m      8\u001b[0m __all__ \u001b[38;5;241m=\u001b[39m [\n\u001b[1;32m      9\u001b[0m     \u001b[38;5;124m'\u001b[39m\u001b[38;5;124m_set_plot_style\u001b[39m\u001b[38;5;124m'\u001b[39m,\n\u001b[1;32m     10\u001b[0m     \u001b[38;5;124m'\u001b[39m\u001b[38;5;124mplot_logstic_dgp\u001b[39m\u001b[38;5;124m'\u001b[39m,\n\u001b[0;32m   (...)\u001b[0m\n\u001b[1;32m     13\u001b[0m     \u001b[38;5;124m'\u001b[39m\u001b[38;5;124mplot_hdis_violin\u001b[39m\u001b[38;5;124m'\u001b[39m,\n\u001b[1;32m     14\u001b[0m ]\n",
      "File \u001b[0;32m~/wbaa/core/ModelMetricUncertaintyResearch/mmur/viz/dists.py:9\u001b[0m, in \u001b[0;36m<module>\u001b[0;34m\u001b[0m\n\u001b[1;32m      6\u001b[0m \u001b[38;5;28;01mimport\u001b[39;00m \u001b[38;5;21;01mseaborn\u001b[39;00m \u001b[38;5;28;01mas\u001b[39;00m \u001b[38;5;21;01msns\u001b[39;00m\n\u001b[1;32m      8\u001b[0m \u001b[38;5;28;01mfrom\u001b[39;00m \u001b[38;5;21;01mmmur\u001b[39;00m\u001b[38;5;21;01m.\u001b[39;00m\u001b[38;5;21;01mviz\u001b[39;00m \u001b[38;5;28;01mimport\u001b[39;00m _set_plot_style\n\u001b[0;32m----> 9\u001b[0m \u001b[38;5;28;01mfrom\u001b[39;00m \u001b[38;5;21;01mmmu\u001b[39;00m\u001b[38;5;21;01m.\u001b[39;00m\u001b[38;5;21;01mstats\u001b[39;00m \u001b[38;5;28;01mimport\u001b[39;00m compute_hdi\n\u001b[1;32m     11\u001b[0m COLORS \u001b[38;5;241m=\u001b[39m _set_plot_style()\n\u001b[1;32m     14\u001b[0m \u001b[38;5;28;01mdef\u001b[39;00m \u001b[38;5;21mplot_hdis_violin\u001b[39m(\n\u001b[1;32m     15\u001b[0m         hdi_estimates, holdout_metrics, prob\u001b[38;5;241m=\u001b[39m\u001b[38;5;241m0.95\u001b[39m, ax\u001b[38;5;241m=\u001b[39m\u001b[38;5;28;01mNone\u001b[39;00m\n\u001b[1;32m     16\u001b[0m     ):\n",
      "File \u001b[0;32m~/wbaa/core/ModelMetricUncertainty/mmu/__init__.py:2\u001b[0m, in \u001b[0;36m<module>\u001b[0;34m\u001b[0m\n\u001b[1;32m      1\u001b[0m \u001b[38;5;28;01mimport\u001b[39;00m \u001b[38;5;21;01mmmu\u001b[39;00m\u001b[38;5;21;01m.\u001b[39;00m\u001b[38;5;21;01mmetrics\u001b[39;00m \u001b[38;5;28;01mas\u001b[39;00m \u001b[38;5;21;01mmetrics\u001b[39;00m\n\u001b[0;32m----> 2\u001b[0m \u001b[38;5;28;01mimport\u001b[39;00m \u001b[38;5;21;01mmmu\u001b[39;00m\u001b[38;5;21;01m.\u001b[39;00m\u001b[38;5;21;01mmethods\u001b[39;00m \u001b[38;5;28;01mas\u001b[39;00m \u001b[38;5;21;01mmethods\u001b[39;00m\n\u001b[1;32m      3\u001b[0m \u001b[38;5;28;01mimport\u001b[39;00m \u001b[38;5;21;01mmmu\u001b[39;00m\u001b[38;5;21;01m.\u001b[39;00m\u001b[38;5;21;01mstats\u001b[39;00m \u001b[38;5;28;01mas\u001b[39;00m \u001b[38;5;21;01mstats\u001b[39;00m\n\u001b[1;32m      5\u001b[0m \u001b[38;5;28;01mfrom\u001b[39;00m \u001b[38;5;21;01mmmu\u001b[39;00m\u001b[38;5;21;01m.\u001b[39;00m\u001b[38;5;21;01mlib\u001b[39;00m \u001b[38;5;28;01mimport\u001b[39;00m _MMU_MT_SUPPORT\n",
      "File \u001b[0;32m~/wbaa/core/ModelMetricUncertainty/mmu/methods/__init__.py:3\u001b[0m, in \u001b[0;36m<module>\u001b[0;34m\u001b[0m\n\u001b[1;32m      1\u001b[0m \u001b[38;5;28;01mfrom\u001b[39;00m \u001b[38;5;21;01mmmu\u001b[39;00m\u001b[38;5;21;01m.\u001b[39;00m\u001b[38;5;21;01mmethods\u001b[39;00m\u001b[38;5;21;01m.\u001b[39;00m\u001b[38;5;21;01mprpoint\u001b[39;00m \u001b[38;5;28;01mimport\u001b[39;00m PrecisionRecallUncertainty\n\u001b[1;32m      2\u001b[0m \u001b[38;5;28;01mfrom\u001b[39;00m \u001b[38;5;21;01mmmu\u001b[39;00m\u001b[38;5;21;01m.\u001b[39;00m\u001b[38;5;21;01mmethods\u001b[39;00m\u001b[38;5;21;01m.\u001b[39;00m\u001b[38;5;21;01mprpoint\u001b[39;00m \u001b[38;5;28;01mimport\u001b[39;00m PrecisionRecallSimulatedUncertainty\n\u001b[0;32m----> 3\u001b[0m \u001b[38;5;28;01mfrom\u001b[39;00m \u001b[38;5;21;01mmmu\u001b[39;00m\u001b[38;5;21;01m.\u001b[39;00m\u001b[38;5;21;01mmethods\u001b[39;00m\u001b[38;5;21;01m.\u001b[39;00m\u001b[38;5;21;01mprcurve\u001b[39;00m \u001b[38;5;28;01mimport\u001b[39;00m PrecisionRecallCurveUncertainty\n\u001b[1;32m      5\u001b[0m PRU \u001b[38;5;241m=\u001b[39m PrecisionRecallUncertainty\n\u001b[1;32m      6\u001b[0m PRCU \u001b[38;5;241m=\u001b[39m PrecisionRecallCurveUncertainty\n",
      "File \u001b[0;32m~/wbaa/core/ModelMetricUncertainty/mmu/methods/prcurve.py:24\u001b[0m, in \u001b[0;36m<module>\u001b[0;34m\u001b[0m\n\u001b[1;32m     21\u001b[0m \u001b[38;5;28;01mfrom\u001b[39;00m \u001b[38;5;21;01mmmu\u001b[39;00m\u001b[38;5;21;01m.\u001b[39;00m\u001b[38;5;21;01mmethods\u001b[39;00m\u001b[38;5;21;01m.\u001b[39;00m\u001b[38;5;21;01mprpoint\u001b[39;00m \u001b[38;5;28;01mimport\u001b[39;00m PrecisionRecallUncertainty\n\u001b[1;32m     23\u001b[0m \u001b[38;5;28;01mimport\u001b[39;00m \u001b[38;5;21;01mmmu\u001b[39;00m\u001b[38;5;21;01m.\u001b[39;00m\u001b[38;5;21;01mlib\u001b[39;00m\u001b[38;5;21;01m.\u001b[39;00m\u001b[38;5;21;01m_mmu_core\u001b[39;00m \u001b[38;5;28;01mas\u001b[39;00m \u001b[38;5;21;01m_core\u001b[39;00m\n\u001b[0;32m---> 24\u001b[0m \u001b[38;5;28;01mfrom\u001b[39;00m \u001b[38;5;21;01mmmu\u001b[39;00m\u001b[38;5;21;01m.\u001b[39;00m\u001b[38;5;21;01mlib\u001b[39;00m\u001b[38;5;21;01m.\u001b[39;00m\u001b[38;5;21;01m_mmu_core\u001b[39;00m \u001b[38;5;28;01mimport\u001b[39;00m (\n\u001b[1;32m     25\u001b[0m     multinomial_uncertainty_over_grid_thresholds \u001b[38;5;28;01mas\u001b[39;00m mult_error_grid_thresh,\n\u001b[1;32m     26\u001b[0m     bvn_uncertainty_over_grid_thresholds \u001b[38;5;28;01mas\u001b[39;00m bvn_error_grid_thresh,\n\u001b[1;32m     27\u001b[0m     bvn_uncertainty_over_grid_thresholds_wtrain \u001b[38;5;28;01mas\u001b[39;00m bvn_error_grid_thresh_wt\n\u001b[1;32m     28\u001b[0m )\n\u001b[1;32m     29\u001b[0m \u001b[38;5;28;01mif\u001b[39;00m _MMU_MT_SUPPORT:\n\u001b[1;32m     30\u001b[0m     \u001b[38;5;28;01mfrom\u001b[39;00m \u001b[38;5;21;01mmmu\u001b[39;00m\u001b[38;5;21;01m.\u001b[39;00m\u001b[38;5;21;01mlib\u001b[39;00m\u001b[38;5;21;01m.\u001b[39;00m\u001b[38;5;21;01m_mmu_core\u001b[39;00m \u001b[38;5;28;01mimport\u001b[39;00m (\n\u001b[1;32m     31\u001b[0m         multinomial_uncertainty_over_grid_thresholds_mt \u001b[38;5;28;01mas\u001b[39;00m mult_error_grid_thresh_mt,\n\u001b[1;32m     32\u001b[0m         bvn_uncertainty_over_grid_thresholds_mt \u001b[38;5;28;01mas\u001b[39;00m bvn_error_grid_thresh_mt,\n\u001b[1;32m     33\u001b[0m         bvn_uncertainty_over_grid_thresholds_wtrain_mt \u001b[38;5;28;01mas\u001b[39;00m bvn_error_grid_thresh_wt_mt\n\u001b[1;32m     34\u001b[0m     )\n",
      "\u001b[0;31mImportError\u001b[0m: cannot import name 'bvn_uncertainty_over_grid_thresholds_wtrain' from 'mmu.lib._mmu_core' (/Users/mg86ub/wbaa/core/ModelMetricUncertainty/mmu/lib/_mmu_core.cpython-38-darwin.so)"
     ]
    }
   ],
   "source": [
    "from sklearn.metrics import precision_recall_curve, roc_curve\n",
    "import mmur\n",
    "from mmur.stats.kde_utils import kde_bw\n",
    "from mmur.stats.kde_utils import kde_process_data\n",
    "from mmur.stats.kde_utils import kde_make_transformers"
   ]
  },
  {
   "cell_type": "code",
   "execution_count": null,
   "id": "ca8a8482",
   "metadata": {
    "ExecuteTime": {
     "end_time": "2022-05-30T21:19:13.092726Z",
     "start_time": "2022-05-30T21:19:13.092671Z"
    }
   },
   "outputs": [],
   "source": [
    "X, y_true = make_classification(n_samples=1000, n_classes=2, random_state=1)\n",
    "\n",
    "model = LogisticRegression(solver='lbfgs')\n",
    "model.fit(X, y_true)\n",
    "y_prob = model.predict_proba(X)[:, 1]"
   ]
  },
  {
   "cell_type": "code",
   "execution_count": null,
   "id": "0a695ad7",
   "metadata": {
    "ExecuteTime": {
     "end_time": "2022-05-30T21:19:13.094434Z",
     "start_time": "2022-05-30T21:19:13.094421Z"
    }
   },
   "outputs": [],
   "source": [
    "\n",
    "def phat(rec, prec, x_tp, x_fp, x_tn, x_fn):\n",
    "    \"\"\"Fit probability parameters of confusion matrix under the constraint of\n",
    "    fixed recall and precision\n",
    "    \"\"\"\n",
    "    n4 = x_tp + x_fp + x_tn + x_fn\n",
    "    n3 = x_tp + x_fp + x_fn\n",
    "    alpha = (1-prec)/prec + (1-rec)/rec + 1\n",
    "    p_tp = (n3 / n4) * (1. / alpha)\n",
    "    p_fn = ((1-rec)/rec) * p_tp\n",
    "    p_fp = ((1-prec)/prec) * p_tp\n",
    "    p_tn = 1. - p_fn - p_fp - p_tp\n",
    "    # prevent negative values to due machine level noise\n",
    "    if isinstance(p_tn, np.ndarray):\n",
    "        p_tn[p_tn < 0] = 0\n",
    "    elif isinstance(p_tn, float) and p_tn < 0:\n",
    "        p_tn = 0.\n",
    "    return p_tp, p_fp, p_tn, p_fn\n",
    "\n",
    "\n",
    "def nll(rec, prec, x_tp, x_fp, x_tn, x_fn):\n",
    "    \"\"\"Return -2logp of multinomial distribution fixed at certain recall and precision\n",
    "\n",
    "    Two steps:\n",
    "    1. Fit with fixed recall and precision\n",
    "    2. Fit with all probability parameters free\n",
    "\n",
    "    Return the difference in -2 log L\n",
    "    \"\"\"\n",
    "    # optimal fit of x\n",
    "    n4 = x_tp + x_fp + x_tn + x_fn\n",
    "    p_fn0 = x_fn / n4\n",
    "    p_tp0 = x_tp / n4\n",
    "    p_fp0 = x_fp / n4\n",
    "    p_tn0 = x_tn / n4\n",
    "    nll_minimum = -2 * xlogy(x_tp, p_tp0) - 2 * xlogy(x_fp, p_fp0) - 2 * xlogy(x_fn, p_fn0) - 2 * xlogy(x_tn, p_tn0)\n",
    "\n",
    "    # fit of x constrained to recall and precision\n",
    "    p_tp, p_fp, p_tn, p_fn = phat(rec, prec, x_tp, x_fp, x_tn, x_fn)\n",
    "    nll_value = -2 * xlogy(x_tp, p_tp) - 2 * xlogy(x_fp, p_fp) - 2 * xlogy(x_fn, p_fn) - 2 * xlogy(x_tn, p_tn)\n",
    "\n",
    "    # return the difference\n",
    "    return nll_value - nll_minimum\n",
    "\n",
    "\n",
    "def get_PRgrid(x_tp, x_fp, x_fn, nbins=100, epsilon=1e-4):\n",
    "    \"\"\"Make a rough estimate for the range of the precision-recall grid to scan\n",
    "    \"\"\"\n",
    "\n",
    "    # epsilon to prevent division by zero at edge\n",
    "    # Note: true values recall=100% or prec=100% can only hit boundary if fn=0 or fp=0\n",
    "    # else clip max values of recall and precision\n",
    "    max_rec_clip = 0 if x_fn == 0 else epsilon\n",
    "    max_prec_clip = 0 if x_fp == 0 else epsilon\n",
    "\n",
    "    rec = x_tp / (x_tp + x_fn)\n",
    "    prec = x_tp / (x_tp + x_fp)\n",
    "\n",
    "    # get rough estimates of sigma_rec and sigma_precision\n",
    "    # for rec=0,1 the uncertainty formula gives zero, correct for this\n",
    "    if rec == 0:\n",
    "        rec_for_sigma = 1 / (x_tp + x_fn)\n",
    "    elif rec == 1:\n",
    "        rec_for_sigma = (x_tp + x_fn - 1) / (x_tp + x_fn)\n",
    "    else:\n",
    "        rec_for_sigma = rec\n",
    "    # for prec=0,1 the uncertainty formula gives zero, correct for this\n",
    "    if prec == 0:\n",
    "        prec_for_sigma = 1 / (x_tp + x_fp)\n",
    "    elif prec == 1:\n",
    "        prec_for_sigma = (x_tp + x_fp - 1) / (x_tp + x_fp)\n",
    "    else:\n",
    "        prec_for_sigma = prec\n",
    "    # rough estimates of sigma_rec and sigma_precision\n",
    "    sigma_rec = np.sqrt((rec_for_sigma*(1-rec_for_sigma))/(x_tp + x_fn))\n",
    "    sigma_prec = np.sqrt((prec_for_sigma*(1-prec_for_sigma))/(x_tp + x_fp))\n",
    "\n",
    "    # ranges of P and R to scan\n",
    "    rec_max = min(rec + 6 * sigma_rec, 1 - max_rec_clip)\n",
    "    rec_min = max(rec - 7 * sigma_rec, epsilon)\n",
    "    prec_max = min(prec + 6 * sigma_prec, 1 - max_prec_clip)\n",
    "    prec_min = max(prec - 7 * sigma_prec, epsilon)\n",
    "\n",
    "    # make PR grid to scan\n",
    "    rx = np.linspace(rec_min, rec_max, nbins)\n",
    "    py = np.linspace(prec_min, prec_max, nbins)\n",
    "    RX, PY = np.meshgrid(rx, py)\n",
    "\n",
    "    return RX, PY\n",
    "\n",
    "\n",
    "def tail_uncertainty(y_true, y_prob, thresholds, FP, FN):\n",
    "    # estimate the FP tail\n",
    "    bin_entries, bin_means = kde_process_data(y_prob[y_true == 0], mirror_left=0, mirror_right=1)\n",
    "\n",
    "    bandwidth = kde_bw(bin_means, bin_entries, n_adaptive=5, rho=0.15)\n",
    "\n",
    "    fast_pdf, F, Finv, kde_norm = kde_make_transformers(bin_means, bin_entries, band_width=bandwidth, x_min=0, x_max=1)\n",
    "\n",
    "    N0 = len(y_true[y_true == 0])\n",
    "\n",
    "    FPf = (1. - F(thresholds)) * N0\n",
    "\n",
    "    # replace zero FPs with estimates\n",
    "    FP = FP.astype(float)\n",
    "    for i, fb in enumerate(FP):\n",
    "        if fb == 0:\n",
    "            FP[i] = FPf[i]\n",
    "\n",
    "    # estimate the FN tail\n",
    "    bin_entries, bin_means = kde_process_data(y_prob[y_true == 1], mirror_left=0, mirror_right=1)\n",
    "\n",
    "    bandwidth = kde_bw(bin_means, bin_entries, n_adaptive=5, rho=0.15)\n",
    "\n",
    "    fast_pdf, F, Finv, kde_norm = kde_make_transformers(bin_means, bin_entries, band_width=bandwidth, x_min=0, x_max=1)\n",
    "\n",
    "    N1 = len(y_true[y_true == 1])\n",
    "\n",
    "    FNf = F(thresholds) * N1\n",
    "\n",
    "    # replace zero FNs with estimates\n",
    "    FN = FN.astype(float)\n",
    "    for i, fn in enumerate(FN):\n",
    "        if fn == 0:\n",
    "            FN[i] = FNf[i]\n",
    "\n",
    "    return FP, FN\n",
    "\n",
    "\n",
    "def get_scaling_factor(norm_nstd):\n",
    "    # Get the scale for 2 degrees of freedom confidence interval\n",
    "    # We use chi2 because the equation of an ellipse is a sum of squared variable,\n",
    "    # more details here https://www.visiondummy.com/2014/04/draw-error-ellipse-representing-covariance-matrix/\n",
    "    # norm_nstd = 1  # number of standard deviation\n",
    "    norm_pct = 2. * (norm.cdf(norm_nstd) - 0.5)\n",
    "    chi2_quantile = chi2.ppf(norm_pct, 2)\n",
    "    scale = np.sqrt(chi2_quantile)\n",
    "    return scale\n",
    "\n",
    "\n",
    "def get_radii_and_angle(var_precision, var_recall, covar_recall_precision):\n",
    "    # Angle and lambdas\n",
    "    # based on https://cookierobotics.com/007/ :\n",
    "    a = var_recall  # cov[0][0]\n",
    "    c = var_precision  # cov[1][1]\n",
    "    b = covar_recall_precision  # cov[1][0]\n",
    "    lambda1 = (a+c)/2 + np.sqrt(((a-c)/2)**2 + b**2)\n",
    "    lambda2 = (a+c)/2 - np.sqrt(((a-c)/2)**2 + b**2)\n",
    "\n",
    "    def calculate_theta(lambda1, a, b, c):\n",
    "        if b == 0 and a >= c:\n",
    "            return 0.\n",
    "        elif b == 0 and a < c:\n",
    "            return np.pi / 2.\n",
    "        else:\n",
    "            return np.arctan2(lambda1 - a, b)\n",
    "\n",
    "    theta = np.vectorize(calculate_theta)(lambda1, a, b, c)\n",
    "    angle = theta / np.pi * 180\n",
    "\n",
    "    # Radii of the ellipse\n",
    "    recall_r = np.sqrt(lambda1)\n",
    "    precision_r = np.sqrt(lambda2)\n",
    "\n",
    "    return recall_r, precision_r, angle\n",
    "\n",
    "\n",
    "def get_confusion_matrix(y_true, y_prob, thresholds):\n",
    "    N = len(y_true)\n",
    "\n",
    "    # remark: computing them with metrics.confusion_matrix() takes too much time\n",
    "    P = np.array([sum(y_true)] * len(thresholds))\n",
    "    # we use \">= thr\" like in precision_recall_curve():\n",
    "    TP = np.array([((y_prob >= thr) & y_true).sum() for thr in thresholds])\n",
    "    PP = np.array([(y_prob >= thr).sum() for thr in thresholds])\n",
    "    FN = P - TP\n",
    "    FP = PP - TP\n",
    "    TN = N - TP - FP - FN\n",
    "\n",
    "    return TP, FP, TN, FN\n",
    "\n",
    "\n",
    "def get_roc_var_covar(y_true, y_prob, thresholds, tails=False):\n",
    "    # Getting TP, FN, FP\n",
    "    TP, FP, TN, FN = get_confusion_matrix(y_true, y_prob, thresholds)\n",
    "\n",
    "    if tails:\n",
    "        FP, FN = tail_uncertainty(y_true, y_prob, thresholds, FP, FN)\n",
    "\n",
    "    var_TPR = (FN*TP) / (FN+TP)**3  # FN+TP = Positive : always > 0\n",
    "    var_FPR = (FP*TN) / (FP+TN)**3  # FP+TN = Negative : always > 0\n",
    "\n",
    "\n",
    "    return var_FPR, var_TPR, 0\n",
    "\n",
    "\n",
    "def plot_ROC_curve_with_CI(y_true, y_prob, norm_nstd=1, tails=True, lim=1.0, method='contour'):\n",
    "    fpr, tpr, thresholds = roc_curve(y_true, y_prob)\n",
    "\n",
    "    # No need to add zero threshold (missing by default)\n",
    "    #print(thresholds[:3]) # first value 1.999\n",
    "    #print(fpr[:3])\n",
    "    #print(tpr[:3])\n",
    "\n",
    "    scale = get_scaling_factor(norm_nstd)\n",
    "\n",
    "    # Plot precision-recall curve\n",
    "    fig, ax = plt.subplots(figsize=(10, 7.5))\n",
    "\n",
    "    # Plot first contours/ellipses\n",
    "    if method == 'ellipse':\n",
    "        var_FPR, var_TPR, covar_recall_precision = get_roc_var_covar(y_true, y_prob, thresholds, tails)\n",
    "\n",
    "        FPR_r, TPR_r, angle = get_radii_and_angle(var_FPR, var_TPR, covar_recall_precision)\n",
    "\n",
    "        # For each point in the precision-recall curve plot an ellipse\n",
    "        for i, (r, p, r_r, p_r, a) in enumerate(zip(fpr, tpr, FPR_r, TPR_r, angle)):\n",
    "\n",
    "            if (r == 1 or p == 1):  # tails\n",
    "                color = 'lightblue'\n",
    "            else:\n",
    "                color = 'C0'\n",
    "\n",
    "            # we multiply the radius by 2 because width and height are diameters\n",
    "            ellipse = matplotlib.patches.Ellipse(\n",
    "                (r, p), width=2*scale*r_r, height=2*scale*p_r, angle=a, alpha=0.50, color=color)  #, color=adjust_lightness(cmap(color_i), 1.5))\n",
    "\n",
    "            ax.add_patch(ellipse)\n",
    "\n",
    "    elif method == 'contour':\n",
    "        TP, FP, TN, FN = get_confusion_matrix(y_true, y_prob, thresholds)\n",
    "        # For each point in the precision-recall curve plot an ellipse\n",
    "        for i, (r, p, x_tp, x_fp, x_tn, x_fn) in enumerate(zip(recall, precision, TP, FP, TN, FN)):\n",
    "            if (r == 1 or p == 1):  # tails\n",
    "                color = 'lightblue'\n",
    "            else:\n",
    "                color = 'C0'\n",
    "\n",
    "            RX, PY = get_PRgrid(x_tp, x_fp, x_fn)\n",
    "            chi2 = nll(RX, PY, x_tp, x_fp, x_tn, x_fn)\n",
    "            CS = ax.contour(RX, PY, chi2, levels=[scale**2], alpha=0.50, colors=color)\n",
    "\n",
    "    # Plot line after the contours/ellipses to see it well\n",
    "    ax.plot(fpr, tpr, label='classifier', color='black')  # or adjust_lightness\n",
    "    ax.set_xlim((0, lim))\n",
    "    ax.set_ylim((0, lim))\n",
    "\n",
    "    if lim > 1.0:\n",
    "        # If limit bigger than 1, then we need white rectangle trick:\n",
    "        rec1 = matplotlib.patches.Rectangle([0, 1.], lim, lim-1, ec=\"none\", color='white')\n",
    "        rec2 = matplotlib.patches.Rectangle([1, 0.], lim-1, lim, ec=\"none\", color='white')\n",
    "        ax.add_patch(rec1)\n",
    "        ax.add_patch(rec2)\n",
    "    else:\n",
    "        # If limit is <=1.0 we don't need rectangle, but we need to hide the right and top spines\n",
    "        # in order to see the curve at the border:\n",
    "        ax.spines['right'].set_visible(False)\n",
    "        ax.spines['top'].set_visible(False)\n",
    "\n",
    "    ax.set_xlabel('False Positive Rate')\n",
    "    ax.set_ylabel('True Positive Rate (Recall)')\n",
    "    ax.set_title(f'ROC Curve ±{norm_nstd}σ  {method}')\n",
    "    # ax.legend(loc=\"lower left\")\n",
    "\n",
    "    return fig\n",
    "\n",
    "plot_ROC_curve_with_CI(y_true, y_prob, method='ellipse', tails=False);"
   ]
  },
  {
   "cell_type": "code",
   "execution_count": null,
   "id": "1cc2e87c",
   "metadata": {
    "ExecuteTime": {
     "end_time": "2022-05-30T21:19:13.096260Z",
     "start_time": "2022-05-30T21:19:13.096225Z"
    }
   },
   "outputs": [],
   "source": [
    "plot_ROC_curve_with_CI(y_true, y_prob, method='ellipse', tails=True);"
   ]
  },
  {
   "cell_type": "code",
   "execution_count": null,
   "id": "be6c6ed5",
   "metadata": {
    "ExecuteTime": {
     "end_time": "2022-05-30T21:19:13.097494Z",
     "start_time": "2022-05-30T21:19:13.097480Z"
    }
   },
   "outputs": [],
   "source": [
    "mmur.metrics.ellipses.plot_ROC_curve_with_CI(y_true, y_prob, method='ellipse', tails=True);"
   ]
  },
  {
   "cell_type": "code",
   "execution_count": null,
   "id": "2a54a69b",
   "metadata": {
    "ExecuteTime": {
     "end_time": "2022-05-30T21:19:13.098564Z",
     "start_time": "2022-05-30T21:19:13.098551Z"
    }
   },
   "outputs": [],
   "source": [
    "mmur.metrics.ellipses.plot_ROC_curve_with_CI(y_true, y_prob, method='contour', tails=True);"
   ]
  },
  {
   "cell_type": "code",
   "execution_count": null,
   "id": "13c9db52",
   "metadata": {},
   "outputs": [],
   "source": []
  }
 ],
 "metadata": {
  "kernelspec": {
   "display_name": "Python 3 (pyenv38)",
   "language": "python",
   "name": "python3"
  },
  "language_info": {
   "codemirror_mode": {
    "name": "ipython",
    "version": 3
   },
   "file_extension": ".py",
   "mimetype": "text/x-python",
   "name": "python",
   "nbconvert_exporter": "python",
   "pygments_lexer": "ipython3",
   "version": "3.8.13"
  },
  "toc": {
   "base_numbering": 1,
   "nav_menu": {},
   "number_sections": true,
   "sideBar": true,
   "skip_h1_title": false,
   "title_cell": "Table of Contents",
   "title_sidebar": "Contents",
   "toc_cell": false,
   "toc_position": {},
   "toc_section_display": true,
   "toc_window_display": false
  }
 },
 "nbformat": 4,
 "nbformat_minor": 5
}
