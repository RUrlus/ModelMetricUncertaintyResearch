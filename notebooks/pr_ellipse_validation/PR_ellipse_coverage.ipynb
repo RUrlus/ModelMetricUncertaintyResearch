{
 "cells": [
  {
   "cell_type": "code",
   "execution_count": null,
   "id": "ebf10647",
   "metadata": {},
   "outputs": [],
   "source": [
    "# macro illustrates how to draw a precision-recall uncertainty ellipse\n",
    "# and it shows how it compares with the precision, recall results from \n",
    "# pseudo experiments, as obtained from a multinomial distribution"
   ]
  },
  {
   "cell_type": "code",
   "execution_count": null,
   "id": "03921e0c",
   "metadata": {},
   "outputs": [],
   "source": [
    "import numpy as np\n",
    "import pandas as pd\n",
    "import matplotlib.pyplot as plt\n",
    "import histogrammar as hg\n",
    "import seaborn as sns\n",
    "from matplotlib.patches import Ellipse\n",
    "import matplotlib.transforms as transforms\n",
    "from scipy.stats import chi2, norm"
   ]
  },
  {
   "cell_type": "code",
   "execution_count": null,
   "id": "7a0e814a",
   "metadata": {},
   "outputs": [],
   "source": [
    "%matplotlib inline"
   ]
  },
  {
   "cell_type": "code",
   "execution_count": null,
   "id": "a5c314e4",
   "metadata": {},
   "outputs": [],
   "source": []
  },
  {
   "cell_type": "code",
   "execution_count": null,
   "id": "88138379",
   "metadata": {},
   "outputs": [],
   "source": [
    "# [TP, FP, TN, FN]\n",
    "# values of confusion matrix - in probabilities\n",
    "p = np.array([19, 1, 799, 171]) / 990\n",
    "p = np.array([0.15, 0.05, 0.2, 0.6])\n",
    "p = np.array([98, 2, 10000 - 98*(0.95/0.05) - 2 - 98, 98*(0.95/0.05)]) / 10000\n",
    "p = np.array([99, 1, 10000 - 99*(0.95/0.05) - 1 - 99, 99*(0.95/0.05)]) / 10000\n",
    "p = np.array([0.009, 0.0001, 0.8199, 0.171])\n",
    "p = np.array([0.095, 0.005, 0.5495, 0.3505])\n",
    "\n",
    "np.sum(p)"
   ]
  },
  {
   "cell_type": "code",
   "execution_count": null,
   "id": "d9d328bf",
   "metadata": {},
   "outputs": [],
   "source": [
    "# number of pseudo experiments\n",
    "nexp = 20000\n",
    "# number of data points per experiment\n",
    "N = 1000"
   ]
  },
  {
   "cell_type": "code",
   "execution_count": null,
   "id": "15c1720c",
   "metadata": {},
   "outputs": [],
   "source": [
    "pe = p.copy()"
   ]
  },
  {
   "cell_type": "code",
   "execution_count": null,
   "id": "80acf2ee",
   "metadata": {},
   "outputs": [],
   "source": [
    "#pe[pe < 1/N] = 1 / N"
   ]
  },
  {
   "cell_type": "code",
   "execution_count": null,
   "id": "9db98842",
   "metadata": {},
   "outputs": [],
   "source": [
    "LX = np.array([[N*pe[0]*(1-pe[0]), -N*pe[0]*pe[1], -N*pe[0]*pe[2], -N*pe[0]*pe[3]],\n",
    "               [-N*pe[0]*pe[1], N*pe[1]*(1-pe[1]), -N*pe[1]*pe[2], -N*pe[1]*pe[3]],\n",
    "               [-N*pe[0]*pe[2], -N*pe[1]*pe[2], N*pe[2]*(1-pe[2]), -N*pe[2]*pe[3]],\n",
    "               [-N*pe[0]*pe[3], -N*pe[1]*pe[3], -N*pe[2]*pe[3], N*pe[3]*(1-pe[3])]])"
   ]
  },
  {
   "cell_type": "code",
   "execution_count": null,
   "id": "a0d305c4",
   "metadata": {},
   "outputs": [],
   "source": [
    "LX"
   ]
  },
  {
   "cell_type": "code",
   "execution_count": null,
   "id": "2b415fc7",
   "metadata": {},
   "outputs": [],
   "source": [
    "# postive and negative derivatives\n",
    "def pdr(x1, x2):\n",
    "    return x2 / (x1 + x2)**2\n",
    "\n",
    "def ndr(x1, x2):\n",
    "    return -x1 / (x1 + x2)**2"
   ]
  },
  {
   "cell_type": "code",
   "execution_count": null,
   "id": "025c0216",
   "metadata": {},
   "outputs": [],
   "source": [
    "# calculate jacobian\n",
    "x = p * N\n",
    "J = np.array([[pdr(x[0], x[3]), 0, 0, ndr(x[0], x[3])], [pdr(x[0], x[1]), ndr(x[0], x[1]), 0, 0]])"
   ]
  },
  {
   "cell_type": "code",
   "execution_count": null,
   "id": "89a176a5",
   "metadata": {},
   "outputs": [],
   "source": []
  },
  {
   "cell_type": "code",
   "execution_count": null,
   "id": "7a550dbf",
   "metadata": {},
   "outputs": [],
   "source": [
    "cov = J @ LX @ J.T"
   ]
  },
  {
   "cell_type": "code",
   "execution_count": null,
   "id": "d12da5fc",
   "metadata": {},
   "outputs": [],
   "source": [
    "cov"
   ]
  },
  {
   "cell_type": "code",
   "execution_count": null,
   "id": "0f3296c1",
   "metadata": {},
   "outputs": [],
   "source": [
    "sigma_prec = np.sqrt(cov[1][1])\n",
    "sigma_recall = np.sqrt(cov[0][0])\n",
    "\n",
    "sigma_prec, sigma_recall"
   ]
  },
  {
   "cell_type": "code",
   "execution_count": null,
   "id": "be37db05",
   "metadata": {},
   "outputs": [],
   "source": [
    "corrl = cov[0][1] / np.sqrt(cov[0][0] * cov[1][1])\n",
    "corrl"
   ]
  },
  {
   "cell_type": "code",
   "execution_count": null,
   "id": "71b0baba",
   "metadata": {},
   "outputs": [],
   "source": []
  },
  {
   "cell_type": "code",
   "execution_count": null,
   "id": "79ac6ce1",
   "metadata": {},
   "outputs": [],
   "source": []
  },
  {
   "cell_type": "code",
   "execution_count": null,
   "id": "e0b01229",
   "metadata": {},
   "outputs": [],
   "source": [
    "# generate multinomial pseudo experiments based on p\n",
    "np.random.seed(42)\n",
    "\n",
    "ps = []\n",
    "for i in range(nexp):\n",
    "    x = np.random.multinomial(N, p)\n",
    "    ps.append(x)\n",
    "ps = np.array(ps)\n",
    "\n",
    "df = pd.DataFrame(ps, columns=['TP', 'FP', 'TN', 'FN'])\n",
    "df['precision'] = df['TP'] / (df['TP'] + df['FP'])\n",
    "df['recall'] = df['TP'] / (df['TP'] + df['FN'])"
   ]
  },
  {
   "cell_type": "code",
   "execution_count": null,
   "id": "40062f92",
   "metadata": {},
   "outputs": [],
   "source": [
    "#df.plot.scatter(x='recall', y='precision')"
   ]
  },
  {
   "cell_type": "code",
   "execution_count": null,
   "id": "47b87660",
   "metadata": {},
   "outputs": [],
   "source": [
    "#sns.kdeplot(data=df, x=\"recall\", y=\"precision\", levels=10)"
   ]
  },
  {
   "cell_type": "code",
   "execution_count": null,
   "id": "1fcc7ef5",
   "metadata": {},
   "outputs": [],
   "source": []
  },
  {
   "cell_type": "code",
   "execution_count": null,
   "id": "a00f8adf",
   "metadata": {},
   "outputs": [],
   "source": [
    "# parameters of the uncertainty ellipse\n",
    "\n",
    "lambda1 = (cov[0][0] + cov[1][1]) / 2 + np.sqrt(((cov[0][0] - cov[1][1]) / 2) ** 2 + cov[1][0] ** 2)\n",
    "lambda2 = (cov[0][0] + cov[1][1]) / 2 - np.sqrt(((cov[0][0] - cov[1][1]) / 2) ** 2 + cov[1][0] ** 2)\n",
    "\n",
    "# radii of the ellipse\n",
    "r1 = np.sqrt(lambda1)\n",
    "r2 = np.sqrt(lambda2)\n",
    "\n",
    "# tilt angle\n",
    "theta = 0.\n",
    "if cov[1][0] == 0 and cov[0][0] >= cov[1][1]:\n",
    "    theta = 0.\n",
    "elif cov[1][0] == 0 and cov[0][0] < cov[1][1]:\n",
    "    theta = np.pi / 2.\n",
    "else:\n",
    "    theta = np.arctan2(lambda1 - cov[0][0], cov[1][0])\n",
    "\n",
    "deg = theta / np.pi * 180\n",
    "\n",
    "# center\n",
    "#mean_x = recall\n",
    "#mean_y = precision"
   ]
  },
  {
   "cell_type": "code",
   "execution_count": null,
   "id": "949d8baf",
   "metadata": {},
   "outputs": [],
   "source": [
    "print( r1, r2, deg )"
   ]
  },
  {
   "cell_type": "code",
   "execution_count": null,
   "id": "37a3b146",
   "metadata": {},
   "outputs": [],
   "source": [
    "precision = p[0] / (p[0] + p[1])\n",
    "precision"
   ]
  },
  {
   "cell_type": "code",
   "execution_count": null,
   "id": "66b2b242",
   "metadata": {},
   "outputs": [],
   "source": [
    "recall = p[0] / (p[0] + p[3])\n",
    "recall"
   ]
  },
  {
   "cell_type": "code",
   "execution_count": null,
   "id": "c3b560e6",
   "metadata": {},
   "outputs": [],
   "source": [
    "# center\n",
    "mean_x = recall\n",
    "mean_y = precision"
   ]
  },
  {
   "cell_type": "code",
   "execution_count": null,
   "id": "ddc491e5",
   "metadata": {},
   "outputs": [],
   "source": [
    "# confidence limits for 1, 2, and 3 standard deviations in 1 dimension\n",
    "nstd1 = 2. * (norm.cdf(1) - 0.5)\n",
    "nstd2 = 2. * (norm.cdf(2) - 0.5)\n",
    "nstd3 = 2. * (norm.cdf(3) - 0.5)\n",
    "print (nstd1, nstd2, nstd3)\n",
    "\n",
    "# confidence limits in two dimensions\n",
    "# 68.3% = 1 std dev (1 dim)\n",
    "l68 = chi2.ppf(nstd1, 2)\n",
    "# 95.4% = 2 std dev (1 dim)\n",
    "l95 = chi2.ppf(nstd2, 2)\n",
    "# 99.7% = 3 std dev (1 dim)\n",
    "l99 = chi2.ppf(nstd3, 2)\n",
    "print (l68, l95, l99)\n",
    "\n",
    "# scales with which to scale up r1 and r2\n",
    "scale1 = np.sqrt(l68)\n",
    "scale2 = np.sqrt(l95)\n",
    "scale3 = np.sqrt(l99)\n",
    "print (scale1, scale2, scale3)"
   ]
  },
  {
   "cell_type": "code",
   "execution_count": null,
   "id": "67cc77d9",
   "metadata": {},
   "outputs": [],
   "source": [
    "precision, recall"
   ]
  },
  {
   "cell_type": "code",
   "execution_count": null,
   "id": "bcbff97f",
   "metadata": {},
   "outputs": [],
   "source": [
    "sigma_prec, sigma_recall"
   ]
  },
  {
   "cell_type": "code",
   "execution_count": null,
   "id": "c94cd375",
   "metadata": {},
   "outputs": [],
   "source": [
    "ellipse1 = Ellipse((mean_x, mean_y), width=2*scale1*r1, height=2*scale1*r2, angle=deg, edgecolor='red', facecolor='none')\n",
    "ellipse2 = Ellipse((mean_x, mean_y), width=2*scale2*r1, height=2*scale2*r2, angle=deg, edgecolor='red', facecolor='none')\n",
    "ellipse3 = Ellipse((mean_x, mean_y), width=2*scale3*r1, height=2*scale3*r2, angle=deg, edgecolor='red', facecolor='none')\n",
    "\n",
    "fig, ax = plt.subplots(figsize=(14,8)) \n",
    "\n",
    "ax.add_artist(ellipse1)\n",
    "ax.add_artist(ellipse2)\n",
    "ax.add_artist(ellipse3)\n",
    "#ax.add_patch(ellipse)\n",
    "\n",
    "ax.set_xlim(max(recall - 6 * sigma_recall, 0), min(recall + 6 * sigma_recall, 1))\n",
    "ax.set_ylim(max(precision - 6 * sigma_prec, 0), min(precision + 6 * sigma_prec, 1))\n",
    "\n",
    "#ax.set_xlim(0, 0.15)\n",
    "#ax.set_ylim(0.75, 1)\n",
    "\n",
    "plt.scatter(df['recall'], df['precision'])\n",
    "# df.plot.scatter(x='recall', y='precision')\n",
    "#sns.kdeplot(data=df, x=\"recall\", y=\"precision\", levels=10, color='black')\n",
    "sns.kdeplot(data=df, x=\"recall\", y=\"precision\", levels=[1-nstd3, 1-nstd2, 1-nstd1], color='black')\n",
    "\n",
    "plt.grid()\n",
    "plt.show()"
   ]
  },
  {
   "cell_type": "code",
   "execution_count": null,
   "id": "8285e4d5",
   "metadata": {},
   "outputs": [],
   "source": []
  },
  {
   "cell_type": "code",
   "execution_count": null,
   "id": "04c54c55",
   "metadata": {},
   "outputs": [],
   "source": [
    "# validation: count number of data points inside ellipses"
   ]
  },
  {
   "cell_type": "code",
   "execution_count": null,
   "id": "c3291443",
   "metadata": {},
   "outputs": [],
   "source": [
    "inp = df[['recall', 'precision']].values\n",
    "trans = ax.transData.transform(inp)"
   ]
  },
  {
   "cell_type": "code",
   "execution_count": null,
   "id": "260793ad",
   "metadata": {},
   "outputs": [],
   "source": [
    "arr1 = ellipse1.contains_points( trans )\n",
    "arr2 = ellipse2.contains_points( trans )\n",
    "arr3 = ellipse3.contains_points( trans )"
   ]
  },
  {
   "cell_type": "code",
   "execution_count": null,
   "id": "f7d9b1bf",
   "metadata": {},
   "outputs": [],
   "source": [
    "arr1.sum() / nexp , arr2.sum() / nexp, arr3.sum() / nexp"
   ]
  },
  {
   "cell_type": "code",
   "execution_count": null,
   "id": "8d3a6db0",
   "metadata": {},
   "outputs": [],
   "source": [
    "print (nstd1, nstd2, nstd3)"
   ]
  },
  {
   "cell_type": "code",
   "execution_count": null,
   "id": "79fe553d",
   "metadata": {},
   "outputs": [],
   "source": []
  },
  {
   "cell_type": "code",
   "execution_count": null,
   "id": "21c665ad",
   "metadata": {},
   "outputs": [],
   "source": []
  },
  {
   "cell_type": "code",
   "execution_count": null,
   "id": "ce2c85c6",
   "metadata": {},
   "outputs": [],
   "source": [
    "# validation: check correlation, precision, recall, uncertainties"
   ]
  },
  {
   "cell_type": "code",
   "execution_count": null,
   "id": "96d93b71",
   "metadata": {},
   "outputs": [],
   "source": [
    "corrl"
   ]
  },
  {
   "cell_type": "code",
   "execution_count": null,
   "id": "af81cd5b",
   "metadata": {},
   "outputs": [],
   "source": [
    "df.corr()"
   ]
  },
  {
   "cell_type": "code",
   "execution_count": null,
   "id": "907ed1e8",
   "metadata": {},
   "outputs": [],
   "source": [
    "precision, recall"
   ]
  },
  {
   "cell_type": "code",
   "execution_count": null,
   "id": "8405952c",
   "metadata": {},
   "outputs": [],
   "source": [
    "df.mean()"
   ]
  },
  {
   "cell_type": "code",
   "execution_count": null,
   "id": "8fcce409",
   "metadata": {},
   "outputs": [],
   "source": [
    "sigma_prec, sigma_recall"
   ]
  },
  {
   "cell_type": "code",
   "execution_count": null,
   "id": "97742f0f",
   "metadata": {},
   "outputs": [],
   "source": [
    "df.std()"
   ]
  },
  {
   "cell_type": "code",
   "execution_count": null,
   "id": "b178e087",
   "metadata": {},
   "outputs": [],
   "source": []
  }
 ],
 "metadata": {
  "kernelspec": {
   "display_name": "Python 3",
   "language": "python",
   "name": "python3"
  },
  "language_info": {
   "codemirror_mode": {
    "name": "ipython",
    "version": 3
   },
   "file_extension": ".py",
   "mimetype": "text/x-python",
   "name": "python",
   "nbconvert_exporter": "python",
   "pygments_lexer": "ipython3",
   "version": "3.6.13"
  }
 },
 "nbformat": 4,
 "nbformat_minor": 5
}
